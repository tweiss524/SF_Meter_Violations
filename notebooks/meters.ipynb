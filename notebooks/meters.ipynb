{
 "cells": [
  {
   "cell_type": "code",
   "execution_count": 1,
   "metadata": {},
   "outputs": [],
   "source": [
    "# force geopandas to use shapely instead of pygeos\n",
    "import os\n",
    "os.environ['USE_PYGEOS'] = '0'\n",
    "\n",
    "import numpy as np\n",
    "import pandas as pd\n",
    "import plotly.express as px\n",
    "from shapely import wkt\n",
    "from shapely.geometry import Point\n",
    "import geopandas as gpd\n",
    "import matplotlib.pyplot as plt\n",
    "import seaborn as sns\n",
    "import datetime"
   ]
  },
  {
   "cell_type": "code",
   "execution_count": 2,
   "metadata": {},
   "outputs": [],
   "source": [
    "meters = pd.read_csv(\"../data/Parking_Meters.csv\")"
   ]
  },
  {
   "cell_type": "code",
   "execution_count": 3,
   "metadata": {},
   "outputs": [],
   "source": [
    "meters['shape'] = meters['shape'].apply(wkt.loads)\n",
    "meters = gpd.GeoDataFrame(meters, geometry='shape')\n",
    "meters.crs = 'EPSG:4326'\n",
    "\n",
    "street_df = pd.read_csv('../data/street_sweeping.csv')\n",
    "street_df = street_df[~street_df.Line.isnull()]\n",
    "street_df.loc[:, 'Line'] = street_df.Line.apply(wkt.loads)\n",
    "street_df = gpd.GeoDataFrame(street_df, geometry='Line')\n",
    "street_df.crs = 'EPSG:4326'\n",
    "\n",
    "unique_streets = street_df.drop_duplicates(subset='Line')"
   ]
  },
  {
   "cell_type": "code",
   "execution_count": 4,
   "metadata": {},
   "outputs": [
    {
     "name": "stderr",
     "output_type": "stream",
     "text": [
      "/Users/tessa/opt/anaconda3/envs/stat-222/lib/python3.9/site-packages/geopandas/array.py:344: UserWarning: Geometry is in a geographic CRS. Results from 'sjoin_nearest' are likely incorrect. Use 'GeoSeries.to_crs()' to re-project geometries to a projected CRS before this operation.\n",
      "\n",
      "  warnings.warn(\n"
     ]
    },
    {
     "data": {
      "text/plain": [
       "(35645, 63)"
      ]
     },
     "execution_count": 4,
     "metadata": {},
     "output_type": "execute_result"
    }
   ],
   "source": [
    "joined = gpd.sjoin_nearest(meters, unique_streets, distance_col='dist', how='left')\n",
    "joined.shape"
   ]
  },
  {
   "cell_type": "code",
   "execution_count": 5,
   "metadata": {},
   "outputs": [],
   "source": [
    "# filter to only include active meters\n",
    "\n",
    "active = meters[(meters[\"ACTIVE_METER_FLAG\"] == \"M\") | (meters[\"ACTIVE_METER_FLAG\"] == \"T\")]"
   ]
  },
  {
   "cell_type": "code",
   "execution_count": 6,
   "metadata": {},
   "outputs": [
    {
     "data": {
      "text/plain": [
       "(29313, 45)"
      ]
     },
     "execution_count": 6,
     "metadata": {},
     "output_type": "execute_result"
    }
   ],
   "source": [
    "active.shape"
   ]
  },
  {
   "cell_type": "code",
   "execution_count": 7,
   "metadata": {},
   "outputs": [
    {
     "name": "stderr",
     "output_type": "stream",
     "text": [
      "/Users/tessa/opt/anaconda3/envs/stat-222/lib/python3.9/site-packages/geopandas/array.py:344: UserWarning: Geometry is in a geographic CRS. Results from 'sjoin_nearest' are likely incorrect. Use 'GeoSeries.to_crs()' to re-project geometries to a projected CRS before this operation.\n",
      "\n",
      "  warnings.warn(\n"
     ]
    },
    {
     "data": {
      "text/plain": [
       "(29334, 63)"
      ]
     },
     "execution_count": 7,
     "metadata": {},
     "output_type": "execute_result"
    }
   ],
   "source": [
    "# joins active meters to street\n",
    "\n",
    "joined = gpd.sjoin_nearest(active, unique_streets, distance_col='dist', how='left')\n",
    "joined.shape"
   ]
  },
  {
   "cell_type": "code",
   "execution_count": 8,
   "metadata": {},
   "outputs": [],
   "source": [
    "joined['street_id'] = joined['Corridor'] + ' ' + joined['Limits']"
   ]
  },
  {
   "cell_type": "code",
   "execution_count": 9,
   "metadata": {},
   "outputs": [
    {
     "data": {
      "text/plain": [
       "street_id\n",
       "01st St Clementina St  -  Folsom St               4\n",
       "01st St Elim St  -  Mission St                    6\n",
       "01st St Folsom St  -  Guy Pl                     11\n",
       "01st St Guy Pl  -  Lansing St                    11\n",
       "01st St Howard St  -  Tehama St                  15\n",
       "                                                 ..\n",
       "Wilmot St Webster St  -  Fillmore St              1\n",
       "Woodacre Dr Ocean Ave  -  Junipero Serra Blvd     1\n",
       "York St 23rd St  -  24th St                       6\n",
       "York St 24th St  -  25th St                       7\n",
       "Zoe St Bryant St  -  Welsh St                     1\n",
       "Length: 2113, dtype: int64"
      ]
     },
     "execution_count": 9,
     "metadata": {},
     "output_type": "execute_result"
    }
   ],
   "source": [
    "# how many meters on each street\n",
    "\n",
    "joined.groupby(\"street_id\").size()"
   ]
  },
  {
   "cell_type": "code",
   "execution_count": 10,
   "metadata": {},
   "outputs": [],
   "source": [
    "# transaction data 54 seconds\n",
    "\n",
    "pay = pd.read_parquet(\"../data/meter_data_2022.parquet\")"
   ]
  },
  {
   "cell_type": "code",
   "execution_count": 63,
   "metadata": {},
   "outputs": [
    {
     "data": {
      "text/html": [
       "<div>\n",
       "<style scoped>\n",
       "    .dataframe tbody tr th:only-of-type {\n",
       "        vertical-align: middle;\n",
       "    }\n",
       "\n",
       "    .dataframe tbody tr th {\n",
       "        vertical-align: top;\n",
       "    }\n",
       "\n",
       "    .dataframe thead th {\n",
       "        text-align: right;\n",
       "    }\n",
       "</style>\n",
       "<table border=\"1\" class=\"dataframe\">\n",
       "  <thead>\n",
       "    <tr style=\"text-align: right;\">\n",
       "      <th></th>\n",
       "      <th>TRANSMISSION_DATETIME</th>\n",
       "      <th>POST_ID</th>\n",
       "      <th>STREET_BLOCK</th>\n",
       "      <th>PAYMENT_TYPE</th>\n",
       "      <th>SESSION_START_DT</th>\n",
       "      <th>SESSION_END_DT</th>\n",
       "      <th>METER_EVENT_TYPE</th>\n",
       "      <th>GROSS_PAID_AMT</th>\n",
       "    </tr>\n",
       "  </thead>\n",
       "  <tbody>\n",
       "    <tr>\n",
       "      <th>45536904</th>\n",
       "      <td>222408714_4_01012022002410</td>\n",
       "      <td>831-02200</td>\n",
       "      <td>EMBARCADERO SOUTH 200</td>\n",
       "      <td>CASH</td>\n",
       "      <td>2022/01/01 12:24:10 AM</td>\n",
       "      <td>2022/01/01 12:24:10 AM</td>\n",
       "      <td>NS</td>\n",
       "      <td>1.50</td>\n",
       "    </tr>\n",
       "    <tr>\n",
       "      <th>45536905</th>\n",
       "      <td>222408715_4_01012022003157</td>\n",
       "      <td>546-28060</td>\n",
       "      <td>LEAVENWORTH ST 2800</td>\n",
       "      <td>CASH</td>\n",
       "      <td>2022/01/01 12:31:57 AM</td>\n",
       "      <td>2022/01/01 12:31:57 AM</td>\n",
       "      <td>NS</td>\n",
       "      <td>0.50</td>\n",
       "    </tr>\n",
       "    <tr>\n",
       "      <th>45536906</th>\n",
       "      <td>222408723_4_01012022011253</td>\n",
       "      <td>830-03290</td>\n",
       "      <td>EMBARCADERO NORTH 300</td>\n",
       "      <td>CASH</td>\n",
       "      <td>2022/01/01 01:12:53 AM</td>\n",
       "      <td>2022/01/01 01:12:53 AM</td>\n",
       "      <td>NS</td>\n",
       "      <td>0.50</td>\n",
       "    </tr>\n",
       "    <tr>\n",
       "      <th>45536907</th>\n",
       "      <td>222408728_4_01012022020117</td>\n",
       "      <td>336-14220</td>\n",
       "      <td>BUSH ST 1400</td>\n",
       "      <td>CASH</td>\n",
       "      <td>2022/01/01 02:01:17 AM</td>\n",
       "      <td>2022/01/01 02:01:17 AM</td>\n",
       "      <td>NS</td>\n",
       "      <td>0.25</td>\n",
       "    </tr>\n",
       "    <tr>\n",
       "      <th>45536908</th>\n",
       "      <td>222408729_4_01012022022638</td>\n",
       "      <td>568-05550</td>\n",
       "      <td>MISSION ST 500</td>\n",
       "      <td>CASH</td>\n",
       "      <td>2022/01/01 02:26:38 AM</td>\n",
       "      <td>2022/01/01 02:26:38 AM</td>\n",
       "      <td>NS</td>\n",
       "      <td>1.00</td>\n",
       "    </tr>\n",
       "  </tbody>\n",
       "</table>\n",
       "</div>"
      ],
      "text/plain": [
       "               TRANSMISSION_DATETIME    POST_ID           STREET_BLOCK  \\\n",
       "45536904  222408714_4_01012022002410  831-02200  EMBARCADERO SOUTH 200   \n",
       "45536905  222408715_4_01012022003157  546-28060    LEAVENWORTH ST 2800   \n",
       "45536906  222408723_4_01012022011253  830-03290  EMBARCADERO NORTH 300   \n",
       "45536907  222408728_4_01012022020117  336-14220           BUSH ST 1400   \n",
       "45536908  222408729_4_01012022022638  568-05550         MISSION ST 500   \n",
       "\n",
       "         PAYMENT_TYPE        SESSION_START_DT          SESSION_END_DT  \\\n",
       "45536904         CASH  2022/01/01 12:24:10 AM  2022/01/01 12:24:10 AM   \n",
       "45536905         CASH  2022/01/01 12:31:57 AM  2022/01/01 12:31:57 AM   \n",
       "45536906         CASH  2022/01/01 01:12:53 AM  2022/01/01 01:12:53 AM   \n",
       "45536907         CASH  2022/01/01 02:01:17 AM  2022/01/01 02:01:17 AM   \n",
       "45536908         CASH  2022/01/01 02:26:38 AM  2022/01/01 02:26:38 AM   \n",
       "\n",
       "         METER_EVENT_TYPE  GROSS_PAID_AMT  \n",
       "45536904               NS            1.50  \n",
       "45536905               NS            0.50  \n",
       "45536906               NS            0.50  \n",
       "45536907               NS            0.25  \n",
       "45536908               NS            1.00  "
      ]
     },
     "execution_count": 63,
     "metadata": {},
     "output_type": "execute_result"
    }
   ],
   "source": [
    "pay.head()"
   ]
  },
  {
   "cell_type": "code",
   "execution_count": 11,
   "metadata": {},
   "outputs": [],
   "source": [
    "# 36 seconds\n",
    "\n",
    "df = pd.merge(pay, active, on='POST_ID')"
   ]
  },
  {
   "cell_type": "code",
   "execution_count": 66,
   "metadata": {},
   "outputs": [
    {
     "data": {
      "text/html": [
       "<div>\n",
       "<style scoped>\n",
       "    .dataframe tbody tr th:only-of-type {\n",
       "        vertical-align: middle;\n",
       "    }\n",
       "\n",
       "    .dataframe tbody tr th {\n",
       "        vertical-align: top;\n",
       "    }\n",
       "\n",
       "    .dataframe thead th {\n",
       "        text-align: right;\n",
       "    }\n",
       "</style>\n",
       "<table border=\"1\" class=\"dataframe\">\n",
       "  <thead>\n",
       "    <tr style=\"text-align: right;\">\n",
       "      <th></th>\n",
       "      <th>TRANSMISSION_DATETIME</th>\n",
       "      <th>POST_ID</th>\n",
       "      <th>STREET_BLOCK</th>\n",
       "      <th>PAYMENT_TYPE</th>\n",
       "      <th>SESSION_START_DT</th>\n",
       "      <th>SESSION_END_DT</th>\n",
       "      <th>METER_EVENT_TYPE</th>\n",
       "      <th>GROSS_PAID_AMT</th>\n",
       "      <th>OBJECTID</th>\n",
       "      <th>PARKING_SPACE_ID</th>\n",
       "      <th>...</th>\n",
       "      <th>NFC_KEY</th>\n",
       "      <th>SPT_CODE</th>\n",
       "      <th>COLLECTION_ROUTE_DESC</th>\n",
       "      <th>COLLECTION_SUBROUTE_DESC</th>\n",
       "      <th>shape</th>\n",
       "      <th>Neighborhoods</th>\n",
       "      <th>SF Find Neighborhoods</th>\n",
       "      <th>Current Police Districts</th>\n",
       "      <th>Current Supervisor Districts</th>\n",
       "      <th>Analysis Neighborhoods</th>\n",
       "    </tr>\n",
       "  </thead>\n",
       "  <tbody>\n",
       "    <tr>\n",
       "      <th>0</th>\n",
       "      <td>222408714_4_01012022002410</td>\n",
       "      <td>831-02200</td>\n",
       "      <td>EMBARCADERO SOUTH 200</td>\n",
       "      <td>CASH</td>\n",
       "      <td>2022/01/01 12:24:10 AM</td>\n",
       "      <td>2022/01/01 12:24:10 AM</td>\n",
       "      <td>NS</td>\n",
       "      <td>1.50</td>\n",
       "      <td>5272708</td>\n",
       "      <td>0</td>\n",
       "      <td>...</td>\n",
       "      <td>71ME</td>\n",
       "      <td>NaN</td>\n",
       "      <td>South Embarcadero</td>\n",
       "      <td>Embarcadero South/Howard/Steuart | Unit-300/Un...</td>\n",
       "      <td>POINT (-122.39102 37.79161)</td>\n",
       "      <td>108</td>\n",
       "      <td>108</td>\n",
       "      <td>1</td>\n",
       "      <td>10</td>\n",
       "      <td>8</td>\n",
       "    </tr>\n",
       "    <tr>\n",
       "      <th>1</th>\n",
       "      <td>222412313_4_01022022121822</td>\n",
       "      <td>831-02200</td>\n",
       "      <td>EMBARCADERO SOUTH 200</td>\n",
       "      <td>CREDIT CARD</td>\n",
       "      <td>2022/01/02 12:18:22 PM</td>\n",
       "      <td>2022/01/02 01:18:22 PM</td>\n",
       "      <td>NS</td>\n",
       "      <td>8.00</td>\n",
       "      <td>5272708</td>\n",
       "      <td>0</td>\n",
       "      <td>...</td>\n",
       "      <td>71ME</td>\n",
       "      <td>NaN</td>\n",
       "      <td>South Embarcadero</td>\n",
       "      <td>Embarcadero South/Howard/Steuart | Unit-300/Un...</td>\n",
       "      <td>POINT (-122.39102 37.79161)</td>\n",
       "      <td>108</td>\n",
       "      <td>108</td>\n",
       "      <td>1</td>\n",
       "      <td>10</td>\n",
       "      <td>8</td>\n",
       "    </tr>\n",
       "    <tr>\n",
       "      <th>2</th>\n",
       "      <td>222412993_4_01022022135210</td>\n",
       "      <td>831-02200</td>\n",
       "      <td>EMBARCADERO SOUTH 200</td>\n",
       "      <td>CREDIT CARD</td>\n",
       "      <td>2022/01/02 01:52:10 PM</td>\n",
       "      <td>2022/01/02 03:52:17 PM</td>\n",
       "      <td>NS</td>\n",
       "      <td>14.49</td>\n",
       "      <td>5272708</td>\n",
       "      <td>0</td>\n",
       "      <td>...</td>\n",
       "      <td>71ME</td>\n",
       "      <td>NaN</td>\n",
       "      <td>South Embarcadero</td>\n",
       "      <td>Embarcadero South/Howard/Steuart | Unit-300/Un...</td>\n",
       "      <td>POINT (-122.39102 37.79161)</td>\n",
       "      <td>108</td>\n",
       "      <td>108</td>\n",
       "      <td>1</td>\n",
       "      <td>10</td>\n",
       "      <td>8</td>\n",
       "    </tr>\n",
       "    <tr>\n",
       "      <th>3</th>\n",
       "      <td>222448944_4_01032022140304</td>\n",
       "      <td>831-02200</td>\n",
       "      <td>EMBARCADERO SOUTH 200</td>\n",
       "      <td>CREDIT CARD</td>\n",
       "      <td>2022/01/03 02:03:04 PM</td>\n",
       "      <td>2022/01/03 04:23:28 PM</td>\n",
       "      <td>NS</td>\n",
       "      <td>9.06</td>\n",
       "      <td>5272708</td>\n",
       "      <td>0</td>\n",
       "      <td>...</td>\n",
       "      <td>71ME</td>\n",
       "      <td>NaN</td>\n",
       "      <td>South Embarcadero</td>\n",
       "      <td>Embarcadero South/Howard/Steuart | Unit-300/Un...</td>\n",
       "      <td>POINT (-122.39102 37.79161)</td>\n",
       "      <td>108</td>\n",
       "      <td>108</td>\n",
       "      <td>1</td>\n",
       "      <td>10</td>\n",
       "      <td>8</td>\n",
       "    </tr>\n",
       "    <tr>\n",
       "      <th>4</th>\n",
       "      <td>832929888_9_01032022180700</td>\n",
       "      <td>831-02200</td>\n",
       "      <td>EMBARCADERO SOUTH 200</td>\n",
       "      <td>PAY BY CELL</td>\n",
       "      <td>2022/01/03 06:07:00 PM</td>\n",
       "      <td>2022/01/03 08:07:00 PM</td>\n",
       "      <td>NS</td>\n",
       "      <td>4.00</td>\n",
       "      <td>5272708</td>\n",
       "      <td>0</td>\n",
       "      <td>...</td>\n",
       "      <td>71ME</td>\n",
       "      <td>NaN</td>\n",
       "      <td>South Embarcadero</td>\n",
       "      <td>Embarcadero South/Howard/Steuart | Unit-300/Un...</td>\n",
       "      <td>POINT (-122.39102 37.79161)</td>\n",
       "      <td>108</td>\n",
       "      <td>108</td>\n",
       "      <td>1</td>\n",
       "      <td>10</td>\n",
       "      <td>8</td>\n",
       "    </tr>\n",
       "  </tbody>\n",
       "</table>\n",
       "<p>5 rows × 52 columns</p>\n",
       "</div>"
      ],
      "text/plain": [
       "        TRANSMISSION_DATETIME    POST_ID           STREET_BLOCK PAYMENT_TYPE  \\\n",
       "0  222408714_4_01012022002410  831-02200  EMBARCADERO SOUTH 200         CASH   \n",
       "1  222412313_4_01022022121822  831-02200  EMBARCADERO SOUTH 200  CREDIT CARD   \n",
       "2  222412993_4_01022022135210  831-02200  EMBARCADERO SOUTH 200  CREDIT CARD   \n",
       "3  222448944_4_01032022140304  831-02200  EMBARCADERO SOUTH 200  CREDIT CARD   \n",
       "4  832929888_9_01032022180700  831-02200  EMBARCADERO SOUTH 200  PAY BY CELL   \n",
       "\n",
       "         SESSION_START_DT          SESSION_END_DT METER_EVENT_TYPE  \\\n",
       "0  2022/01/01 12:24:10 AM  2022/01/01 12:24:10 AM               NS   \n",
       "1  2022/01/02 12:18:22 PM  2022/01/02 01:18:22 PM               NS   \n",
       "2  2022/01/02 01:52:10 PM  2022/01/02 03:52:17 PM               NS   \n",
       "3  2022/01/03 02:03:04 PM  2022/01/03 04:23:28 PM               NS   \n",
       "4  2022/01/03 06:07:00 PM  2022/01/03 08:07:00 PM               NS   \n",
       "\n",
       "   GROSS_PAID_AMT  OBJECTID  PARKING_SPACE_ID  ... NFC_KEY  SPT_CODE  \\\n",
       "0            1.50   5272708                 0  ...    71ME       NaN   \n",
       "1            8.00   5272708                 0  ...    71ME       NaN   \n",
       "2           14.49   5272708                 0  ...    71ME       NaN   \n",
       "3            9.06   5272708                 0  ...    71ME       NaN   \n",
       "4            4.00   5272708                 0  ...    71ME       NaN   \n",
       "\n",
       "  COLLECTION_ROUTE_DESC                           COLLECTION_SUBROUTE_DESC  \\\n",
       "0     South Embarcadero  Embarcadero South/Howard/Steuart | Unit-300/Un...   \n",
       "1     South Embarcadero  Embarcadero South/Howard/Steuart | Unit-300/Un...   \n",
       "2     South Embarcadero  Embarcadero South/Howard/Steuart | Unit-300/Un...   \n",
       "3     South Embarcadero  Embarcadero South/Howard/Steuart | Unit-300/Un...   \n",
       "4     South Embarcadero  Embarcadero South/Howard/Steuart | Unit-300/Un...   \n",
       "\n",
       "                         shape Neighborhoods  SF Find Neighborhoods  \\\n",
       "0  POINT (-122.39102 37.79161)           108                    108   \n",
       "1  POINT (-122.39102 37.79161)           108                    108   \n",
       "2  POINT (-122.39102 37.79161)           108                    108   \n",
       "3  POINT (-122.39102 37.79161)           108                    108   \n",
       "4  POINT (-122.39102 37.79161)           108                    108   \n",
       "\n",
       "   Current Police Districts Current Supervisor Districts  \\\n",
       "0                         1                           10   \n",
       "1                         1                           10   \n",
       "2                         1                           10   \n",
       "3                         1                           10   \n",
       "4                         1                           10   \n",
       "\n",
       "  Analysis Neighborhoods  \n",
       "0                      8  \n",
       "1                      8  \n",
       "2                      8  \n",
       "3                      8  \n",
       "4                      8  \n",
       "\n",
       "[5 rows x 52 columns]"
      ]
     },
     "execution_count": 66,
     "metadata": {},
     "output_type": "execute_result"
    }
   ],
   "source": [
    "df.head()"
   ]
  },
  {
   "cell_type": "code",
   "execution_count": 12,
   "metadata": {},
   "outputs": [],
   "source": [
    "# filter out prepaid meters\n",
    "# 1 minute\n",
    "\n",
    "df = df[df.SESSION_START_DT != df.SESSION_END_DT]"
   ]
  },
  {
   "cell_type": "code",
   "execution_count": 13,
   "metadata": {},
   "outputs": [],
   "source": [
    "# change start and end times to datetime\n",
    "# 92 minutes\n",
    "\n",
    "df.SESSION_START_DT = pd.to_datetime(df.SESSION_START_DT)\n",
    "df.SESSION_END_DT = pd.to_datetime(df.SESSION_END_DT)"
   ]
  },
  {
   "cell_type": "code",
   "execution_count": null,
   "metadata": {},
   "outputs": [],
   "source": [
    "dic = dict()\n",
    "for column in df.columns:\n",
    "    if column == 'SESSION_START_DT':\n",
    "        dic[column] = \"min\"\n",
    "    elif column == 'SESSION_END_DT':\n",
    "        dic[column] = \"max\"\n",
    "    else:\n",
    "        dic[column] = \"first\""
   ]
  },
  {
   "cell_type": "code",
   "execution_count": null,
   "metadata": {},
   "outputs": [],
   "source": [
    "# merge rows where meter transactions were within 3 mins\n",
    "\n",
    "def merge_overlapping_rows(df):\n",
    "    # initialize the group column\n",
    "    df['group'] = 0\n",
    "    df = df.sort_values(\"SESSION_START_DT\").reset_index(drop = True)\n",
    "\n",
    "    # initialize variables for the current group number and end time\n",
    "    group_num = 0\n",
    "    prev_end_time = df.loc[0, 'SESSION_END_DT']\n",
    "\n",
    "    # loop over the rows and assign group numbers\n",
    "    for i in range(1, len(df)):\n",
    "        if df.loc[i, 'SESSION_START_DT'] >= (prev_end_time + pd.Timedelta(minutes=3)):\n",
    "            # new interval, increment group number and update previous end time\n",
    "            group_num += 1\n",
    "            prev_end_time = df.loc[i, 'SESSION_END_DT']\n",
    "            df.loc[i, 'group'] = group_num\n",
    "        else:\n",
    "            # overlapping interval, assign the same group number and update previous end time\n",
    "            df.loc[i, 'group'] = group_num\n",
    "            prev_end_time = max(prev_end_time, df.loc[i, 'SESSION_END_DT'])\n",
    "\n",
    "    # group by the group column and aggregate the start and end times\n",
    "    result = df.groupby('group').agg(dic).reset_index(drop=True)\n",
    "\n",
    "    return result"
   ]
  },
  {
   "cell_type": "code",
   "execution_count": null,
   "metadata": {},
   "outputs": [],
   "source": [
    "# 50 mins\n",
    "\n",
    "temp = df.groupby(\"POST_ID\").apply(merge_overlapping_rows)"
   ]
  },
  {
   "cell_type": "code",
   "execution_count": null,
   "metadata": {},
   "outputs": [],
   "source": [
    "# replaces datetime with datetime + 15 mins\n",
    "\n",
    "def create_interval_endpoint(start_time, td):\n",
    "    new_time = start_time.replace(hour=0, minute=0, second=0, microsecond=0) + td\n",
    "    return new_time"
   ]
  },
  {
   "cell_type": "code",
   "execution_count": null,
   "metadata": {},
   "outputs": [],
   "source": [
    "# creates list of 96 intervals, where each element is a column = boolean where True means paid for the entire interval\n",
    "# 331 minutes\n",
    "\n",
    "import datetime\n",
    "\n",
    "interval_series = []\n",
    "\n",
    "\n",
    "for i in range(0, 24*4):\n",
    "    start_time_diff = datetime.timedelta(minutes = (i*15))  # time difference of 15 minutes\n",
    "    end_time_diff = datetime.timedelta(minutes = ((i + 1)*15))  # time difference of 15 minutes\n",
    "    start_times = temp.SESSION_START_DT.apply(lambda start_time: create_interval_endpoint(start_time, start_time_diff))\n",
    "    end_times = temp.SESSION_START_DT.apply(lambda start_time: create_interval_endpoint(start_time, end_time_diff))\n",
    "\n",
    "    interval_series.append((temp['SESSION_START_DT'] <= start_times) & (temp['SESSION_END_DT'] >= end_times))\n"
   ]
  },
  {
   "cell_type": "code",
   "execution_count": null,
   "metadata": {},
   "outputs": [],
   "source": [
    "int_ser = pd.DataFrame(interval_series)\n",
    "int_ser.to_csv('../data/intervals2.csv', index=False)\n",
    "temp.to_csv('../data/temp.csv', index=False)"
   ]
  },
  {
   "cell_type": "code",
   "execution_count": null,
   "metadata": {},
   "outputs": [],
   "source": [
    "# columns: 96 for intervals; session start date, street\n",
    "session_start_date = temp.SESSION_START_DT.dt.date()\n",
    "street = temp.street_id\n",
    "final_df = pd.concat(interval_series + [session_start_date, street], axis=1)"
   ]
  },
  {
   "cell_type": "code",
   "execution_count": null,
   "metadata": {},
   "outputs": [],
   "source": [
    "# checks to see if there is at least one unpaid meter and collapses rows\n",
    "\n",
    "def count_infractions(df):\n",
    "    return ~(~df).any()\n",
    "\n",
    "collapsed_df = final_df.groupby([\"session_start_date\", \"street_id\"]).apply(count_infractions).reset_index()\n",
    "\n",
    "collapsed_df[\"weekday\"] = collapsed_df.session_start_date.dt.day_name()\n",
    "\n",
    "final_final_df = collapsed_df.groupby(\"weekday\").sum(axis=0)\n"
   ]
  },
  {
   "cell_type": "code",
   "execution_count": null,
   "metadata": {},
   "outputs": [],
   "source": []
  }
 ],
 "metadata": {
  "kernelspec": {
   "display_name": "stat-222",
   "language": "python",
   "name": "python3"
  },
  "language_info": {
   "codemirror_mode": {
    "name": "ipython",
    "version": 3
   },
   "file_extension": ".py",
   "mimetype": "text/x-python",
   "name": "python",
   "nbconvert_exporter": "python",
   "pygments_lexer": "ipython3",
   "version": "3.9.16"
  },
  "orig_nbformat": 4
 },
 "nbformat": 4,
 "nbformat_minor": 2
}
