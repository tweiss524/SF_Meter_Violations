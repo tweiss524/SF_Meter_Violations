{
 "cells": [
  {
   "cell_type": "markdown",
   "metadata": {},
   "source": [
    "## Imports"
   ]
  },
  {
   "cell_type": "code",
   "execution_count": 1,
   "metadata": {},
   "outputs": [],
   "source": [
    "import numpy as np\n",
    "import pandas as pd\n",
    "import plotly.express as px\n",
    "from shapely import wkt"
   ]
  },
  {
   "cell_type": "markdown",
   "metadata": {},
   "source": [
    "## Ingest Data"
   ]
  },
  {
   "cell_type": "code",
   "execution_count": 29,
   "metadata": {},
   "outputs": [],
   "source": [
    "# because the dataset is so big, this takes around 50 seconds on a Macbook Pro.\n",
    "\n",
    "df = pd.read_csv(\"../data/raw_parking_data.csv\")"
   ]
  },
  {
   "cell_type": "code",
   "execution_count": 30,
   "metadata": {},
   "outputs": [
    {
     "data": {
      "text/html": [
       "<div>\n",
       "<style scoped>\n",
       "    .dataframe tbody tr th:only-of-type {\n",
       "        vertical-align: middle;\n",
       "    }\n",
       "\n",
       "    .dataframe tbody tr th {\n",
       "        vertical-align: top;\n",
       "    }\n",
       "\n",
       "    .dataframe thead th {\n",
       "        text-align: right;\n",
       "    }\n",
       "</style>\n",
       "<table border=\"1\" class=\"dataframe\">\n",
       "  <thead>\n",
       "    <tr style=\"text-align: right;\">\n",
       "      <th></th>\n",
       "      <th>Citation Number</th>\n",
       "      <th>Citation Issued DateTime</th>\n",
       "      <th>Violation</th>\n",
       "      <th>Violation Description</th>\n",
       "      <th>Citation Location</th>\n",
       "      <th>Vehicle Plate State</th>\n",
       "      <th>Vehicle Plate</th>\n",
       "      <th>Fine Amount</th>\n",
       "      <th>Date Added</th>\n",
       "      <th>geom</th>\n",
       "      <th>Neighborhoods</th>\n",
       "      <th>SF Find Neighborhoods</th>\n",
       "      <th>Current Police Districts</th>\n",
       "      <th>Current Supervisor Districts</th>\n",
       "      <th>Analysis Neighborhoods</th>\n",
       "    </tr>\n",
       "  </thead>\n",
       "  <tbody>\n",
       "    <tr>\n",
       "      <th>0</th>\n",
       "      <td>771857995</td>\n",
       "      <td>10/27/2009 03:36:00 PM</td>\n",
       "      <td>T32A.1</td>\n",
       "      <td>TWAWY ZN#1</td>\n",
       "      <td>669 MISSION ST</td>\n",
       "      <td>CA</td>\n",
       "      <td>6ANP484</td>\n",
       "      <td>83.0</td>\n",
       "      <td>10/27/2009 12:00:00 AM</td>\n",
       "      <td>POINT (-122.40131583199997 37.78670342300006)</td>\n",
       "      <td>32.0</td>\n",
       "      <td>32.0</td>\n",
       "      <td>1.0</td>\n",
       "      <td>10.0</td>\n",
       "      <td>8.0</td>\n",
       "    </tr>\n",
       "    <tr>\n",
       "      <th>1</th>\n",
       "      <td>771104246</td>\n",
       "      <td>09/14/2009 11:05:00 AM</td>\n",
       "      <td>V5204A</td>\n",
       "      <td>REG TABS</td>\n",
       "      <td>7 GROVE ST</td>\n",
       "      <td>CA</td>\n",
       "      <td>5FEK647</td>\n",
       "      <td>63.0</td>\n",
       "      <td>09/14/2009 12:00:00 AM</td>\n",
       "      <td>POINT (-122.41511664599994 37.77876024500006)</td>\n",
       "      <td>21.0</td>\n",
       "      <td>21.0</td>\n",
       "      <td>5.0</td>\n",
       "      <td>10.0</td>\n",
       "      <td>36.0</td>\n",
       "    </tr>\n",
       "    <tr>\n",
       "      <th>2</th>\n",
       "      <td>770561131</td>\n",
       "      <td>09/10/2009 03:30:00 PM</td>\n",
       "      <td>T202</td>\n",
       "      <td>PRK METER</td>\n",
       "      <td>2851 24TH ST</td>\n",
       "      <td>CA</td>\n",
       "      <td>6DEG966</td>\n",
       "      <td>53.0</td>\n",
       "      <td>09/10/2009 12:00:00 AM</td>\n",
       "      <td>POINT (-122.40919778399996 37.752743407000025)</td>\n",
       "      <td>53.0</td>\n",
       "      <td>53.0</td>\n",
       "      <td>3.0</td>\n",
       "      <td>2.0</td>\n",
       "      <td>20.0</td>\n",
       "    </tr>\n",
       "    <tr>\n",
       "      <th>3</th>\n",
       "      <td>770024076</td>\n",
       "      <td>09/07/2009 03:21:00 PM</td>\n",
       "      <td>T202</td>\n",
       "      <td>PRK METER</td>\n",
       "      <td>417 BAY ST</td>\n",
       "      <td>CA</td>\n",
       "      <td>6DKY758</td>\n",
       "      <td>53.0</td>\n",
       "      <td>09/07/2009 12:00:00 AM</td>\n",
       "      <td>POINT (-122.41413599899994 37.80540600300003)</td>\n",
       "      <td>106.0</td>\n",
       "      <td>106.0</td>\n",
       "      <td>6.0</td>\n",
       "      <td>3.0</td>\n",
       "      <td>23.0</td>\n",
       "    </tr>\n",
       "    <tr>\n",
       "      <th>4</th>\n",
       "      <td>770025093</td>\n",
       "      <td>09/09/2009 01:23:00 PM</td>\n",
       "      <td>T58A</td>\n",
       "      <td>BLK WHEELS</td>\n",
       "      <td>136 LAWTON ST</td>\n",
       "      <td>CA</td>\n",
       "      <td>4JTL645</td>\n",
       "      <td>48.0</td>\n",
       "      <td>09/09/2009 12:00:00 AM</td>\n",
       "      <td>POINT (-122.46446999799997 37.75869600400006)</td>\n",
       "      <td>109.0</td>\n",
       "      <td>109.0</td>\n",
       "      <td>10.0</td>\n",
       "      <td>8.0</td>\n",
       "      <td>14.0</td>\n",
       "    </tr>\n",
       "  </tbody>\n",
       "</table>\n",
       "</div>"
      ],
      "text/plain": [
       "  Citation Number Citation Issued DateTime Violation Violation Description  \\\n",
       "0       771857995   10/27/2009 03:36:00 PM    T32A.1            TWAWY ZN#1   \n",
       "1       771104246   09/14/2009 11:05:00 AM    V5204A              REG TABS   \n",
       "2       770561131   09/10/2009 03:30:00 PM      T202             PRK METER   \n",
       "3       770024076   09/07/2009 03:21:00 PM      T202             PRK METER   \n",
       "4       770025093   09/09/2009 01:23:00 PM      T58A            BLK WHEELS   \n",
       "\n",
       "  Citation Location Vehicle Plate State Vehicle Plate  Fine Amount  \\\n",
       "0    669 MISSION ST                  CA       6ANP484         83.0   \n",
       "1        7 GROVE ST                  CA       5FEK647         63.0   \n",
       "2      2851 24TH ST                  CA       6DEG966         53.0   \n",
       "3        417 BAY ST                  CA       6DKY758         53.0   \n",
       "4     136 LAWTON ST                  CA       4JTL645         48.0   \n",
       "\n",
       "               Date Added                                            geom  \\\n",
       "0  10/27/2009 12:00:00 AM   POINT (-122.40131583199997 37.78670342300006)   \n",
       "1  09/14/2009 12:00:00 AM   POINT (-122.41511664599994 37.77876024500006)   \n",
       "2  09/10/2009 12:00:00 AM  POINT (-122.40919778399996 37.752743407000025)   \n",
       "3  09/07/2009 12:00:00 AM   POINT (-122.41413599899994 37.80540600300003)   \n",
       "4  09/09/2009 12:00:00 AM   POINT (-122.46446999799997 37.75869600400006)   \n",
       "\n",
       "   Neighborhoods  SF Find Neighborhoods  Current Police Districts  \\\n",
       "0           32.0                   32.0                       1.0   \n",
       "1           21.0                   21.0                       5.0   \n",
       "2           53.0                   53.0                       3.0   \n",
       "3          106.0                  106.0                       6.0   \n",
       "4          109.0                  109.0                      10.0   \n",
       "\n",
       "   Current Supervisor Districts  Analysis Neighborhoods  \n",
       "0                          10.0                     8.0  \n",
       "1                          10.0                    36.0  \n",
       "2                           2.0                    20.0  \n",
       "3                           3.0                    23.0  \n",
       "4                           8.0                    14.0  "
      ]
     },
     "execution_count": 30,
     "metadata": {},
     "output_type": "execute_result"
    }
   ],
   "source": [
    "# what the data looks like\n",
    "\n",
    "df.head()"
   ]
  },
  {
   "cell_type": "code",
   "execution_count": 31,
   "metadata": {},
   "outputs": [
    {
     "name": "stdout",
     "output_type": "stream",
     "text": [
      "Data has 19234535 rows and 15 columns\n"
     ]
    }
   ],
   "source": [
    "# number of rows and columns\n",
    "\n",
    "print(f\"Data has {df.shape[0]} rows and {df.shape[1]} columns\")"
   ]
  },
  {
   "cell_type": "markdown",
   "metadata": {},
   "source": [
    "## Initial Filtering"
   ]
  },
  {
   "cell_type": "code",
   "execution_count": 39,
   "metadata": {},
   "outputs": [
    {
     "data": {
      "text/plain": [
       "6166567"
      ]
     },
     "execution_count": 39,
     "metadata": {},
     "output_type": "execute_result"
    }
   ],
   "source": [
    "# number of non-SF citations\n",
    "\n",
    "df['SF Find Neighborhoods'].isnull().sum()"
   ]
  },
  {
   "cell_type": "code",
   "execution_count": 40,
   "metadata": {},
   "outputs": [
    {
     "data": {
      "text/plain": [
       "(13067968, 15)"
      ]
     },
     "execution_count": 40,
     "metadata": {},
     "output_type": "execute_result"
    }
   ],
   "source": [
    "# filter out non-SF citations\n",
    "\n",
    "df = df[~df['SF Find Neighborhoods'].isnull()]\n",
    "df.shape"
   ]
  },
  {
   "cell_type": "code",
   "execution_count": 43,
   "metadata": {},
   "outputs": [],
   "source": [
    "# convert citation issued date to datetime for additional filtering. this takes a long time!\n",
    "\n",
    "df['Citation Issued DateTime'] = pd.to_datetime(df['Citation Issued DateTime'])"
   ]
  },
  {
   "cell_type": "code",
   "execution_count": 47,
   "metadata": {},
   "outputs": [
    {
     "data": {
      "text/plain": [
       "(336100, 15)"
      ]
     },
     "execution_count": 47,
     "metadata": {},
     "output_type": "execute_result"
    }
   ],
   "source": [
    "# only look at data > 2020 for now.\n",
    "\n",
    "short_df = df[df['Citation Issued DateTime'] > pd.Timestamp(2020,1,1)].sort_values('Citation Issued DateTime')\n",
    "short_df.shape"
   ]
  },
  {
   "cell_type": "code",
   "execution_count": 48,
   "metadata": {},
   "outputs": [],
   "source": [
    "short_df.to_csv('../data/parking_data_2020.csv', index=False)"
   ]
  }
 ],
 "metadata": {
  "kernelspec": {
   "display_name": "Python 3.8.13 ('ds')",
   "language": "python",
   "name": "python3"
  },
  "language_info": {
   "codemirror_mode": {
    "name": "ipython",
    "version": 3
   },
   "file_extension": ".py",
   "mimetype": "text/x-python",
   "name": "python",
   "nbconvert_exporter": "python",
   "pygments_lexer": "ipython3",
   "version": "3.8.13"
  },
  "orig_nbformat": 4,
  "vscode": {
   "interpreter": {
    "hash": "ebf4d58f2b06e9f21676e768ca6276364ab43d26f7d392ff17c91d23028c0e8b"
   }
  }
 },
 "nbformat": 4,
 "nbformat_minor": 2
}
