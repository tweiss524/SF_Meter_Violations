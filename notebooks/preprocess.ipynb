{
 "cells": [
  {
   "cell_type": "markdown",
   "metadata": {},
   "source": [
    "## Imports"
   ]
  },
  {
   "cell_type": "code",
   "execution_count": 1,
   "metadata": {},
   "outputs": [],
   "source": [
    "import numpy as np\n",
    "import pandas as pd\n",
    "import plotly.express as px\n",
    "from shapely import wkt"
   ]
  },
  {
   "cell_type": "markdown",
   "metadata": {},
   "source": [
    "## Ingest Data"
   ]
  },
  {
   "cell_type": "code",
   "execution_count": 27,
   "metadata": {},
   "outputs": [],
   "source": [
    "# because the dataset is so big, this takes around 50 seconds on a Macbook Pro.\n",
    "\n",
    "df = pd.read_csv(\"../data/raw_parking_data.csv\")"
   ]
  },
  {
   "cell_type": "code",
   "execution_count": 126,
   "metadata": {},
   "outputs": [
    {
     "name": "stdout",
     "output_type": "stream",
     "text": [
      "Data has 19234535 rows and 15 columns\n"
     ]
    }
   ],
   "source": [
    "# number of rows and columns\n",
    "\n",
    "print(f\"Data has {df.shape[0]} rows and {df.shape[1]} columns\")"
   ]
  },
  {
   "cell_type": "code",
   "execution_count": 127,
   "metadata": {},
   "outputs": [],
   "source": [
    "# get addresses from previous\n",
    "\n",
    "has_geom = df[~df.geom.isnull()]"
   ]
  },
  {
   "cell_type": "code",
   "execution_count": 130,
   "metadata": {},
   "outputs": [],
   "source": [
    "has_location = has_geom.drop_duplicates(subset='Citation Location', keep=\"first\")"
   ]
  },
  {
   "cell_type": "markdown",
   "metadata": {},
   "source": [
    "## Basic EDA"
   ]
  },
  {
   "cell_type": "code",
   "execution_count": 139,
   "metadata": {},
   "outputs": [],
   "source": [
    "# this takes a long time!\n",
    "\n",
    "df['Citation Issued DateTime'] = pd.to_datetime(df['Citation Issued DateTime'])"
   ]
  },
  {
   "cell_type": "code",
   "execution_count": 143,
   "metadata": {},
   "outputs": [
    {
     "data": {
      "text/plain": [
       "<AxesSubplot: >"
      ]
     },
     "execution_count": 143,
     "metadata": {},
     "output_type": "execute_result"
    },
    {
     "data": {
      "image/png": "[encoded data removed]",
      "text/plain": [
       "<Figure size 640x480 with 1 Axes>"
      ]
     },
     "metadata": {},
     "output_type": "display_data"
    }
   ],
   "source": [
    "# number of tickets per year over time. the number of tickets has actually been going down\n",
    "\n",
    "df['Citation Issued DateTime'].dt.year.value_counts().sort_index().plot(kind='bar')"
   ]
  },
  {
   "cell_type": "markdown",
   "metadata": {},
   "source": [
    "## Initial Filtering"
   ]
  },
  {
   "cell_type": "code",
   "execution_count": 132,
   "metadata": {},
   "outputs": [],
   "source": [
    "# filter dates (2022 and 2023 data only) using string matching first (more optimal than converting to datetime first)\n",
    "\n",
    "most_recent = df[df['Citation Issued DateTime'].str.contains('2022') | df['Citation Issued DateTime'].str.contains('2023')]\n",
    "most_recent.shape"
   ]
  },
  {
   "cell_type": "code",
   "execution_count": 144,
   "metadata": {},
   "outputs": [
    {
     "data": {
      "text/plain": [
       "(1181692, 9)"
      ]
     },
     "execution_count": 144,
     "metadata": {},
     "output_type": "execute_result"
    }
   ],
   "source": [
    "most_recent.shape"
   ]
  },
  {
   "cell_type": "code",
   "execution_count": 135,
   "metadata": {},
   "outputs": [
    {
     "name": "stderr",
     "output_type": "stream",
     "text": [
      "/var/folders/lr/597pxhmx2z78r4vysc_dvsth0000gn/T/ipykernel_9890/1014372275.py:3: SettingWithCopyWarning: \n",
      "A value is trying to be set on a copy of a slice from a DataFrame\n",
      "\n",
      "See the caveats in the documentation: https://pandas.pydata.org/pandas-docs/stable/user_guide/indexing.html#returning-a-view-versus-a-copy\n",
      "  most_recent.drop(['Neighborhoods', 'SF Find Neighborhoods', 'Current Police Districts', 'Current Supervisor Districts', 'Analysis Neighborhoods', 'geom'], axis=1, inplace=True)\n"
     ]
    }
   ],
   "source": [
    "# drop columns that aren't filled for the most recent data\n",
    "\n",
    "most_recent.drop(['Neighborhoods', 'SF Find Neighborhoods', 'Current Police Districts', 'Current Supervisor Districts', 'Analysis Neighborhoods', 'geom'], axis=1, inplace=True)"
   ]
  },
  {
   "cell_type": "code",
   "execution_count": 138,
   "metadata": {},
   "outputs": [],
   "source": [
    "# we lose about 50k / 1 mil records, but this seems ok for now.\n",
    "\n",
    "got_geom = pd.merge(most_recent, has_location[['Citation Location', 'geom']], on='Citation Location')\n",
    "got_geom.to_csv('../data/data_2022_with_geom.csv', index=False)"
   ]
  },
  {
   "cell_type": "code",
   "execution_count": 70,
   "metadata": {},
   "outputs": [
    {
     "data": {
      "text/plain": [
       "(533212, 15)"
      ]
     },
     "execution_count": 70,
     "metadata": {},
     "output_type": "execute_result"
    }
   ],
   "source": [
    "# filter for street cleaning only\n",
    "\n",
    "street_cleaning = most_recent[most_recent['Violation Description'] == 'STR CLEAN']\n",
    "street_cleaning.shape"
   ]
  },
  {
   "cell_type": "code",
   "execution_count": 71,
   "metadata": {},
   "outputs": [
    {
     "data": {
      "text/plain": [
       "1181649"
      ]
     },
     "execution_count": 71,
     "metadata": {},
     "output_type": "execute_result"
    }
   ],
   "source": [
    "# newest data does not include geometry information\n",
    "\n",
    "most_recent['geom'].isnull().sum()"
   ]
  },
  {
   "cell_type": "code",
   "execution_count": 72,
   "metadata": {},
   "outputs": [
    {
     "data": {
      "text/plain": [
       "(533210, 15)"
      ]
     },
     "execution_count": 72,
     "metadata": {},
     "output_type": "execute_result"
    }
   ],
   "source": [
    "# filter out rows with no location information (very few)\n",
    "\n",
    "street_cleaning = street_cleaning[~street_cleaning['Citation Location'].isnull()]\n",
    "street_cleaning.shape"
   ]
  },
  {
   "cell_type": "code",
   "execution_count": 73,
   "metadata": {},
   "outputs": [
    {
     "data": {
      "text/plain": [
       "(532935, 15)"
      ]
     },
     "execution_count": 73,
     "metadata": {},
     "output_type": "execute_result"
    }
   ],
   "source": [
    "# filter out rows with no address number (very few)\n",
    "\n",
    "street_cleaning = street_cleaning[street_cleaning['Citation Location'].apply(lambda address: any(char.isdigit() for char in address))]\n",
    "street_cleaning.shape"
   ]
  },
  {
   "cell_type": "code",
   "execution_count": 74,
   "metadata": {},
   "outputs": [
    {
     "data": {
      "text/plain": [
       "1190 MISSION ST      154\n",
       "540 JONES ST         114\n",
       "111 TAYLOR ST        113\n",
       "1018 MISSION ST      109\n",
       "450 JONES ST         100\n",
       "                    ... \n",
       "275 BRIGHT ST          1\n",
       "885 VERMONT ST         1\n",
       "41 TINGLEY STREET      1\n",
       "1520 INGALLS ST        1\n",
       "450 SPEAR ST           1\n",
       "Name: Citation Location, Length: 248263, dtype: int64"
      ]
     },
     "execution_count": 74,
     "metadata": {},
     "output_type": "execute_result"
    }
   ],
   "source": [
    "street_cleaning['Citation Location'].value_counts()"
   ]
  },
  {
   "cell_type": "code",
   "execution_count": 92,
   "metadata": {},
   "outputs": [
    {
     "data": {
      "text/plain": [
       "0    157 \u0001 ST\n",
       "dtype: object"
      ]
     },
     "execution_count": 92,
     "metadata": {},
     "output_type": "execute_result"
    }
   ],
   "source": [
    "pd.Series(['157 09TH ST']).str.replace(r'0\\dTH', '\\1', regex=True)"
   ]
  },
  {
   "cell_type": "code",
   "execution_count": 63,
   "metadata": {},
   "outputs": [],
   "source": [
    "# remove leading zeros from numbered street e.g. 09TH ST -> 9TH ST\n",
    "# TODO: this regex does not work. \n",
    "\n",
    "street_cleaning['Citation Location'] = street_cleaning['Citation Location'].str.replace(r'0\\dTH', r'\\dTH', regex=True)"
   ]
  },
  {
   "cell_type": "code",
   "execution_count": 64,
   "metadata": {},
   "outputs": [],
   "source": [
    "# convert to datetime\n",
    "\n",
    "street_cleaning['Citation Issued DateTime'] = pd.to_datetime(street_cleaning['Citation Issued DateTime'])"
   ]
  },
  {
   "cell_type": "code",
   "execution_count": 67,
   "metadata": {},
   "outputs": [
    {
     "data": {
      "text/html": [
       "<div>\n",
       "<style scoped>\n",
       "    .dataframe tbody tr th:only-of-type {\n",
       "        vertical-align: middle;\n",
       "    }\n",
       "\n",
       "    .dataframe tbody tr th {\n",
       "        vertical-align: top;\n",
       "    }\n",
       "\n",
       "    .dataframe thead th {\n",
       "        text-align: right;\n",
       "    }\n",
       "</style>\n",
       "<table border=\"1\" class=\"dataframe\">\n",
       "  <thead>\n",
       "    <tr style=\"text-align: right;\">\n",
       "      <th></th>\n",
       "      <th>Citation Number</th>\n",
       "      <th>Citation Issued DateTime</th>\n",
       "      <th>Violation</th>\n",
       "      <th>Violation Description</th>\n",
       "      <th>Citation Location</th>\n",
       "      <th>Vehicle Plate State</th>\n",
       "      <th>Vehicle Plate</th>\n",
       "      <th>Fine Amount</th>\n",
       "      <th>Date Added</th>\n",
       "      <th>geom</th>\n",
       "      <th>Neighborhoods</th>\n",
       "      <th>SF Find Neighborhoods</th>\n",
       "      <th>Current Police Districts</th>\n",
       "      <th>Current Supervisor Districts</th>\n",
       "      <th>Analysis Neighborhoods</th>\n",
       "    </tr>\n",
       "  </thead>\n",
       "  <tbody>\n",
       "    <tr>\n",
       "      <th>19179250</th>\n",
       "      <td>959318916</td>\n",
       "      <td>2023-01-26 13:18:00</td>\n",
       "      <td>TRC7.2.22</td>\n",
       "      <td>STR CLEAN</td>\n",
       "      <td>2031 SANTIAGO ST</td>\n",
       "      <td>AZ</td>\n",
       "      <td>CCV0129</td>\n",
       "      <td>87.0</td>\n",
       "      <td>02/01/2023 12:00:00 AM</td>\n",
       "      <td>NaN</td>\n",
       "      <td>NaN</td>\n",
       "      <td>NaN</td>\n",
       "      <td>NaN</td>\n",
       "      <td>NaN</td>\n",
       "      <td>NaN</td>\n",
       "    </tr>\n",
       "    <tr>\n",
       "      <th>19175399</th>\n",
       "      <td>959039970</td>\n",
       "      <td>2023-01-26 13:16:00</td>\n",
       "      <td>TRC7.2.22</td>\n",
       "      <td>STR CLEAN</td>\n",
       "      <td>4125 FULTON ST</td>\n",
       "      <td>CA</td>\n",
       "      <td>3W31424</td>\n",
       "      <td>87.0</td>\n",
       "      <td>02/01/2023 12:00:00 AM</td>\n",
       "      <td>NaN</td>\n",
       "      <td>NaN</td>\n",
       "      <td>NaN</td>\n",
       "      <td>NaN</td>\n",
       "      <td>NaN</td>\n",
       "      <td>NaN</td>\n",
       "    </tr>\n",
       "    <tr>\n",
       "      <th>19180844</th>\n",
       "      <td>959101334</td>\n",
       "      <td>2023-01-26 13:13:00</td>\n",
       "      <td>TRC7.2.22</td>\n",
       "      <td>STR CLEAN</td>\n",
       "      <td>2305 GREAT HWY</td>\n",
       "      <td>TX</td>\n",
       "      <td>SMM7137</td>\n",
       "      <td>87.0</td>\n",
       "      <td>02/01/2023 12:00:00 AM</td>\n",
       "      <td>NaN</td>\n",
       "      <td>NaN</td>\n",
       "      <td>NaN</td>\n",
       "      <td>NaN</td>\n",
       "      <td>NaN</td>\n",
       "      <td>NaN</td>\n",
       "    </tr>\n",
       "    <tr>\n",
       "      <th>19179457</th>\n",
       "      <td>959258403</td>\n",
       "      <td>2023-01-26 13:07:00</td>\n",
       "      <td>TRC7.2.22</td>\n",
       "      <td>STR CLEAN</td>\n",
       "      <td>6449 FULTON ST</td>\n",
       "      <td>TX</td>\n",
       "      <td>TXW7551</td>\n",
       "      <td>87.0</td>\n",
       "      <td>02/01/2023 12:00:00 AM</td>\n",
       "      <td>NaN</td>\n",
       "      <td>NaN</td>\n",
       "      <td>NaN</td>\n",
       "      <td>NaN</td>\n",
       "      <td>NaN</td>\n",
       "      <td>NaN</td>\n",
       "    </tr>\n",
       "    <tr>\n",
       "      <th>19179226</th>\n",
       "      <td>959101312</td>\n",
       "      <td>2023-01-26 13:07:00</td>\n",
       "      <td>TRC7.2.22</td>\n",
       "      <td>STR CLEAN</td>\n",
       "      <td>2099 GREAT HWY</td>\n",
       "      <td>CO</td>\n",
       "      <td>BYD046</td>\n",
       "      <td>87.0</td>\n",
       "      <td>02/01/2023 12:00:00 AM</td>\n",
       "      <td>NaN</td>\n",
       "      <td>NaN</td>\n",
       "      <td>NaN</td>\n",
       "      <td>NaN</td>\n",
       "      <td>NaN</td>\n",
       "      <td>NaN</td>\n",
       "    </tr>\n",
       "  </tbody>\n",
       "</table>\n",
       "</div>"
      ],
      "text/plain": [
       "         Citation Number Citation Issued DateTime  Violation  \\\n",
       "19179250       959318916      2023-01-26 13:18:00  TRC7.2.22   \n",
       "19175399       959039970      2023-01-26 13:16:00  TRC7.2.22   \n",
       "19180844       959101334      2023-01-26 13:13:00  TRC7.2.22   \n",
       "19179457       959258403      2023-01-26 13:07:00  TRC7.2.22   \n",
       "19179226       959101312      2023-01-26 13:07:00  TRC7.2.22   \n",
       "\n",
       "         Violation Description Citation Location Vehicle Plate State  \\\n",
       "19179250             STR CLEAN  2031 SANTIAGO ST                  AZ   \n",
       "19175399             STR CLEAN    4125 FULTON ST                  CA   \n",
       "19180844             STR CLEAN    2305 GREAT HWY                  TX   \n",
       "19179457             STR CLEAN    6449 FULTON ST                  TX   \n",
       "19179226             STR CLEAN    2099 GREAT HWY                  CO   \n",
       "\n",
       "         Vehicle Plate  Fine Amount              Date Added geom  \\\n",
       "19179250       CCV0129         87.0  02/01/2023 12:00:00 AM  NaN   \n",
       "19175399       3W31424         87.0  02/01/2023 12:00:00 AM  NaN   \n",
       "19180844       SMM7137         87.0  02/01/2023 12:00:00 AM  NaN   \n",
       "19179457       TXW7551         87.0  02/01/2023 12:00:00 AM  NaN   \n",
       "19179226        BYD046         87.0  02/01/2023 12:00:00 AM  NaN   \n",
       "\n",
       "          Neighborhoods  SF Find Neighborhoods  Current Police Districts  \\\n",
       "19179250            NaN                    NaN                       NaN   \n",
       "19175399            NaN                    NaN                       NaN   \n",
       "19180844            NaN                    NaN                       NaN   \n",
       "19179457            NaN                    NaN                       NaN   \n",
       "19179226            NaN                    NaN                       NaN   \n",
       "\n",
       "          Current Supervisor Districts  Analysis Neighborhoods  \n",
       "19179250                           NaN                     NaN  \n",
       "19175399                           NaN                     NaN  \n",
       "19180844                           NaN                     NaN  \n",
       "19179457                           NaN                     NaN  \n",
       "19179226                           NaN                     NaN  "
      ]
     },
     "execution_count": 67,
     "metadata": {},
     "output_type": "execute_result"
    }
   ],
   "source": [
    "# sort by most recent\n",
    "\n",
    "street_cleaning.sort_values('Citation Issued DateTime', ascending=False, inplace=True)\n",
    "street_cleaning.head()"
   ]
  },
  {
   "cell_type": "code",
   "execution_count": 69,
   "metadata": {},
   "outputs": [],
   "source": [
    "# put into the format required by the US Census website:\n",
    "# https://geocoding.geo.census.gov/geocoder/locations/addressbatch\n",
    "\n",
    "pd.DataFrame({'street': street_cleaning['Citation Location'].unique(), 'city': 'SAN FRANCISCO', 'state': 'CA', 'zip': None}).head(n=10000).to_csv('sample_address.csv', header=False)"
   ]
  },
  {
   "cell_type": "code",
   "execution_count": 111,
   "metadata": {},
   "outputs": [
    {
     "data": {
      "text/html": [
       "<div>\n",
       "<style scoped>\n",
       "    .dataframe tbody tr th:only-of-type {\n",
       "        vertical-align: middle;\n",
       "    }\n",
       "\n",
       "    .dataframe tbody tr th {\n",
       "        vertical-align: top;\n",
       "    }\n",
       "\n",
       "    .dataframe thead th {\n",
       "        text-align: right;\n",
       "    }\n",
       "</style>\n",
       "<table border=\"1\" class=\"dataframe\">\n",
       "  <thead>\n",
       "    <tr style=\"text-align: right;\">\n",
       "      <th></th>\n",
       "      <th>street</th>\n",
       "      <th>latlong</th>\n",
       "    </tr>\n",
       "  </thead>\n",
       "  <tbody>\n",
       "    <tr>\n",
       "      <th>0</th>\n",
       "      <td>3450 20TH ST</td>\n",
       "      <td>-122.41804939299999,37.75870168800003</td>\n",
       "    </tr>\n",
       "    <tr>\n",
       "      <th>1</th>\n",
       "      <td>103 FONT BOULEVARD</td>\n",
       "      <td>-122.47322397799996,37.715063685000075</td>\n",
       "    </tr>\n",
       "    <tr>\n",
       "      <th>2</th>\n",
       "      <td>500 30TH ST</td>\n",
       "      <td>-122.43097611299999,37.741839725000034</td>\n",
       "    </tr>\n",
       "    <tr>\n",
       "      <th>3</th>\n",
       "      <td>2442 DIAMOND STREET</td>\n",
       "      <td>-122.43542069499995,37.73867619600003</td>\n",
       "    </tr>\n",
       "    <tr>\n",
       "      <th>4</th>\n",
       "      <td>193 JERSEY ST</td>\n",
       "      <td>-122.42936935399996,37.75076959000006</td>\n",
       "    </tr>\n",
       "    <tr>\n",
       "      <th>...</th>\n",
       "      <td>...</td>\n",
       "      <td>...</td>\n",
       "    </tr>\n",
       "    <tr>\n",
       "      <th>9995</th>\n",
       "      <td>858 HAYES ST</td>\n",
       "      <td>-122.43050105099996,37.77592995200007</td>\n",
       "    </tr>\n",
       "    <tr>\n",
       "      <th>9996</th>\n",
       "      <td>658 19TH AVE</td>\n",
       "      <td>-122.47794738299996,37.77552203400006</td>\n",
       "    </tr>\n",
       "    <tr>\n",
       "      <th>9997</th>\n",
       "      <td>199 JOOST AVE</td>\n",
       "      <td>-122.43956244699996,37.73236658900004</td>\n",
       "    </tr>\n",
       "    <tr>\n",
       "      <th>9998</th>\n",
       "      <td>744 PORTOLA DR</td>\n",
       "      <td>-122.45373363999994,37.74440515300006</td>\n",
       "    </tr>\n",
       "    <tr>\n",
       "      <th>9999</th>\n",
       "      <td>1800 SACRAMENTO ST</td>\n",
       "      <td>-122.42273391799995,37.791268512000045</td>\n",
       "    </tr>\n",
       "  </tbody>\n",
       "</table>\n",
       "<p>9494 rows × 2 columns</p>\n",
       "</div>"
      ],
      "text/plain": [
       "                   street                                 latlong\n",
       "0            3450 20TH ST   -122.41804939299999,37.75870168800003\n",
       "1      103 FONT BOULEVARD  -122.47322397799996,37.715063685000075\n",
       "2             500 30TH ST  -122.43097611299999,37.741839725000034\n",
       "3     2442 DIAMOND STREET   -122.43542069499995,37.73867619600003\n",
       "4           193 JERSEY ST   -122.42936935399996,37.75076959000006\n",
       "...                   ...                                     ...\n",
       "9995         858 HAYES ST   -122.43050105099996,37.77592995200007\n",
       "9996         658 19TH AVE   -122.47794738299996,37.77552203400006\n",
       "9997        199 JOOST AVE   -122.43956244699996,37.73236658900004\n",
       "9998       744 PORTOLA DR   -122.45373363999994,37.74440515300006\n",
       "9999   1800 SACRAMENTO ST  -122.42273391799995,37.791268512000045\n",
       "\n",
       "[9494 rows x 2 columns]"
      ]
     },
     "execution_count": 111,
     "metadata": {},
     "output_type": "execute_result"
    }
   ],
   "source": [
    "# load and merge geocoded results (only 10000 addresses max)\n",
    "\n",
    "geo = pd.read_csv('../data/geocode_beta.csv', header=None)\n",
    "geo = geo[geo[2] == 'Match']\n",
    "geo[1] = geo[1].str.replace(', SAN FRANCISCO, CA,', '').apply(lambda x: x.strip())\n",
    "geo = geo[[1, 5]]\n",
    "geo.columns = ['street', 'latlong']\n",
    "geo"
   ]
  },
  {
   "cell_type": "code",
   "execution_count": 123,
   "metadata": {},
   "outputs": [
    {
     "data": {
      "text/html": [
       "<div>\n",
       "<style scoped>\n",
       "    .dataframe tbody tr th:only-of-type {\n",
       "        vertical-align: middle;\n",
       "    }\n",
       "\n",
       "    .dataframe tbody tr th {\n",
       "        vertical-align: top;\n",
       "    }\n",
       "\n",
       "    .dataframe thead th {\n",
       "        text-align: right;\n",
       "    }\n",
       "</style>\n",
       "<table border=\"1\" class=\"dataframe\">\n",
       "  <thead>\n",
       "    <tr style=\"text-align: right;\">\n",
       "      <th></th>\n",
       "      <th>Citation Number</th>\n",
       "      <th>Citation Issued DateTime</th>\n",
       "      <th>Violation</th>\n",
       "      <th>Violation Description</th>\n",
       "      <th>Citation Location</th>\n",
       "      <th>Vehicle Plate State</th>\n",
       "      <th>Vehicle Plate</th>\n",
       "      <th>Fine Amount</th>\n",
       "      <th>Date Added</th>\n",
       "      <th>street</th>\n",
       "      <th>geom</th>\n",
       "    </tr>\n",
       "  </thead>\n",
       "  <tbody>\n",
       "    <tr>\n",
       "      <th>0</th>\n",
       "      <td>950344345</td>\n",
       "      <td>04/21/2022 11:53:00 AM</td>\n",
       "      <td>TRC7.2.22</td>\n",
       "      <td>STR CLEAN</td>\n",
       "      <td>625 EUCLID AVE</td>\n",
       "      <td>CA</td>\n",
       "      <td>8NCF941</td>\n",
       "      <td>84.0</td>\n",
       "      <td>04/30/2022 12:00:00 AM</td>\n",
       "      <td>625 EUCLID AVE</td>\n",
       "      <td>-122.45602271999996,37.78396235800005</td>\n",
       "    </tr>\n",
       "    <tr>\n",
       "      <th>1</th>\n",
       "      <td>948660355</td>\n",
       "      <td>03/03/2022 11:55:00 AM</td>\n",
       "      <td>TRC7.2.22</td>\n",
       "      <td>STR CLEAN</td>\n",
       "      <td>625 EUCLID AVE</td>\n",
       "      <td>CA</td>\n",
       "      <td>8P13263</td>\n",
       "      <td>84.0</td>\n",
       "      <td>03/14/2022 12:00:00 AM</td>\n",
       "      <td>625 EUCLID AVE</td>\n",
       "      <td>-122.45602271999996,37.78396235800005</td>\n",
       "    </tr>\n",
       "    <tr>\n",
       "      <th>2</th>\n",
       "      <td>953722490</td>\n",
       "      <td>08/04/2022 11:57:00 AM</td>\n",
       "      <td>TRC7.2.22</td>\n",
       "      <td>STR CLEAN</td>\n",
       "      <td>625 EUCLID AVE</td>\n",
       "      <td>CA</td>\n",
       "      <td>66210H3</td>\n",
       "      <td>87.0</td>\n",
       "      <td>10/13/2022 12:00:00 AM</td>\n",
       "      <td>625 EUCLID AVE</td>\n",
       "      <td>-122.45602271999996,37.78396235800005</td>\n",
       "    </tr>\n",
       "    <tr>\n",
       "      <th>3</th>\n",
       "      <td>958167416</td>\n",
       "      <td>12/15/2022 11:54:00 AM</td>\n",
       "      <td>TRC7.2.22</td>\n",
       "      <td>STR CLEAN</td>\n",
       "      <td>625 EUCLID AVE</td>\n",
       "      <td>CA</td>\n",
       "      <td>7GLY429</td>\n",
       "      <td>87.0</td>\n",
       "      <td>01/20/2023 12:00:00 AM</td>\n",
       "      <td>625 EUCLID AVE</td>\n",
       "      <td>-122.45602271999996,37.78396235800005</td>\n",
       "    </tr>\n",
       "    <tr>\n",
       "      <th>4</th>\n",
       "      <td>959087522</td>\n",
       "      <td>01/19/2023 11:58:00 AM</td>\n",
       "      <td>TRC7.2.22</td>\n",
       "      <td>STR CLEAN</td>\n",
       "      <td>625 EUCLID AVE</td>\n",
       "      <td>CA</td>\n",
       "      <td>05345K3</td>\n",
       "      <td>87.0</td>\n",
       "      <td>01/26/2023 12:00:00 AM</td>\n",
       "      <td>625 EUCLID AVE</td>\n",
       "      <td>-122.45602271999996,37.78396235800005</td>\n",
       "    </tr>\n",
       "  </tbody>\n",
       "</table>\n",
       "</div>"
      ],
      "text/plain": [
       "  Citation Number Citation Issued DateTime  Violation Violation Description  \\\n",
       "0       950344345   04/21/2022 11:53:00 AM  TRC7.2.22             STR CLEAN   \n",
       "1       948660355   03/03/2022 11:55:00 AM  TRC7.2.22             STR CLEAN   \n",
       "2       953722490   08/04/2022 11:57:00 AM  TRC7.2.22             STR CLEAN   \n",
       "3       958167416   12/15/2022 11:54:00 AM  TRC7.2.22             STR CLEAN   \n",
       "4       959087522   01/19/2023 11:58:00 AM  TRC7.2.22             STR CLEAN   \n",
       "\n",
       "  Citation Location Vehicle Plate State Vehicle Plate  Fine Amount  \\\n",
       "0    625 EUCLID AVE                  CA       8NCF941         84.0   \n",
       "1    625 EUCLID AVE                  CA       8P13263         84.0   \n",
       "2    625 EUCLID AVE                  CA       66210H3         87.0   \n",
       "3    625 EUCLID AVE                  CA       7GLY429         87.0   \n",
       "4    625 EUCLID AVE                  CA       05345K3         87.0   \n",
       "\n",
       "               Date Added          street  \\\n",
       "0  04/30/2022 12:00:00 AM  625 EUCLID AVE   \n",
       "1  03/14/2022 12:00:00 AM  625 EUCLID AVE   \n",
       "2  10/13/2022 12:00:00 AM  625 EUCLID AVE   \n",
       "3  01/20/2023 12:00:00 AM  625 EUCLID AVE   \n",
       "4  01/26/2023 12:00:00 AM  625 EUCLID AVE   \n",
       "\n",
       "                                    geom  \n",
       "0  -122.45602271999996,37.78396235800005  \n",
       "1  -122.45602271999996,37.78396235800005  \n",
       "2  -122.45602271999996,37.78396235800005  \n",
       "3  -122.45602271999996,37.78396235800005  \n",
       "4  -122.45602271999996,37.78396235800005  "
      ]
     },
     "execution_count": 123,
     "metadata": {},
     "output_type": "execute_result"
    }
   ],
   "source": [
    "sample_df = pd.merge(street_cleaning, geo, left_on='Citation Location', right_on='street', how='inner')\n",
    "sample_df.drop(['Neighborhoods', 'SF Find Neighborhoods', 'Current Police Districts', 'Current Supervisor Districts', 'Analysis Neighborhoods', 'geom'], axis=1, inplace=True)\n",
    "sample_df.rename({'latlong': 'geom'}, inplace=True, axis=1)\n",
    "sample_df.head()"
   ]
  },
  {
   "cell_type": "code",
   "execution_count": 125,
   "metadata": {},
   "outputs": [],
   "source": [
    "sample_df.to_csv('../data/sample_2022.csv', index=False)"
   ]
  }
 ],
 "metadata": {
  "kernelspec": {
   "display_name": "Python 3.9.16 ('stat-222')",
   "language": "python",
   "name": "python3"
  },
  "language_info": {
   "codemirror_mode": {
    "name": "ipython",
    "version": 3
   },
   "file_extension": ".py",
   "mimetype": "text/x-python",
   "name": "python",
   "nbconvert_exporter": "python",
   "pygments_lexer": "ipython3",
   "version": "3.9.16"
  },
  "orig_nbformat": 4,
  "vscode": {
   "interpreter": {
    "hash": "7e341ab7778497f9d9ee1e825e0472870fe97556fd25583590c5303e68cf6db9"
   }
  }
 },
 "nbformat": 4,
 "nbformat_minor": 2
}
