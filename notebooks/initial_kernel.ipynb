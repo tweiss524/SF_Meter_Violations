{
 "cells": [
  {
   "attachments": {},
   "cell_type": "markdown",
   "metadata": {},
   "source": [
    "## Imports / Helper Functions / Global Variables"
   ]
  },
  {
   "cell_type": "code",
   "execution_count": 123,
   "metadata": {},
   "outputs": [],
   "source": [
    "# force geopandas to use shapely instead of pygeos\n",
    "import os\n",
    "os.environ['USE_PYGEOS'] = '0'\n",
    "\n",
    "import numpy as np\n",
    "import pandas as pd\n",
    "import plotly.express as px\n",
    "from shapely import wkt\n",
    "from shapely.geometry import Point\n",
    "import geopandas as gpd\n",
    "import matplotlib.pyplot as plt\n",
    "from pyproj import Transformer\n",
    "from typing import List\n",
    "from collections import Counter\n",
    "import seaborn as sns\n",
    "from tqdm import tqdm"
   ]
  },
  {
   "cell_type": "code",
   "execution_count": 181,
   "metadata": {},
   "outputs": [
    {
     "data": {
      "text/plain": [
       "'2.0.1'"
      ]
     },
     "execution_count": 181,
     "metadata": {},
     "output_type": "execute_result"
    }
   ],
   "source": [
    "import shapely\n",
    "\n",
    "shapely.__version__"
   ]
  },
  {
   "cell_type": "code",
   "execution_count": 2,
   "metadata": {},
   "outputs": [],
   "source": [
    "# shorthand for datetime column\n",
    "\n",
    "DATE_COL = 'Citation Issued DateTime'"
   ]
  },
  {
   "cell_type": "code",
   "execution_count": 25,
   "metadata": {},
   "outputs": [],
   "source": [
    "# datetime manipulation helper functions\n",
    "\n",
    "def filter_by_date_range(df: pd.DataFrame, column_name: str, start_string: str, end_string: str):\n",
    "    return df[(df[column_name] >= pd.Timestamp(start_string)) & (df[column_name] <= pd.Timestamp(end_string))]"
   ]
  },
  {
   "cell_type": "code",
   "execution_count": 3,
   "metadata": {},
   "outputs": [
    {
     "data": {
      "image/svg+xml": "<svg xmlns=\"http://www.w3.org/2000/svg\" xmlns:xlink=\"http://www.w3.org/1999/xlink\" width=\"100.0\" height=\"100.0\" viewBox=\"-123.46164710599999 36.77421091000008 2.0 2.0\" preserveAspectRatio=\"xMinYMin meet\"><g transform=\"matrix(1,0,0,-1,0,75.54842182000016)\"><circle cx=\"-122.46164710599999\" cy=\"37.77421091000008\" r=\"0.06\" stroke=\"#555555\" stroke-width=\"0.02\" fill=\"#66cc99\" opacity=\"0.6\" /></g></svg>",
      "text/plain": [
       "<POINT (-122.462 37.774)>"
      ]
     },
     "execution_count": 3,
     "metadata": {},
     "output_type": "execute_result"
    }
   ],
   "source": [
    "# helper functions for loading in US Census Bureau Geocoding data. This helps correct for ~10k observations with incorrect geolocation.\n",
    "\n",
    "# 1ST -> 01ST, 2ND -> 02ND, etc., to be compatible\n",
    "def inv_correct_numbered_streets(string):\n",
    "    for i in range(1, 10):\n",
    "        string = string.replace(f'{i}TH', f'0{i}TH')\n",
    "    # 1st, 2nd and 3rd are special cases\n",
    "    string = string.replace('1ST', '01ST')\n",
    "    string = string.replace('2ND', '02ND')\n",
    "    string = string.replace('3RD', '03RD')\n",
    "    return string\n",
    "\n",
    "def coord_string_to_point(coord_string):\n",
    "    x, y = [float(string) for string in coord_string.split(',')]\n",
    "    return Point(x, y)\n",
    "\n",
    "coord_string_to_point(\"-122.46164710599999,37.77421091000008\")"
   ]
  },
  {
   "cell_type": "code",
   "execution_count": null,
   "metadata": {},
   "outputs": [],
   "source": [
    "# TODO: correct all \"lock Of\" addresses.\n",
    "\n",
    "# feat_df[feat_df.street_id.str.contains('lock Of')]"
   ]
  },
  {
   "cell_type": "code",
   "execution_count": 5,
   "metadata": {},
   "outputs": [],
   "source": [
    "def load_geocoder_data(csv_path='../data/chinook_ct_correct.csv'):\n",
    "    geo = pd.read_csv(csv_path, header=None)\n",
    "    geo = geo[geo[2] == 'Match']\n",
    "    geo[1] = geo[1].str.replace(', SAN FRANCISCO, CA,', '').apply(lambda x: x.strip())\n",
    "    geo = geo[[1, 5]]\n",
    "    geo.columns = ['street', 'geom']\n",
    "    geo.street = geo.street.apply(inv_correct_numbered_streets)\n",
    "    geo.geom = geo.geom.apply(coord_string_to_point)\n",
    "    return geo"
   ]
  },
  {
   "attachments": {},
   "cell_type": "markdown",
   "metadata": {},
   "source": [
    "## Load Data and Fix Incorrect Data"
   ]
  },
  {
   "cell_type": "code",
   "execution_count": 7,
   "metadata": {},
   "outputs": [
    {
     "data": {
      "text/html": [
       "<div>\n",
       "<style scoped>\n",
       "    .dataframe tbody tr th:only-of-type {\n",
       "        vertical-align: middle;\n",
       "    }\n",
       "\n",
       "    .dataframe tbody tr th {\n",
       "        vertical-align: top;\n",
       "    }\n",
       "\n",
       "    .dataframe thead th {\n",
       "        text-align: right;\n",
       "    }\n",
       "</style>\n",
       "<table border=\"1\" class=\"dataframe\">\n",
       "  <thead>\n",
       "    <tr style=\"text-align: right;\">\n",
       "      <th></th>\n",
       "      <th>street</th>\n",
       "      <th>geom</th>\n",
       "    </tr>\n",
       "  </thead>\n",
       "  <tbody>\n",
       "    <tr>\n",
       "      <th>0</th>\n",
       "      <td>785 04TH AVE</td>\n",
       "      <td>POINT (-122.46164710599999 37.77421091000008)</td>\n",
       "    </tr>\n",
       "    <tr>\n",
       "      <th>1</th>\n",
       "      <td>756 08TH AVE</td>\n",
       "      <td>POINT (-122.46593421399996 37.77422294300004)</td>\n",
       "    </tr>\n",
       "    <tr>\n",
       "      <th>2</th>\n",
       "      <td>277 05TH AVE</td>\n",
       "      <td>POINT (-122.46339279499995 37.783491569000034)</td>\n",
       "    </tr>\n",
       "    <tr>\n",
       "      <th>3</th>\n",
       "      <td>404 08TH AVE</td>\n",
       "      <td>POINT (-122.46639889099998 37.78064289800005)</td>\n",
       "    </tr>\n",
       "    <tr>\n",
       "      <th>4</th>\n",
       "      <td>398 05TH ST</td>\n",
       "      <td>POINT (-122.40188964199996 37.77906450900008)</td>\n",
       "    </tr>\n",
       "  </tbody>\n",
       "</table>\n",
       "</div>"
      ],
      "text/plain": [
       "         street                                            geom\n",
       "0  785 04TH AVE   POINT (-122.46164710599999 37.77421091000008)\n",
       "1  756 08TH AVE   POINT (-122.46593421399996 37.77422294300004)\n",
       "2  277 05TH AVE  POINT (-122.46339279499995 37.783491569000034)\n",
       "3  404 08TH AVE   POINT (-122.46639889099998 37.78064289800005)\n",
       "4   398 05TH ST   POINT (-122.40188964199996 37.77906450900008)"
      ]
     },
     "execution_count": 7,
     "metadata": {},
     "output_type": "execute_result"
    }
   ],
   "source": [
    "geo_df = load_geocoder_data()\n",
    "geo_df.head()"
   ]
  },
  {
   "cell_type": "code",
   "execution_count": 13,
   "metadata": {},
   "outputs": [],
   "source": [
    "# create dictionary from pandas dataframe. \n",
    "\n",
    "geo_dict = pd.Series(geo_df.geom.values,index=geo_df.street).to_dict()"
   ]
  },
  {
   "cell_type": "code",
   "execution_count": 10,
   "metadata": {},
   "outputs": [
    {
     "data": {
      "text/plain": [
       "(2500, 2)"
      ]
     },
     "execution_count": 10,
     "metadata": {},
     "output_type": "execute_result"
    }
   ],
   "source": [
    "geo_df.shape"
   ]
  },
  {
   "cell_type": "code",
   "execution_count": 19,
   "metadata": {},
   "outputs": [
    {
     "data": {
      "text/html": [
       "<div>\n",
       "<style scoped>\n",
       "    .dataframe tbody tr th:only-of-type {\n",
       "        vertical-align: middle;\n",
       "    }\n",
       "\n",
       "    .dataframe tbody tr th {\n",
       "        vertical-align: top;\n",
       "    }\n",
       "\n",
       "    .dataframe thead th {\n",
       "        text-align: right;\n",
       "    }\n",
       "</style>\n",
       "<table border=\"1\" class=\"dataframe\">\n",
       "  <thead>\n",
       "    <tr style=\"text-align: right;\">\n",
       "      <th></th>\n",
       "      <th>Citation Number</th>\n",
       "      <th>Citation Issued DateTime</th>\n",
       "      <th>Violation</th>\n",
       "      <th>Violation Description</th>\n",
       "      <th>Citation Location</th>\n",
       "      <th>Vehicle Plate State</th>\n",
       "      <th>Vehicle Plate</th>\n",
       "      <th>Fine Amount</th>\n",
       "      <th>Date Added</th>\n",
       "      <th>geom</th>\n",
       "    </tr>\n",
       "  </thead>\n",
       "  <tbody>\n",
       "    <tr>\n",
       "      <th>0</th>\n",
       "      <td>950226616</td>\n",
       "      <td>04/20/2022 12:10:00 PM</td>\n",
       "      <td>TRC7.2.22</td>\n",
       "      <td>STR CLEAN</td>\n",
       "      <td>1318 FILBERT ST</td>\n",
       "      <td>CA</td>\n",
       "      <td>V507699</td>\n",
       "      <td>84.0</td>\n",
       "      <td>05/01/2022 12:00:00 AM</td>\n",
       "      <td>POINT (-122.42119800399996 37.800016984000024)</td>\n",
       "    </tr>\n",
       "    <tr>\n",
       "      <th>1</th>\n",
       "      <td>952126114</td>\n",
       "      <td>06/17/2022 04:12:00 PM</td>\n",
       "      <td>TRC7.2.20</td>\n",
       "      <td>RES/OT</td>\n",
       "      <td>1318 FILBERT ST</td>\n",
       "      <td>CA</td>\n",
       "      <td>BV44D97</td>\n",
       "      <td>96.0</td>\n",
       "      <td>07/17/2022 12:00:00 AM</td>\n",
       "      <td>POINT (-122.42119800399996 37.800016984000024)</td>\n",
       "    </tr>\n",
       "    <tr>\n",
       "      <th>2</th>\n",
       "      <td>950441903</td>\n",
       "      <td>04/23/2022 03:13:00 PM</td>\n",
       "      <td>V5200</td>\n",
       "      <td>NO PLATES</td>\n",
       "      <td>1318 FILBERT ST</td>\n",
       "      <td>CA</td>\n",
       "      <td>V507699</td>\n",
       "      <td>121.0</td>\n",
       "      <td>05/18/2022 12:00:00 AM</td>\n",
       "      <td>POINT (-122.42119800399996 37.800016984000024)</td>\n",
       "    </tr>\n",
       "    <tr>\n",
       "      <th>3</th>\n",
       "      <td>948460144</td>\n",
       "      <td>02/22/2022 11:54:00 AM</td>\n",
       "      <td>TRC7.2.20</td>\n",
       "      <td>RES/OT</td>\n",
       "      <td>1318 FILBERT ST</td>\n",
       "      <td>TX</td>\n",
       "      <td>HVT6737</td>\n",
       "      <td>96.0</td>\n",
       "      <td>05/23/2022 12:00:00 AM</td>\n",
       "      <td>POINT (-122.42119800399996 37.800016984000024)</td>\n",
       "    </tr>\n",
       "    <tr>\n",
       "      <th>4</th>\n",
       "      <td>948169644</td>\n",
       "      <td>02/17/2022 01:39:00 PM</td>\n",
       "      <td>TRC7.2.20</td>\n",
       "      <td>RES/OT</td>\n",
       "      <td>1318 FILBERT ST</td>\n",
       "      <td>OH</td>\n",
       "      <td>HQA6554</td>\n",
       "      <td>96.0</td>\n",
       "      <td>04/03/2022 12:00:00 AM</td>\n",
       "      <td>POINT (-122.42119800399996 37.800016984000024)</td>\n",
       "    </tr>\n",
       "  </tbody>\n",
       "</table>\n",
       "</div>"
      ],
      "text/plain": [
       "  Citation Number Citation Issued DateTime  Violation Violation Description  \\\n",
       "0       950226616   04/20/2022 12:10:00 PM  TRC7.2.22             STR CLEAN   \n",
       "1       952126114   06/17/2022 04:12:00 PM  TRC7.2.20                RES/OT   \n",
       "2       950441903   04/23/2022 03:13:00 PM      V5200             NO PLATES   \n",
       "3       948460144   02/22/2022 11:54:00 AM  TRC7.2.20                RES/OT   \n",
       "4       948169644   02/17/2022 01:39:00 PM  TRC7.2.20                RES/OT   \n",
       "\n",
       "  Citation Location Vehicle Plate State Vehicle Plate  Fine Amount  \\\n",
       "0   1318 FILBERT ST                  CA       V507699         84.0   \n",
       "1   1318 FILBERT ST                  CA       BV44D97         96.0   \n",
       "2   1318 FILBERT ST                  CA       V507699        121.0   \n",
       "3   1318 FILBERT ST                  TX       HVT6737         96.0   \n",
       "4   1318 FILBERT ST                  OH       HQA6554         96.0   \n",
       "\n",
       "               Date Added                                            geom  \n",
       "0  05/01/2022 12:00:00 AM  POINT (-122.42119800399996 37.800016984000024)  \n",
       "1  07/17/2022 12:00:00 AM  POINT (-122.42119800399996 37.800016984000024)  \n",
       "2  05/18/2022 12:00:00 AM  POINT (-122.42119800399996 37.800016984000024)  \n",
       "3  05/23/2022 12:00:00 AM  POINT (-122.42119800399996 37.800016984000024)  \n",
       "4  04/03/2022 12:00:00 AM  POINT (-122.42119800399996 37.800016984000024)  "
      ]
     },
     "execution_count": 19,
     "metadata": {},
     "output_type": "execute_result"
    }
   ],
   "source": [
    "df = pd.read_csv(\"../data/data_2022_with_geom.csv\")\n",
    "df.head()"
   ]
  },
  {
   "cell_type": "code",
   "execution_count": 20,
   "metadata": {},
   "outputs": [],
   "source": [
    "df['geom'] = df.geom.apply(wkt.loads)\n",
    "df = gpd.GeoDataFrame(df, geometry='geom')\n",
    "df.crs = 'EPSG:4326'"
   ]
  },
  {
   "cell_type": "code",
   "execution_count": 21,
   "metadata": {},
   "outputs": [],
   "source": [
    "# TODO: rewrite this using np.where or pandas where \n",
    "# TODO: use a better geocoder to fix more rows.\n",
    "\n",
    "def fix_geom(row):\n",
    "    if row['Citation Location'] in geo_dict:\n",
    "        return geo_dict[row['Citation Location']]\n",
    "    return row['geom']\n",
    "\n",
    "df['geom'] = df.apply(fix_geom, axis=1)"
   ]
  },
  {
   "attachments": {},
   "cell_type": "markdown",
   "metadata": {},
   "source": [
    "## Add / Modify Dataframe Columns"
   ]
  },
  {
   "cell_type": "code",
   "execution_count": 22,
   "metadata": {},
   "outputs": [],
   "source": [
    "df[DATE_COL] = pd.to_datetime(df[DATE_COL])"
   ]
  },
  {
   "cell_type": "code",
   "execution_count": 23,
   "metadata": {},
   "outputs": [],
   "source": [
    "# add auxillary date attribute columns based on the datetime. \n",
    "\n",
    "df['citation_day'] = df[DATE_COL].dt.day_name()\n",
    "df['citation_hour'] = df[DATE_COL].dt.hour\n",
    "df['citation_date'] = df[DATE_COL].dt.date"
   ]
  },
  {
   "cell_type": "code",
   "execution_count": 24,
   "metadata": {},
   "outputs": [],
   "source": [
    "has_location_string = df[~df['Citation Location'].isnull()]"
   ]
  },
  {
   "attachments": {},
   "cell_type": "markdown",
   "metadata": {},
   "source": [
    "## Spatial Join"
   ]
  },
  {
   "cell_type": "code",
   "execution_count": 182,
   "metadata": {},
   "outputs": [],
   "source": [
    "# load dataframe of street segments\n",
    "\n",
    "street_df = pd.read_csv('../data/street_sweeping.csv')\n",
    "street_df = street_df[~street_df.Line.isnull()]\n",
    "street_df.loc[:, 'Line'] = street_df.Line.apply(wkt.loads)\n",
    "street_df = gpd.GeoDataFrame(street_df, geometry='Line')\n",
    "street_df.crs = 'EPSG:4326'"
   ]
  },
  {
   "cell_type": "code",
   "execution_count": 183,
   "metadata": {},
   "outputs": [],
   "source": [
    "# TODO: technically should project into a flat geometry in order to get more accurate distances  \n",
    "\n",
    "unique_streets = street_df.drop_duplicates(subset='Line')\n",
    "unique_streets = unique_streets[['Corridor', 'Limits', 'Line']]\n",
    "\n",
    "# save copy of geom column because it will be destroyed by projection / join.\n",
    "unique_streets['street_geom_3d'] = unique_streets['Line']\n",
    "unique_streets['street_length'] = unique_streets.street_geom_3d.apply(lambda x: x.length)"
   ]
  },
  {
   "cell_type": "code",
   "execution_count": 185,
   "metadata": {},
   "outputs": [],
   "source": [
    "unique_streets.to_csv('../data/unique_streets.csv')"
   ]
  },
  {
   "cell_type": "code",
   "execution_count": 39,
   "metadata": {},
   "outputs": [
    {
     "name": "stderr",
     "output_type": "stream",
     "text": [
      "/Users/bryanwang/opt/miniconda3/envs/stat-222/lib/python3.9/site-packages/geopandas/array.py:344: UserWarning: Geometry is in a geographic CRS. Results from 'sjoin_nearest' are likely incorrect. Use 'GeoSeries.to_crs()' to re-project geometries to a projected CRS before this operation.\n",
      "\n",
      "  warnings.warn(\n"
     ]
    },
    {
     "data": {
      "text/plain": [
       "(1063988, 19)"
      ]
     },
     "execution_count": 39,
     "metadata": {},
     "output_type": "execute_result"
    }
   ],
   "source": [
    "joined = gpd.sjoin_nearest(df, unique_streets, distance_col='dist', how='left')\n",
    "joined.shape"
   ]
  },
  {
   "cell_type": "code",
   "execution_count": null,
   "metadata": {},
   "outputs": [],
   "source": [
    "# TODO: figure out how to resolve points that get mapped to multiple streets. for now, seems like only a small number have this problem so we ignore it.\n",
    "\n",
    "has_multiple_citations = joined['Citation Number'].value_counts()\n",
    "joined = joined[joined['Citation Number'].isin(has_multiple_citations[has_multiple_citations == 1].index)]"
   ]
  },
  {
   "attachments": {},
   "cell_type": "markdown",
   "metadata": {},
   "source": [
    "## Group and Cluster"
   ]
  },
  {
   "cell_type": "code",
   "execution_count": 186,
   "metadata": {},
   "outputs": [
    {
     "data": {
      "text/html": [
       "<div>\n",
       "<style scoped>\n",
       "    .dataframe tbody tr th:only-of-type {\n",
       "        vertical-align: middle;\n",
       "    }\n",
       "\n",
       "    .dataframe tbody tr th {\n",
       "        vertical-align: top;\n",
       "    }\n",
       "\n",
       "    .dataframe thead th {\n",
       "        text-align: right;\n",
       "    }\n",
       "</style>\n",
       "<table border=\"1\" class=\"dataframe\">\n",
       "  <thead>\n",
       "    <tr style=\"text-align: right;\">\n",
       "      <th></th>\n",
       "      <th>Corridor</th>\n",
       "      <th>Limits</th>\n",
       "      <th>Line</th>\n",
       "      <th>street_geom_3d</th>\n",
       "      <th>street_length</th>\n",
       "    </tr>\n",
       "  </thead>\n",
       "  <tbody>\n",
       "    <tr>\n",
       "      <th>0</th>\n",
       "      <td>Mission St</td>\n",
       "      <td>Julia St  -  08th St</td>\n",
       "      <td>LINESTRING (-122.41241 37.77805, -122.41316 37...</td>\n",
       "      <td>LINESTRING (-122.41241 37.77805, -122.41316 37...</td>\n",
       "      <td>0.000949</td>\n",
       "    </tr>\n",
       "    <tr>\n",
       "      <th>1</th>\n",
       "      <td>22nd St</td>\n",
       "      <td>Mission St  -  Bartlett St</td>\n",
       "      <td>LINESTRING (-122.41875 37.75544, -122.41986 37...</td>\n",
       "      <td>LINESTRING (-122.41875 37.75544, -122.41986 37...</td>\n",
       "      <td>0.001113</td>\n",
       "    </tr>\n",
       "    <tr>\n",
       "      <th>2</th>\n",
       "      <td>Congdon St</td>\n",
       "      <td>Maynard St  -  Silver Ave</td>\n",
       "      <td>LINESTRING (-122.42602 37.72940, -122.42596 37...</td>\n",
       "      <td>LINESTRING (-122.42602 37.72940, -122.42596 37...</td>\n",
       "      <td>0.000758</td>\n",
       "    </tr>\n",
       "    <tr>\n",
       "      <th>3</th>\n",
       "      <td>Sparta St</td>\n",
       "      <td>Ankeny St  -  Harkness Ave</td>\n",
       "      <td>LINESTRING (-122.40355 37.71834, -122.40347 37...</td>\n",
       "      <td>LINESTRING (-122.40355 37.71834, -122.40347 37...</td>\n",
       "      <td>0.000872</td>\n",
       "    </tr>\n",
       "    <tr>\n",
       "      <th>4</th>\n",
       "      <td>Van Ness Ave</td>\n",
       "      <td>Golden Gate Ave  -  Turk St</td>\n",
       "      <td>LINESTRING (-122.42044 37.78103, -122.42055 37...</td>\n",
       "      <td>LINESTRING (-122.42044 37.78103, -122.42055 37...</td>\n",
       "      <td>0.001009</td>\n",
       "    </tr>\n",
       "    <tr>\n",
       "      <th>...</th>\n",
       "      <td>...</td>\n",
       "      <td>...</td>\n",
       "      <td>...</td>\n",
       "      <td>...</td>\n",
       "      <td>...</td>\n",
       "    </tr>\n",
       "    <tr>\n",
       "      <th>37676</th>\n",
       "      <td>Lincoln Way</td>\n",
       "      <td>11th Ave  -  12th Ave</td>\n",
       "      <td>LINESTRING (-122.46858 37.76583, -122.46870 37...</td>\n",
       "      <td>LINESTRING (-122.46858 37.76583, -122.46870 37...</td>\n",
       "      <td>0.001089</td>\n",
       "    </tr>\n",
       "    <tr>\n",
       "      <th>37691</th>\n",
       "      <td>Alemany Blvd</td>\n",
       "      <td>Theresa St  -  Cotter St</td>\n",
       "      <td>LINESTRING (-122.43448 37.72873, -122.43448 37...</td>\n",
       "      <td>LINESTRING (-122.43448 37.72873, -122.43448 37...</td>\n",
       "      <td>0.000792</td>\n",
       "    </tr>\n",
       "    <tr>\n",
       "      <th>37761</th>\n",
       "      <td>Noriega St</td>\n",
       "      <td>16th Ave  -  17th Ave</td>\n",
       "      <td>LINESTRING (-122.47326 37.75438, -122.47338 37...</td>\n",
       "      <td>LINESTRING (-122.47326 37.75438, -122.47338 37...</td>\n",
       "      <td>0.001091</td>\n",
       "    </tr>\n",
       "    <tr>\n",
       "      <th>37796</th>\n",
       "      <td>Diamond Heights Blvd</td>\n",
       "      <td>Diamond St  -  Berkeley Way</td>\n",
       "      <td>LINESTRING (-122.43740 37.73829, -122.43747 37...</td>\n",
       "      <td>LINESTRING (-122.43740 37.73829, -122.43747 37...</td>\n",
       "      <td>0.002202</td>\n",
       "    </tr>\n",
       "    <tr>\n",
       "      <th>37809</th>\n",
       "      <td>Alemany Blvd</td>\n",
       "      <td>Tingley St  -  Theresa St</td>\n",
       "      <td>LINESTRING (-122.43397 37.72930, -122.43398 37...</td>\n",
       "      <td>LINESTRING (-122.43397 37.72930, -122.43398 37...</td>\n",
       "      <td>0.000806</td>\n",
       "    </tr>\n",
       "  </tbody>\n",
       "</table>\n",
       "<p>12242 rows × 5 columns</p>\n",
       "</div>"
      ],
      "text/plain": [
       "                   Corridor                       Limits  \\\n",
       "0                Mission St         Julia St  -  08th St   \n",
       "1                   22nd St   Mission St  -  Bartlett St   \n",
       "2                Congdon St    Maynard St  -  Silver Ave   \n",
       "3                 Sparta St   Ankeny St  -  Harkness Ave   \n",
       "4              Van Ness Ave  Golden Gate Ave  -  Turk St   \n",
       "...                     ...                          ...   \n",
       "37676           Lincoln Way        11th Ave  -  12th Ave   \n",
       "37691          Alemany Blvd     Theresa St  -  Cotter St   \n",
       "37761            Noriega St        16th Ave  -  17th Ave   \n",
       "37796  Diamond Heights Blvd  Diamond St  -  Berkeley Way   \n",
       "37809          Alemany Blvd    Tingley St  -  Theresa St   \n",
       "\n",
       "                                                    Line  \\\n",
       "0      LINESTRING (-122.41241 37.77805, -122.41316 37...   \n",
       "1      LINESTRING (-122.41875 37.75544, -122.41986 37...   \n",
       "2      LINESTRING (-122.42602 37.72940, -122.42596 37...   \n",
       "3      LINESTRING (-122.40355 37.71834, -122.40347 37...   \n",
       "4      LINESTRING (-122.42044 37.78103, -122.42055 37...   \n",
       "...                                                  ...   \n",
       "37676  LINESTRING (-122.46858 37.76583, -122.46870 37...   \n",
       "37691  LINESTRING (-122.43448 37.72873, -122.43448 37...   \n",
       "37761  LINESTRING (-122.47326 37.75438, -122.47338 37...   \n",
       "37796  LINESTRING (-122.43740 37.73829, -122.43747 37...   \n",
       "37809  LINESTRING (-122.43397 37.72930, -122.43398 37...   \n",
       "\n",
       "                                          street_geom_3d  street_length  \n",
       "0      LINESTRING (-122.41241 37.77805, -122.41316 37...       0.000949  \n",
       "1      LINESTRING (-122.41875 37.75544, -122.41986 37...       0.001113  \n",
       "2      LINESTRING (-122.42602 37.72940, -122.42596 37...       0.000758  \n",
       "3      LINESTRING (-122.40355 37.71834, -122.40347 37...       0.000872  \n",
       "4      LINESTRING (-122.42044 37.78103, -122.42055 37...       0.001009  \n",
       "...                                                  ...            ...  \n",
       "37676  LINESTRING (-122.46858 37.76583, -122.46870 37...       0.001089  \n",
       "37691  LINESTRING (-122.43448 37.72873, -122.43448 37...       0.000792  \n",
       "37761  LINESTRING (-122.47326 37.75438, -122.47338 37...       0.001091  \n",
       "37796  LINESTRING (-122.43740 37.73829, -122.43747 37...       0.002202  \n",
       "37809  LINESTRING (-122.43397 37.72930, -122.43398 37...       0.000806  \n",
       "\n",
       "[12242 rows x 5 columns]"
      ]
     },
     "execution_count": 186,
     "metadata": {},
     "output_type": "execute_result"
    }
   ],
   "source": [
    "unique_streets"
   ]
  },
  {
   "cell_type": "code",
   "execution_count": 44,
   "metadata": {},
   "outputs": [],
   "source": [
    "joined['street_id'] = joined['Corridor'] + ' ' + joined['Limits']"
   ]
  },
  {
   "cell_type": "code",
   "execution_count": 50,
   "metadata": {},
   "outputs": [],
   "source": [
    "feat_df = joined[['citation_date', 'street_id', DATE_COL, 'Citation Location', 'geom', 'citation_day', 'citation_hour', 'street_geom_3d']]"
   ]
  },
  {
   "cell_type": "code",
   "execution_count": 189,
   "metadata": {},
   "outputs": [],
   "source": [
    "unique_streets[['X1', 'Y1']] = unique_streets['Line'].apply(lambda x: pd.Series([x.coords[0][0], x.coords[0][1]]))\n",
    "unique_streets[['X2', 'Y2']] = unique_streets['Line'].apply(lambda x: pd.Series([x.coords[1][0], x.coords[1][1]]))\n",
    "\n",
    "unique_streets['Endpoint1'] = unique_streets['X1'].astype(str) + \" \" + unique_streets['Y1'].astype(str)\n",
    "unique_streets['Endpoint2'] = unique_streets['X2'].astype(str) + \" \" + unique_streets['Y2'].astype(str)"
   ]
  },
  {
   "cell_type": "code",
   "execution_count": 191,
   "metadata": {},
   "outputs": [],
   "source": [
    "unique_streets['segment_id'] = unique_streets['Corridor'] + ' ' + unique_streets['Limits']"
   ]
  },
  {
   "cell_type": "code",
   "execution_count": 192,
   "metadata": {},
   "outputs": [
    {
     "data": {
      "text/html": [
       "<div>\n",
       "<style scoped>\n",
       "    .dataframe tbody tr th:only-of-type {\n",
       "        vertical-align: middle;\n",
       "    }\n",
       "\n",
       "    .dataframe tbody tr th {\n",
       "        vertical-align: top;\n",
       "    }\n",
       "\n",
       "    .dataframe thead th {\n",
       "        text-align: right;\n",
       "    }\n",
       "</style>\n",
       "<table border=\"1\" class=\"dataframe\">\n",
       "  <thead>\n",
       "    <tr style=\"text-align: right;\">\n",
       "      <th></th>\n",
       "      <th>Corridor</th>\n",
       "      <th>Limits</th>\n",
       "      <th>Line</th>\n",
       "      <th>street_geom_3d</th>\n",
       "      <th>street_length</th>\n",
       "      <th>X1</th>\n",
       "      <th>Y1</th>\n",
       "      <th>X2</th>\n",
       "      <th>Y2</th>\n",
       "      <th>Endpoint1</th>\n",
       "      <th>Endpoint2</th>\n",
       "      <th>segment_id</th>\n",
       "    </tr>\n",
       "  </thead>\n",
       "  <tbody>\n",
       "    <tr>\n",
       "      <th>0</th>\n",
       "      <td>Mission St</td>\n",
       "      <td>Julia St  -  08th St</td>\n",
       "      <td>LINESTRING (-122.41241 37.77805, -122.41316 37...</td>\n",
       "      <td>LINESTRING (-122.41241 37.77805, -122.41316 37...</td>\n",
       "      <td>0.000949</td>\n",
       "      <td>-122.412413</td>\n",
       "      <td>37.778045</td>\n",
       "      <td>-122.413158</td>\n",
       "      <td>37.777457</td>\n",
       "      <td>-122.412413343787 37.778045328617</td>\n",
       "      <td>-122.413157691449 37.777457419935</td>\n",
       "      <td>Mission St Julia St  -  08th St</td>\n",
       "    </tr>\n",
       "    <tr>\n",
       "      <th>1</th>\n",
       "      <td>22nd St</td>\n",
       "      <td>Mission St  -  Bartlett St</td>\n",
       "      <td>LINESTRING (-122.41875 37.75544, -122.41986 37...</td>\n",
       "      <td>LINESTRING (-122.41875 37.75544, -122.41986 37...</td>\n",
       "      <td>0.001113</td>\n",
       "      <td>-122.418748</td>\n",
       "      <td>37.755437</td>\n",
       "      <td>-122.419858</td>\n",
       "      <td>37.755366</td>\n",
       "      <td>-122.418747573844 37.75543693624</td>\n",
       "      <td>-122.419857942892 37.755365729245</td>\n",
       "      <td>22nd St Mission St  -  Bartlett St</td>\n",
       "    </tr>\n",
       "    <tr>\n",
       "      <th>2</th>\n",
       "      <td>Congdon St</td>\n",
       "      <td>Maynard St  -  Silver Ave</td>\n",
       "      <td>LINESTRING (-122.42602 37.72940, -122.42596 37...</td>\n",
       "      <td>LINESTRING (-122.42602 37.72940, -122.42596 37...</td>\n",
       "      <td>0.000758</td>\n",
       "      <td>-122.426025</td>\n",
       "      <td>37.729397</td>\n",
       "      <td>-122.425964</td>\n",
       "      <td>37.728641</td>\n",
       "      <td>-122.42602470434 37.72939698234</td>\n",
       "      <td>-122.42596370352 37.72864102171</td>\n",
       "      <td>Congdon St Maynard St  -  Silver Ave</td>\n",
       "    </tr>\n",
       "    <tr>\n",
       "      <th>3</th>\n",
       "      <td>Sparta St</td>\n",
       "      <td>Ankeny St  -  Harkness Ave</td>\n",
       "      <td>LINESTRING (-122.40355 37.71834, -122.40347 37...</td>\n",
       "      <td>LINESTRING (-122.40355 37.71834, -122.40347 37...</td>\n",
       "      <td>0.000872</td>\n",
       "      <td>-122.403555</td>\n",
       "      <td>37.718337</td>\n",
       "      <td>-122.403470</td>\n",
       "      <td>37.718197</td>\n",
       "      <td>-122.403554923986 37.718336652479</td>\n",
       "      <td>-122.403470376794 37.718196907433</td>\n",
       "      <td>Sparta St Ankeny St  -  Harkness Ave</td>\n",
       "    </tr>\n",
       "    <tr>\n",
       "      <th>4</th>\n",
       "      <td>Van Ness Ave</td>\n",
       "      <td>Golden Gate Ave  -  Turk St</td>\n",
       "      <td>LINESTRING (-122.42044 37.78103, -122.42055 37...</td>\n",
       "      <td>LINESTRING (-122.42044 37.78103, -122.42055 37...</td>\n",
       "      <td>0.001009</td>\n",
       "      <td>-122.420440</td>\n",
       "      <td>37.781031</td>\n",
       "      <td>-122.420552</td>\n",
       "      <td>37.781126</td>\n",
       "      <td>-122.420439517797 37.781030842108</td>\n",
       "      <td>-122.420552025357 37.781125672257</td>\n",
       "      <td>Van Ness Ave Golden Gate Ave  -  Turk St</td>\n",
       "    </tr>\n",
       "    <tr>\n",
       "      <th>...</th>\n",
       "      <td>...</td>\n",
       "      <td>...</td>\n",
       "      <td>...</td>\n",
       "      <td>...</td>\n",
       "      <td>...</td>\n",
       "      <td>...</td>\n",
       "      <td>...</td>\n",
       "      <td>...</td>\n",
       "      <td>...</td>\n",
       "      <td>...</td>\n",
       "      <td>...</td>\n",
       "      <td>...</td>\n",
       "    </tr>\n",
       "    <tr>\n",
       "      <th>37676</th>\n",
       "      <td>Lincoln Way</td>\n",
       "      <td>11th Ave  -  12th Ave</td>\n",
       "      <td>LINESTRING (-122.46858 37.76583, -122.46870 37...</td>\n",
       "      <td>LINESTRING (-122.46858 37.76583, -122.46870 37...</td>\n",
       "      <td>0.001089</td>\n",
       "      <td>-122.468583</td>\n",
       "      <td>37.765830</td>\n",
       "      <td>-122.468704</td>\n",
       "      <td>37.765778</td>\n",
       "      <td>-122.468582998602 37.765830028099</td>\n",
       "      <td>-122.468704484779 37.765777895744</td>\n",
       "      <td>Lincoln Way 11th Ave  -  12th Ave</td>\n",
       "    </tr>\n",
       "    <tr>\n",
       "      <th>37691</th>\n",
       "      <td>Alemany Blvd</td>\n",
       "      <td>Theresa St  -  Cotter St</td>\n",
       "      <td>LINESTRING (-122.43448 37.72873, -122.43448 37...</td>\n",
       "      <td>LINESTRING (-122.43448 37.72873, -122.43448 37...</td>\n",
       "      <td>0.000792</td>\n",
       "      <td>-122.434479</td>\n",
       "      <td>37.728732</td>\n",
       "      <td>-122.434479</td>\n",
       "      <td>37.728633</td>\n",
       "      <td>-122.434478649123 37.728731782781</td>\n",
       "      <td>-122.434478621488 37.728633080917</td>\n",
       "      <td>Alemany Blvd Theresa St  -  Cotter St</td>\n",
       "    </tr>\n",
       "    <tr>\n",
       "      <th>37761</th>\n",
       "      <td>Noriega St</td>\n",
       "      <td>16th Ave  -  17th Ave</td>\n",
       "      <td>LINESTRING (-122.47326 37.75438, -122.47338 37...</td>\n",
       "      <td>LINESTRING (-122.47326 37.75438, -122.47338 37...</td>\n",
       "      <td>0.001091</td>\n",
       "      <td>-122.473262</td>\n",
       "      <td>37.754381</td>\n",
       "      <td>-122.473380</td>\n",
       "      <td>37.754328</td>\n",
       "      <td>-122.473262412374 37.754381155281</td>\n",
       "      <td>-122.47337999393 37.754328378385</td>\n",
       "      <td>Noriega St 16th Ave  -  17th Ave</td>\n",
       "    </tr>\n",
       "    <tr>\n",
       "      <th>37796</th>\n",
       "      <td>Diamond Heights Blvd</td>\n",
       "      <td>Diamond St  -  Berkeley Way</td>\n",
       "      <td>LINESTRING (-122.43740 37.73829, -122.43747 37...</td>\n",
       "      <td>LINESTRING (-122.43740 37.73829, -122.43747 37...</td>\n",
       "      <td>0.002202</td>\n",
       "      <td>-122.437398</td>\n",
       "      <td>37.738288</td>\n",
       "      <td>-122.437470</td>\n",
       "      <td>37.738266</td>\n",
       "      <td>-122.43739820428 37.738287969238</td>\n",
       "      <td>-122.437470081626 37.738265757979</td>\n",
       "      <td>Diamond Heights Blvd Diamond St  -  Berkeley Way</td>\n",
       "    </tr>\n",
       "    <tr>\n",
       "      <th>37809</th>\n",
       "      <td>Alemany Blvd</td>\n",
       "      <td>Tingley St  -  Theresa St</td>\n",
       "      <td>LINESTRING (-122.43397 37.72930, -122.43398 37...</td>\n",
       "      <td>LINESTRING (-122.43397 37.72930, -122.43398 37...</td>\n",
       "      <td>0.000806</td>\n",
       "      <td>-122.433974</td>\n",
       "      <td>37.729303</td>\n",
       "      <td>-122.433976</td>\n",
       "      <td>37.729205</td>\n",
       "      <td>-122.433974473763 37.729303493537</td>\n",
       "      <td>-122.433976174557 37.729204703545</td>\n",
       "      <td>Alemany Blvd Tingley St  -  Theresa St</td>\n",
       "    </tr>\n",
       "  </tbody>\n",
       "</table>\n",
       "<p>12242 rows × 12 columns</p>\n",
       "</div>"
      ],
      "text/plain": [
       "                   Corridor                       Limits  \\\n",
       "0                Mission St         Julia St  -  08th St   \n",
       "1                   22nd St   Mission St  -  Bartlett St   \n",
       "2                Congdon St    Maynard St  -  Silver Ave   \n",
       "3                 Sparta St   Ankeny St  -  Harkness Ave   \n",
       "4              Van Ness Ave  Golden Gate Ave  -  Turk St   \n",
       "...                     ...                          ...   \n",
       "37676           Lincoln Way        11th Ave  -  12th Ave   \n",
       "37691          Alemany Blvd     Theresa St  -  Cotter St   \n",
       "37761            Noriega St        16th Ave  -  17th Ave   \n",
       "37796  Diamond Heights Blvd  Diamond St  -  Berkeley Way   \n",
       "37809          Alemany Blvd    Tingley St  -  Theresa St   \n",
       "\n",
       "                                                    Line  \\\n",
       "0      LINESTRING (-122.41241 37.77805, -122.41316 37...   \n",
       "1      LINESTRING (-122.41875 37.75544, -122.41986 37...   \n",
       "2      LINESTRING (-122.42602 37.72940, -122.42596 37...   \n",
       "3      LINESTRING (-122.40355 37.71834, -122.40347 37...   \n",
       "4      LINESTRING (-122.42044 37.78103, -122.42055 37...   \n",
       "...                                                  ...   \n",
       "37676  LINESTRING (-122.46858 37.76583, -122.46870 37...   \n",
       "37691  LINESTRING (-122.43448 37.72873, -122.43448 37...   \n",
       "37761  LINESTRING (-122.47326 37.75438, -122.47338 37...   \n",
       "37796  LINESTRING (-122.43740 37.73829, -122.43747 37...   \n",
       "37809  LINESTRING (-122.43397 37.72930, -122.43398 37...   \n",
       "\n",
       "                                          street_geom_3d  street_length  \\\n",
       "0      LINESTRING (-122.41241 37.77805, -122.41316 37...       0.000949   \n",
       "1      LINESTRING (-122.41875 37.75544, -122.41986 37...       0.001113   \n",
       "2      LINESTRING (-122.42602 37.72940, -122.42596 37...       0.000758   \n",
       "3      LINESTRING (-122.40355 37.71834, -122.40347 37...       0.000872   \n",
       "4      LINESTRING (-122.42044 37.78103, -122.42055 37...       0.001009   \n",
       "...                                                  ...            ...   \n",
       "37676  LINESTRING (-122.46858 37.76583, -122.46870 37...       0.001089   \n",
       "37691  LINESTRING (-122.43448 37.72873, -122.43448 37...       0.000792   \n",
       "37761  LINESTRING (-122.47326 37.75438, -122.47338 37...       0.001091   \n",
       "37796  LINESTRING (-122.43740 37.73829, -122.43747 37...       0.002202   \n",
       "37809  LINESTRING (-122.43397 37.72930, -122.43398 37...       0.000806   \n",
       "\n",
       "               X1         Y1          X2         Y2  \\\n",
       "0     -122.412413  37.778045 -122.413158  37.777457   \n",
       "1     -122.418748  37.755437 -122.419858  37.755366   \n",
       "2     -122.426025  37.729397 -122.425964  37.728641   \n",
       "3     -122.403555  37.718337 -122.403470  37.718197   \n",
       "4     -122.420440  37.781031 -122.420552  37.781126   \n",
       "...           ...        ...         ...        ...   \n",
       "37676 -122.468583  37.765830 -122.468704  37.765778   \n",
       "37691 -122.434479  37.728732 -122.434479  37.728633   \n",
       "37761 -122.473262  37.754381 -122.473380  37.754328   \n",
       "37796 -122.437398  37.738288 -122.437470  37.738266   \n",
       "37809 -122.433974  37.729303 -122.433976  37.729205   \n",
       "\n",
       "                               Endpoint1                          Endpoint2  \\\n",
       "0      -122.412413343787 37.778045328617  -122.413157691449 37.777457419935   \n",
       "1       -122.418747573844 37.75543693624  -122.419857942892 37.755365729245   \n",
       "2        -122.42602470434 37.72939698234    -122.42596370352 37.72864102171   \n",
       "3      -122.403554923986 37.718336652479  -122.403470376794 37.718196907433   \n",
       "4      -122.420439517797 37.781030842108  -122.420552025357 37.781125672257   \n",
       "...                                  ...                                ...   \n",
       "37676  -122.468582998602 37.765830028099  -122.468704484779 37.765777895744   \n",
       "37691  -122.434478649123 37.728731782781  -122.434478621488 37.728633080917   \n",
       "37761  -122.473262412374 37.754381155281   -122.47337999393 37.754328378385   \n",
       "37796   -122.43739820428 37.738287969238  -122.437470081626 37.738265757979   \n",
       "37809  -122.433974473763 37.729303493537  -122.433976174557 37.729204703545   \n",
       "\n",
       "                                             segment_id  \n",
       "0                       Mission St Julia St  -  08th St  \n",
       "1                    22nd St Mission St  -  Bartlett St  \n",
       "2                  Congdon St Maynard St  -  Silver Ave  \n",
       "3                  Sparta St Ankeny St  -  Harkness Ave  \n",
       "4              Van Ness Ave Golden Gate Ave  -  Turk St  \n",
       "...                                                 ...  \n",
       "37676                 Lincoln Way 11th Ave  -  12th Ave  \n",
       "37691             Alemany Blvd Theresa St  -  Cotter St  \n",
       "37761                  Noriega St 16th Ave  -  17th Ave  \n",
       "37796  Diamond Heights Blvd Diamond St  -  Berkeley Way  \n",
       "37809            Alemany Blvd Tingley St  -  Theresa St  \n",
       "\n",
       "[12242 rows x 12 columns]"
      ]
     },
     "execution_count": 192,
     "metadata": {},
     "output_type": "execute_result"
    }
   ],
   "source": [
    "unique_streets"
   ]
  },
  {
   "cell_type": "code",
   "execution_count": 195,
   "metadata": {},
   "outputs": [
    {
     "data": {
      "text/plain": [
       "array(['22nd St Bartlett St  -  Valencia St',\n",
       "       '22nd St Capp St  -  Mission St',\n",
       "       'Bartlett St 21st St  -  22nd St',\n",
       "       'Bartlett St 22nd St  -  23rd St',\n",
       "       'Mission St 21st St  -  22nd St', 'Mission St 22nd St  -  23rd St'],\n",
       "      dtype=object)"
      ]
     },
     "execution_count": 195,
     "metadata": {},
     "output_type": "execute_result"
    }
   ],
   "source": [
    "def get_intersect_st(df, segment_id):\n",
    "    # getting endpoints of initial condition\n",
    "    Endpoint1 = df[df['segment_id'] == segment_id]['Endpoint1'].iloc[0]\n",
    "    Endpoint2 = df[df['segment_id'] == segment_id]['Endpoint2'].iloc[0]\n",
    "\n",
    "    # now we need to get the segment_id's of streets that share the same endpoints\n",
    "    unique_segments1 = df[(df['Endpoint1'] == Endpoint1) | (df['Endpoint1'] == Endpoint2)]['segment_id'].unique()\n",
    "    unique_segments2 = df[(df['Endpoint2'] == Endpoint1) | (df['Endpoint2'] == Endpoint2)]['segment_id'].unique()\n",
    "\n",
    "    # now return a concatonated list of segments into one vector\n",
    "    unique_segments = np.unique(np.concatenate((unique_segments1, unique_segments2)))\n",
    "\n",
    "    # Remove current segment from intersection\n",
    "    unique_segments = unique_segments[unique_segments != segment_id]\n",
    "\n",
    "    return(unique_segments)\n",
    "\n",
    "get_intersect_st(unique_streets, '22nd St Mission St  -  Bartlett St')"
   ]
  },
  {
   "cell_type": "code",
   "execution_count": 197,
   "metadata": {},
   "outputs": [],
   "source": [
    "unique_streets['adjacent_streets'] = unique_streets['segment_id'].apply(lambda segment_id: get_intersect_st(unique_streets, segment_id))"
   ]
  },
  {
   "cell_type": "code",
   "execution_count": 205,
   "metadata": {},
   "outputs": [],
   "source": [
    "adjacent_dict = pd.Series(unique_streets.adjacent_streets.values,index=unique_streets.segment_id).to_dict()"
   ]
  },
  {
   "cell_type": "code",
   "execution_count": 70,
   "metadata": {},
   "outputs": [],
   "source": [
    "feat_df['time_bin'] = feat_df[DATE_COL].dt.floor(\"15min\").dt.time.astype(str)"
   ]
  },
  {
   "cell_type": "code",
   "execution_count": 239,
   "metadata": {},
   "outputs": [],
   "source": [
    "# group by citation date\n",
    "# for each adjacent street, we get all time bin values for that street on that day (in the group by)\n",
    "# get new row based on current row, but replace time bin + duplicate \n",
    "\n",
    "def flatten(l):\n",
    "    return [item for sublist in l for item in sublist]\n",
    "\n",
    "def augment_group(group):\n",
    "    unique_adjacent_streets = list(set(flatten(group.street_id.apply(lambda street_id: adjacent_dict[street_id]))))\n",
    "    extra_rows = []\n",
    "    for street in unique_adjacent_streets:\n",
    "        adjacent_streets = adjacent_dict[street]\n",
    "        extra = group[group['street_id'].isin(adjacent_streets)]\n",
    "        extra['street_id'] = street\n",
    "        extra_rows.append(extra)\n",
    "    return extra_rows"
   ]
  },
  {
   "cell_type": "code",
   "execution_count": 240,
   "metadata": {},
   "outputs": [
    {
     "name": "stderr",
     "output_type": "stream",
     "text": [
      "  0%|          | 0/391 [00:00<?, ?it/s]/Users/bryanwang/opt/miniconda3/envs/stat-222/lib/python3.9/site-packages/geopandas/geodataframe.py:1443: SettingWithCopyWarning: \n",
      "A value is trying to be set on a copy of a slice from a DataFrame.\n",
      "Try using .loc[row_indexer,col_indexer] = value instead\n",
      "\n",
      "See the caveats in the documentation: https://pandas.pydata.org/pandas-docs/stable/user_guide/indexing.html#returning-a-view-versus-a-copy\n",
      "  super().__setitem__(key, value)\n",
      "100%|██████████| 391/391 [15:30<00:00,  2.38s/it]\n"
     ]
    }
   ],
   "source": [
    "# antipattern \n",
    "aug_list = []\n",
    "\n",
    "for group_name, df_group in tqdm(feat_df.groupby('citation_date')):\n",
    "    aug = augment_group(df_group)\n",
    "    if len(aug) > 0:\n",
    "        aug_list.extend(aug)"
   ]
  },
  {
   "cell_type": "code",
   "execution_count": 243,
   "metadata": {},
   "outputs": [],
   "source": [
    "# antipattern!\n",
    "\n",
    "augs = pd.concat(aug_list)"
   ]
  },
  {
   "cell_type": "code",
   "execution_count": 247,
   "metadata": {},
   "outputs": [
    {
     "data": {
      "text/plain": [
       "(3870003, 9)"
      ]
     },
     "execution_count": 247,
     "metadata": {},
     "output_type": "execute_result"
    }
   ],
   "source": [
    "feat_df = pd.concat([feat_df, augs])\n",
    "feat_df.shape"
   ]
  },
  {
   "cell_type": "code",
   "execution_count": 249,
   "metadata": {},
   "outputs": [],
   "source": [
    "all_bins = sorted(feat_df['time_bin'].unique())"
   ]
  },
  {
   "cell_type": "code",
   "execution_count": 250,
   "metadata": {},
   "outputs": [],
   "source": [
    "# keep each entry for a particular time bin on a particular date + street\n",
    "\n",
    "feat_df = feat_df.drop_duplicates(['citation_date', 'street_id', 'time_bin'])\n",
    "binned_grouped = feat_df.groupby(['street_id', 'citation_day'])['time_bin'].agg(' '.join)"
   ]
  },
  {
   "cell_type": "code",
   "execution_count": 251,
   "metadata": {},
   "outputs": [],
   "source": [
    "def bin_string_to_counter(bin_string):\n",
    "    bin_counter = Counter(all_bins)\n",
    "    bin_counter.update(bin_string.split(' '))\n",
    "    return bin_counter\n",
    "\n",
    "agg_counts = binned_grouped.apply(bin_string_to_counter).groupby(['street_id', 'citation_day']).sum()"
   ]
  },
  {
   "cell_type": "code",
   "execution_count": 252,
   "metadata": {},
   "outputs": [],
   "source": [
    "unique_street_names = agg_counts.index.get_level_values(0).unique()"
   ]
  },
  {
   "cell_type": "code",
   "execution_count": 253,
   "metadata": {},
   "outputs": [],
   "source": [
    "weekdays = ['Monday', 'Tuesday', 'Wednesday', 'Thursday', 'Friday', 'Saturday', 'Sunday']"
   ]
  },
  {
   "cell_type": "code",
   "execution_count": 254,
   "metadata": {},
   "outputs": [
    {
     "name": "stderr",
     "output_type": "stream",
     "text": [
      "100%|██████████| 11440/11440 [00:32<00:00, 353.50it/s]\n"
     ]
    }
   ],
   "source": [
    "df_list = []\n",
    "\n",
    "for name in tqdm(unique_street_names):\n",
    "    t = agg_counts.xs(name, level=0, drop_level=False).reset_index().set_index('citation_day').reindex(weekdays, fill_value=Counter(all_bins))\n",
    "    t.street_id = name\n",
    "    dist_df = pd.concat([t.reset_index(), (pd.DataFrame.from_records(t.time_bin) - 1) / 48], axis=1)\n",
    "    df_list.append(dist_df)"
   ]
  },
  {
   "cell_type": "code",
   "execution_count": 255,
   "metadata": {},
   "outputs": [],
   "source": [
    "all_dists = pd.concat(df_list)"
   ]
  },
  {
   "cell_type": "code",
   "execution_count": 256,
   "metadata": {},
   "outputs": [
    {
     "data": {
      "text/plain": [
       "0.3958333333333333"
      ]
     },
     "execution_count": 256,
     "metadata": {},
     "output_type": "execute_result"
    }
   ],
   "source": [
    "all_dists[all_dists.street_id == '43rd Ave Irving St  -  Judah St'].drop(['citation_day', 'street_id', 'time_bin'], axis=1).max().max()"
   ]
  },
  {
   "cell_type": "code",
   "execution_count": 257,
   "metadata": {},
   "outputs": [
    {
     "data": {
      "image/png": "[encoded data removed]",
      "text/plain": [
       "<Figure size 640x480 with 2 Axes>"
      ]
     },
     "metadata": {},
     "output_type": "display_data"
    }
   ],
   "source": [
    "def plot_dist(all_dists, street_id):\n",
    "    temp_df = all_dists[all_dists.street_id == street_id]\n",
    "    # has all 7 days of the week\n",
    "    assert temp_df.shape[0] == 7\n",
    "    temp_df = temp_df[[col for col in temp_df.columns if col not in ['street_id', 'time_bin']]]\n",
    "    temp_df.set_index('citation_day', inplace=True)\n",
    "    sns.heatmap(temp_df).set(title=street_id)\n",
    "\n",
    "plot_dist(all_dists, '43rd Ave Irving St  -  Judah St')\n"
   ]
  },
  {
   "cell_type": "code",
   "execution_count": 258,
   "metadata": {},
   "outputs": [
    {
     "data": {
      "image/png": "[encoded data removed]",
      "text/plain": [
       "<Figure size 640x480 with 2 Axes>"
      ]
     },
     "metadata": {},
     "output_type": "display_data"
    }
   ],
   "source": [
    "plot_dist(all_dists, '03rd St Channel St  -  Terry A Francois Blvd')"
   ]
  },
  {
   "cell_type": "code",
   "execution_count": 153,
   "metadata": {},
   "outputs": [],
   "source": [
    "# looking for one street_id\n",
    "\n",
    "# all_dists[all_dists.street_id.str.contains('Terry A Francois Blvd')].street_id[0]"
   ]
  },
  {
   "cell_type": "code",
   "execution_count": 160,
   "metadata": {},
   "outputs": [],
   "source": [
    "NUMERIC_COLS = [col for col in all_dists.columns if '0' in col]"
   ]
  },
  {
   "cell_type": "code",
   "execution_count": 173,
   "metadata": {},
   "outputs": [],
   "source": [
    "# add geom information to all_dists\n",
    "\n",
    "unique_streets['street_id'] = unique_streets['Corridor'] + ' ' + unique_streets['Limits']\n",
    "street_geom_dict = pd.Series(unique_streets.Line.values,index=unique_streets.street_id).to_dict()\n",
    "all_dists['geom'] = all_dists['street_id'].apply(lambda key: street_geom_dict[key])"
   ]
  },
  {
   "cell_type": "code",
   "execution_count": 177,
   "metadata": {},
   "outputs": [
    {
     "data": {
      "text/html": [
       "<div>\n",
       "<style scoped>\n",
       "    .dataframe tbody tr th:only-of-type {\n",
       "        vertical-align: middle;\n",
       "    }\n",
       "\n",
       "    .dataframe tbody tr th {\n",
       "        vertical-align: top;\n",
       "    }\n",
       "\n",
       "    .dataframe thead th {\n",
       "        text-align: right;\n",
       "    }\n",
       "</style>\n",
       "<table border=\"1\" class=\"dataframe\">\n",
       "  <thead>\n",
       "    <tr style=\"text-align: right;\">\n",
       "      <th></th>\n",
       "      <th>citation_day</th>\n",
       "      <th>street_id</th>\n",
       "      <th>time_bin</th>\n",
       "      <th>00:00:00</th>\n",
       "      <th>00:15:00</th>\n",
       "      <th>00:30:00</th>\n",
       "      <th>00:45:00</th>\n",
       "      <th>01:00:00</th>\n",
       "      <th>01:15:00</th>\n",
       "      <th>01:30:00</th>\n",
       "      <th>...</th>\n",
       "      <th>21:45:00</th>\n",
       "      <th>22:00:00</th>\n",
       "      <th>22:15:00</th>\n",
       "      <th>22:30:00</th>\n",
       "      <th>22:45:00</th>\n",
       "      <th>23:00:00</th>\n",
       "      <th>23:15:00</th>\n",
       "      <th>23:30:00</th>\n",
       "      <th>23:45:00</th>\n",
       "      <th>geom</th>\n",
       "    </tr>\n",
       "  </thead>\n",
       "  <tbody>\n",
       "    <tr>\n",
       "      <th>0</th>\n",
       "      <td>Monday</td>\n",
       "      <td>01st St Clementina St  -  Folsom St</td>\n",
       "      <td>{'00:00:00': 1, '00:15:00': 1, '00:30:00': 1, ...</td>\n",
       "      <td>0.0</td>\n",
       "      <td>0.000000</td>\n",
       "      <td>0.000000</td>\n",
       "      <td>0.0</td>\n",
       "      <td>0.0</td>\n",
       "      <td>0.0</td>\n",
       "      <td>0.0</td>\n",
       "      <td>...</td>\n",
       "      <td>0.0</td>\n",
       "      <td>0.0</td>\n",
       "      <td>0.0</td>\n",
       "      <td>0.0</td>\n",
       "      <td>0.0</td>\n",
       "      <td>0.0</td>\n",
       "      <td>0.0</td>\n",
       "      <td>0.000000</td>\n",
       "      <td>0.0</td>\n",
       "      <td>LINESTRING (-122.395007841381 37.787717615642,...</td>\n",
       "    </tr>\n",
       "    <tr>\n",
       "      <th>1</th>\n",
       "      <td>Tuesday</td>\n",
       "      <td>01st St Clementina St  -  Folsom St</td>\n",
       "      <td>{'00:00:00': 1, '00:15:00': 2, '00:30:00': 1, ...</td>\n",
       "      <td>0.0</td>\n",
       "      <td>0.020833</td>\n",
       "      <td>0.000000</td>\n",
       "      <td>0.0</td>\n",
       "      <td>0.0</td>\n",
       "      <td>0.0</td>\n",
       "      <td>0.0</td>\n",
       "      <td>...</td>\n",
       "      <td>0.0</td>\n",
       "      <td>0.0</td>\n",
       "      <td>0.0</td>\n",
       "      <td>0.0</td>\n",
       "      <td>0.0</td>\n",
       "      <td>0.0</td>\n",
       "      <td>0.0</td>\n",
       "      <td>0.000000</td>\n",
       "      <td>0.0</td>\n",
       "      <td>LINESTRING (-122.395007841381 37.787717615642,...</td>\n",
       "    </tr>\n",
       "    <tr>\n",
       "      <th>2</th>\n",
       "      <td>Wednesday</td>\n",
       "      <td>01st St Clementina St  -  Folsom St</td>\n",
       "      <td>{'00:00:00': 1, '00:15:00': 1, '00:30:00': 1, ...</td>\n",
       "      <td>0.0</td>\n",
       "      <td>0.000000</td>\n",
       "      <td>0.000000</td>\n",
       "      <td>0.0</td>\n",
       "      <td>0.0</td>\n",
       "      <td>0.0</td>\n",
       "      <td>0.0</td>\n",
       "      <td>...</td>\n",
       "      <td>0.0</td>\n",
       "      <td>0.0</td>\n",
       "      <td>0.0</td>\n",
       "      <td>0.0</td>\n",
       "      <td>0.0</td>\n",
       "      <td>0.0</td>\n",
       "      <td>0.0</td>\n",
       "      <td>0.000000</td>\n",
       "      <td>0.0</td>\n",
       "      <td>LINESTRING (-122.395007841381 37.787717615642,...</td>\n",
       "    </tr>\n",
       "    <tr>\n",
       "      <th>3</th>\n",
       "      <td>Thursday</td>\n",
       "      <td>01st St Clementina St  -  Folsom St</td>\n",
       "      <td>{'00:00:00': 1, '00:15:00': 2, '00:30:00': 1, ...</td>\n",
       "      <td>0.0</td>\n",
       "      <td>0.020833</td>\n",
       "      <td>0.000000</td>\n",
       "      <td>0.0</td>\n",
       "      <td>0.0</td>\n",
       "      <td>0.0</td>\n",
       "      <td>0.0</td>\n",
       "      <td>...</td>\n",
       "      <td>0.0</td>\n",
       "      <td>0.0</td>\n",
       "      <td>0.0</td>\n",
       "      <td>0.0</td>\n",
       "      <td>0.0</td>\n",
       "      <td>0.0</td>\n",
       "      <td>0.0</td>\n",
       "      <td>0.000000</td>\n",
       "      <td>0.0</td>\n",
       "      <td>LINESTRING (-122.395007841381 37.787717615642,...</td>\n",
       "    </tr>\n",
       "    <tr>\n",
       "      <th>4</th>\n",
       "      <td>Friday</td>\n",
       "      <td>01st St Clementina St  -  Folsom St</td>\n",
       "      <td>{'00:00:00': 1, '00:15:00': 1, '00:30:00': 1, ...</td>\n",
       "      <td>0.0</td>\n",
       "      <td>0.000000</td>\n",
       "      <td>0.000000</td>\n",
       "      <td>0.0</td>\n",
       "      <td>0.0</td>\n",
       "      <td>0.0</td>\n",
       "      <td>0.0</td>\n",
       "      <td>...</td>\n",
       "      <td>0.0</td>\n",
       "      <td>0.0</td>\n",
       "      <td>0.0</td>\n",
       "      <td>0.0</td>\n",
       "      <td>0.0</td>\n",
       "      <td>0.0</td>\n",
       "      <td>0.0</td>\n",
       "      <td>0.000000</td>\n",
       "      <td>0.0</td>\n",
       "      <td>LINESTRING (-122.395007841381 37.787717615642,...</td>\n",
       "    </tr>\n",
       "    <tr>\n",
       "      <th>...</th>\n",
       "      <td>...</td>\n",
       "      <td>...</td>\n",
       "      <td>...</td>\n",
       "      <td>...</td>\n",
       "      <td>...</td>\n",
       "      <td>...</td>\n",
       "      <td>...</td>\n",
       "      <td>...</td>\n",
       "      <td>...</td>\n",
       "      <td>...</td>\n",
       "      <td>...</td>\n",
       "      <td>...</td>\n",
       "      <td>...</td>\n",
       "      <td>...</td>\n",
       "      <td>...</td>\n",
       "      <td>...</td>\n",
       "      <td>...</td>\n",
       "      <td>...</td>\n",
       "      <td>...</td>\n",
       "      <td>...</td>\n",
       "      <td>...</td>\n",
       "    </tr>\n",
       "    <tr>\n",
       "      <th>2</th>\n",
       "      <td>Wednesday</td>\n",
       "      <td>Zoe St Welsh St  -  Freelon St</td>\n",
       "      <td>{'00:00:00': 1, '00:15:00': 1, '00:30:00': 1, ...</td>\n",
       "      <td>0.0</td>\n",
       "      <td>0.000000</td>\n",
       "      <td>0.000000</td>\n",
       "      <td>0.0</td>\n",
       "      <td>0.0</td>\n",
       "      <td>0.0</td>\n",
       "      <td>0.0</td>\n",
       "      <td>...</td>\n",
       "      <td>0.0</td>\n",
       "      <td>0.0</td>\n",
       "      <td>0.0</td>\n",
       "      <td>0.0</td>\n",
       "      <td>0.0</td>\n",
       "      <td>0.0</td>\n",
       "      <td>0.0</td>\n",
       "      <td>0.000000</td>\n",
       "      <td>0.0</td>\n",
       "      <td>LINESTRING (-122.396306203949 37.780096449982,...</td>\n",
       "    </tr>\n",
       "    <tr>\n",
       "      <th>3</th>\n",
       "      <td>Thursday</td>\n",
       "      <td>Zoe St Welsh St  -  Freelon St</td>\n",
       "      <td>{'00:00:00': 1, '00:15:00': 12, '00:30:00': 9,...</td>\n",
       "      <td>0.0</td>\n",
       "      <td>0.229167</td>\n",
       "      <td>0.166667</td>\n",
       "      <td>0.0</td>\n",
       "      <td>0.0</td>\n",
       "      <td>0.0</td>\n",
       "      <td>0.0</td>\n",
       "      <td>...</td>\n",
       "      <td>0.0</td>\n",
       "      <td>0.0</td>\n",
       "      <td>0.0</td>\n",
       "      <td>0.0</td>\n",
       "      <td>0.0</td>\n",
       "      <td>0.0</td>\n",
       "      <td>0.0</td>\n",
       "      <td>0.000000</td>\n",
       "      <td>0.0</td>\n",
       "      <td>LINESTRING (-122.396306203949 37.780096449982,...</td>\n",
       "    </tr>\n",
       "    <tr>\n",
       "      <th>4</th>\n",
       "      <td>Friday</td>\n",
       "      <td>Zoe St Welsh St  -  Freelon St</td>\n",
       "      <td>{'00:00:00': 1, '00:15:00': 1, '00:30:00': 1, ...</td>\n",
       "      <td>0.0</td>\n",
       "      <td>0.000000</td>\n",
       "      <td>0.000000</td>\n",
       "      <td>0.0</td>\n",
       "      <td>0.0</td>\n",
       "      <td>0.0</td>\n",
       "      <td>0.0</td>\n",
       "      <td>...</td>\n",
       "      <td>0.0</td>\n",
       "      <td>0.0</td>\n",
       "      <td>0.0</td>\n",
       "      <td>0.0</td>\n",
       "      <td>0.0</td>\n",
       "      <td>0.0</td>\n",
       "      <td>0.0</td>\n",
       "      <td>0.020833</td>\n",
       "      <td>0.0</td>\n",
       "      <td>LINESTRING (-122.396306203949 37.780096449982,...</td>\n",
       "    </tr>\n",
       "    <tr>\n",
       "      <th>5</th>\n",
       "      <td>Saturday</td>\n",
       "      <td>Zoe St Welsh St  -  Freelon St</td>\n",
       "      <td>{'00:00:00': 1, '00:15:00': 1, '00:30:00': 1, ...</td>\n",
       "      <td>0.0</td>\n",
       "      <td>0.000000</td>\n",
       "      <td>0.000000</td>\n",
       "      <td>0.0</td>\n",
       "      <td>0.0</td>\n",
       "      <td>0.0</td>\n",
       "      <td>0.0</td>\n",
       "      <td>...</td>\n",
       "      <td>0.0</td>\n",
       "      <td>0.0</td>\n",
       "      <td>0.0</td>\n",
       "      <td>0.0</td>\n",
       "      <td>0.0</td>\n",
       "      <td>0.0</td>\n",
       "      <td>0.0</td>\n",
       "      <td>0.000000</td>\n",
       "      <td>0.0</td>\n",
       "      <td>LINESTRING (-122.396306203949 37.780096449982,...</td>\n",
       "    </tr>\n",
       "    <tr>\n",
       "      <th>6</th>\n",
       "      <td>Sunday</td>\n",
       "      <td>Zoe St Welsh St  -  Freelon St</td>\n",
       "      <td>{'00:00:00': 1, '00:15:00': 1, '00:30:00': 1, ...</td>\n",
       "      <td>0.0</td>\n",
       "      <td>0.000000</td>\n",
       "      <td>0.000000</td>\n",
       "      <td>0.0</td>\n",
       "      <td>0.0</td>\n",
       "      <td>0.0</td>\n",
       "      <td>0.0</td>\n",
       "      <td>...</td>\n",
       "      <td>0.0</td>\n",
       "      <td>0.0</td>\n",
       "      <td>0.0</td>\n",
       "      <td>0.0</td>\n",
       "      <td>0.0</td>\n",
       "      <td>0.0</td>\n",
       "      <td>0.0</td>\n",
       "      <td>0.000000</td>\n",
       "      <td>0.0</td>\n",
       "      <td>LINESTRING (-122.396306203949 37.780096449982,...</td>\n",
       "    </tr>\n",
       "  </tbody>\n",
       "</table>\n",
       "<p>77623 rows × 100 columns</p>\n",
       "</div>"
      ],
      "text/plain": [
       "   citation_day                            street_id  \\\n",
       "0        Monday  01st St Clementina St  -  Folsom St   \n",
       "1       Tuesday  01st St Clementina St  -  Folsom St   \n",
       "2     Wednesday  01st St Clementina St  -  Folsom St   \n",
       "3      Thursday  01st St Clementina St  -  Folsom St   \n",
       "4        Friday  01st St Clementina St  -  Folsom St   \n",
       "..          ...                                  ...   \n",
       "2     Wednesday       Zoe St Welsh St  -  Freelon St   \n",
       "3      Thursday       Zoe St Welsh St  -  Freelon St   \n",
       "4        Friday       Zoe St Welsh St  -  Freelon St   \n",
       "5      Saturday       Zoe St Welsh St  -  Freelon St   \n",
       "6        Sunday       Zoe St Welsh St  -  Freelon St   \n",
       "\n",
       "                                             time_bin  00:00:00  00:15:00  \\\n",
       "0   {'00:00:00': 1, '00:15:00': 1, '00:30:00': 1, ...       0.0  0.000000   \n",
       "1   {'00:00:00': 1, '00:15:00': 2, '00:30:00': 1, ...       0.0  0.020833   \n",
       "2   {'00:00:00': 1, '00:15:00': 1, '00:30:00': 1, ...       0.0  0.000000   \n",
       "3   {'00:00:00': 1, '00:15:00': 2, '00:30:00': 1, ...       0.0  0.020833   \n",
       "4   {'00:00:00': 1, '00:15:00': 1, '00:30:00': 1, ...       0.0  0.000000   \n",
       "..                                                ...       ...       ...   \n",
       "2   {'00:00:00': 1, '00:15:00': 1, '00:30:00': 1, ...       0.0  0.000000   \n",
       "3   {'00:00:00': 1, '00:15:00': 12, '00:30:00': 9,...       0.0  0.229167   \n",
       "4   {'00:00:00': 1, '00:15:00': 1, '00:30:00': 1, ...       0.0  0.000000   \n",
       "5   {'00:00:00': 1, '00:15:00': 1, '00:30:00': 1, ...       0.0  0.000000   \n",
       "6   {'00:00:00': 1, '00:15:00': 1, '00:30:00': 1, ...       0.0  0.000000   \n",
       "\n",
       "    00:30:00  00:45:00  01:00:00  01:15:00  01:30:00  ...  21:45:00  22:00:00  \\\n",
       "0   0.000000       0.0       0.0       0.0       0.0  ...       0.0       0.0   \n",
       "1   0.000000       0.0       0.0       0.0       0.0  ...       0.0       0.0   \n",
       "2   0.000000       0.0       0.0       0.0       0.0  ...       0.0       0.0   \n",
       "3   0.000000       0.0       0.0       0.0       0.0  ...       0.0       0.0   \n",
       "4   0.000000       0.0       0.0       0.0       0.0  ...       0.0       0.0   \n",
       "..       ...       ...       ...       ...       ...  ...       ...       ...   \n",
       "2   0.000000       0.0       0.0       0.0       0.0  ...       0.0       0.0   \n",
       "3   0.166667       0.0       0.0       0.0       0.0  ...       0.0       0.0   \n",
       "4   0.000000       0.0       0.0       0.0       0.0  ...       0.0       0.0   \n",
       "5   0.000000       0.0       0.0       0.0       0.0  ...       0.0       0.0   \n",
       "6   0.000000       0.0       0.0       0.0       0.0  ...       0.0       0.0   \n",
       "\n",
       "    22:15:00  22:30:00  22:45:00  23:00:00  23:15:00  23:30:00  23:45:00  \\\n",
       "0        0.0       0.0       0.0       0.0       0.0  0.000000       0.0   \n",
       "1        0.0       0.0       0.0       0.0       0.0  0.000000       0.0   \n",
       "2        0.0       0.0       0.0       0.0       0.0  0.000000       0.0   \n",
       "3        0.0       0.0       0.0       0.0       0.0  0.000000       0.0   \n",
       "4        0.0       0.0       0.0       0.0       0.0  0.000000       0.0   \n",
       "..       ...       ...       ...       ...       ...       ...       ...   \n",
       "2        0.0       0.0       0.0       0.0       0.0  0.000000       0.0   \n",
       "3        0.0       0.0       0.0       0.0       0.0  0.000000       0.0   \n",
       "4        0.0       0.0       0.0       0.0       0.0  0.020833       0.0   \n",
       "5        0.0       0.0       0.0       0.0       0.0  0.000000       0.0   \n",
       "6        0.0       0.0       0.0       0.0       0.0  0.000000       0.0   \n",
       "\n",
       "                                                 geom  \n",
       "0   LINESTRING (-122.395007841381 37.787717615642,...  \n",
       "1   LINESTRING (-122.395007841381 37.787717615642,...  \n",
       "2   LINESTRING (-122.395007841381 37.787717615642,...  \n",
       "3   LINESTRING (-122.395007841381 37.787717615642,...  \n",
       "4   LINESTRING (-122.395007841381 37.787717615642,...  \n",
       "..                                                ...  \n",
       "2   LINESTRING (-122.396306203949 37.780096449982,...  \n",
       "3   LINESTRING (-122.396306203949 37.780096449982,...  \n",
       "4   LINESTRING (-122.396306203949 37.780096449982,...  \n",
       "5   LINESTRING (-122.396306203949 37.780096449982,...  \n",
       "6   LINESTRING (-122.396306203949 37.780096449982,...  \n",
       "\n",
       "[77623 rows x 100 columns]"
      ]
     },
     "execution_count": 177,
     "metadata": {},
     "output_type": "execute_result"
    }
   ],
   "source": [
    "all_dists"
   ]
  },
  {
   "cell_type": "code",
   "execution_count": 178,
   "metadata": {},
   "outputs": [],
   "source": [
    "# equivalent to pivot_longer in R\n",
    "\n",
    "pivoted = pd.melt(all_dists[all_dists.citation_day == 'Friday'], id_vars=['citation_day', 'street_id', 'geom'], value_vars=NUMERIC_COLS, value_name='prob', var_name='time')\n",
    "pivoted['time'] = pd.to_datetime(pivoted['time'])"
   ]
  },
  {
   "cell_type": "code",
   "execution_count": 179,
   "metadata": {},
   "outputs": [],
   "source": [
    "# save to csv for visualization by kepler GL\n",
    "\n",
    "pivoted.to_csv('../data/pivoted_for_kgl.csv', index=False)"
   ]
  },
  {
   "cell_type": "code",
   "execution_count": 180,
   "metadata": {},
   "outputs": [
    {
     "data": {
      "text/plain": [
       "0.000000    1002730\n",
       "0.020833      40029\n",
       "0.041667       9885\n",
       "0.062500       4067\n",
       "0.083333       2242\n",
       "0.104167       1264\n",
       "0.125000        898\n",
       "0.145833        695\n",
       "0.166667        505\n",
       "0.187500        414\n",
       "0.208333        306\n",
       "0.229167        243\n",
       "0.250000        206\n",
       "0.270833        177\n",
       "0.291667        136\n",
       "0.312500         99\n",
       "0.333333         95\n",
       "0.354167         67\n",
       "0.375000         66\n",
       "0.395833         57\n",
       "0.416667         47\n",
       "0.437500         40\n",
       "0.458333         39\n",
       "0.479167         34\n",
       "0.520833         30\n",
       "0.500000         29\n",
       "0.562500         20\n",
       "0.541667         19\n",
       "0.583333         15\n",
       "0.645833         12\n",
       "0.604167         11\n",
       "0.687500         10\n",
       "0.666667         10\n",
       "0.729167          7\n",
       "0.770833          6\n",
       "0.750000          6\n",
       "0.708333          5\n",
       "0.854167          5\n",
       "0.625000          5\n",
       "0.812500          2\n",
       "0.916667          2\n",
       "0.979167          2\n",
       "0.833333          2\n",
       "0.875000          2\n",
       "0.791667          1\n",
       "0.895833          1\n",
       "1.000000          1\n",
       "Name: prob, dtype: int64"
      ]
     },
     "execution_count": 180,
     "metadata": {},
     "output_type": "execute_result"
    }
   ],
   "source": [
    "pivoted['prob'].value_counts()"
   ]
  },
  {
   "cell_type": "code",
   "execution_count": null,
   "metadata": {},
   "outputs": [],
   "source": []
  }
 ],
 "metadata": {
  "kernelspec": {
   "display_name": "stat-222",
   "language": "python",
   "name": "python3"
  },
  "language_info": {
   "codemirror_mode": {
    "name": "ipython",
    "version": 3
   },
   "file_extension": ".py",
   "mimetype": "text/x-python",
   "name": "python",
   "nbconvert_exporter": "python",
   "pygments_lexer": "ipython3",
   "version": "3.9.16"
  },
  "orig_nbformat": 4
 },
 "nbformat": 4,
 "nbformat_minor": 2
}
