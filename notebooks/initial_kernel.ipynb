{
 "cells": [
  {
   "attachments": {},
   "cell_type": "markdown",
   "metadata": {},
   "source": [
    "## Imports / Helper Functions / Global Variables"
   ]
  },
  {
   "cell_type": "code",
   "execution_count": 1,
   "metadata": {},
   "outputs": [],
   "source": [
    "# force geopandas to use shapely instead of pygeos\n",
    "import os\n",
    "os.environ['USE_PYGEOS'] = '0'\n",
    "\n",
    "import numpy as np\n",
    "import pandas as pd\n",
    "import plotly.express as px\n",
    "from shapely import wkt\n",
    "from shapely.geometry import Point\n",
    "import geopandas as gpd\n",
    "import matplotlib.pyplot as plt\n",
    "from pyproj import Transformer\n",
    "from shapely import get_coordinates, set_coordinates\n",
    "from typing import List"
   ]
  },
  {
   "cell_type": "code",
   "execution_count": 2,
   "metadata": {},
   "outputs": [],
   "source": [
    "# shorthand for datetime column\n",
    "\n",
    "DATE_COL = 'Citation Issued DateTime'"
   ]
  },
  {
   "cell_type": "code",
   "execution_count": 25,
   "metadata": {},
   "outputs": [],
   "source": [
    "# datetime manipulation helper functions\n",
    "\n",
    "def filter_by_date_range(df: pd.DataFrame, column_name: str, start_string: str, end_string: str):\n",
    "    return df[(df[column_name] >= pd.Timestamp(start_string)) & (df[column_name] <= pd.Timestamp(end_string))]"
   ]
  },
  {
   "cell_type": "code",
   "execution_count": 3,
   "metadata": {},
   "outputs": [
    {
     "data": {
      "image/svg+xml": "<svg xmlns=\"http://www.w3.org/2000/svg\" xmlns:xlink=\"http://www.w3.org/1999/xlink\" width=\"100.0\" height=\"100.0\" viewBox=\"-123.46164710599999 36.77421091000008 2.0 2.0\" preserveAspectRatio=\"xMinYMin meet\"><g transform=\"matrix(1,0,0,-1,0,75.54842182000016)\"><circle cx=\"-122.46164710599999\" cy=\"37.77421091000008\" r=\"0.06\" stroke=\"#555555\" stroke-width=\"0.02\" fill=\"#66cc99\" opacity=\"0.6\" /></g></svg>",
      "text/plain": [
       "<POINT (-122.462 37.774)>"
      ]
     },
     "execution_count": 3,
     "metadata": {},
     "output_type": "execute_result"
    }
   ],
   "source": [
    "# helper functions for loading in US Census Bureau Geocoding data. This helps correct for ~10k observations with incorrect geolocation.\n",
    "\n",
    "# 1ST -> 01ST, 2ND -> 02ND, etc., to be compatible\n",
    "def inv_correct_numbered_streets(string):\n",
    "    for i in range(1, 10):\n",
    "        string = string.replace(f'{i}TH', f'0{i}TH')\n",
    "    # 1st, 2nd and 3rd are special cases\n",
    "    string = string.replace('1ST', '01ST')\n",
    "    string = string.replace('2ND', '02ND')\n",
    "    string = string.replace('3RD', '03RD')\n",
    "    return string\n",
    "\n",
    "def coord_string_to_point(coord_string):\n",
    "    x, y = [float(string) for string in coord_string.split(',')]\n",
    "    return Point(x, y)\n",
    "\n",
    "coord_string_to_point(\"-122.46164710599999,37.77421091000008\")"
   ]
  },
  {
   "cell_type": "code",
   "execution_count": null,
   "metadata": {},
   "outputs": [],
   "source": [
    "# TODO: correct all \"lock Of\" addresses.\n",
    "\n",
    "# feat_df[feat_df.street_id.str.contains('lock Of')]"
   ]
  },
  {
   "cell_type": "code",
   "execution_count": 5,
   "metadata": {},
   "outputs": [],
   "source": [
    "def load_geocoder_data(csv_path='../data/chinook_ct_correct.csv'):\n",
    "    geo = pd.read_csv(csv_path, header=None)\n",
    "    geo = geo[geo[2] == 'Match']\n",
    "    geo[1] = geo[1].str.replace(', SAN FRANCISCO, CA,', '').apply(lambda x: x.strip())\n",
    "    geo = geo[[1, 5]]\n",
    "    geo.columns = ['street', 'geom']\n",
    "    geo.street = geo.street.apply(inv_correct_numbered_streets)\n",
    "    geo.geom = geo.geom.apply(coord_string_to_point)\n",
    "    return geo"
   ]
  },
  {
   "attachments": {},
   "cell_type": "markdown",
   "metadata": {},
   "source": [
    "## Load Data and Fix Incorrect Data"
   ]
  },
  {
   "cell_type": "code",
   "execution_count": 7,
   "metadata": {},
   "outputs": [
    {
     "data": {
      "text/html": [
       "<div>\n",
       "<style scoped>\n",
       "    .dataframe tbody tr th:only-of-type {\n",
       "        vertical-align: middle;\n",
       "    }\n",
       "\n",
       "    .dataframe tbody tr th {\n",
       "        vertical-align: top;\n",
       "    }\n",
       "\n",
       "    .dataframe thead th {\n",
       "        text-align: right;\n",
       "    }\n",
       "</style>\n",
       "<table border=\"1\" class=\"dataframe\">\n",
       "  <thead>\n",
       "    <tr style=\"text-align: right;\">\n",
       "      <th></th>\n",
       "      <th>street</th>\n",
       "      <th>geom</th>\n",
       "    </tr>\n",
       "  </thead>\n",
       "  <tbody>\n",
       "    <tr>\n",
       "      <th>0</th>\n",
       "      <td>785 04TH AVE</td>\n",
       "      <td>POINT (-122.46164710599999 37.77421091000008)</td>\n",
       "    </tr>\n",
       "    <tr>\n",
       "      <th>1</th>\n",
       "      <td>756 08TH AVE</td>\n",
       "      <td>POINT (-122.46593421399996 37.77422294300004)</td>\n",
       "    </tr>\n",
       "    <tr>\n",
       "      <th>2</th>\n",
       "      <td>277 05TH AVE</td>\n",
       "      <td>POINT (-122.46339279499995 37.783491569000034)</td>\n",
       "    </tr>\n",
       "    <tr>\n",
       "      <th>3</th>\n",
       "      <td>404 08TH AVE</td>\n",
       "      <td>POINT (-122.46639889099998 37.78064289800005)</td>\n",
       "    </tr>\n",
       "    <tr>\n",
       "      <th>4</th>\n",
       "      <td>398 05TH ST</td>\n",
       "      <td>POINT (-122.40188964199996 37.77906450900008)</td>\n",
       "    </tr>\n",
       "  </tbody>\n",
       "</table>\n",
       "</div>"
      ],
      "text/plain": [
       "         street                                            geom\n",
       "0  785 04TH AVE   POINT (-122.46164710599999 37.77421091000008)\n",
       "1  756 08TH AVE   POINT (-122.46593421399996 37.77422294300004)\n",
       "2  277 05TH AVE  POINT (-122.46339279499995 37.783491569000034)\n",
       "3  404 08TH AVE   POINT (-122.46639889099998 37.78064289800005)\n",
       "4   398 05TH ST   POINT (-122.40188964199996 37.77906450900008)"
      ]
     },
     "execution_count": 7,
     "metadata": {},
     "output_type": "execute_result"
    }
   ],
   "source": [
    "geo_df = load_geocoder_data()\n",
    "geo_df.head()"
   ]
  },
  {
   "cell_type": "code",
   "execution_count": 13,
   "metadata": {},
   "outputs": [],
   "source": [
    "# create dictionary from pandas dataframe. \n",
    "\n",
    "geo_dict = pd.Series(geo_df.geom.values,index=geo_df.street).to_dict()"
   ]
  },
  {
   "cell_type": "code",
   "execution_count": 10,
   "metadata": {},
   "outputs": [
    {
     "data": {
      "text/plain": [
       "(2500, 2)"
      ]
     },
     "execution_count": 10,
     "metadata": {},
     "output_type": "execute_result"
    }
   ],
   "source": [
    "geo_df.shape"
   ]
  },
  {
   "cell_type": "code",
   "execution_count": 19,
   "metadata": {},
   "outputs": [
    {
     "data": {
      "text/html": [
       "<div>\n",
       "<style scoped>\n",
       "    .dataframe tbody tr th:only-of-type {\n",
       "        vertical-align: middle;\n",
       "    }\n",
       "\n",
       "    .dataframe tbody tr th {\n",
       "        vertical-align: top;\n",
       "    }\n",
       "\n",
       "    .dataframe thead th {\n",
       "        text-align: right;\n",
       "    }\n",
       "</style>\n",
       "<table border=\"1\" class=\"dataframe\">\n",
       "  <thead>\n",
       "    <tr style=\"text-align: right;\">\n",
       "      <th></th>\n",
       "      <th>Citation Number</th>\n",
       "      <th>Citation Issued DateTime</th>\n",
       "      <th>Violation</th>\n",
       "      <th>Violation Description</th>\n",
       "      <th>Citation Location</th>\n",
       "      <th>Vehicle Plate State</th>\n",
       "      <th>Vehicle Plate</th>\n",
       "      <th>Fine Amount</th>\n",
       "      <th>Date Added</th>\n",
       "      <th>geom</th>\n",
       "    </tr>\n",
       "  </thead>\n",
       "  <tbody>\n",
       "    <tr>\n",
       "      <th>0</th>\n",
       "      <td>950226616</td>\n",
       "      <td>04/20/2022 12:10:00 PM</td>\n",
       "      <td>TRC7.2.22</td>\n",
       "      <td>STR CLEAN</td>\n",
       "      <td>1318 FILBERT ST</td>\n",
       "      <td>CA</td>\n",
       "      <td>V507699</td>\n",
       "      <td>84.0</td>\n",
       "      <td>05/01/2022 12:00:00 AM</td>\n",
       "      <td>POINT (-122.42119800399996 37.800016984000024)</td>\n",
       "    </tr>\n",
       "    <tr>\n",
       "      <th>1</th>\n",
       "      <td>952126114</td>\n",
       "      <td>06/17/2022 04:12:00 PM</td>\n",
       "      <td>TRC7.2.20</td>\n",
       "      <td>RES/OT</td>\n",
       "      <td>1318 FILBERT ST</td>\n",
       "      <td>CA</td>\n",
       "      <td>BV44D97</td>\n",
       "      <td>96.0</td>\n",
       "      <td>07/17/2022 12:00:00 AM</td>\n",
       "      <td>POINT (-122.42119800399996 37.800016984000024)</td>\n",
       "    </tr>\n",
       "    <tr>\n",
       "      <th>2</th>\n",
       "      <td>950441903</td>\n",
       "      <td>04/23/2022 03:13:00 PM</td>\n",
       "      <td>V5200</td>\n",
       "      <td>NO PLATES</td>\n",
       "      <td>1318 FILBERT ST</td>\n",
       "      <td>CA</td>\n",
       "      <td>V507699</td>\n",
       "      <td>121.0</td>\n",
       "      <td>05/18/2022 12:00:00 AM</td>\n",
       "      <td>POINT (-122.42119800399996 37.800016984000024)</td>\n",
       "    </tr>\n",
       "    <tr>\n",
       "      <th>3</th>\n",
       "      <td>948460144</td>\n",
       "      <td>02/22/2022 11:54:00 AM</td>\n",
       "      <td>TRC7.2.20</td>\n",
       "      <td>RES/OT</td>\n",
       "      <td>1318 FILBERT ST</td>\n",
       "      <td>TX</td>\n",
       "      <td>HVT6737</td>\n",
       "      <td>96.0</td>\n",
       "      <td>05/23/2022 12:00:00 AM</td>\n",
       "      <td>POINT (-122.42119800399996 37.800016984000024)</td>\n",
       "    </tr>\n",
       "    <tr>\n",
       "      <th>4</th>\n",
       "      <td>948169644</td>\n",
       "      <td>02/17/2022 01:39:00 PM</td>\n",
       "      <td>TRC7.2.20</td>\n",
       "      <td>RES/OT</td>\n",
       "      <td>1318 FILBERT ST</td>\n",
       "      <td>OH</td>\n",
       "      <td>HQA6554</td>\n",
       "      <td>96.0</td>\n",
       "      <td>04/03/2022 12:00:00 AM</td>\n",
       "      <td>POINT (-122.42119800399996 37.800016984000024)</td>\n",
       "    </tr>\n",
       "  </tbody>\n",
       "</table>\n",
       "</div>"
      ],
      "text/plain": [
       "  Citation Number Citation Issued DateTime  Violation Violation Description  \\\n",
       "0       950226616   04/20/2022 12:10:00 PM  TRC7.2.22             STR CLEAN   \n",
       "1       952126114   06/17/2022 04:12:00 PM  TRC7.2.20                RES/OT   \n",
       "2       950441903   04/23/2022 03:13:00 PM      V5200             NO PLATES   \n",
       "3       948460144   02/22/2022 11:54:00 AM  TRC7.2.20                RES/OT   \n",
       "4       948169644   02/17/2022 01:39:00 PM  TRC7.2.20                RES/OT   \n",
       "\n",
       "  Citation Location Vehicle Plate State Vehicle Plate  Fine Amount  \\\n",
       "0   1318 FILBERT ST                  CA       V507699         84.0   \n",
       "1   1318 FILBERT ST                  CA       BV44D97         96.0   \n",
       "2   1318 FILBERT ST                  CA       V507699        121.0   \n",
       "3   1318 FILBERT ST                  TX       HVT6737         96.0   \n",
       "4   1318 FILBERT ST                  OH       HQA6554         96.0   \n",
       "\n",
       "               Date Added                                            geom  \n",
       "0  05/01/2022 12:00:00 AM  POINT (-122.42119800399996 37.800016984000024)  \n",
       "1  07/17/2022 12:00:00 AM  POINT (-122.42119800399996 37.800016984000024)  \n",
       "2  05/18/2022 12:00:00 AM  POINT (-122.42119800399996 37.800016984000024)  \n",
       "3  05/23/2022 12:00:00 AM  POINT (-122.42119800399996 37.800016984000024)  \n",
       "4  04/03/2022 12:00:00 AM  POINT (-122.42119800399996 37.800016984000024)  "
      ]
     },
     "execution_count": 19,
     "metadata": {},
     "output_type": "execute_result"
    }
   ],
   "source": [
    "df = pd.read_csv(\"../data/data_2022_with_geom.csv\")\n",
    "df.head()"
   ]
  },
  {
   "cell_type": "code",
   "execution_count": 20,
   "metadata": {},
   "outputs": [],
   "source": [
    "df['geom'] = df.geom.apply(wkt.loads)\n",
    "df = gpd.GeoDataFrame(df, geometry='geom')\n",
    "df.crs = 'EPSG:4326'"
   ]
  },
  {
   "cell_type": "code",
   "execution_count": 21,
   "metadata": {},
   "outputs": [],
   "source": [
    "# TODO: rewrite this using np.where or pandas where \n",
    "# TODO: use a better geocoder to fix more rows.\n",
    "\n",
    "def fix_geom(row):\n",
    "    if row['Citation Location'] in geo_dict:\n",
    "        return geo_dict[row['Citation Location']]\n",
    "    return row['geom']\n",
    "\n",
    "df['geom'] = df.apply(fix_geom, axis=1)"
   ]
  },
  {
   "attachments": {},
   "cell_type": "markdown",
   "metadata": {},
   "source": [
    "## Add / Modify Dataframe Columns"
   ]
  },
  {
   "cell_type": "code",
   "execution_count": 22,
   "metadata": {},
   "outputs": [],
   "source": [
    "df[DATE_COL] = pd.to_datetime(df[DATE_COL])"
   ]
  },
  {
   "cell_type": "code",
   "execution_count": 23,
   "metadata": {},
   "outputs": [],
   "source": [
    "# add auxillary date attribute columns based on the datetime. \n",
    "\n",
    "df['citation_day'] = df[DATE_COL].dt.day_name()\n",
    "df['citation_hour'] = df[DATE_COL].dt.hour\n",
    "df['citation_date'] = df[DATE_COL].dt.date"
   ]
  },
  {
   "cell_type": "code",
   "execution_count": 24,
   "metadata": {},
   "outputs": [],
   "source": [
    "has_location_string = df[~df['Citation Location'].isnull()]"
   ]
  },
  {
   "attachments": {},
   "cell_type": "markdown",
   "metadata": {},
   "source": [
    "## Spatial Join"
   ]
  },
  {
   "cell_type": "code",
   "execution_count": 26,
   "metadata": {},
   "outputs": [],
   "source": [
    "# load dataframe of street segments\n",
    "\n",
    "street_df = pd.read_csv('../data/street_sweeping.csv')\n",
    "street_df = street_df[~street_df.Line.isnull()]\n",
    "street_df.loc[:, 'Line'] = street_df.Line.apply(wkt.loads)\n",
    "street_df = gpd.GeoDataFrame(street_df, geometry='Line')\n",
    "street_df.crs = 'EPSG:4326'"
   ]
  },
  {
   "cell_type": "code",
   "execution_count": 29,
   "metadata": {},
   "outputs": [],
   "source": [
    "# TODO: technically should project into a flat geometry in order to get more accurate distances  \n",
    "\n",
    "unique_streets = street_df.drop_duplicates(subset='Line')\n",
    "unique_streets = unique_streets[['Corridor', 'Limits', 'Line']]\n",
    "\n",
    "# save copy of geom column because it will be destroyed by projection / join.\n",
    "unique_streets['street_geom_3d'] = unique_streets['Line']\n",
    "unique_streets['street_length'] = unique_streets.street_geom_3d.apply(lambda x: x.length)"
   ]
  },
  {
   "cell_type": "code",
   "execution_count": 39,
   "metadata": {},
   "outputs": [
    {
     "name": "stderr",
     "output_type": "stream",
     "text": [
      "/Users/bryanwang/opt/miniconda3/envs/stat-222/lib/python3.9/site-packages/geopandas/array.py:344: UserWarning: Geometry is in a geographic CRS. Results from 'sjoin_nearest' are likely incorrect. Use 'GeoSeries.to_crs()' to re-project geometries to a projected CRS before this operation.\n",
      "\n",
      "  warnings.warn(\n"
     ]
    },
    {
     "data": {
      "text/plain": [
       "(1063988, 19)"
      ]
     },
     "execution_count": 39,
     "metadata": {},
     "output_type": "execute_result"
    }
   ],
   "source": [
    "joined = gpd.sjoin_nearest(df, unique_streets, distance_col='dist', how='left')\n",
    "joined.shape"
   ]
  },
  {
   "attachments": {},
   "cell_type": "markdown",
   "metadata": {},
   "source": [
    "## Group and Cluster"
   ]
  },
  {
   "cell_type": "code",
   "execution_count": 44,
   "metadata": {},
   "outputs": [],
   "source": [
    "joined['street_id'] = joined['Corridor'] + ' ' + joined['Limits']"
   ]
  },
  {
   "cell_type": "code",
   "execution_count": 50,
   "metadata": {},
   "outputs": [],
   "source": [
    "feat_df = joined[['citation_date', 'street_id', DATE_COL, 'Citation Location', 'geom', 'citation_day', 'citation_hour', 'street_geom_3d']]"
   ]
  },
  {
   "cell_type": "code",
   "execution_count": 70,
   "metadata": {},
   "outputs": [],
   "source": [
    "feat_df['time_bin'] = feat_df[DATE_COL].dt.floor(\"15min\").dt.time.astype(str)"
   ]
  },
  {
   "cell_type": "code",
   "execution_count": 76,
   "metadata": {},
   "outputs": [],
   "source": [
    "all_bins = sorted(feat_df['time_bin'].unique())"
   ]
  },
  {
   "cell_type": "code",
   "execution_count": 77,
   "metadata": {},
   "outputs": [],
   "source": [
    "# keep each entry for a particular time bin on a particular date + street\n",
    "\n",
    "feat_df = feat_df.drop_duplicates(['citation_date', 'street_id', 'time_bin'])\n",
    "binned_grouped = feat_df.groupby(['street_id', 'citation_day'])['time_bin'].agg(' '.join)"
   ]
  },
  {
   "cell_type": "code",
   "execution_count": 83,
   "metadata": {},
   "outputs": [
    {
     "data": {
      "text/plain": [
       "Counter({'00:00:00': 1,\n",
       "         '00:15:00': 1,\n",
       "         '00:30:00': 1,\n",
       "         '00:45:00': 1,\n",
       "         '01:00:00': 1,\n",
       "         '01:15:00': 1,\n",
       "         '01:30:00': 1,\n",
       "         '01:45:00': 1,\n",
       "         '02:00:00': 1,\n",
       "         '02:15:00': 1,\n",
       "         '02:30:00': 1,\n",
       "         '02:45:00': 1,\n",
       "         '03:00:00': 1,\n",
       "         '03:15:00': 1,\n",
       "         '03:30:00': 1,\n",
       "         '03:45:00': 1,\n",
       "         '04:00:00': 1,\n",
       "         '04:15:00': 1,\n",
       "         '04:30:00': 1,\n",
       "         '04:45:00': 1,\n",
       "         '05:00:00': 1,\n",
       "         '05:15:00': 1,\n",
       "         '05:30:00': 1,\n",
       "         '05:45:00': 2,\n",
       "         '06:00:00': 1,\n",
       "         '06:15:00': 1,\n",
       "         '06:30:00': 1,\n",
       "         '06:45:00': 1,\n",
       "         '07:00:00': 1,\n",
       "         '07:15:00': 1,\n",
       "         '07:30:00': 1,\n",
       "         '07:45:00': 1,\n",
       "         '08:00:00': 1,\n",
       "         '08:15:00': 1,\n",
       "         '08:30:00': 1,\n",
       "         '08:45:00': 1,\n",
       "         '09:00:00': 1,\n",
       "         '09:15:00': 2,\n",
       "         '09:30:00': 1,\n",
       "         '09:45:00': 1,\n",
       "         '10:00:00': 1,\n",
       "         '10:15:00': 1,\n",
       "         '10:30:00': 1,\n",
       "         '10:45:00': 1,\n",
       "         '11:00:00': 1,\n",
       "         '11:15:00': 1,\n",
       "         '11:30:00': 1,\n",
       "         '11:45:00': 1,\n",
       "         '12:00:00': 1,\n",
       "         '12:15:00': 1,\n",
       "         '12:30:00': 1,\n",
       "         '12:45:00': 1,\n",
       "         '13:00:00': 1,\n",
       "         '13:15:00': 1,\n",
       "         '13:30:00': 1,\n",
       "         '13:45:00': 1,\n",
       "         '14:00:00': 1,\n",
       "         '14:15:00': 1,\n",
       "         '14:30:00': 1,\n",
       "         '14:45:00': 1,\n",
       "         '15:00:00': 1,\n",
       "         '15:15:00': 1,\n",
       "         '15:30:00': 1,\n",
       "         '15:45:00': 1,\n",
       "         '16:00:00': 1,\n",
       "         '16:15:00': 1,\n",
       "         '16:30:00': 1,\n",
       "         '16:45:00': 1,\n",
       "         '17:00:00': 1,\n",
       "         '17:15:00': 1,\n",
       "         '17:30:00': 1,\n",
       "         '17:45:00': 1,\n",
       "         '18:00:00': 1,\n",
       "         '18:15:00': 1,\n",
       "         '18:30:00': 1,\n",
       "         '18:45:00': 1,\n",
       "         '19:00:00': 1,\n",
       "         '19:15:00': 1,\n",
       "         '19:30:00': 1,\n",
       "         '19:45:00': 1,\n",
       "         '20:00:00': 1,\n",
       "         '20:15:00': 1,\n",
       "         '20:30:00': 1,\n",
       "         '20:45:00': 1,\n",
       "         '21:00:00': 1,\n",
       "         '21:15:00': 1,\n",
       "         '21:30:00': 1,\n",
       "         '21:45:00': 1,\n",
       "         '22:00:00': 1,\n",
       "         '22:15:00': 1,\n",
       "         '22:30:00': 1,\n",
       "         '22:45:00': 1,\n",
       "         '23:00:00': 1,\n",
       "         '23:15:00': 1,\n",
       "         '23:30:00': 1,\n",
       "         '23:45:00': 1})"
      ]
     },
     "execution_count": 83,
     "metadata": {},
     "output_type": "execute_result"
    }
   ],
   "source": [
    "from collections import Counter\n",
    "\n",
    "bin_string = \"09:15:00 05:45:00\"\n",
    "bin_counter = Counter(all_bins)\n",
    "bin_counter.update(bin_string.split(' '))\n",
    "bin_counter"
   ]
  },
  {
   "cell_type": "code",
   "execution_count": 84,
   "metadata": {},
   "outputs": [
    {
     "data": {
      "text/plain": [
       "street_id                            citation_day\n",
       "01st St Clementina St  -  Folsom St  Saturday        {'00:00:00': 1, '00:15:00': 1, '00:30:00': 1, ...\n",
       "                                     Thursday        {'00:00:00': 1, '00:15:00': 2, '00:30:00': 1, ...\n",
       "                                     Tuesday         {'00:00:00': 1, '00:15:00': 2, '00:30:00': 1, ...\n",
       "                                     Wednesday       {'00:00:00': 1, '00:15:00': 1, '00:30:00': 1, ...\n",
       "01st St Elim St  -  Mission St       Friday          {'00:00:00': 1, '00:15:00': 1, '00:30:00': 1, ...\n",
       "                                                                           ...                        \n",
       "Zoe St Welsh St  -  Freelon St       Saturday        {'00:00:00': 1, '00:15:00': 1, '00:30:00': 1, ...\n",
       "                                     Sunday          {'00:00:00': 1, '00:15:00': 1, '00:30:00': 1, ...\n",
       "                                     Thursday        {'00:00:00': 1, '00:15:00': 12, '00:30:00': 9,...\n",
       "                                     Tuesday         {'00:00:00': 1, '00:15:00': 5, '00:30:00': 4, ...\n",
       "                                     Wednesday       {'00:00:00': 1, '00:15:00': 1, '00:30:00': 1, ...\n",
       "Name: time_bin, Length: 53043, dtype: object"
      ]
     },
     "execution_count": 84,
     "metadata": {},
     "output_type": "execute_result"
    }
   ],
   "source": [
    "def bin_string_to_counter(bin_string):\n",
    "    bin_counter = Counter(all_bins)\n",
    "    bin_counter.update(bin_string.split(' '))\n",
    "    return bin_counter\n",
    "\n",
    "binned_grouped.apply(bin_string_to_counter)"
   ]
  },
  {
   "cell_type": "code",
   "execution_count": 58,
   "metadata": {},
   "outputs": [
    {
     "data": {
      "text/html": [
       "<div>\n",
       "<style scoped>\n",
       "    .dataframe tbody tr th:only-of-type {\n",
       "        vertical-align: middle;\n",
       "    }\n",
       "\n",
       "    .dataframe tbody tr th {\n",
       "        vertical-align: top;\n",
       "    }\n",
       "\n",
       "    .dataframe thead th {\n",
       "        text-align: right;\n",
       "    }\n",
       "</style>\n",
       "<table border=\"1\" class=\"dataframe\">\n",
       "  <thead>\n",
       "    <tr style=\"text-align: right;\">\n",
       "      <th></th>\n",
       "      <th>citation_date</th>\n",
       "      <th>street_id</th>\n",
       "      <th>Citation Issued DateTime</th>\n",
       "      <th>Citation Location</th>\n",
       "      <th>geom</th>\n",
       "      <th>citation_day</th>\n",
       "      <th>citation_hour</th>\n",
       "      <th>street_geom_3d</th>\n",
       "    </tr>\n",
       "  </thead>\n",
       "  <tbody>\n",
       "    <tr>\n",
       "      <th>1124</th>\n",
       "      <td>2022-01-17</td>\n",
       "      <td>Avenue B lock Of  701  -  749</td>\n",
       "      <td>2022-01-17 11:29:00</td>\n",
       "      <td>390 09TH AVE</td>\n",
       "      <td>POINT (-122.37162 37.82020)</td>\n",
       "      <td>Monday</td>\n",
       "      <td>11</td>\n",
       "      <td>LINESTRING (-122.37491 37.82317, -122.37504 37...</td>\n",
       "    </tr>\n",
       "    <tr>\n",
       "      <th>1125</th>\n",
       "      <td>2022-02-05</td>\n",
       "      <td>Avenue B lock Of  701  -  749</td>\n",
       "      <td>2022-02-05 12:54:00</td>\n",
       "      <td>390 09TH AVE</td>\n",
       "      <td>POINT (-122.37162 37.82020)</td>\n",
       "      <td>Saturday</td>\n",
       "      <td>12</td>\n",
       "      <td>LINESTRING (-122.37491 37.82317, -122.37504 37...</td>\n",
       "    </tr>\n",
       "    <tr>\n",
       "      <th>1126</th>\n",
       "      <td>2022-07-06</td>\n",
       "      <td>Avenue B lock Of  701  -  749</td>\n",
       "      <td>2022-07-06 11:24:00</td>\n",
       "      <td>390 09TH AVE</td>\n",
       "      <td>POINT (-122.37162 37.82020)</td>\n",
       "      <td>Wednesday</td>\n",
       "      <td>11</td>\n",
       "      <td>LINESTRING (-122.37491 37.82317, -122.37504 37...</td>\n",
       "    </tr>\n",
       "    <tr>\n",
       "      <th>1127</th>\n",
       "      <td>2022-07-20</td>\n",
       "      <td>Avenue B lock Of  701  -  749</td>\n",
       "      <td>2022-07-20 10:40:00</td>\n",
       "      <td>390 09TH AVE</td>\n",
       "      <td>POINT (-122.37162 37.82020)</td>\n",
       "      <td>Wednesday</td>\n",
       "      <td>10</td>\n",
       "      <td>LINESTRING (-122.37491 37.82317, -122.37504 37...</td>\n",
       "    </tr>\n",
       "    <tr>\n",
       "      <th>1128</th>\n",
       "      <td>2022-01-25</td>\n",
       "      <td>Avenue B lock Of  701  -  749</td>\n",
       "      <td>2022-01-25 09:10:00</td>\n",
       "      <td>390 09TH AVE</td>\n",
       "      <td>POINT (-122.37162 37.82020)</td>\n",
       "      <td>Tuesday</td>\n",
       "      <td>9</td>\n",
       "      <td>LINESTRING (-122.37491 37.82317, -122.37504 37...</td>\n",
       "    </tr>\n",
       "    <tr>\n",
       "      <th>...</th>\n",
       "      <td>...</td>\n",
       "      <td>...</td>\n",
       "      <td>...</td>\n",
       "      <td>...</td>\n",
       "      <td>...</td>\n",
       "      <td>...</td>\n",
       "      <td>...</td>\n",
       "      <td>...</td>\n",
       "    </tr>\n",
       "    <tr>\n",
       "      <th>1059553</th>\n",
       "      <td>2022-11-07</td>\n",
       "      <td>Halibut Ct lock Of  1430  -  1434</td>\n",
       "      <td>2022-11-07 12:20:00</td>\n",
       "      <td>1314 05TH AVE</td>\n",
       "      <td>POINT (-122.37209 37.83127)</td>\n",
       "      <td>Monday</td>\n",
       "      <td>12</td>\n",
       "      <td>LINESTRING (-122.37559 37.82452, -122.37461 37...</td>\n",
       "    </tr>\n",
       "    <tr>\n",
       "      <th>1059587</th>\n",
       "      <td>2022-11-07</td>\n",
       "      <td>Halibut Ct lock Of  1430  -  1434</td>\n",
       "      <td>2022-11-07 12:15:00</td>\n",
       "      <td>1386 05TH AVE</td>\n",
       "      <td>POINT (-122.37275 37.83207)</td>\n",
       "      <td>Monday</td>\n",
       "      <td>12</td>\n",
       "      <td>LINESTRING (-122.37559 37.82452, -122.37461 37...</td>\n",
       "    </tr>\n",
       "    <tr>\n",
       "      <th>1059707</th>\n",
       "      <td>2022-09-21</td>\n",
       "      <td>Halibut Ct lock Of  1430  -  1434</td>\n",
       "      <td>2022-09-21 12:09:00</td>\n",
       "      <td>1358 06TH AVE</td>\n",
       "      <td>POINT (-122.37244 37.83177)</td>\n",
       "      <td>Wednesday</td>\n",
       "      <td>12</td>\n",
       "      <td>LINESTRING (-122.37559 37.82452, -122.37461 37...</td>\n",
       "    </tr>\n",
       "    <tr>\n",
       "      <th>1059766</th>\n",
       "      <td>2022-11-07</td>\n",
       "      <td>Halibut Ct lock Of  1430  -  1434</td>\n",
       "      <td>2022-11-07 12:29:00</td>\n",
       "      <td>1287 04TH AVE</td>\n",
       "      <td>POINT (-122.37181 37.83102)</td>\n",
       "      <td>Monday</td>\n",
       "      <td>12</td>\n",
       "      <td>LINESTRING (-122.37559 37.82452, -122.37461 37...</td>\n",
       "    </tr>\n",
       "    <tr>\n",
       "      <th>1059905</th>\n",
       "      <td>2022-11-08</td>\n",
       "      <td>Avenue B lock Of  701  -  749</td>\n",
       "      <td>2022-11-08 09:23:00</td>\n",
       "      <td>188 07TH AVE</td>\n",
       "      <td>POINT (-122.37160 37.82017)</td>\n",
       "      <td>Tuesday</td>\n",
       "      <td>9</td>\n",
       "      <td>LINESTRING (-122.37491 37.82317, -122.37504 37...</td>\n",
       "    </tr>\n",
       "  </tbody>\n",
       "</table>\n",
       "<p>9978 rows × 8 columns</p>\n",
       "</div>"
      ],
      "text/plain": [
       "        citation_date                          street_id  \\\n",
       "1124       2022-01-17      Avenue B lock Of  701  -  749   \n",
       "1125       2022-02-05      Avenue B lock Of  701  -  749   \n",
       "1126       2022-07-06      Avenue B lock Of  701  -  749   \n",
       "1127       2022-07-20      Avenue B lock Of  701  -  749   \n",
       "1128       2022-01-25      Avenue B lock Of  701  -  749   \n",
       "...               ...                                ...   \n",
       "1059553    2022-11-07  Halibut Ct lock Of  1430  -  1434   \n",
       "1059587    2022-11-07  Halibut Ct lock Of  1430  -  1434   \n",
       "1059707    2022-09-21  Halibut Ct lock Of  1430  -  1434   \n",
       "1059766    2022-11-07  Halibut Ct lock Of  1430  -  1434   \n",
       "1059905    2022-11-08      Avenue B lock Of  701  -  749   \n",
       "\n",
       "        Citation Issued DateTime Citation Location  \\\n",
       "1124         2022-01-17 11:29:00      390 09TH AVE   \n",
       "1125         2022-02-05 12:54:00      390 09TH AVE   \n",
       "1126         2022-07-06 11:24:00      390 09TH AVE   \n",
       "1127         2022-07-20 10:40:00      390 09TH AVE   \n",
       "1128         2022-01-25 09:10:00      390 09TH AVE   \n",
       "...                          ...               ...   \n",
       "1059553      2022-11-07 12:20:00     1314 05TH AVE   \n",
       "1059587      2022-11-07 12:15:00     1386 05TH AVE   \n",
       "1059707      2022-09-21 12:09:00     1358 06TH AVE   \n",
       "1059766      2022-11-07 12:29:00     1287 04TH AVE   \n",
       "1059905      2022-11-08 09:23:00      188 07TH AVE   \n",
       "\n",
       "                                geom citation_day  citation_hour  \\\n",
       "1124     POINT (-122.37162 37.82020)       Monday             11   \n",
       "1125     POINT (-122.37162 37.82020)     Saturday             12   \n",
       "1126     POINT (-122.37162 37.82020)    Wednesday             11   \n",
       "1127     POINT (-122.37162 37.82020)    Wednesday             10   \n",
       "1128     POINT (-122.37162 37.82020)      Tuesday              9   \n",
       "...                              ...          ...            ...   \n",
       "1059553  POINT (-122.37209 37.83127)       Monday             12   \n",
       "1059587  POINT (-122.37275 37.83207)       Monday             12   \n",
       "1059707  POINT (-122.37244 37.83177)    Wednesday             12   \n",
       "1059766  POINT (-122.37181 37.83102)       Monday             12   \n",
       "1059905  POINT (-122.37160 37.82017)      Tuesday              9   \n",
       "\n",
       "                                            street_geom_3d  \n",
       "1124     LINESTRING (-122.37491 37.82317, -122.37504 37...  \n",
       "1125     LINESTRING (-122.37491 37.82317, -122.37504 37...  \n",
       "1126     LINESTRING (-122.37491 37.82317, -122.37504 37...  \n",
       "1127     LINESTRING (-122.37491 37.82317, -122.37504 37...  \n",
       "1128     LINESTRING (-122.37491 37.82317, -122.37504 37...  \n",
       "...                                                    ...  \n",
       "1059553  LINESTRING (-122.37559 37.82452, -122.37461 37...  \n",
       "1059587  LINESTRING (-122.37559 37.82452, -122.37461 37...  \n",
       "1059707  LINESTRING (-122.37559 37.82452, -122.37461 37...  \n",
       "1059766  LINESTRING (-122.37559 37.82452, -122.37461 37...  \n",
       "1059905  LINESTRING (-122.37491 37.82317, -122.37504 37...  \n",
       "\n",
       "[9978 rows x 8 columns]"
      ]
     },
     "execution_count": 58,
     "metadata": {},
     "output_type": "execute_result"
    }
   ],
   "source": [
    "feat_df[feat_df.street_id.str.contains('lock Of')]"
   ]
  },
  {
   "cell_type": "code",
   "execution_count": 42,
   "metadata": {},
   "outputs": [
    {
     "data": {
      "text/html": [
       "<div>\n",
       "<style scoped>\n",
       "    .dataframe tbody tr th:only-of-type {\n",
       "        vertical-align: middle;\n",
       "    }\n",
       "\n",
       "    .dataframe tbody tr th {\n",
       "        vertical-align: top;\n",
       "    }\n",
       "\n",
       "    .dataframe thead th {\n",
       "        text-align: right;\n",
       "    }\n",
       "</style>\n",
       "<table border=\"1\" class=\"dataframe\">\n",
       "  <thead>\n",
       "    <tr style=\"text-align: right;\">\n",
       "      <th></th>\n",
       "      <th>Corridor</th>\n",
       "      <th>Limits</th>\n",
       "      <th>Line</th>\n",
       "      <th>street_geom_3d</th>\n",
       "      <th>street_length</th>\n",
       "    </tr>\n",
       "  </thead>\n",
       "  <tbody>\n",
       "    <tr>\n",
       "      <th>215</th>\n",
       "      <td>Great Hwy</td>\n",
       "      <td>Lincoln Way  -  Sloat Blvd</td>\n",
       "      <td>LINESTRING (-122.51034 37.76400, -122.51025 37...</td>\n",
       "      <td>LINESTRING (-122.51034 37.76400, -122.51025 37...</td>\n",
       "      <td>0.028796</td>\n",
       "    </tr>\n",
       "    <tr>\n",
       "      <th>377</th>\n",
       "      <td>Great Hwy</td>\n",
       "      <td>Lincoln Way  -  Sloat Blvd</td>\n",
       "      <td>LINESTRING (-122.51034 37.76400, -122.51041 37...</td>\n",
       "      <td>LINESTRING (-122.51034 37.76400, -122.51041 37...</td>\n",
       "      <td>0.028797</td>\n",
       "    </tr>\n",
       "    <tr>\n",
       "      <th>607</th>\n",
       "      <td>Great Hwy</td>\n",
       "      <td>Sloat Blvd  -  Skyline Blvd</td>\n",
       "      <td>LINESTRING (-122.50672 37.73547, -122.50666 37...</td>\n",
       "      <td>LINESTRING (-122.50672 37.73547, -122.50666 37...</td>\n",
       "      <td>0.012101</td>\n",
       "    </tr>\n",
       "    <tr>\n",
       "      <th>2474</th>\n",
       "      <td>Great Hwy</td>\n",
       "      <td>Sloat Blvd  -  Skyline Blvd</td>\n",
       "      <td>LINESTRING (-122.50672 37.73547, -122.50682 37...</td>\n",
       "      <td>LINESTRING (-122.50672 37.73547, -122.50682 37...</td>\n",
       "      <td>0.012255</td>\n",
       "    </tr>\n",
       "    <tr>\n",
       "      <th>3218</th>\n",
       "      <td>John Muir Dr</td>\n",
       "      <td>Lake Merced Blvd  -  Skyline Blvd</td>\n",
       "      <td>LINESTRING (-122.48572 37.70809, -122.48626 37...</td>\n",
       "      <td>LINESTRING (-122.48572 37.70809, -122.48626 37...</td>\n",
       "      <td>0.018843</td>\n",
       "    </tr>\n",
       "    <tr>\n",
       "      <th>14682</th>\n",
       "      <td>John F Shelley Dr</td>\n",
       "      <td>Cambridge St  -  Mansell St</td>\n",
       "      <td>LINESTRING (-122.41648 37.72181, -122.41668 37...</td>\n",
       "      <td>LINESTRING (-122.41648 37.72181, -122.41668 37...</td>\n",
       "      <td>0.016105</td>\n",
       "    </tr>\n",
       "  </tbody>\n",
       "</table>\n",
       "</div>"
      ],
      "text/plain": [
       "                Corridor                             Limits  \\\n",
       "215            Great Hwy         Lincoln Way  -  Sloat Blvd   \n",
       "377            Great Hwy         Lincoln Way  -  Sloat Blvd   \n",
       "607            Great Hwy        Sloat Blvd  -  Skyline Blvd   \n",
       "2474           Great Hwy        Sloat Blvd  -  Skyline Blvd   \n",
       "3218        John Muir Dr  Lake Merced Blvd  -  Skyline Blvd   \n",
       "14682  John F Shelley Dr        Cambridge St  -  Mansell St   \n",
       "\n",
       "                                                    Line  \\\n",
       "215    LINESTRING (-122.51034 37.76400, -122.51025 37...   \n",
       "377    LINESTRING (-122.51034 37.76400, -122.51041 37...   \n",
       "607    LINESTRING (-122.50672 37.73547, -122.50666 37...   \n",
       "2474   LINESTRING (-122.50672 37.73547, -122.50682 37...   \n",
       "3218   LINESTRING (-122.48572 37.70809, -122.48626 37...   \n",
       "14682  LINESTRING (-122.41648 37.72181, -122.41668 37...   \n",
       "\n",
       "                                          street_geom_3d  street_length  \n",
       "215    LINESTRING (-122.51034 37.76400, -122.51025 37...       0.028796  \n",
       "377    LINESTRING (-122.51034 37.76400, -122.51041 37...       0.028797  \n",
       "607    LINESTRING (-122.50672 37.73547, -122.50666 37...       0.012101  \n",
       "2474   LINESTRING (-122.50672 37.73547, -122.50682 37...       0.012255  \n",
       "3218   LINESTRING (-122.48572 37.70809, -122.48626 37...       0.018843  \n",
       "14682  LINESTRING (-122.41648 37.72181, -122.41668 37...       0.016105  "
      ]
     },
     "execution_count": 42,
     "metadata": {},
     "output_type": "execute_result"
    }
   ],
   "source": [
    "unique_streets[unique_streets.street_length > 0.01]"
   ]
  },
  {
   "cell_type": "code",
   "execution_count": 40,
   "metadata": {},
   "outputs": [],
   "source": [
    "# TODO: figure out how to resolve points that get mapped to multiple streets. for now, seems like only a small number have this problem so we ignore it.\n",
    "\n",
    "has_multiple_citations = joined['Citation Number'].value_counts()\n",
    "joined = joined[joined['Citation Number'].isin(has_multiple_citations[has_multiple_citations == 1].index)]\n"
   ]
  },
  {
   "cell_type": "code",
   "execution_count": 41,
   "metadata": {},
   "outputs": [
    {
     "data": {
      "text/plain": [
       "(1055954, 19)"
      ]
     },
     "execution_count": 41,
     "metadata": {},
     "output_type": "execute_result"
    }
   ],
   "source": [
    "joined.shape"
   ]
  },
  {
   "cell_type": "markdown",
   "metadata": {},
   "source": []
  },
  {
   "cell_type": "code",
   "execution_count": null,
   "metadata": {},
   "outputs": [],
   "source": []
  }
 ],
 "metadata": {
  "kernelspec": {
   "display_name": "stat-222",
   "language": "python",
   "name": "python3"
  },
  "language_info": {
   "codemirror_mode": {
    "name": "ipython",
    "version": 3
   },
   "file_extension": ".py",
   "mimetype": "text/x-python",
   "name": "python",
   "nbconvert_exporter": "python",
   "pygments_lexer": "ipython3",
   "version": "3.9.16"
  },
  "orig_nbformat": 4
 },
 "nbformat": 4,
 "nbformat_minor": 2
}
