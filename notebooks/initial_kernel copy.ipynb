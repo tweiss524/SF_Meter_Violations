{
 "cells": [
  {
   "cell_type": "markdown",
   "metadata": {},
   "source": [
    "## Imports / Helper Functions / Global Variables"
   ]
  },
  {
   "cell_type": "code",
   "execution_count": 31,
   "metadata": {},
   "outputs": [],
   "source": [
    "# force geopandas to use shapely instead of pygeos\n",
    "import os\n",
    "os.environ['USE_PYGEOS'] = '0'\n",
    "\n",
    "import numpy as np\n",
    "import pandas as pd\n",
    "import plotly.express as px\n",
    "from shapely import wkt\n",
    "from shapely.geometry import Point\n",
    "import geopandas as gpd\n",
    "import matplotlib.pyplot as plt\n",
    "from pyproj import Transformer\n",
    "from typing import List\n",
    "from collections import Counter\n",
    "import seaborn as sns\n",
    "from tqdm import tqdm"
   ]
  },
  {
   "cell_type": "code",
   "execution_count": 32,
   "metadata": {},
   "outputs": [],
   "source": [
    "# shorthand for datetime column\n",
    "\n",
    "DATE_COL = 'Citation Issued DateTime'"
   ]
  },
  {
   "cell_type": "code",
   "execution_count": 33,
   "metadata": {},
   "outputs": [],
   "source": [
    "# datetime manipulation helper functions\n",
    "\n",
    "def filter_by_date_range(df: pd.DataFrame, column_name: str, start_string: str, end_string: str):\n",
    "    return df[(df[column_name] >= pd.Timestamp(start_string)) & (df[column_name] <= pd.Timestamp(end_string))]"
   ]
  },
  {
   "cell_type": "code",
   "execution_count": 34,
   "metadata": {},
   "outputs": [
    {
     "data": {
      "image/svg+xml": [
       "<svg xmlns=\"http://www.w3.org/2000/svg\" xmlns:xlink=\"http://www.w3.org/1999/xlink\" width=\"100.0\" height=\"100.0\" viewBox=\"-123.46164710599999 36.77421091000008 2.0 2.0\" preserveAspectRatio=\"xMinYMin meet\"><g transform=\"matrix(1,0,0,-1,0,75.54842182000016)\"><circle cx=\"-122.46164710599999\" cy=\"37.77421091000008\" r=\"0.06\" stroke=\"#555555\" stroke-width=\"0.02\" fill=\"#66cc99\" opacity=\"0.6\" /></g></svg>"
      ],
      "text/plain": [
       "<POINT (-122.462 37.774)>"
      ]
     },
     "execution_count": 34,
     "metadata": {},
     "output_type": "execute_result"
    }
   ],
   "source": [
    "# helper functions for loading in US Census Bureau Geocoding data. This helps correct for ~10k observations with incorrect geolocation.\n",
    "\n",
    "# 1ST -> 01ST, 2ND -> 02ND, etc., to be compatible\n",
    "def inv_correct_numbered_streets(string):\n",
    "    for i in range(1, 10):\n",
    "        string = string.replace(f'{i}TH', f'0{i}TH')\n",
    "    # 1st, 2nd and 3rd are special cases\n",
    "    string = string.replace('1ST', '01ST')\n",
    "    string = string.replace('2ND', '02ND')\n",
    "    string = string.replace('3RD', '03RD')\n",
    "    return string\n",
    "\n",
    "def coord_string_to_point(coord_string):\n",
    "    x, y = [float(string) for string in coord_string.split(',')]\n",
    "    return Point(x, y)\n",
    "\n",
    "coord_string_to_point(\"-122.46164710599999,37.77421091000008\")"
   ]
  },
  {
   "cell_type": "code",
   "execution_count": 35,
   "metadata": {},
   "outputs": [],
   "source": [
    "# TODO: correct all \"lock Of\" addresses.\n",
    "\n",
    "# feat_df[feat_df.street_id.str.contains('lock Of')]"
   ]
  },
  {
   "cell_type": "code",
   "execution_count": 36,
   "metadata": {},
   "outputs": [],
   "source": [
    "def load_geocoder_data(csv_path='../data/chinook_ct_correct.csv'):\n",
    "    geo = pd.read_csv(csv_path, header=None)\n",
    "    geo = geo[geo[2] == 'Match']\n",
    "    geo[1] = geo[1].str.replace(', SAN FRANCISCO, CA,', '').apply(lambda x: x.strip())\n",
    "    geo = geo[[1, 5]]\n",
    "    geo.columns = ['street', 'geom']\n",
    "    geo.street = geo.street.apply(inv_correct_numbered_streets)\n",
    "    geo.geom = geo.geom.apply(coord_string_to_point)\n",
    "    return geo"
   ]
  },
  {
   "cell_type": "markdown",
   "metadata": {},
   "source": [
    "## Load Data and Fix Incorrect Data"
   ]
  },
  {
   "cell_type": "code",
   "execution_count": 37,
   "metadata": {},
   "outputs": [
    {
     "data": {
      "text/html": [
       "<div>\n",
       "<style scoped>\n",
       "    .dataframe tbody tr th:only-of-type {\n",
       "        vertical-align: middle;\n",
       "    }\n",
       "\n",
       "    .dataframe tbody tr th {\n",
       "        vertical-align: top;\n",
       "    }\n",
       "\n",
       "    .dataframe thead th {\n",
       "        text-align: right;\n",
       "    }\n",
       "</style>\n",
       "<table border=\"1\" class=\"dataframe\">\n",
       "  <thead>\n",
       "    <tr style=\"text-align: right;\">\n",
       "      <th></th>\n",
       "      <th>street</th>\n",
       "      <th>geom</th>\n",
       "    </tr>\n",
       "  </thead>\n",
       "  <tbody>\n",
       "    <tr>\n",
       "      <th>0</th>\n",
       "      <td>785 04TH AVE</td>\n",
       "      <td>POINT (-122.46164710599999 37.77421091000008)</td>\n",
       "    </tr>\n",
       "    <tr>\n",
       "      <th>1</th>\n",
       "      <td>756 08TH AVE</td>\n",
       "      <td>POINT (-122.46593421399996 37.77422294300004)</td>\n",
       "    </tr>\n",
       "    <tr>\n",
       "      <th>2</th>\n",
       "      <td>277 05TH AVE</td>\n",
       "      <td>POINT (-122.46339279499995 37.783491569000034)</td>\n",
       "    </tr>\n",
       "    <tr>\n",
       "      <th>3</th>\n",
       "      <td>404 08TH AVE</td>\n",
       "      <td>POINT (-122.46639889099998 37.78064289800005)</td>\n",
       "    </tr>\n",
       "    <tr>\n",
       "      <th>4</th>\n",
       "      <td>398 05TH ST</td>\n",
       "      <td>POINT (-122.40188964199996 37.77906450900008)</td>\n",
       "    </tr>\n",
       "  </tbody>\n",
       "</table>\n",
       "</div>"
      ],
      "text/plain": [
       "         street                                            geom\n",
       "0  785 04TH AVE   POINT (-122.46164710599999 37.77421091000008)\n",
       "1  756 08TH AVE   POINT (-122.46593421399996 37.77422294300004)\n",
       "2  277 05TH AVE  POINT (-122.46339279499995 37.783491569000034)\n",
       "3  404 08TH AVE   POINT (-122.46639889099998 37.78064289800005)\n",
       "4   398 05TH ST   POINT (-122.40188964199996 37.77906450900008)"
      ]
     },
     "execution_count": 37,
     "metadata": {},
     "output_type": "execute_result"
    }
   ],
   "source": [
    "geo_df = load_geocoder_data()\n",
    "geo_df.head()"
   ]
  },
  {
   "cell_type": "code",
   "execution_count": 38,
   "metadata": {},
   "outputs": [],
   "source": [
    "# create dictionary from pandas dataframe. \n",
    "\n",
    "geo_dict = pd.Series(geo_df.geom.values,index=geo_df.street).to_dict()"
   ]
  },
  {
   "cell_type": "code",
   "execution_count": 39,
   "metadata": {},
   "outputs": [
    {
     "data": {
      "text/plain": [
       "(2500, 2)"
      ]
     },
     "execution_count": 39,
     "metadata": {},
     "output_type": "execute_result"
    }
   ],
   "source": [
    "geo_df.shape"
   ]
  },
  {
   "cell_type": "code",
   "execution_count": 40,
   "metadata": {},
   "outputs": [
    {
     "data": {
      "text/html": [
       "<div>\n",
       "<style scoped>\n",
       "    .dataframe tbody tr th:only-of-type {\n",
       "        vertical-align: middle;\n",
       "    }\n",
       "\n",
       "    .dataframe tbody tr th {\n",
       "        vertical-align: top;\n",
       "    }\n",
       "\n",
       "    .dataframe thead th {\n",
       "        text-align: right;\n",
       "    }\n",
       "</style>\n",
       "<table border=\"1\" class=\"dataframe\">\n",
       "  <thead>\n",
       "    <tr style=\"text-align: right;\">\n",
       "      <th></th>\n",
       "      <th>Citation Number</th>\n",
       "      <th>Citation Issued DateTime</th>\n",
       "      <th>Violation</th>\n",
       "      <th>Violation Description</th>\n",
       "      <th>Citation Location</th>\n",
       "      <th>Vehicle Plate State</th>\n",
       "      <th>Vehicle Plate</th>\n",
       "      <th>Fine Amount</th>\n",
       "      <th>Date Added</th>\n",
       "      <th>geom</th>\n",
       "    </tr>\n",
       "  </thead>\n",
       "  <tbody>\n",
       "    <tr>\n",
       "      <th>0</th>\n",
       "      <td>950226616</td>\n",
       "      <td>04/20/2022 12:10:00 PM</td>\n",
       "      <td>TRC7.2.22</td>\n",
       "      <td>STR CLEAN</td>\n",
       "      <td>1318 FILBERT ST</td>\n",
       "      <td>CA</td>\n",
       "      <td>V507699</td>\n",
       "      <td>84.0</td>\n",
       "      <td>05/01/2022 12:00:00 AM</td>\n",
       "      <td>POINT (-122.42119800399996 37.800016984000024)</td>\n",
       "    </tr>\n",
       "    <tr>\n",
       "      <th>1</th>\n",
       "      <td>952126114</td>\n",
       "      <td>06/17/2022 04:12:00 PM</td>\n",
       "      <td>TRC7.2.20</td>\n",
       "      <td>RES/OT</td>\n",
       "      <td>1318 FILBERT ST</td>\n",
       "      <td>CA</td>\n",
       "      <td>BV44D97</td>\n",
       "      <td>96.0</td>\n",
       "      <td>07/17/2022 12:00:00 AM</td>\n",
       "      <td>POINT (-122.42119800399996 37.800016984000024)</td>\n",
       "    </tr>\n",
       "    <tr>\n",
       "      <th>2</th>\n",
       "      <td>950441903</td>\n",
       "      <td>04/23/2022 03:13:00 PM</td>\n",
       "      <td>V5200</td>\n",
       "      <td>NO PLATES</td>\n",
       "      <td>1318 FILBERT ST</td>\n",
       "      <td>CA</td>\n",
       "      <td>V507699</td>\n",
       "      <td>121.0</td>\n",
       "      <td>05/18/2022 12:00:00 AM</td>\n",
       "      <td>POINT (-122.42119800399996 37.800016984000024)</td>\n",
       "    </tr>\n",
       "    <tr>\n",
       "      <th>3</th>\n",
       "      <td>948460144</td>\n",
       "      <td>02/22/2022 11:54:00 AM</td>\n",
       "      <td>TRC7.2.20</td>\n",
       "      <td>RES/OT</td>\n",
       "      <td>1318 FILBERT ST</td>\n",
       "      <td>TX</td>\n",
       "      <td>HVT6737</td>\n",
       "      <td>96.0</td>\n",
       "      <td>05/23/2022 12:00:00 AM</td>\n",
       "      <td>POINT (-122.42119800399996 37.800016984000024)</td>\n",
       "    </tr>\n",
       "    <tr>\n",
       "      <th>4</th>\n",
       "      <td>948169644</td>\n",
       "      <td>02/17/2022 01:39:00 PM</td>\n",
       "      <td>TRC7.2.20</td>\n",
       "      <td>RES/OT</td>\n",
       "      <td>1318 FILBERT ST</td>\n",
       "      <td>OH</td>\n",
       "      <td>HQA6554</td>\n",
       "      <td>96.0</td>\n",
       "      <td>04/03/2022 12:00:00 AM</td>\n",
       "      <td>POINT (-122.42119800399996 37.800016984000024)</td>\n",
       "    </tr>\n",
       "  </tbody>\n",
       "</table>\n",
       "</div>"
      ],
      "text/plain": [
       "  Citation Number Citation Issued DateTime  Violation Violation Description  \\\n",
       "0       950226616   04/20/2022 12:10:00 PM  TRC7.2.22             STR CLEAN   \n",
       "1       952126114   06/17/2022 04:12:00 PM  TRC7.2.20                RES/OT   \n",
       "2       950441903   04/23/2022 03:13:00 PM      V5200             NO PLATES   \n",
       "3       948460144   02/22/2022 11:54:00 AM  TRC7.2.20                RES/OT   \n",
       "4       948169644   02/17/2022 01:39:00 PM  TRC7.2.20                RES/OT   \n",
       "\n",
       "  Citation Location Vehicle Plate State Vehicle Plate  Fine Amount  \\\n",
       "0   1318 FILBERT ST                  CA       V507699         84.0   \n",
       "1   1318 FILBERT ST                  CA       BV44D97         96.0   \n",
       "2   1318 FILBERT ST                  CA       V507699        121.0   \n",
       "3   1318 FILBERT ST                  TX       HVT6737         96.0   \n",
       "4   1318 FILBERT ST                  OH       HQA6554         96.0   \n",
       "\n",
       "               Date Added                                            geom  \n",
       "0  05/01/2022 12:00:00 AM  POINT (-122.42119800399996 37.800016984000024)  \n",
       "1  07/17/2022 12:00:00 AM  POINT (-122.42119800399996 37.800016984000024)  \n",
       "2  05/18/2022 12:00:00 AM  POINT (-122.42119800399996 37.800016984000024)  \n",
       "3  05/23/2022 12:00:00 AM  POINT (-122.42119800399996 37.800016984000024)  \n",
       "4  04/03/2022 12:00:00 AM  POINT (-122.42119800399996 37.800016984000024)  "
      ]
     },
     "execution_count": 40,
     "metadata": {},
     "output_type": "execute_result"
    }
   ],
   "source": [
    "df = pd.read_csv(\"../data/data_2022_with_geom.csv\")\n",
    "df.head()"
   ]
  },
  {
   "cell_type": "code",
   "execution_count": 41,
   "metadata": {},
   "outputs": [],
   "source": [
    "# filter to only meter violations\n",
    "\n",
    "df = df[(df[\"Violation Description\"].str.contains(\"METER\")) | (df[\"Violation Description\"].str.contains(\"MTR\"))]"
   ]
  },
  {
   "cell_type": "code",
   "execution_count": 42,
   "metadata": {},
   "outputs": [
    {
     "data": {
      "text/plain": [
       "MTR OUT DT    114608\n",
       "METER DTN      56350\n",
       "OT MTR PK        229\n",
       "Name: Violation Description, dtype: int64"
      ]
     },
     "execution_count": 42,
     "metadata": {},
     "output_type": "execute_result"
    }
   ],
   "source": [
    "df[\"Violation Description\"].value_counts()"
   ]
  },
  {
   "cell_type": "code",
   "execution_count": 43,
   "metadata": {},
   "outputs": [],
   "source": [
    "df['geom'] = df.geom.apply(wkt.loads)\n",
    "df = gpd.GeoDataFrame(df, geometry='geom')\n",
    "df.crs = 'EPSG:4326'"
   ]
  },
  {
   "cell_type": "code",
   "execution_count": 44,
   "metadata": {},
   "outputs": [],
   "source": [
    "# TODO: rewrite this using np.where or pandas where \n",
    "# TODO: use a better geocoder to fix more rows.\n",
    "\n",
    "def fix_geom(row):\n",
    "    if row['Citation Location'] in geo_dict:\n",
    "        return geo_dict[row['Citation Location']]\n",
    "    return row['geom']\n",
    "\n",
    "df['geom'] = df.apply(fix_geom, axis=1)"
   ]
  },
  {
   "cell_type": "markdown",
   "metadata": {},
   "source": [
    "## Add / Modify Dataframe Columns"
   ]
  },
  {
   "cell_type": "code",
   "execution_count": 45,
   "metadata": {},
   "outputs": [],
   "source": [
    "df[DATE_COL] = pd.to_datetime(df[DATE_COL])"
   ]
  },
  {
   "cell_type": "code",
   "execution_count": 46,
   "metadata": {},
   "outputs": [],
   "source": [
    "# add auxillary date attribute columns based on the datetime. \n",
    "\n",
    "df['citation_day'] = df[DATE_COL].dt.day_name()\n",
    "df['citation_hour'] = df[DATE_COL].dt.hour\n",
    "df['citation_date'] = df[DATE_COL].dt.date"
   ]
  },
  {
   "cell_type": "code",
   "execution_count": 47,
   "metadata": {},
   "outputs": [],
   "source": [
    "has_location_string = df[~df['Citation Location'].isnull()]"
   ]
  },
  {
   "cell_type": "markdown",
   "metadata": {},
   "source": [
    "## Spatial Join"
   ]
  },
  {
   "cell_type": "code",
   "execution_count": 48,
   "metadata": {},
   "outputs": [],
   "source": [
    "# load dataframe of street segments\n",
    "\n",
    "street_df = pd.read_csv('../data/street_sweeping.csv')\n",
    "street_df = street_df[~street_df.Line.isnull()]\n",
    "street_df.loc[:, 'Line'] = street_df.Line.apply(wkt.loads)\n",
    "street_df = gpd.GeoDataFrame(street_df, geometry='Line')\n",
    "street_df.crs = 'EPSG:4326'"
   ]
  },
  {
   "cell_type": "code",
   "execution_count": 49,
   "metadata": {},
   "outputs": [],
   "source": [
    "# TODO: technically should project into a flat geometry in order to get more accurate distances  \n",
    "\n",
    "# unique_streets = street_df.drop_duplicates(subset='Line')\n",
    "# unique_streets = unique_streets[['Corridor', 'Limits', 'Line']]\n",
    "\n",
    "# # save copy of geom column because it will be destroyed by projection / join.\n",
    "# unique_streets['street_geom_3d'] = unique_streets['Line']\n",
    "# unique_streets['street_length'] = unique_streets.street_geom_3d.apply(lambda x: x.length)\n",
    "\n",
    "unique_streets = pd.read_csv(\"../data/unique_streets.csv\")\n",
    "\n",
    "unique_streets['geom'] = unique_streets.Line.apply(wkt.loads)\n",
    "unique_streets = gpd.GeoDataFrame(unique_streets, geometry='geom')\n",
    "unique_streets.crs = 'EPSG:4326'"
   ]
  },
  {
   "cell_type": "code",
   "execution_count": 50,
   "metadata": {},
   "outputs": [
    {
     "data": {
      "image/png": "[encoded data removed]",
      "text/plain": [
       "<Figure size 640x480 with 1 Axes>"
      ]
     },
     "metadata": {},
     "output_type": "display_data"
    }
   ],
   "source": [
    "sns.set()\n",
    "sns.set_theme(style='white')\n",
    "#sns.set_style(\"ticks\", {\"xtick.major.size\": 8, \"ytick.major.size\": 0})\n",
    "ax = unique_streets.street_length.plot(kind=\"hist\", logy = True)\n",
    "ax.bar_label(ax.containers[0], label_type=\"edge\");\n",
    "\n",
    "plt.xlabel(\"Euclidean Distance Between Endpoints of Street Segments\")\n",
    "plt.ylabel(\"log(Frequency)\")\n",
    "plt.title(\"Distribution of Street Segment Lengths\");\n",
    "plt.show()\n",
    "sns.reset_orig()\n"
   ]
  },
  {
   "cell_type": "code",
   "execution_count": 51,
   "metadata": {},
   "outputs": [
    {
     "name": "stderr",
     "output_type": "stream",
     "text": [
      "/Users/bryanwang/opt/miniconda3/envs/stat-222/lib/python3.9/site-packages/geopandas/array.py:344: UserWarning: Geometry is in a geographic CRS. Results from 'sjoin_nearest' are likely incorrect. Use 'GeoSeries.to_crs()' to re-project geometries to a projected CRS before this operation.\n",
      "\n",
      "  warnings.warn(\n"
     ]
    },
    {
     "data": {
      "text/plain": [
       "(171601, 21)"
      ]
     },
     "execution_count": 51,
     "metadata": {},
     "output_type": "execute_result"
    }
   ],
   "source": [
    "joined = gpd.sjoin_nearest(df, unique_streets, distance_col='dist', how='left')\n",
    "joined.shape"
   ]
  },
  {
   "cell_type": "code",
   "execution_count": 52,
   "metadata": {},
   "outputs": [],
   "source": [
    "# TODO: figure out how to resolve points that get mapped to multiple streets. for now, seems like only a small number have this problem so we ignore it.\n",
    "\n",
    "has_multiple_citations = joined['Citation Number'].value_counts()\n",
    "joined = joined[joined['Citation Number'].isin(has_multiple_citations[has_multiple_citations == 1].index)]"
   ]
  },
  {
   "cell_type": "markdown",
   "metadata": {},
   "source": [
    "## Group and Cluster"
   ]
  },
  {
   "cell_type": "code",
   "execution_count": 53,
   "metadata": {},
   "outputs": [],
   "source": [
    "joined['street_id'] = joined['Corridor'] + ' ' + joined['Limits']"
   ]
  },
  {
   "cell_type": "code",
   "execution_count": 82,
   "metadata": {},
   "outputs": [],
   "source": [
    "feat_df = joined[['citation_date', 'street_id', DATE_COL, 'Citation Location', 'geom', 'citation_day', 'citation_hour', 'street_geom_3d']]"
   ]
  },
  {
   "cell_type": "code",
   "execution_count": 55,
   "metadata": {},
   "outputs": [],
   "source": [
    "unique_streets = pd.read_csv('../data/street_sweeping.csv')\n",
    "unique_streets = unique_streets[~unique_streets.Line.isnull()]\n",
    "unique_streets.loc[:, 'Line'] = unique_streets.Line.apply(wkt.loads)\n",
    "unique_streets = gpd.GeoDataFrame(unique_streets, geometry='Line')\n",
    "unique_streets.crs = 'EPSG:4326'"
   ]
  },
  {
   "cell_type": "code",
   "execution_count": 56,
   "metadata": {},
   "outputs": [],
   "source": [
    "# did not use\n",
    "\n",
    "# unique_streets[['X1', 'Y1']] = unique_streets['Line'].apply(lambda x: pd.Series([x.coords[0][0], x.coords[0][1]]))\n",
    "# unique_streets[['X2', 'Y2']] = unique_streets['Line'].apply(lambda x: pd.Series([x.coords[1][0], x.coords[1][1]]))\n",
    "\n",
    "# unique_streets['Endpoint1'] = unique_streets['X1'].astype(str) + \" \" + unique_streets['Y1'].astype(str)\n",
    "# unique_streets['Endpoint2'] = unique_streets['X2'].astype(str) + \" \" + unique_streets['Y2'].astype(str)"
   ]
  },
  {
   "cell_type": "code",
   "execution_count": 57,
   "metadata": {},
   "outputs": [],
   "source": [
    "# unique_streets['segment_id'] = unique_streets['Corridor'] + ' ' + unique_streets['Limits']"
   ]
  },
  {
   "cell_type": "code",
   "execution_count": 58,
   "metadata": {},
   "outputs": [],
   "source": [
    "def get_intersect_st(df, segment_id):\n",
    "    # getting endpoints of initial condition\n",
    "    Endpoint1 = df[df['segment_id'] == segment_id]['Endpoint1'].iloc[0]\n",
    "    Endpoint2 = df[df['segment_id'] == segment_id]['Endpoint2'].iloc[0]\n",
    "\n",
    "    # now we need to get the segment_id's of streets that share the same endpoints\n",
    "    unique_segments1 = df[(df['Endpoint1'] == Endpoint1) | (df['Endpoint1'] == Endpoint2)]['segment_id'].unique()\n",
    "    unique_segments2 = df[(df['Endpoint2'] == Endpoint1) | (df['Endpoint2'] == Endpoint2)]['segment_id'].unique()\n",
    "\n",
    "    # now return a concatenated list of segments into one vector\n",
    "    unique_segments = np.unique(np.concatenate((unique_segments1, unique_segments2)))\n",
    "\n",
    "    # Remove current segment from intersection\n",
    "    unique_segments = unique_segments[unique_segments != segment_id]\n",
    "\n",
    "    return(unique_segments)\n",
    "\n",
    "# get_intersect_st(unique_streets, '22nd St Mission St  -  Bartlett St')"
   ]
  },
  {
   "cell_type": "code",
   "execution_count": 59,
   "metadata": {},
   "outputs": [],
   "source": [
    "# unique_streets['adjacent_streets'] = unique_streets['segment_id'].apply(lambda segment_id: get_intersect_st(unique_streets, segment_id))"
   ]
  },
  {
   "cell_type": "code",
   "execution_count": 60,
   "metadata": {},
   "outputs": [],
   "source": [
    "# adjacent_dict = pd.Series(unique_streets.adjacent_streets.values,index=unique_streets.segment_id).to_dict()"
   ]
  },
  {
   "cell_type": "code",
   "execution_count": 83,
   "metadata": {},
   "outputs": [
    {
     "name": "stderr",
     "output_type": "stream",
     "text": [
      "/Users/bryanwang/opt/miniconda3/envs/stat-222/lib/python3.9/site-packages/geopandas/geodataframe.py:1443: SettingWithCopyWarning: \n",
      "A value is trying to be set on a copy of a slice from a DataFrame.\n",
      "Try using .loc[row_indexer,col_indexer] = value instead\n",
      "\n",
      "See the caveats in the documentation: https://pandas.pydata.org/pandas-docs/stable/user_guide/indexing.html#returning-a-view-versus-a-copy\n",
      "  super().__setitem__(key, value)\n"
     ]
    }
   ],
   "source": [
    "feat_df['time_bin'] = feat_df[DATE_COL].dt.floor(\"15min\").dt.time.astype(str)"
   ]
  },
  {
   "cell_type": "code",
   "execution_count": 65,
   "metadata": {},
   "outputs": [],
   "source": [
    "# group by citation date\n",
    "# for each adjacent street, we get all time bin values for that street on that day (in the group by)\n",
    "# get new row based on current row, but replace time bin + duplicate \n",
    "\n",
    "def flatten(l):\n",
    "    return [item for sublist in l for item in sublist]\n",
    "\n",
    "def augment_group(group):\n",
    "    unique_adjacent_streets = list(set(flatten(group.street_id.apply(lambda street_id: adjacent_dict[street_id]))))\n",
    "    extra_rows = []\n",
    "    for street in unique_adjacent_streets:\n",
    "        adjacent_streets = adjacent_dict[street]\n",
    "        extra = group[group['street_id'].isin(adjacent_streets)]\n",
    "        extra['street_id'] = street\n",
    "        extra_rows.append(extra)\n",
    "    return extra_rows"
   ]
  },
  {
   "cell_type": "code",
   "execution_count": 66,
   "metadata": {},
   "outputs": [],
   "source": [
    "# for spatial smoothing only\n",
    "\n",
    "# antipattern \n",
    "# aug_list = []\n",
    "\n",
    "# for group_name, df_group in tqdm(feat_df.groupby('citation_date')):\n",
    "#     aug = augment_group(df_group)\n",
    "#     if len(aug) > 0:\n",
    "#         aug_list.extend(aug)"
   ]
  },
  {
   "cell_type": "code",
   "execution_count": null,
   "metadata": {},
   "outputs": [],
   "source": [
    "# antipattern!\n",
    "\n",
    "# augs = pd.concat(aug_list)"
   ]
  },
  {
   "cell_type": "code",
   "execution_count": null,
   "metadata": {},
   "outputs": [],
   "source": [
    "# feat_df = pd.concat([feat_df, augs])\n",
    "# feat_df.shape"
   ]
  },
  {
   "cell_type": "code",
   "execution_count": 84,
   "metadata": {},
   "outputs": [],
   "source": [
    "all_bins = sorted(feat_df['time_bin'].unique())"
   ]
  },
  {
   "cell_type": "code",
   "execution_count": 93,
   "metadata": {},
   "outputs": [
    {
     "data": {
      "text/html": [
       "<div>\n",
       "<style scoped>\n",
       "    .dataframe tbody tr th:only-of-type {\n",
       "        vertical-align: middle;\n",
       "    }\n",
       "\n",
       "    .dataframe tbody tr th {\n",
       "        vertical-align: top;\n",
       "    }\n",
       "\n",
       "    .dataframe thead th {\n",
       "        text-align: right;\n",
       "    }\n",
       "</style>\n",
       "<table border=\"1\" class=\"dataframe\">\n",
       "  <thead>\n",
       "    <tr style=\"text-align: right;\">\n",
       "      <th></th>\n",
       "      <th>citation_date</th>\n",
       "      <th>street_id</th>\n",
       "      <th>Citation Issued DateTime</th>\n",
       "      <th>Citation Location</th>\n",
       "      <th>geom</th>\n",
       "      <th>citation_day</th>\n",
       "      <th>citation_hour</th>\n",
       "      <th>street_geom_3d</th>\n",
       "      <th>time_bin</th>\n",
       "    </tr>\n",
       "  </thead>\n",
       "  <tbody>\n",
       "    <tr>\n",
       "      <th>329991</th>\n",
       "      <td>2022-02-26</td>\n",
       "      <td>Zoe St Freelon St  -  Brannan St</td>\n",
       "      <td>2022-02-26 14:01:00</td>\n",
       "      <td>440 BRANNAN ST</td>\n",
       "      <td>POINT (-122.39568 37.77946)</td>\n",
       "      <td>Saturday</td>\n",
       "      <td>14</td>\n",
       "      <td>LINESTRING (-122.395835332739 37.779720604982,...</td>\n",
       "      <td>14:00:00</td>\n",
       "    </tr>\n",
       "  </tbody>\n",
       "</table>\n",
       "</div>"
      ],
      "text/plain": [
       "       citation_date                         street_id  \\\n",
       "329991    2022-02-26  Zoe St Freelon St  -  Brannan St   \n",
       "\n",
       "       Citation Issued DateTime Citation Location  \\\n",
       "329991      2022-02-26 14:01:00    440 BRANNAN ST   \n",
       "\n",
       "                               geom citation_day  citation_hour  \\\n",
       "329991  POINT (-122.39568 37.77946)     Saturday             14   \n",
       "\n",
       "                                           street_geom_3d  time_bin  \n",
       "329991  LINESTRING (-122.395835332739 37.779720604982,...  14:00:00  "
      ]
     },
     "execution_count": 93,
     "metadata": {},
     "output_type": "execute_result"
    }
   ],
   "source": [
    "feat_df[(feat_df['street_id'] == 'Zoe St Freelon St  -  Brannan St') & (feat_df['citation_day'] == 'Saturday')]"
   ]
  },
  {
   "cell_type": "code",
   "execution_count": 81,
   "metadata": {},
   "outputs": [],
   "source": [
    "# keep each entry for a particular time bin on a particular date + street\n",
    "\n",
    "feat_df = feat_df.drop_duplicates(['citation_date', 'street_id', 'time_bin'])\n",
    "binned_grouped = feat_df.groupby(['street_id', 'citation_day'])['time_bin'].agg(' '.join)"
   ]
  },
  {
   "cell_type": "code",
   "execution_count": 69,
   "metadata": {},
   "outputs": [
    {
     "data": {
      "text/plain": [
       "street_id                         citation_day\n",
       "01st St Elim St  -  Mission St    Friday                        12:00:00 11:45:00 12:00:00 11:30:00\n",
       "                                  Monday                                          12:00:00 14:30:00\n",
       "                                  Thursday        12:30:00 12:15:00 11:15:00 12:15:00 11:00:00 1...\n",
       "                                  Tuesday              11:45:00 11:00:00 13:00:00 12:30:00 14:15:00\n",
       "                                  Wednesday                     14:15:00 12:15:00 12:15:00 12:00:00\n",
       "                                                                        ...                        \n",
       "Zoe St Freelon St  -  Brannan St  Monday                                          16:45:00 19:00:00\n",
       "                                  Saturday                                                 14:00:00\n",
       "                                  Thursday                      13:15:00 12:15:00 13:45:00 17:00:00\n",
       "                                  Tuesday              15:30:00 09:00:00 13:45:00 13:00:00 18:45:00\n",
       "                                  Wednesday       14:45:00 13:15:00 17:45:00 12:00:00 19:00:00 1...\n",
       "Name: time_bin, Length: 10869, dtype: object"
      ]
     },
     "execution_count": 69,
     "metadata": {},
     "output_type": "execute_result"
    }
   ],
   "source": [
    "binned_grouped"
   ]
  },
  {
   "cell_type": "code",
   "execution_count": 94,
   "metadata": {},
   "outputs": [],
   "source": [
    "def bin_string_to_counter(bin_string):\n",
    "    bin_counter = Counter(all_bins)\n",
    "    bin_counter.update(bin_string.split(' '))\n",
    "    return bin_counter\n",
    "\n",
    "agg_counts = binned_grouped.apply(bin_string_to_counter).groupby(['street_id', 'citation_day']).sum()"
   ]
  },
  {
   "cell_type": "code",
   "execution_count": 104,
   "metadata": {},
   "outputs": [],
   "source": [
    "# sanity check\n",
    "\n",
    "# g = agg_counts.reset_index()\n",
    "# g[g['street_id'] == '01st St Elim St  -  Mission St'].iloc[0]['time_bin']"
   ]
  },
  {
   "cell_type": "code",
   "execution_count": 105,
   "metadata": {},
   "outputs": [],
   "source": [
    "unique_street_names = agg_counts.index.get_level_values(0).unique()"
   ]
  },
  {
   "cell_type": "code",
   "execution_count": 106,
   "metadata": {},
   "outputs": [],
   "source": [
    "weekdays = ['Monday', 'Tuesday', 'Wednesday', 'Thursday', 'Friday', 'Saturday', 'Sunday']"
   ]
  },
  {
   "cell_type": "code",
   "execution_count": 107,
   "metadata": {},
   "outputs": [],
   "source": [
    "from datetime import date, timedelta\n",
    "\n",
    "df.sort_values(\"Citation Issued DateTime\").head()\n",
    "sdate = date(2022,1,1)   # start date\n",
    "edate = date(2023,2,20)   # end date\n",
    "dates = pd.date_range(sdate, edate-timedelta(days=1),freq='d')\n",
    "dates_counts = dates.day_name().value_counts().reindex(weekdays)"
   ]
  },
  {
   "cell_type": "code",
   "execution_count": 108,
   "metadata": {},
   "outputs": [
    {
     "name": "stderr",
     "output_type": "stream",
     "text": [
      "100%|███████████████████████████████████████████████████████████████████████████████████████████████████████████| 2138/2138 [00:04<00:00, 453.47it/s]\n"
     ]
    }
   ],
   "source": [
    "df_list = []\n",
    "\n",
    "for name in tqdm(unique_street_names):\n",
    "    t = agg_counts.xs(name, level=0, drop_level=False).reset_index().set_index('citation_day').reindex(weekdays, fill_value=Counter(all_bins))\n",
    "    t.street_id = name\n",
    "    dist_df = pd.concat([t.reset_index(), (pd.DataFrame.from_records(t.time_bin) - 1)], axis=1)# .divide(dates_counts.values, axis = 0)], axis=1)\n",
    "    df_list.append(dist_df)"
   ]
  },
  {
   "cell_type": "code",
   "execution_count": 109,
   "metadata": {},
   "outputs": [
    {
     "data": {
      "text/html": [
       "<div>\n",
       "<style scoped>\n",
       "    .dataframe tbody tr th:only-of-type {\n",
       "        vertical-align: middle;\n",
       "    }\n",
       "\n",
       "    .dataframe tbody tr th {\n",
       "        vertical-align: top;\n",
       "    }\n",
       "\n",
       "    .dataframe thead th {\n",
       "        text-align: right;\n",
       "    }\n",
       "</style>\n",
       "<table border=\"1\" class=\"dataframe\">\n",
       "  <thead>\n",
       "    <tr style=\"text-align: right;\">\n",
       "      <th></th>\n",
       "      <th>citation_day</th>\n",
       "      <th>street_id</th>\n",
       "      <th>time_bin</th>\n",
       "      <th>00:00:00</th>\n",
       "      <th>07:00:00</th>\n",
       "      <th>07:15:00</th>\n",
       "      <th>07:30:00</th>\n",
       "      <th>07:45:00</th>\n",
       "      <th>08:00:00</th>\n",
       "      <th>08:15:00</th>\n",
       "      <th>...</th>\n",
       "      <th>20:30:00</th>\n",
       "      <th>20:45:00</th>\n",
       "      <th>21:00:00</th>\n",
       "      <th>21:15:00</th>\n",
       "      <th>21:30:00</th>\n",
       "      <th>21:45:00</th>\n",
       "      <th>22:00:00</th>\n",
       "      <th>22:15:00</th>\n",
       "      <th>22:30:00</th>\n",
       "      <th>22:45:00</th>\n",
       "    </tr>\n",
       "  </thead>\n",
       "  <tbody>\n",
       "    <tr>\n",
       "      <th>0</th>\n",
       "      <td>Monday</td>\n",
       "      <td>01st St Elim St  -  Mission St</td>\n",
       "      <td>{'00:00:00': 1, '07:00:00': 1, '07:15:00': 1, ...</td>\n",
       "      <td>0</td>\n",
       "      <td>0</td>\n",
       "      <td>0</td>\n",
       "      <td>0</td>\n",
       "      <td>0</td>\n",
       "      <td>0</td>\n",
       "      <td>0</td>\n",
       "      <td>...</td>\n",
       "      <td>0</td>\n",
       "      <td>0</td>\n",
       "      <td>0</td>\n",
       "      <td>0</td>\n",
       "      <td>0</td>\n",
       "      <td>0</td>\n",
       "      <td>0</td>\n",
       "      <td>0</td>\n",
       "      <td>0</td>\n",
       "      <td>0</td>\n",
       "    </tr>\n",
       "    <tr>\n",
       "      <th>1</th>\n",
       "      <td>Tuesday</td>\n",
       "      <td>01st St Elim St  -  Mission St</td>\n",
       "      <td>{'00:00:00': 1, '07:00:00': 1, '07:15:00': 1, ...</td>\n",
       "      <td>0</td>\n",
       "      <td>0</td>\n",
       "      <td>0</td>\n",
       "      <td>0</td>\n",
       "      <td>0</td>\n",
       "      <td>0</td>\n",
       "      <td>0</td>\n",
       "      <td>...</td>\n",
       "      <td>0</td>\n",
       "      <td>0</td>\n",
       "      <td>0</td>\n",
       "      <td>0</td>\n",
       "      <td>0</td>\n",
       "      <td>0</td>\n",
       "      <td>0</td>\n",
       "      <td>0</td>\n",
       "      <td>0</td>\n",
       "      <td>0</td>\n",
       "    </tr>\n",
       "    <tr>\n",
       "      <th>2</th>\n",
       "      <td>Wednesday</td>\n",
       "      <td>01st St Elim St  -  Mission St</td>\n",
       "      <td>{'00:00:00': 1, '07:00:00': 1, '07:15:00': 1, ...</td>\n",
       "      <td>0</td>\n",
       "      <td>0</td>\n",
       "      <td>0</td>\n",
       "      <td>0</td>\n",
       "      <td>0</td>\n",
       "      <td>0</td>\n",
       "      <td>0</td>\n",
       "      <td>...</td>\n",
       "      <td>0</td>\n",
       "      <td>0</td>\n",
       "      <td>0</td>\n",
       "      <td>0</td>\n",
       "      <td>0</td>\n",
       "      <td>0</td>\n",
       "      <td>0</td>\n",
       "      <td>0</td>\n",
       "      <td>0</td>\n",
       "      <td>0</td>\n",
       "    </tr>\n",
       "    <tr>\n",
       "      <th>3</th>\n",
       "      <td>Thursday</td>\n",
       "      <td>01st St Elim St  -  Mission St</td>\n",
       "      <td>{'00:00:00': 1, '07:00:00': 1, '07:15:00': 1, ...</td>\n",
       "      <td>0</td>\n",
       "      <td>0</td>\n",
       "      <td>0</td>\n",
       "      <td>0</td>\n",
       "      <td>0</td>\n",
       "      <td>0</td>\n",
       "      <td>0</td>\n",
       "      <td>...</td>\n",
       "      <td>0</td>\n",
       "      <td>0</td>\n",
       "      <td>0</td>\n",
       "      <td>0</td>\n",
       "      <td>0</td>\n",
       "      <td>0</td>\n",
       "      <td>0</td>\n",
       "      <td>0</td>\n",
       "      <td>0</td>\n",
       "      <td>0</td>\n",
       "    </tr>\n",
       "    <tr>\n",
       "      <th>4</th>\n",
       "      <td>Friday</td>\n",
       "      <td>01st St Elim St  -  Mission St</td>\n",
       "      <td>{'00:00:00': 1, '07:00:00': 1, '07:15:00': 1, ...</td>\n",
       "      <td>0</td>\n",
       "      <td>0</td>\n",
       "      <td>0</td>\n",
       "      <td>0</td>\n",
       "      <td>0</td>\n",
       "      <td>0</td>\n",
       "      <td>0</td>\n",
       "      <td>...</td>\n",
       "      <td>0</td>\n",
       "      <td>0</td>\n",
       "      <td>0</td>\n",
       "      <td>0</td>\n",
       "      <td>0</td>\n",
       "      <td>0</td>\n",
       "      <td>0</td>\n",
       "      <td>0</td>\n",
       "      <td>0</td>\n",
       "      <td>0</td>\n",
       "    </tr>\n",
       "  </tbody>\n",
       "</table>\n",
       "<p>5 rows × 68 columns</p>\n",
       "</div>"
      ],
      "text/plain": [
       "  citation_day                       street_id  \\\n",
       "0       Monday  01st St Elim St  -  Mission St   \n",
       "1      Tuesday  01st St Elim St  -  Mission St   \n",
       "2    Wednesday  01st St Elim St  -  Mission St   \n",
       "3     Thursday  01st St Elim St  -  Mission St   \n",
       "4       Friday  01st St Elim St  -  Mission St   \n",
       "\n",
       "                                            time_bin  00:00:00  07:00:00  \\\n",
       "0  {'00:00:00': 1, '07:00:00': 1, '07:15:00': 1, ...         0         0   \n",
       "1  {'00:00:00': 1, '07:00:00': 1, '07:15:00': 1, ...         0         0   \n",
       "2  {'00:00:00': 1, '07:00:00': 1, '07:15:00': 1, ...         0         0   \n",
       "3  {'00:00:00': 1, '07:00:00': 1, '07:15:00': 1, ...         0         0   \n",
       "4  {'00:00:00': 1, '07:00:00': 1, '07:15:00': 1, ...         0         0   \n",
       "\n",
       "   07:15:00  07:30:00  07:45:00  08:00:00  08:15:00  ...  20:30:00  20:45:00  \\\n",
       "0         0         0         0         0         0  ...         0         0   \n",
       "1         0         0         0         0         0  ...         0         0   \n",
       "2         0         0         0         0         0  ...         0         0   \n",
       "3         0         0         0         0         0  ...         0         0   \n",
       "4         0         0         0         0         0  ...         0         0   \n",
       "\n",
       "   21:00:00  21:15:00  21:30:00  21:45:00  22:00:00  22:15:00  22:30:00  \\\n",
       "0         0         0         0         0         0         0         0   \n",
       "1         0         0         0         0         0         0         0   \n",
       "2         0         0         0         0         0         0         0   \n",
       "3         0         0         0         0         0         0         0   \n",
       "4         0         0         0         0         0         0         0   \n",
       "\n",
       "   22:45:00  \n",
       "0         0  \n",
       "1         0  \n",
       "2         0  \n",
       "3         0  \n",
       "4         0  \n",
       "\n",
       "[5 rows x 68 columns]"
      ]
     },
     "execution_count": 109,
     "metadata": {},
     "output_type": "execute_result"
    }
   ],
   "source": [
    "all_dists = pd.concat(df_list)\n",
    "\n",
    "all_dists.head()\n",
    "\n",
    "#all_dists.iloc[:, 3:] = np.log(all_dists.iloc[:, 3:]).replace(-np.Inf, np.nan).fillna(0)\n",
    "\n"
   ]
  },
  {
   "cell_type": "code",
   "execution_count": 114,
   "metadata": {},
   "outputs": [
    {
     "data": {
      "text/html": [
       "<div>\n",
       "<style scoped>\n",
       "    .dataframe tbody tr th:only-of-type {\n",
       "        vertical-align: middle;\n",
       "    }\n",
       "\n",
       "    .dataframe tbody tr th {\n",
       "        vertical-align: top;\n",
       "    }\n",
       "\n",
       "    .dataframe thead th {\n",
       "        text-align: right;\n",
       "    }\n",
       "</style>\n",
       "<table border=\"1\" class=\"dataframe\">\n",
       "  <thead>\n",
       "    <tr style=\"text-align: right;\">\n",
       "      <th></th>\n",
       "      <th>citation_day</th>\n",
       "      <th>street_id</th>\n",
       "      <th>time_bin</th>\n",
       "      <th>00:00:00</th>\n",
       "      <th>07:00:00</th>\n",
       "      <th>07:15:00</th>\n",
       "      <th>07:30:00</th>\n",
       "      <th>07:45:00</th>\n",
       "      <th>08:00:00</th>\n",
       "      <th>08:15:00</th>\n",
       "      <th>08:30:00</th>\n",
       "      <th>08:45:00</th>\n",
       "      <th>09:00:00</th>\n",
       "      <th>09:15:00</th>\n",
       "      <th>09:30:00</th>\n",
       "      <th>09:45:00</th>\n",
       "      <th>10:00:00</th>\n",
       "      <th>10:15:00</th>\n",
       "      <th>10:30:00</th>\n",
       "      <th>10:45:00</th>\n",
       "      <th>11:00:00</th>\n",
       "      <th>11:15:00</th>\n",
       "      <th>11:30:00</th>\n",
       "      <th>11:45:00</th>\n",
       "      <th>12:00:00</th>\n",
       "      <th>12:15:00</th>\n",
       "      <th>12:30:00</th>\n",
       "      <th>12:45:00</th>\n",
       "      <th>13:00:00</th>\n",
       "      <th>13:15:00</th>\n",
       "      <th>13:30:00</th>\n",
       "      <th>13:45:00</th>\n",
       "      <th>14:00:00</th>\n",
       "      <th>14:15:00</th>\n",
       "      <th>14:30:00</th>\n",
       "      <th>14:45:00</th>\n",
       "      <th>15:00:00</th>\n",
       "      <th>15:15:00</th>\n",
       "      <th>15:30:00</th>\n",
       "      <th>15:45:00</th>\n",
       "      <th>16:00:00</th>\n",
       "      <th>16:15:00</th>\n",
       "      <th>16:30:00</th>\n",
       "      <th>16:45:00</th>\n",
       "      <th>17:00:00</th>\n",
       "      <th>17:15:00</th>\n",
       "      <th>17:30:00</th>\n",
       "      <th>17:45:00</th>\n",
       "      <th>18:00:00</th>\n",
       "      <th>18:15:00</th>\n",
       "      <th>18:30:00</th>\n",
       "      <th>18:45:00</th>\n",
       "      <th>19:00:00</th>\n",
       "      <th>19:15:00</th>\n",
       "      <th>19:30:00</th>\n",
       "      <th>19:45:00</th>\n",
       "      <th>20:00:00</th>\n",
       "      <th>20:15:00</th>\n",
       "      <th>20:30:00</th>\n",
       "      <th>20:45:00</th>\n",
       "      <th>21:00:00</th>\n",
       "      <th>21:15:00</th>\n",
       "      <th>21:30:00</th>\n",
       "      <th>21:45:00</th>\n",
       "      <th>22:00:00</th>\n",
       "      <th>22:15:00</th>\n",
       "      <th>22:30:00</th>\n",
       "      <th>22:45:00</th>\n",
       "    </tr>\n",
       "  </thead>\n",
       "  <tbody>\n",
       "    <tr>\n",
       "      <th>4</th>\n",
       "      <td>Friday</td>\n",
       "      <td>01st St Elim St  -  Mission St</td>\n",
       "      <td>{'00:00:00': 1, '07:00:00': 1, '07:15:00': 1, ...</td>\n",
       "      <td>0</td>\n",
       "      <td>0</td>\n",
       "      <td>0</td>\n",
       "      <td>0</td>\n",
       "      <td>0</td>\n",
       "      <td>0</td>\n",
       "      <td>0</td>\n",
       "      <td>0</td>\n",
       "      <td>0</td>\n",
       "      <td>0</td>\n",
       "      <td>0</td>\n",
       "      <td>0</td>\n",
       "      <td>0</td>\n",
       "      <td>0</td>\n",
       "      <td>0</td>\n",
       "      <td>0</td>\n",
       "      <td>0</td>\n",
       "      <td>0</td>\n",
       "      <td>0</td>\n",
       "      <td>1</td>\n",
       "      <td>1</td>\n",
       "      <td>2</td>\n",
       "      <td>0</td>\n",
       "      <td>0</td>\n",
       "      <td>0</td>\n",
       "      <td>0</td>\n",
       "      <td>0</td>\n",
       "      <td>0</td>\n",
       "      <td>0</td>\n",
       "      <td>0</td>\n",
       "      <td>0</td>\n",
       "      <td>0</td>\n",
       "      <td>0</td>\n",
       "      <td>0</td>\n",
       "      <td>0</td>\n",
       "      <td>0</td>\n",
       "      <td>0</td>\n",
       "      <td>0</td>\n",
       "      <td>0</td>\n",
       "      <td>0</td>\n",
       "      <td>0</td>\n",
       "      <td>0</td>\n",
       "      <td>0</td>\n",
       "      <td>0</td>\n",
       "      <td>0</td>\n",
       "      <td>0</td>\n",
       "      <td>0</td>\n",
       "      <td>0</td>\n",
       "      <td>0</td>\n",
       "      <td>0</td>\n",
       "      <td>0</td>\n",
       "      <td>0</td>\n",
       "      <td>0</td>\n",
       "      <td>0</td>\n",
       "      <td>0</td>\n",
       "      <td>0</td>\n",
       "      <td>0</td>\n",
       "      <td>0</td>\n",
       "      <td>0</td>\n",
       "      <td>0</td>\n",
       "      <td>0</td>\n",
       "      <td>0</td>\n",
       "      <td>0</td>\n",
       "      <td>0</td>\n",
       "      <td>0</td>\n",
       "    </tr>\n",
       "  </tbody>\n",
       "</table>\n",
       "</div>"
      ],
      "text/plain": [
       "  citation_day                       street_id  \\\n",
       "4       Friday  01st St Elim St  -  Mission St   \n",
       "\n",
       "                                            time_bin  00:00:00  07:00:00  \\\n",
       "4  {'00:00:00': 1, '07:00:00': 1, '07:15:00': 1, ...         0         0   \n",
       "\n",
       "   07:15:00  07:30:00  07:45:00  08:00:00  08:15:00  08:30:00  08:45:00  \\\n",
       "4         0         0         0         0         0         0         0   \n",
       "\n",
       "   09:00:00  09:15:00  09:30:00  09:45:00  10:00:00  10:15:00  10:30:00  \\\n",
       "4         0         0         0         0         0         0         0   \n",
       "\n",
       "   10:45:00  11:00:00  11:15:00  11:30:00  11:45:00  12:00:00  12:15:00  \\\n",
       "4         0         0         0         1         1         2         0   \n",
       "\n",
       "   12:30:00  12:45:00  13:00:00  13:15:00  13:30:00  13:45:00  14:00:00  \\\n",
       "4         0         0         0         0         0         0         0   \n",
       "\n",
       "   14:15:00  14:30:00  14:45:00  15:00:00  15:15:00  15:30:00  15:45:00  \\\n",
       "4         0         0         0         0         0         0         0   \n",
       "\n",
       "   16:00:00  16:15:00  16:30:00  16:45:00  17:00:00  17:15:00  17:30:00  \\\n",
       "4         0         0         0         0         0         0         0   \n",
       "\n",
       "   17:45:00  18:00:00  18:15:00  18:30:00  18:45:00  19:00:00  19:15:00  \\\n",
       "4         0         0         0         0         0         0         0   \n",
       "\n",
       "   19:30:00  19:45:00  20:00:00  20:15:00  20:30:00  20:45:00  21:00:00  \\\n",
       "4         0         0         0         0         0         0         0   \n",
       "\n",
       "   21:15:00  21:30:00  21:45:00  22:00:00  22:15:00  22:30:00  22:45:00  \n",
       "4         0         0         0         0         0         0         0  "
      ]
     },
     "execution_count": 114,
     "metadata": {},
     "output_type": "execute_result"
    }
   ],
   "source": [
    "pd.set_option('display.max_columns', 500)\n",
    "\n",
    "all_dists[(all_dists.street_id == '01st St Elim St  -  Mission St') & (all_dists.citation_day == 'Friday')]"
   ]
  },
  {
   "cell_type": "code",
   "execution_count": 77,
   "metadata": {},
   "outputs": [
    {
     "data": {
      "text/plain": [
       "3"
      ]
     },
     "execution_count": 77,
     "metadata": {},
     "output_type": "execute_result"
    }
   ],
   "source": [
    "all_dists[all_dists.street_id == '01st St Elim St  -  Mission St'].drop(['citation_day', 'street_id', 'time_bin'], axis=1).max().max()"
   ]
  },
  {
   "cell_type": "code",
   "execution_count": 78,
   "metadata": {},
   "outputs": [],
   "source": [
    "all_dists.to_csv(\"../data/prob_e_and_i.csv\", index = False)"
   ]
  },
  {
   "cell_type": "code",
   "execution_count": null,
   "metadata": {},
   "outputs": [],
   "source": [
    "\n",
    "def plot_dist(all_dists, street_id):\n",
    "    temp_df = all_dists[all_dists.street_id == street_id]\n",
    "    #print(temp_df)\n",
    "    # has all 7 days of the week\n",
    "    assert temp_df.shape[0] == 7\n",
    "    temp_df = temp_df[[col for col in temp_df.columns if col not in ['street_id', 'time_bin']]]\n",
    "    temp_df.set_index('citation_day', inplace=True)\n",
    "    sns.heatmap(temp_df, cmap = \"PuRd\").set(title=street_id)\n",
    "plot_dist(all_dists, '01st St Elim St  -  Mission St')\n",
    "plt.show()\n"
   ]
  },
  {
   "cell_type": "code",
   "execution_count": null,
   "metadata": {},
   "outputs": [],
   "source": [
    "street_id = all_dists['street_id'].value_counts().index[1000]\n",
    "\n",
    "plot_dist(all_dists, street_id)"
   ]
  },
  {
   "cell_type": "code",
   "execution_count": null,
   "metadata": {},
   "outputs": [],
   "source": [
    "# looking for one street_id\n",
    "\n",
    "# all_dists[all_dists.street_id.str.contains('Terry A Francois Blvd')].street_id[0]"
   ]
  },
  {
   "cell_type": "code",
   "execution_count": null,
   "metadata": {},
   "outputs": [],
   "source": [
    "NUMERIC_COLS = [col for col in all_dists.columns if '0' in col]"
   ]
  },
  {
   "cell_type": "code",
   "execution_count": null,
   "metadata": {},
   "outputs": [],
   "source": [
    "# add geom information to all_dists\n",
    "\n",
    "unique_streets['street_id'] = unique_streets['Corridor'] + ' ' + unique_streets['Limits']\n",
    "street_geom_dict = pd.Series(unique_streets.Line.values,index=unique_streets.street_id).to_dict()\n",
    "all_dists['geom'] = all_dists['street_id'].apply(lambda key: street_geom_dict[key])"
   ]
  },
  {
   "cell_type": "code",
   "execution_count": null,
   "metadata": {},
   "outputs": [],
   "source": [
    "all_dists"
   ]
  },
  {
   "cell_type": "code",
   "execution_count": null,
   "metadata": {},
   "outputs": [],
   "source": [
    "# equivalent to pivot_longer in R\n",
    "\n",
    "pivoted = pd.melt(all_dists, id_vars=['citation_day', 'street_id', 'geom'], value_vars=NUMERIC_COLS, value_name='prob', var_name='time')\n",
    "pivoted['time'] = pd.to_datetime(pivoted['time'])"
   ]
  },
  {
   "cell_type": "code",
   "execution_count": null,
   "metadata": {},
   "outputs": [],
   "source": [
    "pivoted = pivoted[pivoted[\"prob\"] != 0]"
   ]
  },
  {
   "cell_type": "code",
   "execution_count": null,
   "metadata": {},
   "outputs": [],
   "source": [
    "days = {'Monday': timedelta(days=0), 'Tuesday': timedelta(days=1),\n",
    "        'Wednesday': timedelta(days=2), \"Thursday\": timedelta(days=3),\n",
    "        \"Friday\": timedelta(days=4), \"Saturday\": timedelta(days=5),\n",
    "        \"Sunday\": timedelta(days=6)}\n",
    "\n",
    "pivoted[\"time\"] = pivoted.citation_day.apply(lambda x: days[x]) + pivoted[\"time\"]"
   ]
  },
  {
   "cell_type": "code",
   "execution_count": null,
   "metadata": {},
   "outputs": [],
   "source": [
    "pivoted.head(10)"
   ]
  },
  {
   "cell_type": "code",
   "execution_count": null,
   "metadata": {},
   "outputs": [],
   "source": [
    "# save to csv for visualization by kepler GL\n",
    "\n",
    "pivoted.to_csv('../data/pivoted_for_kgl.csv', index=False)"
   ]
  },
  {
   "cell_type": "code",
   "execution_count": null,
   "metadata": {},
   "outputs": [],
   "source": [
    "pivoted['prob'].value_counts()"
   ]
  },
  {
   "cell_type": "code",
   "execution_count": null,
   "metadata": {},
   "outputs": [],
   "source": [
    "pivoted['prob'].min()"
   ]
  }
 ],
 "metadata": {
  "kernelspec": {
   "display_name": "stat-222",
   "language": "python",
   "name": "python3"
  },
  "language_info": {
   "codemirror_mode": {
    "name": "ipython",
    "version": 3
   },
   "file_extension": ".py",
   "mimetype": "text/x-python",
   "name": "python",
   "nbconvert_exporter": "python",
   "pygments_lexer": "ipython3",
   "version": "3.9.16"
  },
  "vscode": {
   "interpreter": {
    "hash": "25065662bc99f60e9ea3d9f765cb1d424e17fbc56e3fdafe48cd9160abf091bf"
   }
  }
 },
 "nbformat": 4,
 "nbformat_minor": 4
}
