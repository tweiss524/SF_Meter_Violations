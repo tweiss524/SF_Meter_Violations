{
 "cells": [
  {
   "attachments": {},
   "cell_type": "markdown",
   "metadata": {},
   "source": [
    "## Imports / Helper Functions / Global Variables"
   ]
  },
  {
   "cell_type": "code",
   "execution_count": 1,
   "metadata": {},
   "outputs": [],
   "source": [
    "# force geopandas to use shapely instead of pygeos\n",
    "import os\n",
    "os.environ['USE_PYGEOS'] = '0'\n",
    "\n",
    "import numpy as np\n",
    "import pandas as pd\n",
    "import plotly.express as px\n",
    "from shapely import wkt\n",
    "from shapely.geometry import Point\n",
    "import geopandas as gpd\n",
    "import matplotlib.pyplot as plt\n",
    "from pyproj import Transformer\n",
    "from typing import List\n",
    "from collections import Counter\n",
    "import seaborn as sns\n",
    "from tqdm import tqdm"
   ]
  },
  {
   "cell_type": "code",
   "execution_count": 2,
   "metadata": {},
   "outputs": [
    {
     "data": {
      "text/plain": [
       "'2.0.1'"
      ]
     },
     "execution_count": 2,
     "metadata": {},
     "output_type": "execute_result"
    }
   ],
   "source": [
    "import shapely\n",
    "shapely.__version__"
   ]
  },
  {
   "cell_type": "code",
   "execution_count": 3,
   "metadata": {},
   "outputs": [],
   "source": [
    "# shorthand for datetime column\n",
    "\n",
    "DATE_COL = 'Citation Issued DateTime'"
   ]
  },
  {
   "cell_type": "code",
   "execution_count": 4,
   "metadata": {},
   "outputs": [],
   "source": [
    "# datetime manipulation helper functions\n",
    "\n",
    "def filter_by_date_range(df: pd.DataFrame, column_name: str, start_string: str, end_string: str):\n",
    "    return df[(df[column_name] >= pd.Timestamp(start_string)) & (df[column_name] <= pd.Timestamp(end_string))]"
   ]
  },
  {
   "cell_type": "code",
   "execution_count": 5,
   "metadata": {},
   "outputs": [
    {
     "data": {
      "image/svg+xml": "<svg xmlns=\"http://www.w3.org/2000/svg\" xmlns:xlink=\"http://www.w3.org/1999/xlink\" width=\"100.0\" height=\"100.0\" viewBox=\"-123.46164710599999 36.77421091000008 2.0 2.0\" preserveAspectRatio=\"xMinYMin meet\"><g transform=\"matrix(1,0,0,-1,0,75.54842182000016)\"><circle cx=\"-122.46164710599999\" cy=\"37.77421091000008\" r=\"0.06\" stroke=\"#555555\" stroke-width=\"0.02\" fill=\"#66cc99\" opacity=\"0.6\" /></g></svg>",
      "text/plain": [
       "<POINT (-122.462 37.774)>"
      ]
     },
     "execution_count": 5,
     "metadata": {},
     "output_type": "execute_result"
    }
   ],
   "source": [
    "# helper functions for loading in US Census Bureau Geocoding data. This helps correct for ~10k observations with incorrect geolocation.\n",
    "\n",
    "# 1ST -> 01ST, 2ND -> 02ND, etc., to be compatible\n",
    "def inv_correct_numbered_streets(string):\n",
    "    for i in range(1, 10):\n",
    "        string = string.replace(f'{i}TH', f'0{i}TH')\n",
    "    # 1st, 2nd and 3rd are special cases\n",
    "    string = string.replace('1ST', '01ST')\n",
    "    string = string.replace('2ND', '02ND')\n",
    "    string = string.replace('3RD', '03RD')\n",
    "    return string\n",
    "\n",
    "def coord_string_to_point(coord_string):\n",
    "    x, y = [float(string) for string in coord_string.split(',')]\n",
    "    return Point(x, y)\n",
    "\n",
    "coord_string_to_point(\"-122.46164710599999,37.77421091000008\")"
   ]
  },
  {
   "cell_type": "code",
   "execution_count": null,
   "metadata": {},
   "outputs": [],
   "source": [
    "# TODO: correct all \"lock Of\" addresses.\n",
    "\n",
    "# feat_df[feat_df.street_id.str.contains('lock Of')]"
   ]
  },
  {
   "cell_type": "code",
   "execution_count": 6,
   "metadata": {},
   "outputs": [],
   "source": [
    "def load_geocoder_data(csv_path='../data/chinook_ct_correct.csv'):\n",
    "    geo = pd.read_csv(csv_path, header=None)\n",
    "    geo = geo[geo[2] == 'Match']\n",
    "    geo[1] = geo[1].str.replace(', SAN FRANCISCO, CA,', '').apply(lambda x: x.strip())\n",
    "    geo = geo[[1, 5]]\n",
    "    geo.columns = ['street', 'geom']\n",
    "    geo.street = geo.street.apply(inv_correct_numbered_streets)\n",
    "    geo.geom = geo.geom.apply(coord_string_to_point)\n",
    "    return geo"
   ]
  },
  {
   "attachments": {},
   "cell_type": "markdown",
   "metadata": {},
   "source": [
    "## Load Data and Fix Incorrect Data"
   ]
  },
  {
   "cell_type": "code",
   "execution_count": 7,
   "metadata": {},
   "outputs": [
    {
     "data": {
      "text/html": [
       "<div>\n",
       "<style scoped>\n",
       "    .dataframe tbody tr th:only-of-type {\n",
       "        vertical-align: middle;\n",
       "    }\n",
       "\n",
       "    .dataframe tbody tr th {\n",
       "        vertical-align: top;\n",
       "    }\n",
       "\n",
       "    .dataframe thead th {\n",
       "        text-align: right;\n",
       "    }\n",
       "</style>\n",
       "<table border=\"1\" class=\"dataframe\">\n",
       "  <thead>\n",
       "    <tr style=\"text-align: right;\">\n",
       "      <th></th>\n",
       "      <th>street</th>\n",
       "      <th>geom</th>\n",
       "    </tr>\n",
       "  </thead>\n",
       "  <tbody>\n",
       "    <tr>\n",
       "      <th>0</th>\n",
       "      <td>785 04TH AVE</td>\n",
       "      <td>POINT (-122.46164710599999 37.77421091000008)</td>\n",
       "    </tr>\n",
       "    <tr>\n",
       "      <th>1</th>\n",
       "      <td>756 08TH AVE</td>\n",
       "      <td>POINT (-122.46593421399996 37.77422294300004)</td>\n",
       "    </tr>\n",
       "    <tr>\n",
       "      <th>2</th>\n",
       "      <td>277 05TH AVE</td>\n",
       "      <td>POINT (-122.46339279499995 37.783491569000034)</td>\n",
       "    </tr>\n",
       "    <tr>\n",
       "      <th>3</th>\n",
       "      <td>404 08TH AVE</td>\n",
       "      <td>POINT (-122.46639889099998 37.78064289800005)</td>\n",
       "    </tr>\n",
       "    <tr>\n",
       "      <th>4</th>\n",
       "      <td>398 05TH ST</td>\n",
       "      <td>POINT (-122.40188964199996 37.77906450900008)</td>\n",
       "    </tr>\n",
       "  </tbody>\n",
       "</table>\n",
       "</div>"
      ],
      "text/plain": [
       "         street                                            geom\n",
       "0  785 04TH AVE   POINT (-122.46164710599999 37.77421091000008)\n",
       "1  756 08TH AVE   POINT (-122.46593421399996 37.77422294300004)\n",
       "2  277 05TH AVE  POINT (-122.46339279499995 37.783491569000034)\n",
       "3  404 08TH AVE   POINT (-122.46639889099998 37.78064289800005)\n",
       "4   398 05TH ST   POINT (-122.40188964199996 37.77906450900008)"
      ]
     },
     "execution_count": 7,
     "metadata": {},
     "output_type": "execute_result"
    }
   ],
   "source": [
    "geo_df = load_geocoder_data()\n",
    "geo_df.head()"
   ]
  },
  {
   "cell_type": "code",
   "execution_count": 8,
   "metadata": {},
   "outputs": [],
   "source": [
    "# create dictionary from pandas dataframe. \n",
    "\n",
    "geo_dict = pd.Series(geo_df.geom.values,index=geo_df.street).to_dict()"
   ]
  },
  {
   "cell_type": "code",
   "execution_count": 10,
   "metadata": {},
   "outputs": [
    {
     "data": {
      "text/plain": [
       "(2500, 2)"
      ]
     },
     "execution_count": 10,
     "metadata": {},
     "output_type": "execute_result"
    }
   ],
   "source": [
    "geo_df.shape"
   ]
  },
  {
   "cell_type": "code",
   "execution_count": 9,
   "metadata": {},
   "outputs": [
    {
     "data": {
      "text/html": [
       "<div>\n",
       "<style scoped>\n",
       "    .dataframe tbody tr th:only-of-type {\n",
       "        vertical-align: middle;\n",
       "    }\n",
       "\n",
       "    .dataframe tbody tr th {\n",
       "        vertical-align: top;\n",
       "    }\n",
       "\n",
       "    .dataframe thead th {\n",
       "        text-align: right;\n",
       "    }\n",
       "</style>\n",
       "<table border=\"1\" class=\"dataframe\">\n",
       "  <thead>\n",
       "    <tr style=\"text-align: right;\">\n",
       "      <th></th>\n",
       "      <th>Citation Number</th>\n",
       "      <th>Citation Issued DateTime</th>\n",
       "      <th>Violation</th>\n",
       "      <th>Violation Description</th>\n",
       "      <th>Citation Location</th>\n",
       "      <th>Vehicle Plate State</th>\n",
       "      <th>Vehicle Plate</th>\n",
       "      <th>Fine Amount</th>\n",
       "      <th>Date Added</th>\n",
       "      <th>geom</th>\n",
       "    </tr>\n",
       "  </thead>\n",
       "  <tbody>\n",
       "    <tr>\n",
       "      <th>0</th>\n",
       "      <td>950226616</td>\n",
       "      <td>2022-04-20 12:10:00</td>\n",
       "      <td>TRC7.2.22</td>\n",
       "      <td>STR CLEAN</td>\n",
       "      <td>1318 FILBERT ST</td>\n",
       "      <td>CA</td>\n",
       "      <td>V507699</td>\n",
       "      <td>84.0</td>\n",
       "      <td>05/01/2022 12:00:00 AM</td>\n",
       "      <td>POINT (-122.42119800399996 37.800016984000024)</td>\n",
       "    </tr>\n",
       "    <tr>\n",
       "      <th>1</th>\n",
       "      <td>952126114</td>\n",
       "      <td>2022-06-17 16:12:00</td>\n",
       "      <td>TRC7.2.20</td>\n",
       "      <td>RES/OT</td>\n",
       "      <td>1318 FILBERT ST</td>\n",
       "      <td>CA</td>\n",
       "      <td>BV44D97</td>\n",
       "      <td>96.0</td>\n",
       "      <td>07/17/2022 12:00:00 AM</td>\n",
       "      <td>POINT (-122.42119800399996 37.800016984000024)</td>\n",
       "    </tr>\n",
       "    <tr>\n",
       "      <th>2</th>\n",
       "      <td>950441903</td>\n",
       "      <td>2022-04-23 15:13:00</td>\n",
       "      <td>V5200</td>\n",
       "      <td>NO PLATES</td>\n",
       "      <td>1318 FILBERT ST</td>\n",
       "      <td>CA</td>\n",
       "      <td>V507699</td>\n",
       "      <td>121.0</td>\n",
       "      <td>05/18/2022 12:00:00 AM</td>\n",
       "      <td>POINT (-122.42119800399996 37.800016984000024)</td>\n",
       "    </tr>\n",
       "    <tr>\n",
       "      <th>3</th>\n",
       "      <td>948460144</td>\n",
       "      <td>2022-02-22 11:54:00</td>\n",
       "      <td>TRC7.2.20</td>\n",
       "      <td>RES/OT</td>\n",
       "      <td>1318 FILBERT ST</td>\n",
       "      <td>TX</td>\n",
       "      <td>HVT6737</td>\n",
       "      <td>96.0</td>\n",
       "      <td>05/23/2022 12:00:00 AM</td>\n",
       "      <td>POINT (-122.42119800399996 37.800016984000024)</td>\n",
       "    </tr>\n",
       "    <tr>\n",
       "      <th>4</th>\n",
       "      <td>948169644</td>\n",
       "      <td>2022-02-17 13:39:00</td>\n",
       "      <td>TRC7.2.20</td>\n",
       "      <td>RES/OT</td>\n",
       "      <td>1318 FILBERT ST</td>\n",
       "      <td>OH</td>\n",
       "      <td>HQA6554</td>\n",
       "      <td>96.0</td>\n",
       "      <td>04/03/2022 12:00:00 AM</td>\n",
       "      <td>POINT (-122.42119800399996 37.800016984000024)</td>\n",
       "    </tr>\n",
       "  </tbody>\n",
       "</table>\n",
       "</div>"
      ],
      "text/plain": [
       "  Citation Number Citation Issued DateTime  Violation Violation Description  \\\n",
       "0       950226616      2022-04-20 12:10:00  TRC7.2.22             STR CLEAN   \n",
       "1       952126114      2022-06-17 16:12:00  TRC7.2.20                RES/OT   \n",
       "2       950441903      2022-04-23 15:13:00      V5200             NO PLATES   \n",
       "3       948460144      2022-02-22 11:54:00  TRC7.2.20                RES/OT   \n",
       "4       948169644      2022-02-17 13:39:00  TRC7.2.20                RES/OT   \n",
       "\n",
       "  Citation Location Vehicle Plate State Vehicle Plate  Fine Amount  \\\n",
       "0   1318 FILBERT ST                  CA       V507699         84.0   \n",
       "1   1318 FILBERT ST                  CA       BV44D97         96.0   \n",
       "2   1318 FILBERT ST                  CA       V507699        121.0   \n",
       "3   1318 FILBERT ST                  TX       HVT6737         96.0   \n",
       "4   1318 FILBERT ST                  OH       HQA6554         96.0   \n",
       "\n",
       "               Date Added                                            geom  \n",
       "0  05/01/2022 12:00:00 AM  POINT (-122.42119800399996 37.800016984000024)  \n",
       "1  07/17/2022 12:00:00 AM  POINT (-122.42119800399996 37.800016984000024)  \n",
       "2  05/18/2022 12:00:00 AM  POINT (-122.42119800399996 37.800016984000024)  \n",
       "3  05/23/2022 12:00:00 AM  POINT (-122.42119800399996 37.800016984000024)  \n",
       "4  04/03/2022 12:00:00 AM  POINT (-122.42119800399996 37.800016984000024)  "
      ]
     },
     "execution_count": 9,
     "metadata": {},
     "output_type": "execute_result"
    }
   ],
   "source": [
    "df = pd.read_csv(\"../data/data_2022_with_geom.csv\")\n",
    "df.head()"
   ]
  },
  {
   "cell_type": "code",
   "execution_count": 10,
   "metadata": {},
   "outputs": [],
   "source": [
    "df['geom'] = df.geom.apply(wkt.loads)\n",
    "df = gpd.GeoDataFrame(df, geometry='geom')\n",
    "df.crs = 'EPSG:4326'"
   ]
  },
  {
   "cell_type": "code",
   "execution_count": 11,
   "metadata": {},
   "outputs": [],
   "source": [
    "# TODO: rewrite this using np.where or pandas where \n",
    "# TODO: use a better geocoder to fix more rows.\n",
    "\n",
    "def fix_geom(row):\n",
    "    if row['Citation Location'] in geo_dict:\n",
    "        return geo_dict[row['Citation Location']]\n",
    "    return row['geom']\n",
    "\n",
    "df['geom'] = df.apply(fix_geom, axis=1)"
   ]
  },
  {
   "attachments": {},
   "cell_type": "markdown",
   "metadata": {},
   "source": [
    "## Add / Modify Dataframe Columns"
   ]
  },
  {
   "cell_type": "code",
   "execution_count": 12,
   "metadata": {},
   "outputs": [],
   "source": [
    "df[DATE_COL] = pd.to_datetime(df[DATE_COL])"
   ]
  },
  {
   "cell_type": "code",
   "execution_count": 13,
   "metadata": {},
   "outputs": [],
   "source": [
    "# add auxillary date attribute columns based on the datetime. \n",
    "\n",
    "df['citation_day'] = df[DATE_COL].dt.day_name()\n",
    "df['citation_hour'] = df[DATE_COL].dt.hour\n",
    "df['citation_date'] = df[DATE_COL].dt.date"
   ]
  },
  {
   "cell_type": "code",
   "execution_count": 14,
   "metadata": {},
   "outputs": [],
   "source": [
    "has_location_string = df[~df['Citation Location'].isnull()]"
   ]
  },
  {
   "attachments": {},
   "cell_type": "markdown",
   "metadata": {},
   "source": [
    "## Spatial Join"
   ]
  },
  {
   "cell_type": "code",
   "execution_count": 15,
   "metadata": {},
   "outputs": [],
   "source": [
    "# load dataframe of street segments\n",
    "\n",
    "street_df = pd.read_csv('../data/street_sweeping.csv')\n",
    "street_df = street_df[~street_df.Line.isnull()]\n",
    "street_df.loc[:, 'Line'] = street_df.Line.apply(wkt.loads)\n",
    "street_df = gpd.GeoDataFrame(street_df, geometry='Line')\n",
    "street_df.crs = 'EPSG:4326'"
   ]
  },
  {
   "cell_type": "markdown",
   "metadata": {},
   "source": []
  },
  {
   "cell_type": "code",
   "execution_count": 16,
   "metadata": {},
   "outputs": [],
   "source": [
    "# TODO: technically should project into a flat geometry in order to get more accurate distances  \n",
    "\n",
    "# unique_streets = street_df.drop_duplicates(subset='Line')\n",
    "# unique_streets = unique_streets[['Corridor', 'Limits', 'Line']]\n",
    "\n",
    "# # save copy of geom column because it will be destroyed by projection / join.\n",
    "# unique_streets['street_geom_3d'] = unique_streets['Line']\n",
    "# unique_streets['street_length'] = unique_streets.street_geom_3d.apply(lambda x: x.length)\n",
    "\n",
    "unique_streets = pd.read_csv(\"../data/unique_streets.csv\")\n",
    "\n",
    "unique_streets['geom'] = unique_streets.Line.apply(wkt.loads)\n",
    "unique_streets = gpd.GeoDataFrame(unique_streets, geometry='geom')\n",
    "unique_streets.crs = 'EPSG:4326'"
   ]
  },
  {
   "cell_type": "code",
   "execution_count": 48,
   "metadata": {},
   "outputs": [
    {
     "data": {
      "image/png": "[encoded data removed]",
      "text/plain": [
       "<Figure size 640x480 with 1 Axes>"
      ]
     },
     "metadata": {},
     "output_type": "display_data"
    }
   ],
   "source": [
    "#sns.set()\n",
    "#sns.set_theme(style='white')\n",
    "ax = unique_streets.street_length.plot(kind=\"hist\", logy = True)\n",
    "ax.bar_label(ax.containers[0], label_type=\"edge\");\n",
    "\n",
    "plt.xlabel(\"Euclidean Distance Between Endpoints of Street Segments\")\n",
    "plt.ylabel(\"log(Frequency)\")\n",
    "plt.title(\"Distribution of Street Segment Lengths\");\n"
   ]
  },
  {
   "cell_type": "code",
   "execution_count": 17,
   "metadata": {},
   "outputs": [
    {
     "name": "stderr",
     "output_type": "stream",
     "text": [
      "/Users/tessa/opt/anaconda3/envs/stat-222/lib/python3.9/site-packages/geopandas/array.py:344: UserWarning: Geometry is in a geographic CRS. Results from 'sjoin_nearest' are likely incorrect. Use 'GeoSeries.to_crs()' to re-project geometries to a projected CRS before this operation.\n",
      "\n",
      "  warnings.warn(\n"
     ]
    },
    {
     "data": {
      "text/plain": [
       "(1131953, 21)"
      ]
     },
     "execution_count": 17,
     "metadata": {},
     "output_type": "execute_result"
    }
   ],
   "source": [
    "joined = gpd.sjoin_nearest(df, unique_streets, distance_col='dist', how='left')\n",
    "joined.shape"
   ]
  },
  {
   "cell_type": "code",
   "execution_count": 18,
   "metadata": {},
   "outputs": [],
   "source": [
    "# TODO: figure out how to resolve points that get mapped to multiple streets. for now, seems like only a small number have this problem so we ignore it.\n",
    "\n",
    "has_multiple_citations = joined['Citation Number'].value_counts()\n",
    "joined = joined[joined['Citation Number'].isin(has_multiple_citations[has_multiple_citations == 1].index)]"
   ]
  },
  {
   "attachments": {},
   "cell_type": "markdown",
   "metadata": {},
   "source": [
    "## Group and Cluster"
   ]
  },
  {
   "cell_type": "code",
   "execution_count": 19,
   "metadata": {},
   "outputs": [],
   "source": [
    "joined['street_id'] = joined['Corridor'] + ' ' + joined['Limits']"
   ]
  },
  {
   "cell_type": "code",
   "execution_count": 20,
   "metadata": {},
   "outputs": [],
   "source": [
    "feat_df = joined[['citation_date', 'street_id', DATE_COL, 'Citation Location', 'geom', 'citation_day', 'citation_hour', 'street_geom_3d']]"
   ]
  },
  {
   "cell_type": "code",
   "execution_count": 21,
   "metadata": {},
   "outputs": [
    {
     "name": "stderr",
     "output_type": "stream",
     "text": [
      "/Users/tessa/opt/anaconda3/envs/stat-222/lib/python3.9/site-packages/geopandas/geodataframe.py:1443: SettingWithCopyWarning: \n",
      "A value is trying to be set on a copy of a slice from a DataFrame.\n",
      "Try using .loc[row_indexer,col_indexer] = value instead\n",
      "\n",
      "See the caveats in the documentation: https://pandas.pydata.org/pandas-docs/stable/user_guide/indexing.html#returning-a-view-versus-a-copy\n",
      "  super().__setitem__(key, value)\n"
     ]
    }
   ],
   "source": [
    "feat_df['time_bin'] = feat_df[DATE_COL].dt.floor(\"15min\").dt.time.astype(str)"
   ]
  },
  {
   "cell_type": "code",
   "execution_count": 22,
   "metadata": {},
   "outputs": [],
   "source": [
    "all_bins = sorted(feat_df['time_bin'].unique())"
   ]
  },
  {
   "cell_type": "code",
   "execution_count": 23,
   "metadata": {},
   "outputs": [],
   "source": [
    "# keep each entry for a particular time bin on a particular date + street\n",
    "\n",
    "feat_df = feat_df.drop_duplicates(['citation_date', 'street_id', 'time_bin'])\n",
    "binned_grouped = feat_df.groupby(['street_id', 'citation_day'])['time_bin'].agg(' '.join)"
   ]
  },
  {
   "cell_type": "code",
   "execution_count": 135,
   "metadata": {},
   "outputs": [
    {
     "data": {
      "text/plain": [
       "street_id                            citation_day\n",
       "01st St Clementina St  -  Folsom St  Saturday                                        09:15:00 05:45:00\n",
       "                                     Thursday                                        17:15:00 00:15:00\n",
       "                                     Tuesday                                                  00:15:00\n",
       "                                     Wednesday                                       17:15:00 16:30:00\n",
       "01st St Elim St  -  Mission St       Friday          12:00:00 11:45:00 13:00:00 15:15:00 12:00:00 1...\n",
       "                                                                           ...                        \n",
       "Zoe St Welsh St  -  Freelon St       Saturday                                                 13:15:00\n",
       "                                     Sunday          16:00:00 08:45:00 09:45:00 14:30:00 11:00:00 1...\n",
       "                                     Thursday        00:15:00 00:30:00 00:30:00 00:15:00 00:30:00 0...\n",
       "                                     Tuesday         16:30:00 00:15:00 00:15:00 00:15:00 00:30:00 0...\n",
       "                                     Wednesday                                       07:45:00 19:00:00\n",
       "Name: time_bin, Length: 53725, dtype: object"
      ]
     },
     "execution_count": 135,
     "metadata": {},
     "output_type": "execute_result"
    }
   ],
   "source": [
    "binned_grouped"
   ]
  },
  {
   "cell_type": "code",
   "execution_count": 24,
   "metadata": {},
   "outputs": [],
   "source": [
    "def bin_string_to_counter(bin_string):\n",
    "    bin_counter = Counter(all_bins)\n",
    "    bin_counter.update(bin_string.split(' '))\n",
    "    return bin_counter\n",
    "\n",
    "agg_counts = binned_grouped.apply(bin_string_to_counter).groupby(['street_id', 'citation_day']).sum()"
   ]
  },
  {
   "cell_type": "code",
   "execution_count": 136,
   "metadata": {},
   "outputs": [
    {
     "data": {
      "text/plain": [
       "street_id                            citation_day\n",
       "01st St Clementina St  -  Folsom St  Saturday        {'00:00:00': 1, '00:15:00': 1, '00:30:00': 1, ...\n",
       "                                     Thursday        {'00:00:00': 1, '00:15:00': 2, '00:30:00': 1, ...\n",
       "                                     Tuesday         {'00:00:00': 1, '00:15:00': 2, '00:30:00': 1, ...\n",
       "                                     Wednesday       {'00:00:00': 1, '00:15:00': 1, '00:30:00': 1, ...\n",
       "01st St Elim St  -  Mission St       Friday          {'00:00:00': 1, '00:15:00': 1, '00:30:00': 1, ...\n",
       "                                                                           ...                        \n",
       "Zoe St Welsh St  -  Freelon St       Saturday        {'00:00:00': 1, '00:15:00': 1, '00:30:00': 1, ...\n",
       "                                     Sunday          {'00:00:00': 1, '00:15:00': 1, '00:30:00': 1, ...\n",
       "                                     Thursday        {'00:00:00': 1, '00:15:00': 13, '00:30:00': 9,...\n",
       "                                     Tuesday         {'00:00:00': 1, '00:15:00': 5, '00:30:00': 4, ...\n",
       "                                     Wednesday       {'00:00:00': 1, '00:15:00': 1, '00:30:00': 1, ...\n",
       "Name: time_bin, Length: 53725, dtype: object"
      ]
     },
     "execution_count": 136,
     "metadata": {},
     "output_type": "execute_result"
    }
   ],
   "source": [
    "agg_counts"
   ]
  },
  {
   "cell_type": "code",
   "execution_count": 25,
   "metadata": {},
   "outputs": [],
   "source": [
    "unique_street_names = agg_counts.index.get_level_values(0).unique()"
   ]
  },
  {
   "cell_type": "code",
   "execution_count": 26,
   "metadata": {},
   "outputs": [],
   "source": [
    "weekdays = ['Monday', 'Tuesday', 'Wednesday', 'Thursday', 'Friday', 'Saturday', 'Sunday']"
   ]
  },
  {
   "cell_type": "code",
   "execution_count": null,
   "metadata": {},
   "outputs": [],
   "source": [
    "df.sort_values(\"Citation Issued DateTime\").head()\n",
    "from datetime import date, timedelta\n",
    "sdate = date(2022,1,1)   # start date\n",
    "edate = date(2023,2,20)   # end date\n",
    "dates = pd.date_range(sdate, edate-timedelta(days=1),freq='d')\n",
    "dates_counts = dates.day_name().value_counts().reindex(weekdays)"
   ]
  },
  {
   "cell_type": "code",
   "execution_count": 130,
   "metadata": {},
   "outputs": [
    {
     "name": "stderr",
     "output_type": "stream",
     "text": [
      "100%|██████████| 11106/11106 [00:33<00:00, 335.31it/s]\n"
     ]
    }
   ],
   "source": [
    "df_list = []\n",
    "\n",
    "for name in tqdm(unique_street_names):\n",
    "    t = agg_counts.xs(name, level=0, drop_level=False).reset_index().set_index('citation_day').reindex(weekdays, fill_value=Counter(all_bins))\n",
    "    t.street_id = name\n",
    "    dist_df = pd.concat([t.reset_index(), (pd.DataFrame.from_records(t.time_bin) - 1).divide(dates_counts.values, axis = 0)], axis=1)\n",
    "    df_list.append(dist_df)"
   ]
  },
  {
   "cell_type": "code",
   "execution_count": 127,
   "metadata": {},
   "outputs": [
    {
     "data": {
      "text/html": [
       "<div>\n",
       "<style scoped>\n",
       "    .dataframe tbody tr th:only-of-type {\n",
       "        vertical-align: middle;\n",
       "    }\n",
       "\n",
       "    .dataframe tbody tr th {\n",
       "        vertical-align: top;\n",
       "    }\n",
       "\n",
       "    .dataframe thead th {\n",
       "        text-align: right;\n",
       "    }\n",
       "</style>\n",
       "<table border=\"1\" class=\"dataframe\">\n",
       "  <thead>\n",
       "    <tr style=\"text-align: right;\">\n",
       "      <th></th>\n",
       "      <th>00:00:00</th>\n",
       "      <th>00:15:00</th>\n",
       "      <th>00:30:00</th>\n",
       "      <th>00:45:00</th>\n",
       "      <th>01:00:00</th>\n",
       "      <th>01:15:00</th>\n",
       "      <th>01:30:00</th>\n",
       "      <th>01:45:00</th>\n",
       "      <th>02:00:00</th>\n",
       "      <th>02:15:00</th>\n",
       "      <th>...</th>\n",
       "      <th>21:30:00</th>\n",
       "      <th>21:45:00</th>\n",
       "      <th>22:00:00</th>\n",
       "      <th>22:15:00</th>\n",
       "      <th>22:30:00</th>\n",
       "      <th>22:45:00</th>\n",
       "      <th>23:00:00</th>\n",
       "      <th>23:15:00</th>\n",
       "      <th>23:30:00</th>\n",
       "      <th>23:45:00</th>\n",
       "    </tr>\n",
       "  </thead>\n",
       "  <tbody>\n",
       "    <tr>\n",
       "      <th>0</th>\n",
       "      <td>0.0</td>\n",
       "      <td>0.000000</td>\n",
       "      <td>0.000000</td>\n",
       "      <td>0.0</td>\n",
       "      <td>0.0</td>\n",
       "      <td>0.0</td>\n",
       "      <td>0.0</td>\n",
       "      <td>0.0</td>\n",
       "      <td>0.0</td>\n",
       "      <td>0.0</td>\n",
       "      <td>...</td>\n",
       "      <td>0.0</td>\n",
       "      <td>0.0</td>\n",
       "      <td>0.0</td>\n",
       "      <td>0.0</td>\n",
       "      <td>0.0</td>\n",
       "      <td>0.0</td>\n",
       "      <td>0.0</td>\n",
       "      <td>0.0</td>\n",
       "      <td>0.000000</td>\n",
       "      <td>0.0</td>\n",
       "    </tr>\n",
       "    <tr>\n",
       "      <th>1</th>\n",
       "      <td>0.0</td>\n",
       "      <td>0.067797</td>\n",
       "      <td>0.050847</td>\n",
       "      <td>0.0</td>\n",
       "      <td>0.0</td>\n",
       "      <td>0.0</td>\n",
       "      <td>0.0</td>\n",
       "      <td>0.0</td>\n",
       "      <td>0.0</td>\n",
       "      <td>0.0</td>\n",
       "      <td>...</td>\n",
       "      <td>0.0</td>\n",
       "      <td>0.0</td>\n",
       "      <td>0.0</td>\n",
       "      <td>0.0</td>\n",
       "      <td>0.0</td>\n",
       "      <td>0.0</td>\n",
       "      <td>0.0</td>\n",
       "      <td>0.0</td>\n",
       "      <td>0.000000</td>\n",
       "      <td>0.0</td>\n",
       "    </tr>\n",
       "    <tr>\n",
       "      <th>2</th>\n",
       "      <td>0.0</td>\n",
       "      <td>0.000000</td>\n",
       "      <td>0.000000</td>\n",
       "      <td>0.0</td>\n",
       "      <td>0.0</td>\n",
       "      <td>0.0</td>\n",
       "      <td>0.0</td>\n",
       "      <td>0.0</td>\n",
       "      <td>0.0</td>\n",
       "      <td>0.0</td>\n",
       "      <td>...</td>\n",
       "      <td>0.0</td>\n",
       "      <td>0.0</td>\n",
       "      <td>0.0</td>\n",
       "      <td>0.0</td>\n",
       "      <td>0.0</td>\n",
       "      <td>0.0</td>\n",
       "      <td>0.0</td>\n",
       "      <td>0.0</td>\n",
       "      <td>0.000000</td>\n",
       "      <td>0.0</td>\n",
       "    </tr>\n",
       "    <tr>\n",
       "      <th>3</th>\n",
       "      <td>0.0</td>\n",
       "      <td>0.203390</td>\n",
       "      <td>0.135593</td>\n",
       "      <td>0.0</td>\n",
       "      <td>0.0</td>\n",
       "      <td>0.0</td>\n",
       "      <td>0.0</td>\n",
       "      <td>0.0</td>\n",
       "      <td>0.0</td>\n",
       "      <td>0.0</td>\n",
       "      <td>...</td>\n",
       "      <td>0.0</td>\n",
       "      <td>0.0</td>\n",
       "      <td>0.0</td>\n",
       "      <td>0.0</td>\n",
       "      <td>0.0</td>\n",
       "      <td>0.0</td>\n",
       "      <td>0.0</td>\n",
       "      <td>0.0</td>\n",
       "      <td>0.000000</td>\n",
       "      <td>0.0</td>\n",
       "    </tr>\n",
       "    <tr>\n",
       "      <th>4</th>\n",
       "      <td>0.0</td>\n",
       "      <td>0.000000</td>\n",
       "      <td>0.000000</td>\n",
       "      <td>0.0</td>\n",
       "      <td>0.0</td>\n",
       "      <td>0.0</td>\n",
       "      <td>0.0</td>\n",
       "      <td>0.0</td>\n",
       "      <td>0.0</td>\n",
       "      <td>0.0</td>\n",
       "      <td>...</td>\n",
       "      <td>0.0</td>\n",
       "      <td>0.0</td>\n",
       "      <td>0.0</td>\n",
       "      <td>0.0</td>\n",
       "      <td>0.0</td>\n",
       "      <td>0.0</td>\n",
       "      <td>0.0</td>\n",
       "      <td>0.0</td>\n",
       "      <td>0.016949</td>\n",
       "      <td>0.0</td>\n",
       "    </tr>\n",
       "    <tr>\n",
       "      <th>5</th>\n",
       "      <td>0.0</td>\n",
       "      <td>0.000000</td>\n",
       "      <td>0.000000</td>\n",
       "      <td>0.0</td>\n",
       "      <td>0.0</td>\n",
       "      <td>0.0</td>\n",
       "      <td>0.0</td>\n",
       "      <td>0.0</td>\n",
       "      <td>0.0</td>\n",
       "      <td>0.0</td>\n",
       "      <td>...</td>\n",
       "      <td>0.0</td>\n",
       "      <td>0.0</td>\n",
       "      <td>0.0</td>\n",
       "      <td>0.0</td>\n",
       "      <td>0.0</td>\n",
       "      <td>0.0</td>\n",
       "      <td>0.0</td>\n",
       "      <td>0.0</td>\n",
       "      <td>0.000000</td>\n",
       "      <td>0.0</td>\n",
       "    </tr>\n",
       "    <tr>\n",
       "      <th>6</th>\n",
       "      <td>0.0</td>\n",
       "      <td>0.000000</td>\n",
       "      <td>0.000000</td>\n",
       "      <td>0.0</td>\n",
       "      <td>0.0</td>\n",
       "      <td>0.0</td>\n",
       "      <td>0.0</td>\n",
       "      <td>0.0</td>\n",
       "      <td>0.0</td>\n",
       "      <td>0.0</td>\n",
       "      <td>...</td>\n",
       "      <td>0.0</td>\n",
       "      <td>0.0</td>\n",
       "      <td>0.0</td>\n",
       "      <td>0.0</td>\n",
       "      <td>0.0</td>\n",
       "      <td>0.0</td>\n",
       "      <td>0.0</td>\n",
       "      <td>0.0</td>\n",
       "      <td>0.000000</td>\n",
       "      <td>0.0</td>\n",
       "    </tr>\n",
       "  </tbody>\n",
       "</table>\n",
       "<p>7 rows × 96 columns</p>\n",
       "</div>"
      ],
      "text/plain": [
       "   00:00:00  00:15:00  00:30:00  00:45:00  01:00:00  01:15:00  01:30:00  \\\n",
       "0       0.0  0.000000  0.000000       0.0       0.0       0.0       0.0   \n",
       "1       0.0  0.067797  0.050847       0.0       0.0       0.0       0.0   \n",
       "2       0.0  0.000000  0.000000       0.0       0.0       0.0       0.0   \n",
       "3       0.0  0.203390  0.135593       0.0       0.0       0.0       0.0   \n",
       "4       0.0  0.000000  0.000000       0.0       0.0       0.0       0.0   \n",
       "5       0.0  0.000000  0.000000       0.0       0.0       0.0       0.0   \n",
       "6       0.0  0.000000  0.000000       0.0       0.0       0.0       0.0   \n",
       "\n",
       "   01:45:00  02:00:00  02:15:00  ...  21:30:00  21:45:00  22:00:00  22:15:00  \\\n",
       "0       0.0       0.0       0.0  ...       0.0       0.0       0.0       0.0   \n",
       "1       0.0       0.0       0.0  ...       0.0       0.0       0.0       0.0   \n",
       "2       0.0       0.0       0.0  ...       0.0       0.0       0.0       0.0   \n",
       "3       0.0       0.0       0.0  ...       0.0       0.0       0.0       0.0   \n",
       "4       0.0       0.0       0.0  ...       0.0       0.0       0.0       0.0   \n",
       "5       0.0       0.0       0.0  ...       0.0       0.0       0.0       0.0   \n",
       "6       0.0       0.0       0.0  ...       0.0       0.0       0.0       0.0   \n",
       "\n",
       "   22:30:00  22:45:00  23:00:00  23:15:00  23:30:00  23:45:00  \n",
       "0       0.0       0.0       0.0       0.0  0.000000       0.0  \n",
       "1       0.0       0.0       0.0       0.0  0.000000       0.0  \n",
       "2       0.0       0.0       0.0       0.0  0.000000       0.0  \n",
       "3       0.0       0.0       0.0       0.0  0.000000       0.0  \n",
       "4       0.0       0.0       0.0       0.0  0.016949       0.0  \n",
       "5       0.0       0.0       0.0       0.0  0.000000       0.0  \n",
       "6       0.0       0.0       0.0       0.0  0.000000       0.0  \n",
       "\n",
       "[7 rows x 96 columns]"
      ]
     },
     "execution_count": 127,
     "metadata": {},
     "output_type": "execute_result"
    }
   ],
   "source": [
    "#(pd.DataFrame.from_records(t.time_bin) - 1).divide(dates_counts.values, axis = 0)\n",
    "#pd.DataFrame.from_records(t.time_bin) - 1"
   ]
  },
  {
   "cell_type": "code",
   "execution_count": 147,
   "metadata": {},
   "outputs": [
    {
     "data": {
      "text/html": [
       "<div>\n",
       "<style scoped>\n",
       "    .dataframe tbody tr th:only-of-type {\n",
       "        vertical-align: middle;\n",
       "    }\n",
       "\n",
       "    .dataframe tbody tr th {\n",
       "        vertical-align: top;\n",
       "    }\n",
       "\n",
       "    .dataframe thead th {\n",
       "        text-align: right;\n",
       "    }\n",
       "</style>\n",
       "<table border=\"1\" class=\"dataframe\">\n",
       "  <thead>\n",
       "    <tr style=\"text-align: right;\">\n",
       "      <th></th>\n",
       "      <th>citation_day</th>\n",
       "      <th>street_id</th>\n",
       "      <th>time_bin</th>\n",
       "      <th>00:00:00</th>\n",
       "      <th>00:15:00</th>\n",
       "      <th>00:30:00</th>\n",
       "      <th>00:45:00</th>\n",
       "      <th>01:00:00</th>\n",
       "      <th>01:15:00</th>\n",
       "      <th>01:30:00</th>\n",
       "      <th>...</th>\n",
       "      <th>21:30:00</th>\n",
       "      <th>21:45:00</th>\n",
       "      <th>22:00:00</th>\n",
       "      <th>22:15:00</th>\n",
       "      <th>22:30:00</th>\n",
       "      <th>22:45:00</th>\n",
       "      <th>23:00:00</th>\n",
       "      <th>23:15:00</th>\n",
       "      <th>23:30:00</th>\n",
       "      <th>23:45:00</th>\n",
       "    </tr>\n",
       "  </thead>\n",
       "  <tbody>\n",
       "    <tr>\n",
       "      <th>0</th>\n",
       "      <td>Monday</td>\n",
       "      <td>01st St Clementina St  -  Folsom St</td>\n",
       "      <td>{'00:00:00': 1, '00:15:00': 1, '00:30:00': 1, ...</td>\n",
       "      <td>0.0</td>\n",
       "      <td>0.000000</td>\n",
       "      <td>0.0</td>\n",
       "      <td>0.0</td>\n",
       "      <td>0.0</td>\n",
       "      <td>0.0</td>\n",
       "      <td>0.0</td>\n",
       "      <td>...</td>\n",
       "      <td>0.0</td>\n",
       "      <td>0.0</td>\n",
       "      <td>0.0</td>\n",
       "      <td>0.0</td>\n",
       "      <td>0.0</td>\n",
       "      <td>0.0</td>\n",
       "      <td>0.0</td>\n",
       "      <td>0.0</td>\n",
       "      <td>0.0</td>\n",
       "      <td>0.0</td>\n",
       "    </tr>\n",
       "    <tr>\n",
       "      <th>1</th>\n",
       "      <td>Tuesday</td>\n",
       "      <td>01st St Clementina St  -  Folsom St</td>\n",
       "      <td>{'00:00:00': 1, '00:15:00': 2, '00:30:00': 1, ...</td>\n",
       "      <td>0.0</td>\n",
       "      <td>0.016949</td>\n",
       "      <td>0.0</td>\n",
       "      <td>0.0</td>\n",
       "      <td>0.0</td>\n",
       "      <td>0.0</td>\n",
       "      <td>0.0</td>\n",
       "      <td>...</td>\n",
       "      <td>0.0</td>\n",
       "      <td>0.0</td>\n",
       "      <td>0.0</td>\n",
       "      <td>0.0</td>\n",
       "      <td>0.0</td>\n",
       "      <td>0.0</td>\n",
       "      <td>0.0</td>\n",
       "      <td>0.0</td>\n",
       "      <td>0.0</td>\n",
       "      <td>0.0</td>\n",
       "    </tr>\n",
       "    <tr>\n",
       "      <th>2</th>\n",
       "      <td>Wednesday</td>\n",
       "      <td>01st St Clementina St  -  Folsom St</td>\n",
       "      <td>{'00:00:00': 1, '00:15:00': 1, '00:30:00': 1, ...</td>\n",
       "      <td>0.0</td>\n",
       "      <td>0.000000</td>\n",
       "      <td>0.0</td>\n",
       "      <td>0.0</td>\n",
       "      <td>0.0</td>\n",
       "      <td>0.0</td>\n",
       "      <td>0.0</td>\n",
       "      <td>...</td>\n",
       "      <td>0.0</td>\n",
       "      <td>0.0</td>\n",
       "      <td>0.0</td>\n",
       "      <td>0.0</td>\n",
       "      <td>0.0</td>\n",
       "      <td>0.0</td>\n",
       "      <td>0.0</td>\n",
       "      <td>0.0</td>\n",
       "      <td>0.0</td>\n",
       "      <td>0.0</td>\n",
       "    </tr>\n",
       "    <tr>\n",
       "      <th>3</th>\n",
       "      <td>Thursday</td>\n",
       "      <td>01st St Clementina St  -  Folsom St</td>\n",
       "      <td>{'00:00:00': 1, '00:15:00': 2, '00:30:00': 1, ...</td>\n",
       "      <td>0.0</td>\n",
       "      <td>0.016949</td>\n",
       "      <td>0.0</td>\n",
       "      <td>0.0</td>\n",
       "      <td>0.0</td>\n",
       "      <td>0.0</td>\n",
       "      <td>0.0</td>\n",
       "      <td>...</td>\n",
       "      <td>0.0</td>\n",
       "      <td>0.0</td>\n",
       "      <td>0.0</td>\n",
       "      <td>0.0</td>\n",
       "      <td>0.0</td>\n",
       "      <td>0.0</td>\n",
       "      <td>0.0</td>\n",
       "      <td>0.0</td>\n",
       "      <td>0.0</td>\n",
       "      <td>0.0</td>\n",
       "    </tr>\n",
       "    <tr>\n",
       "      <th>4</th>\n",
       "      <td>Friday</td>\n",
       "      <td>01st St Clementina St  -  Folsom St</td>\n",
       "      <td>{'00:00:00': 1, '00:15:00': 1, '00:30:00': 1, ...</td>\n",
       "      <td>0.0</td>\n",
       "      <td>0.000000</td>\n",
       "      <td>0.0</td>\n",
       "      <td>0.0</td>\n",
       "      <td>0.0</td>\n",
       "      <td>0.0</td>\n",
       "      <td>0.0</td>\n",
       "      <td>...</td>\n",
       "      <td>0.0</td>\n",
       "      <td>0.0</td>\n",
       "      <td>0.0</td>\n",
       "      <td>0.0</td>\n",
       "      <td>0.0</td>\n",
       "      <td>0.0</td>\n",
       "      <td>0.0</td>\n",
       "      <td>0.0</td>\n",
       "      <td>0.0</td>\n",
       "      <td>0.0</td>\n",
       "    </tr>\n",
       "  </tbody>\n",
       "</table>\n",
       "<p>5 rows × 99 columns</p>\n",
       "</div>"
      ],
      "text/plain": [
       "  citation_day                            street_id  \\\n",
       "0       Monday  01st St Clementina St  -  Folsom St   \n",
       "1      Tuesday  01st St Clementina St  -  Folsom St   \n",
       "2    Wednesday  01st St Clementina St  -  Folsom St   \n",
       "3     Thursday  01st St Clementina St  -  Folsom St   \n",
       "4       Friday  01st St Clementina St  -  Folsom St   \n",
       "\n",
       "                                            time_bin  00:00:00  00:15:00  \\\n",
       "0  {'00:00:00': 1, '00:15:00': 1, '00:30:00': 1, ...       0.0  0.000000   \n",
       "1  {'00:00:00': 1, '00:15:00': 2, '00:30:00': 1, ...       0.0  0.016949   \n",
       "2  {'00:00:00': 1, '00:15:00': 1, '00:30:00': 1, ...       0.0  0.000000   \n",
       "3  {'00:00:00': 1, '00:15:00': 2, '00:30:00': 1, ...       0.0  0.016949   \n",
       "4  {'00:00:00': 1, '00:15:00': 1, '00:30:00': 1, ...       0.0  0.000000   \n",
       "\n",
       "   00:30:00  00:45:00  01:00:00  01:15:00  01:30:00  ...  21:30:00  21:45:00  \\\n",
       "0       0.0       0.0       0.0       0.0       0.0  ...       0.0       0.0   \n",
       "1       0.0       0.0       0.0       0.0       0.0  ...       0.0       0.0   \n",
       "2       0.0       0.0       0.0       0.0       0.0  ...       0.0       0.0   \n",
       "3       0.0       0.0       0.0       0.0       0.0  ...       0.0       0.0   \n",
       "4       0.0       0.0       0.0       0.0       0.0  ...       0.0       0.0   \n",
       "\n",
       "   22:00:00  22:15:00  22:30:00  22:45:00  23:00:00  23:15:00  23:30:00  \\\n",
       "0       0.0       0.0       0.0       0.0       0.0       0.0       0.0   \n",
       "1       0.0       0.0       0.0       0.0       0.0       0.0       0.0   \n",
       "2       0.0       0.0       0.0       0.0       0.0       0.0       0.0   \n",
       "3       0.0       0.0       0.0       0.0       0.0       0.0       0.0   \n",
       "4       0.0       0.0       0.0       0.0       0.0       0.0       0.0   \n",
       "\n",
       "   23:45:00  \n",
       "0       0.0  \n",
       "1       0.0  \n",
       "2       0.0  \n",
       "3       0.0  \n",
       "4       0.0  \n",
       "\n",
       "[5 rows x 99 columns]"
      ]
     },
     "execution_count": 147,
     "metadata": {},
     "output_type": "execute_result"
    }
   ],
   "source": [
    "all_dists = pd.concat(df_list)\n",
    "\n",
    "all_dists.head()\n",
    "\n",
    "#all_dists.iloc[:, 3:] = np.log(all_dists.iloc[:, 3:]).replace(-np.Inf, np.nan).fillna(0)\n",
    "\n"
   ]
  },
  {
   "cell_type": "code",
   "execution_count": 132,
   "metadata": {},
   "outputs": [
    {
     "data": {
      "text/plain": [
       "0.2033898305084746"
      ]
     },
     "execution_count": 132,
     "metadata": {},
     "output_type": "execute_result"
    }
   ],
   "source": [
    "all_dists[all_dists.street_id == '43rd Ave Irving St  -  Judah St'].drop(['citation_day', 'street_id', 'time_bin'], axis=1).max().max()"
   ]
  },
  {
   "cell_type": "code",
   "execution_count": 154,
   "metadata": {},
   "outputs": [
    {
     "data": {
      "image/png": "[encoded data removed]",
      "text/plain": [
       "<Figure size 640x480 with 2 Axes>"
      ]
     },
     "metadata": {},
     "output_type": "display_data"
    }
   ],
   "source": [
    "def plot_dist(all_dists, street_id):\n",
    "    temp_df = all_dists[all_dists.street_id == street_id]\n",
    "    # has all 7 days of the week\n",
    "    assert temp_df.shape[0] == 7\n",
    "    temp_df = temp_df[[col for col in temp_df.columns if col not in ['street_id', 'time_bin']]]\n",
    "    temp_df.set_index('citation_day', inplace=True)\n",
    "    sns.heatmap(temp_df, cmap = \"PuRd\").set(title=street_id)\n",
    "\n",
    "plot_dist(all_dists, '43rd Ave Irving St  -  Judah St')\n"
   ]
  },
  {
   "cell_type": "code",
   "execution_count": 155,
   "metadata": {},
   "outputs": [
    {
     "data": {
      "image/png": "[encoded data removed]",
      "text/plain": [
       "<Figure size 640x480 with 2 Axes>"
      ]
     },
     "metadata": {},
     "output_type": "display_data"
    }
   ],
   "source": [
    "plot_dist(all_dists, '03rd St Channel St  -  Terry A Francois Blvd')"
   ]
  },
  {
   "cell_type": "code",
   "execution_count": 153,
   "metadata": {},
   "outputs": [],
   "source": [
    "# looking for one street_id\n",
    "\n",
    "# all_dists[all_dists.street_id.str.contains('Terry A Francois Blvd')].street_id[0]"
   ]
  },
  {
   "cell_type": "code",
   "execution_count": 157,
   "metadata": {},
   "outputs": [],
   "source": [
    "NUMERIC_COLS = [col for col in all_dists.columns if '0' in col]"
   ]
  },
  {
   "cell_type": "code",
   "execution_count": 158,
   "metadata": {},
   "outputs": [],
   "source": [
    "# add geom information to all_dists\n",
    "\n",
    "unique_streets['street_id'] = unique_streets['Corridor'] + ' ' + unique_streets['Limits']\n",
    "street_geom_dict = pd.Series(unique_streets.Line.values,index=unique_streets.street_id).to_dict()\n",
    "all_dists['geom'] = all_dists['street_id'].apply(lambda key: street_geom_dict[key])"
   ]
  },
  {
   "cell_type": "code",
   "execution_count": 159,
   "metadata": {},
   "outputs": [
    {
     "data": {
      "text/html": [
       "<div>\n",
       "<style scoped>\n",
       "    .dataframe tbody tr th:only-of-type {\n",
       "        vertical-align: middle;\n",
       "    }\n",
       "\n",
       "    .dataframe tbody tr th {\n",
       "        vertical-align: top;\n",
       "    }\n",
       "\n",
       "    .dataframe thead th {\n",
       "        text-align: right;\n",
       "    }\n",
       "</style>\n",
       "<table border=\"1\" class=\"dataframe\">\n",
       "  <thead>\n",
       "    <tr style=\"text-align: right;\">\n",
       "      <th></th>\n",
       "      <th>citation_day</th>\n",
       "      <th>street_id</th>\n",
       "      <th>time_bin</th>\n",
       "      <th>00:00:00</th>\n",
       "      <th>00:15:00</th>\n",
       "      <th>00:30:00</th>\n",
       "      <th>00:45:00</th>\n",
       "      <th>01:00:00</th>\n",
       "      <th>01:15:00</th>\n",
       "      <th>01:30:00</th>\n",
       "      <th>...</th>\n",
       "      <th>21:45:00</th>\n",
       "      <th>22:00:00</th>\n",
       "      <th>22:15:00</th>\n",
       "      <th>22:30:00</th>\n",
       "      <th>22:45:00</th>\n",
       "      <th>23:00:00</th>\n",
       "      <th>23:15:00</th>\n",
       "      <th>23:30:00</th>\n",
       "      <th>23:45:00</th>\n",
       "      <th>geom</th>\n",
       "    </tr>\n",
       "  </thead>\n",
       "  <tbody>\n",
       "    <tr>\n",
       "      <th>0</th>\n",
       "      <td>Monday</td>\n",
       "      <td>01st St Clementina St  -  Folsom St</td>\n",
       "      <td>{'00:00:00': 1, '00:15:00': 1, '00:30:00': 1, ...</td>\n",
       "      <td>0.0</td>\n",
       "      <td>0.000000</td>\n",
       "      <td>0.000000</td>\n",
       "      <td>0.0</td>\n",
       "      <td>0.0</td>\n",
       "      <td>0.0</td>\n",
       "      <td>0.0</td>\n",
       "      <td>...</td>\n",
       "      <td>0.0</td>\n",
       "      <td>0.0</td>\n",
       "      <td>0.0</td>\n",
       "      <td>0.0</td>\n",
       "      <td>0.0</td>\n",
       "      <td>0.0</td>\n",
       "      <td>0.0</td>\n",
       "      <td>0.000000</td>\n",
       "      <td>0.0</td>\n",
       "      <td>LINESTRING (-122.395007841381 37.787717615642,...</td>\n",
       "    </tr>\n",
       "    <tr>\n",
       "      <th>1</th>\n",
       "      <td>Tuesday</td>\n",
       "      <td>01st St Clementina St  -  Folsom St</td>\n",
       "      <td>{'00:00:00': 1, '00:15:00': 2, '00:30:00': 1, ...</td>\n",
       "      <td>0.0</td>\n",
       "      <td>0.016949</td>\n",
       "      <td>0.000000</td>\n",
       "      <td>0.0</td>\n",
       "      <td>0.0</td>\n",
       "      <td>0.0</td>\n",
       "      <td>0.0</td>\n",
       "      <td>...</td>\n",
       "      <td>0.0</td>\n",
       "      <td>0.0</td>\n",
       "      <td>0.0</td>\n",
       "      <td>0.0</td>\n",
       "      <td>0.0</td>\n",
       "      <td>0.0</td>\n",
       "      <td>0.0</td>\n",
       "      <td>0.000000</td>\n",
       "      <td>0.0</td>\n",
       "      <td>LINESTRING (-122.395007841381 37.787717615642,...</td>\n",
       "    </tr>\n",
       "    <tr>\n",
       "      <th>2</th>\n",
       "      <td>Wednesday</td>\n",
       "      <td>01st St Clementina St  -  Folsom St</td>\n",
       "      <td>{'00:00:00': 1, '00:15:00': 1, '00:30:00': 1, ...</td>\n",
       "      <td>0.0</td>\n",
       "      <td>0.000000</td>\n",
       "      <td>0.000000</td>\n",
       "      <td>0.0</td>\n",
       "      <td>0.0</td>\n",
       "      <td>0.0</td>\n",
       "      <td>0.0</td>\n",
       "      <td>...</td>\n",
       "      <td>0.0</td>\n",
       "      <td>0.0</td>\n",
       "      <td>0.0</td>\n",
       "      <td>0.0</td>\n",
       "      <td>0.0</td>\n",
       "      <td>0.0</td>\n",
       "      <td>0.0</td>\n",
       "      <td>0.000000</td>\n",
       "      <td>0.0</td>\n",
       "      <td>LINESTRING (-122.395007841381 37.787717615642,...</td>\n",
       "    </tr>\n",
       "    <tr>\n",
       "      <th>3</th>\n",
       "      <td>Thursday</td>\n",
       "      <td>01st St Clementina St  -  Folsom St</td>\n",
       "      <td>{'00:00:00': 1, '00:15:00': 2, '00:30:00': 1, ...</td>\n",
       "      <td>0.0</td>\n",
       "      <td>0.016949</td>\n",
       "      <td>0.000000</td>\n",
       "      <td>0.0</td>\n",
       "      <td>0.0</td>\n",
       "      <td>0.0</td>\n",
       "      <td>0.0</td>\n",
       "      <td>...</td>\n",
       "      <td>0.0</td>\n",
       "      <td>0.0</td>\n",
       "      <td>0.0</td>\n",
       "      <td>0.0</td>\n",
       "      <td>0.0</td>\n",
       "      <td>0.0</td>\n",
       "      <td>0.0</td>\n",
       "      <td>0.000000</td>\n",
       "      <td>0.0</td>\n",
       "      <td>LINESTRING (-122.395007841381 37.787717615642,...</td>\n",
       "    </tr>\n",
       "    <tr>\n",
       "      <th>4</th>\n",
       "      <td>Friday</td>\n",
       "      <td>01st St Clementina St  -  Folsom St</td>\n",
       "      <td>{'00:00:00': 1, '00:15:00': 1, '00:30:00': 1, ...</td>\n",
       "      <td>0.0</td>\n",
       "      <td>0.000000</td>\n",
       "      <td>0.000000</td>\n",
       "      <td>0.0</td>\n",
       "      <td>0.0</td>\n",
       "      <td>0.0</td>\n",
       "      <td>0.0</td>\n",
       "      <td>...</td>\n",
       "      <td>0.0</td>\n",
       "      <td>0.0</td>\n",
       "      <td>0.0</td>\n",
       "      <td>0.0</td>\n",
       "      <td>0.0</td>\n",
       "      <td>0.0</td>\n",
       "      <td>0.0</td>\n",
       "      <td>0.000000</td>\n",
       "      <td>0.0</td>\n",
       "      <td>LINESTRING (-122.395007841381 37.787717615642,...</td>\n",
       "    </tr>\n",
       "    <tr>\n",
       "      <th>...</th>\n",
       "      <td>...</td>\n",
       "      <td>...</td>\n",
       "      <td>...</td>\n",
       "      <td>...</td>\n",
       "      <td>...</td>\n",
       "      <td>...</td>\n",
       "      <td>...</td>\n",
       "      <td>...</td>\n",
       "      <td>...</td>\n",
       "      <td>...</td>\n",
       "      <td>...</td>\n",
       "      <td>...</td>\n",
       "      <td>...</td>\n",
       "      <td>...</td>\n",
       "      <td>...</td>\n",
       "      <td>...</td>\n",
       "      <td>...</td>\n",
       "      <td>...</td>\n",
       "      <td>...</td>\n",
       "      <td>...</td>\n",
       "      <td>...</td>\n",
       "    </tr>\n",
       "    <tr>\n",
       "      <th>2</th>\n",
       "      <td>Wednesday</td>\n",
       "      <td>Zoe St Welsh St  -  Freelon St</td>\n",
       "      <td>{'00:00:00': 1, '00:15:00': 1, '00:30:00': 1, ...</td>\n",
       "      <td>0.0</td>\n",
       "      <td>0.000000</td>\n",
       "      <td>0.000000</td>\n",
       "      <td>0.0</td>\n",
       "      <td>0.0</td>\n",
       "      <td>0.0</td>\n",
       "      <td>0.0</td>\n",
       "      <td>...</td>\n",
       "      <td>0.0</td>\n",
       "      <td>0.0</td>\n",
       "      <td>0.0</td>\n",
       "      <td>0.0</td>\n",
       "      <td>0.0</td>\n",
       "      <td>0.0</td>\n",
       "      <td>0.0</td>\n",
       "      <td>0.000000</td>\n",
       "      <td>0.0</td>\n",
       "      <td>LINESTRING (-122.396306203949 37.780096449982,...</td>\n",
       "    </tr>\n",
       "    <tr>\n",
       "      <th>3</th>\n",
       "      <td>Thursday</td>\n",
       "      <td>Zoe St Welsh St  -  Freelon St</td>\n",
       "      <td>{'00:00:00': 1, '00:15:00': 13, '00:30:00': 9,...</td>\n",
       "      <td>0.0</td>\n",
       "      <td>0.203390</td>\n",
       "      <td>0.135593</td>\n",
       "      <td>0.0</td>\n",
       "      <td>0.0</td>\n",
       "      <td>0.0</td>\n",
       "      <td>0.0</td>\n",
       "      <td>...</td>\n",
       "      <td>0.0</td>\n",
       "      <td>0.0</td>\n",
       "      <td>0.0</td>\n",
       "      <td>0.0</td>\n",
       "      <td>0.0</td>\n",
       "      <td>0.0</td>\n",
       "      <td>0.0</td>\n",
       "      <td>0.000000</td>\n",
       "      <td>0.0</td>\n",
       "      <td>LINESTRING (-122.396306203949 37.780096449982,...</td>\n",
       "    </tr>\n",
       "    <tr>\n",
       "      <th>4</th>\n",
       "      <td>Friday</td>\n",
       "      <td>Zoe St Welsh St  -  Freelon St</td>\n",
       "      <td>{'00:00:00': 1, '00:15:00': 1, '00:30:00': 1, ...</td>\n",
       "      <td>0.0</td>\n",
       "      <td>0.000000</td>\n",
       "      <td>0.000000</td>\n",
       "      <td>0.0</td>\n",
       "      <td>0.0</td>\n",
       "      <td>0.0</td>\n",
       "      <td>0.0</td>\n",
       "      <td>...</td>\n",
       "      <td>0.0</td>\n",
       "      <td>0.0</td>\n",
       "      <td>0.0</td>\n",
       "      <td>0.0</td>\n",
       "      <td>0.0</td>\n",
       "      <td>0.0</td>\n",
       "      <td>0.0</td>\n",
       "      <td>0.016949</td>\n",
       "      <td>0.0</td>\n",
       "      <td>LINESTRING (-122.396306203949 37.780096449982,...</td>\n",
       "    </tr>\n",
       "    <tr>\n",
       "      <th>5</th>\n",
       "      <td>Saturday</td>\n",
       "      <td>Zoe St Welsh St  -  Freelon St</td>\n",
       "      <td>{'00:00:00': 1, '00:15:00': 1, '00:30:00': 1, ...</td>\n",
       "      <td>0.0</td>\n",
       "      <td>0.000000</td>\n",
       "      <td>0.000000</td>\n",
       "      <td>0.0</td>\n",
       "      <td>0.0</td>\n",
       "      <td>0.0</td>\n",
       "      <td>0.0</td>\n",
       "      <td>...</td>\n",
       "      <td>0.0</td>\n",
       "      <td>0.0</td>\n",
       "      <td>0.0</td>\n",
       "      <td>0.0</td>\n",
       "      <td>0.0</td>\n",
       "      <td>0.0</td>\n",
       "      <td>0.0</td>\n",
       "      <td>0.000000</td>\n",
       "      <td>0.0</td>\n",
       "      <td>LINESTRING (-122.396306203949 37.780096449982,...</td>\n",
       "    </tr>\n",
       "    <tr>\n",
       "      <th>6</th>\n",
       "      <td>Sunday</td>\n",
       "      <td>Zoe St Welsh St  -  Freelon St</td>\n",
       "      <td>{'00:00:00': 1, '00:15:00': 1, '00:30:00': 1, ...</td>\n",
       "      <td>0.0</td>\n",
       "      <td>0.000000</td>\n",
       "      <td>0.000000</td>\n",
       "      <td>0.0</td>\n",
       "      <td>0.0</td>\n",
       "      <td>0.0</td>\n",
       "      <td>0.0</td>\n",
       "      <td>...</td>\n",
       "      <td>0.0</td>\n",
       "      <td>0.0</td>\n",
       "      <td>0.0</td>\n",
       "      <td>0.0</td>\n",
       "      <td>0.0</td>\n",
       "      <td>0.0</td>\n",
       "      <td>0.0</td>\n",
       "      <td>0.000000</td>\n",
       "      <td>0.0</td>\n",
       "      <td>LINESTRING (-122.396306203949 37.780096449982,...</td>\n",
       "    </tr>\n",
       "  </tbody>\n",
       "</table>\n",
       "<p>77742 rows × 100 columns</p>\n",
       "</div>"
      ],
      "text/plain": [
       "   citation_day                            street_id  \\\n",
       "0        Monday  01st St Clementina St  -  Folsom St   \n",
       "1       Tuesday  01st St Clementina St  -  Folsom St   \n",
       "2     Wednesday  01st St Clementina St  -  Folsom St   \n",
       "3      Thursday  01st St Clementina St  -  Folsom St   \n",
       "4        Friday  01st St Clementina St  -  Folsom St   \n",
       "..          ...                                  ...   \n",
       "2     Wednesday       Zoe St Welsh St  -  Freelon St   \n",
       "3      Thursday       Zoe St Welsh St  -  Freelon St   \n",
       "4        Friday       Zoe St Welsh St  -  Freelon St   \n",
       "5      Saturday       Zoe St Welsh St  -  Freelon St   \n",
       "6        Sunday       Zoe St Welsh St  -  Freelon St   \n",
       "\n",
       "                                             time_bin  00:00:00  00:15:00  \\\n",
       "0   {'00:00:00': 1, '00:15:00': 1, '00:30:00': 1, ...       0.0  0.000000   \n",
       "1   {'00:00:00': 1, '00:15:00': 2, '00:30:00': 1, ...       0.0  0.016949   \n",
       "2   {'00:00:00': 1, '00:15:00': 1, '00:30:00': 1, ...       0.0  0.000000   \n",
       "3   {'00:00:00': 1, '00:15:00': 2, '00:30:00': 1, ...       0.0  0.016949   \n",
       "4   {'00:00:00': 1, '00:15:00': 1, '00:30:00': 1, ...       0.0  0.000000   \n",
       "..                                                ...       ...       ...   \n",
       "2   {'00:00:00': 1, '00:15:00': 1, '00:30:00': 1, ...       0.0  0.000000   \n",
       "3   {'00:00:00': 1, '00:15:00': 13, '00:30:00': 9,...       0.0  0.203390   \n",
       "4   {'00:00:00': 1, '00:15:00': 1, '00:30:00': 1, ...       0.0  0.000000   \n",
       "5   {'00:00:00': 1, '00:15:00': 1, '00:30:00': 1, ...       0.0  0.000000   \n",
       "6   {'00:00:00': 1, '00:15:00': 1, '00:30:00': 1, ...       0.0  0.000000   \n",
       "\n",
       "    00:30:00  00:45:00  01:00:00  01:15:00  01:30:00  ...  21:45:00  22:00:00  \\\n",
       "0   0.000000       0.0       0.0       0.0       0.0  ...       0.0       0.0   \n",
       "1   0.000000       0.0       0.0       0.0       0.0  ...       0.0       0.0   \n",
       "2   0.000000       0.0       0.0       0.0       0.0  ...       0.0       0.0   \n",
       "3   0.000000       0.0       0.0       0.0       0.0  ...       0.0       0.0   \n",
       "4   0.000000       0.0       0.0       0.0       0.0  ...       0.0       0.0   \n",
       "..       ...       ...       ...       ...       ...  ...       ...       ...   \n",
       "2   0.000000       0.0       0.0       0.0       0.0  ...       0.0       0.0   \n",
       "3   0.135593       0.0       0.0       0.0       0.0  ...       0.0       0.0   \n",
       "4   0.000000       0.0       0.0       0.0       0.0  ...       0.0       0.0   \n",
       "5   0.000000       0.0       0.0       0.0       0.0  ...       0.0       0.0   \n",
       "6   0.000000       0.0       0.0       0.0       0.0  ...       0.0       0.0   \n",
       "\n",
       "    22:15:00  22:30:00  22:45:00  23:00:00  23:15:00  23:30:00  23:45:00  \\\n",
       "0        0.0       0.0       0.0       0.0       0.0  0.000000       0.0   \n",
       "1        0.0       0.0       0.0       0.0       0.0  0.000000       0.0   \n",
       "2        0.0       0.0       0.0       0.0       0.0  0.000000       0.0   \n",
       "3        0.0       0.0       0.0       0.0       0.0  0.000000       0.0   \n",
       "4        0.0       0.0       0.0       0.0       0.0  0.000000       0.0   \n",
       "..       ...       ...       ...       ...       ...       ...       ...   \n",
       "2        0.0       0.0       0.0       0.0       0.0  0.000000       0.0   \n",
       "3        0.0       0.0       0.0       0.0       0.0  0.000000       0.0   \n",
       "4        0.0       0.0       0.0       0.0       0.0  0.016949       0.0   \n",
       "5        0.0       0.0       0.0       0.0       0.0  0.000000       0.0   \n",
       "6        0.0       0.0       0.0       0.0       0.0  0.000000       0.0   \n",
       "\n",
       "                                                 geom  \n",
       "0   LINESTRING (-122.395007841381 37.787717615642,...  \n",
       "1   LINESTRING (-122.395007841381 37.787717615642,...  \n",
       "2   LINESTRING (-122.395007841381 37.787717615642,...  \n",
       "3   LINESTRING (-122.395007841381 37.787717615642,...  \n",
       "4   LINESTRING (-122.395007841381 37.787717615642,...  \n",
       "..                                                ...  \n",
       "2   LINESTRING (-122.396306203949 37.780096449982,...  \n",
       "3   LINESTRING (-122.396306203949 37.780096449982,...  \n",
       "4   LINESTRING (-122.396306203949 37.780096449982,...  \n",
       "5   LINESTRING (-122.396306203949 37.780096449982,...  \n",
       "6   LINESTRING (-122.396306203949 37.780096449982,...  \n",
       "\n",
       "[77742 rows x 100 columns]"
      ]
     },
     "execution_count": 159,
     "metadata": {},
     "output_type": "execute_result"
    }
   ],
   "source": [
    "all_dists"
   ]
  },
  {
   "cell_type": "code",
   "execution_count": 183,
   "metadata": {},
   "outputs": [],
   "source": [
    "# equivalent to pivot_longer in R\n",
    "\n",
    "pivoted = pd.melt(all_dists, id_vars=['citation_day', 'street_id', 'geom'], value_vars=NUMERIC_COLS, value_name='prob', var_name='time')\n",
    "pivoted['time'] = pd.to_datetime(pivoted['time'])"
   ]
  },
  {
   "cell_type": "code",
   "execution_count": 184,
   "metadata": {},
   "outputs": [],
   "source": [
    "pivoted = pivoted[pivoted[\"prob\"] != 0]"
   ]
  },
  {
   "cell_type": "code",
   "execution_count": 185,
   "metadata": {},
   "outputs": [],
   "source": [
    "days = {'Monday': timedelta(days=0), 'Tuesday': timedelta(days=1),\n",
    "        'Wednesday': timedelta(days=2), \"Thursday\": timedelta(days=3),\n",
    "        \"Friday\": timedelta(days=4), \"Saturday\": timedelta(days=5),\n",
    "        \"Sunday\": timedelta(days=6)}\n",
    "\n",
    "pivoted[\"time\"] = pivoted.citation_day.apply(lambda x: days[x]) + pivoted[\"time\"]"
   ]
  },
  {
   "cell_type": "code",
   "execution_count": 186,
   "metadata": {},
   "outputs": [
    {
     "data": {
      "text/html": [
       "<div>\n",
       "<style scoped>\n",
       "    .dataframe tbody tr th:only-of-type {\n",
       "        vertical-align: middle;\n",
       "    }\n",
       "\n",
       "    .dataframe tbody tr th {\n",
       "        vertical-align: top;\n",
       "    }\n",
       "\n",
       "    .dataframe thead th {\n",
       "        text-align: right;\n",
       "    }\n",
       "</style>\n",
       "<table border=\"1\" class=\"dataframe\">\n",
       "  <thead>\n",
       "    <tr style=\"text-align: right;\">\n",
       "      <th></th>\n",
       "      <th>citation_day</th>\n",
       "      <th>street_id</th>\n",
       "      <th>geom</th>\n",
       "      <th>time</th>\n",
       "      <th>prob</th>\n",
       "    </tr>\n",
       "  </thead>\n",
       "  <tbody>\n",
       "    <tr>\n",
       "      <th>50</th>\n",
       "      <td>Tuesday</td>\n",
       "      <td>01st St Market St  -  Stevenson St</td>\n",
       "      <td>LINESTRING (-122.399148598539 37.791016649255,...</td>\n",
       "      <td>2023-03-21</td>\n",
       "      <td>0.016949</td>\n",
       "    </tr>\n",
       "    <tr>\n",
       "      <th>192</th>\n",
       "      <td>Thursday</td>\n",
       "      <td>02nd St Dow Pl  -  Harrison St</td>\n",
       "      <td>LINESTRING (-122.39589570128 37.78489692949, -...</td>\n",
       "      <td>2023-03-23</td>\n",
       "      <td>0.016949</td>\n",
       "    </tr>\n",
       "    <tr>\n",
       "      <th>204</th>\n",
       "      <td>Tuesday</td>\n",
       "      <td>02nd St Folsom St  -  Dow Pl</td>\n",
       "      <td>LINESTRING (-122.396705177782 37.785542130693,...</td>\n",
       "      <td>2023-03-21</td>\n",
       "      <td>0.084746</td>\n",
       "    </tr>\n",
       "    <tr>\n",
       "      <th>206</th>\n",
       "      <td>Thursday</td>\n",
       "      <td>02nd St Folsom St  -  Dow Pl</td>\n",
       "      <td>LINESTRING (-122.396705177782 37.785542130693,...</td>\n",
       "      <td>2023-03-23</td>\n",
       "      <td>0.016949</td>\n",
       "    </tr>\n",
       "    <tr>\n",
       "      <th>240</th>\n",
       "      <td>Wednesday</td>\n",
       "      <td>02nd St Minna St  -  Natoma St</td>\n",
       "      <td>LINESTRING (-122.399255048484 37.787579277313,...</td>\n",
       "      <td>2023-03-22</td>\n",
       "      <td>0.016949</td>\n",
       "    </tr>\n",
       "    <tr>\n",
       "      <th>247</th>\n",
       "      <td>Wednesday</td>\n",
       "      <td>02nd St Mission St  -  Minna St</td>\n",
       "      <td>LINESTRING (-122.399798024477 37.788007160065,...</td>\n",
       "      <td>2023-03-22</td>\n",
       "      <td>0.016949</td>\n",
       "    </tr>\n",
       "    <tr>\n",
       "      <th>249</th>\n",
       "      <td>Friday</td>\n",
       "      <td>02nd St Mission St  -  Minna St</td>\n",
       "      <td>LINESTRING (-122.399798024477 37.788007160065,...</td>\n",
       "      <td>2023-03-24</td>\n",
       "      <td>0.016949</td>\n",
       "    </tr>\n",
       "    <tr>\n",
       "      <th>294</th>\n",
       "      <td>Monday</td>\n",
       "      <td>02nd St Townsend St  -  King St</td>\n",
       "      <td>LINESTRING (-122.390527233758 37.780606757553,...</td>\n",
       "      <td>2023-03-20</td>\n",
       "      <td>0.118644</td>\n",
       "    </tr>\n",
       "    <tr>\n",
       "      <th>295</th>\n",
       "      <td>Tuesday</td>\n",
       "      <td>02nd St Townsend St  -  King St</td>\n",
       "      <td>LINESTRING (-122.390527233758 37.780606757553,...</td>\n",
       "      <td>2023-03-21</td>\n",
       "      <td>0.050847</td>\n",
       "    </tr>\n",
       "    <tr>\n",
       "      <th>296</th>\n",
       "      <td>Wednesday</td>\n",
       "      <td>02nd St Townsend St  -  King St</td>\n",
       "      <td>LINESTRING (-122.390527233758 37.780606757553,...</td>\n",
       "      <td>2023-03-22</td>\n",
       "      <td>0.084746</td>\n",
       "    </tr>\n",
       "  </tbody>\n",
       "</table>\n",
       "</div>"
      ],
      "text/plain": [
       "    citation_day                           street_id  \\\n",
       "50       Tuesday  01st St Market St  -  Stevenson St   \n",
       "192     Thursday      02nd St Dow Pl  -  Harrison St   \n",
       "204      Tuesday        02nd St Folsom St  -  Dow Pl   \n",
       "206     Thursday        02nd St Folsom St  -  Dow Pl   \n",
       "240    Wednesday      02nd St Minna St  -  Natoma St   \n",
       "247    Wednesday     02nd St Mission St  -  Minna St   \n",
       "249       Friday     02nd St Mission St  -  Minna St   \n",
       "294       Monday     02nd St Townsend St  -  King St   \n",
       "295      Tuesday     02nd St Townsend St  -  King St   \n",
       "296    Wednesday     02nd St Townsend St  -  King St   \n",
       "\n",
       "                                                  geom       time      prob  \n",
       "50   LINESTRING (-122.399148598539 37.791016649255,... 2023-03-21  0.016949  \n",
       "192  LINESTRING (-122.39589570128 37.78489692949, -... 2023-03-23  0.016949  \n",
       "204  LINESTRING (-122.396705177782 37.785542130693,... 2023-03-21  0.084746  \n",
       "206  LINESTRING (-122.396705177782 37.785542130693,... 2023-03-23  0.016949  \n",
       "240  LINESTRING (-122.399255048484 37.787579277313,... 2023-03-22  0.016949  \n",
       "247  LINESTRING (-122.399798024477 37.788007160065,... 2023-03-22  0.016949  \n",
       "249  LINESTRING (-122.399798024477 37.788007160065,... 2023-03-24  0.016949  \n",
       "294  LINESTRING (-122.390527233758 37.780606757553,... 2023-03-20  0.118644  \n",
       "295  LINESTRING (-122.390527233758 37.780606757553,... 2023-03-21  0.050847  \n",
       "296  LINESTRING (-122.390527233758 37.780606757553,... 2023-03-22  0.084746  "
      ]
     },
     "execution_count": 186,
     "metadata": {},
     "output_type": "execute_result"
    }
   ],
   "source": [
    "pivoted.head(10)"
   ]
  },
  {
   "cell_type": "code",
   "execution_count": 187,
   "metadata": {},
   "outputs": [],
   "source": [
    "# save to csv for visualization by kepler GL\n",
    "\n",
    "pivoted.to_csv('../data/pivoted_for_kgl.csv', index=False)"
   ]
  },
  {
   "cell_type": "code",
   "execution_count": 188,
   "metadata": {},
   "outputs": [
    {
     "data": {
      "text/plain": [
       "0.016949    206199\n",
       "0.033898     51622\n",
       "0.016667     30045\n",
       "0.050847     21306\n",
       "0.067797     11176\n",
       "             ...  \n",
       "0.783333         2\n",
       "0.850000         1\n",
       "0.898305         1\n",
       "0.916667         1\n",
       "0.932203         1\n",
       "Name: prob, Length: 105, dtype: int64"
      ]
     },
     "execution_count": 188,
     "metadata": {},
     "output_type": "execute_result"
    }
   ],
   "source": [
    "pivoted['prob'].value_counts()"
   ]
  },
  {
   "cell_type": "code",
   "execution_count": 189,
   "metadata": {},
   "outputs": [
    {
     "data": {
      "text/plain": [
       "0.016666666666666666"
      ]
     },
     "execution_count": 189,
     "metadata": {},
     "output_type": "execute_result"
    }
   ],
   "source": [
    "pivoted['prob'].min()"
   ]
  },
  {
   "cell_type": "code",
   "execution_count": 190,
   "metadata": {},
   "outputs": [
    {
     "data": {
      "text/plain": [
       "0.9322033898305084"
      ]
     },
     "execution_count": 190,
     "metadata": {},
     "output_type": "execute_result"
    }
   ],
   "source": [
    "pivoted['prob'].max()"
   ]
  }
 ],
 "metadata": {
  "kernelspec": {
   "display_name": "stat-222",
   "language": "python",
   "name": "python3"
  },
  "language_info": {
   "codemirror_mode": {
    "name": "ipython",
    "version": 3
   },
   "file_extension": ".py",
   "mimetype": "text/x-python",
   "name": "python",
   "nbconvert_exporter": "python",
   "pygments_lexer": "ipython3",
   "version": "3.9.16"
  },
  "orig_nbformat": 4,
  "vscode": {
   "interpreter": {
    "hash": "25065662bc99f60e9ea3d9f765cb1d424e17fbc56e3fdafe48cd9160abf091bf"
   }
  }
 },
 "nbformat": 4,
 "nbformat_minor": 2
}
