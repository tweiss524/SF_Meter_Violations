{
 "cells": [
  {
   "cell_type": "markdown",
   "metadata": {},
   "source": [
    "## Imports"
   ]
  },
  {
   "cell_type": "code",
   "execution_count": 1,
   "metadata": {},
   "outputs": [],
   "source": [
    "import numpy as np\n",
    "import pandas as pd\n",
    "import plotly.express as px\n",
    "from shapely import wkt"
   ]
  },
  {
   "cell_type": "markdown",
   "metadata": {},
   "source": [
    "## Ingest Data"
   ]
  },
  {
   "cell_type": "code",
   "execution_count": 9,
   "metadata": {},
   "outputs": [
    {
     "name": "stderr",
     "output_type": "stream",
     "text": [
      "/var/folders/lr/597pxhmx2z78r4vysc_dvsth0000gn/T/ipykernel_34096/3730071359.py:1: DtypeWarning: Columns (0) have mixed types. Specify dtype option on import or set low_memory=False.\n",
      "  df = pd.read_csv(\"../data/parking_data_2020.csv\", parse_dates=True)\n"
     ]
    }
   ],
   "source": [
    "df = pd.read_csv(\"../data/parking_data_2020.csv\")"
   ]
  },
  {
   "cell_type": "code",
   "execution_count": 12,
   "metadata": {},
   "outputs": [],
   "source": [
    "df['Citation Issued DateTime'] = pd.to_datetime(df['Citation Issued DateTime'])"
   ]
  },
  {
   "cell_type": "code",
   "execution_count": 13,
   "metadata": {},
   "outputs": [
    {
     "data": {
      "text/html": [
       "<div>\n",
       "<style scoped>\n",
       "    .dataframe tbody tr th:only-of-type {\n",
       "        vertical-align: middle;\n",
       "    }\n",
       "\n",
       "    .dataframe tbody tr th {\n",
       "        vertical-align: top;\n",
       "    }\n",
       "\n",
       "    .dataframe thead th {\n",
       "        text-align: right;\n",
       "    }\n",
       "</style>\n",
       "<table border=\"1\" class=\"dataframe\">\n",
       "  <thead>\n",
       "    <tr style=\"text-align: right;\">\n",
       "      <th></th>\n",
       "      <th>Citation Number</th>\n",
       "      <th>Citation Issued DateTime</th>\n",
       "      <th>Violation</th>\n",
       "      <th>Violation Description</th>\n",
       "      <th>Citation Location</th>\n",
       "      <th>Vehicle Plate State</th>\n",
       "      <th>Vehicle Plate</th>\n",
       "      <th>Fine Amount</th>\n",
       "      <th>Date Added</th>\n",
       "      <th>geom</th>\n",
       "      <th>Neighborhoods</th>\n",
       "      <th>SF Find Neighborhoods</th>\n",
       "      <th>Current Police Districts</th>\n",
       "      <th>Current Supervisor Districts</th>\n",
       "      <th>Analysis Neighborhoods</th>\n",
       "    </tr>\n",
       "  </thead>\n",
       "  <tbody>\n",
       "    <tr>\n",
       "      <th>0</th>\n",
       "      <td>PD34805304</td>\n",
       "      <td>2020-01-01 00:03:00</td>\n",
       "      <td>V22500H</td>\n",
       "      <td>DBL PARK</td>\n",
       "      <td>PALM AVE</td>\n",
       "      <td>CA</td>\n",
       "      <td>8KD4235</td>\n",
       "      <td>110.0</td>\n",
       "      <td>05/11/2021 12:00:00 AM</td>\n",
       "      <td>POINT (-122.45789733699996 37.783540370000026)</td>\n",
       "      <td>11.0</td>\n",
       "      <td>11.0</td>\n",
       "      <td>8.0</td>\n",
       "      <td>6.0</td>\n",
       "      <td>31.0</td>\n",
       "    </tr>\n",
       "    <tr>\n",
       "      <th>1</th>\n",
       "      <td>926909395</td>\n",
       "      <td>2020-01-01 00:15:00</td>\n",
       "      <td>TRC7.2.41</td>\n",
       "      <td>PK PHB OTD</td>\n",
       "      <td>735 TERRY A FRANCOIS BOULEVARD</td>\n",
       "      <td>CA</td>\n",
       "      <td>8LCZ875</td>\n",
       "      <td>106.0</td>\n",
       "      <td>03/14/2021 12:00:00 AM</td>\n",
       "      <td>POINT (-122.38609376 37.767347795000035)</td>\n",
       "      <td>34.0</td>\n",
       "      <td>34.0</td>\n",
       "      <td>1.0</td>\n",
       "      <td>10.0</td>\n",
       "      <td>4.0</td>\n",
       "    </tr>\n",
       "    <tr>\n",
       "      <th>2</th>\n",
       "      <td>PD34751430</td>\n",
       "      <td>2020-01-01 00:15:00</td>\n",
       "      <td>PK6.01G</td>\n",
       "      <td>NOPRK 10P6</td>\n",
       "      <td>2100 SUNNYDALE AVE</td>\n",
       "      <td>CA</td>\n",
       "      <td>5GXH820</td>\n",
       "      <td>23.0</td>\n",
       "      <td>04/30/2020 12:00:00 AM</td>\n",
       "      <td>POINT (-122.41881402299998 37.71817499200006)</td>\n",
       "      <td>73.0</td>\n",
       "      <td>73.0</td>\n",
       "      <td>9.0</td>\n",
       "      <td>9.0</td>\n",
       "      <td>19.0</td>\n",
       "    </tr>\n",
       "    <tr>\n",
       "      <th>3</th>\n",
       "      <td>926604011</td>\n",
       "      <td>2020-01-01 00:15:00</td>\n",
       "      <td>TRC7.2.41</td>\n",
       "      <td>PK PHB OTD</td>\n",
       "      <td>621 TERRY A FRANCOIS BLVD</td>\n",
       "      <td>CA</td>\n",
       "      <td>8CKN522</td>\n",
       "      <td>106.0</td>\n",
       "      <td>07/27/2020 12:00:00 AM</td>\n",
       "      <td>POINT (-122.38627475799996 37.769162866000045)</td>\n",
       "      <td>34.0</td>\n",
       "      <td>34.0</td>\n",
       "      <td>1.0</td>\n",
       "      <td>10.0</td>\n",
       "      <td>4.0</td>\n",
       "    </tr>\n",
       "    <tr>\n",
       "      <th>4</th>\n",
       "      <td>926909406</td>\n",
       "      <td>2020-01-01 00:20:00</td>\n",
       "      <td>TRC7.2.41</td>\n",
       "      <td>PK PHB OTD</td>\n",
       "      <td>730 TERRY A FRANCOIS BOULEVARD</td>\n",
       "      <td>CA</td>\n",
       "      <td>7NWC642</td>\n",
       "      <td>106.0</td>\n",
       "      <td>07/27/2020 12:00:00 AM</td>\n",
       "      <td>POINT (-122.38621425199995 37.76739727200004)</td>\n",
       "      <td>34.0</td>\n",
       "      <td>34.0</td>\n",
       "      <td>1.0</td>\n",
       "      <td>10.0</td>\n",
       "      <td>4.0</td>\n",
       "    </tr>\n",
       "  </tbody>\n",
       "</table>\n",
       "</div>"
      ],
      "text/plain": [
       "  Citation Number Citation Issued DateTime  Violation Violation Description  \\\n",
       "0      PD34805304      2020-01-01 00:03:00    V22500H              DBL PARK   \n",
       "1       926909395      2020-01-01 00:15:00  TRC7.2.41            PK PHB OTD   \n",
       "2      PD34751430      2020-01-01 00:15:00    PK6.01G            NOPRK 10P6   \n",
       "3       926604011      2020-01-01 00:15:00  TRC7.2.41            PK PHB OTD   \n",
       "4       926909406      2020-01-01 00:20:00  TRC7.2.41            PK PHB OTD   \n",
       "\n",
       "                Citation Location Vehicle Plate State Vehicle Plate  \\\n",
       "0                        PALM AVE                  CA       8KD4235   \n",
       "1  735 TERRY A FRANCOIS BOULEVARD                  CA       8LCZ875   \n",
       "2              2100 SUNNYDALE AVE                  CA       5GXH820   \n",
       "3       621 TERRY A FRANCOIS BLVD                  CA       8CKN522   \n",
       "4  730 TERRY A FRANCOIS BOULEVARD                  CA       7NWC642   \n",
       "\n",
       "   Fine Amount              Date Added  \\\n",
       "0        110.0  05/11/2021 12:00:00 AM   \n",
       "1        106.0  03/14/2021 12:00:00 AM   \n",
       "2         23.0  04/30/2020 12:00:00 AM   \n",
       "3        106.0  07/27/2020 12:00:00 AM   \n",
       "4        106.0  07/27/2020 12:00:00 AM   \n",
       "\n",
       "                                             geom  Neighborhoods  \\\n",
       "0  POINT (-122.45789733699996 37.783540370000026)           11.0   \n",
       "1        POINT (-122.38609376 37.767347795000035)           34.0   \n",
       "2   POINT (-122.41881402299998 37.71817499200006)           73.0   \n",
       "3  POINT (-122.38627475799996 37.769162866000045)           34.0   \n",
       "4   POINT (-122.38621425199995 37.76739727200004)           34.0   \n",
       "\n",
       "   SF Find Neighborhoods  Current Police Districts  \\\n",
       "0                   11.0                       8.0   \n",
       "1                   34.0                       1.0   \n",
       "2                   73.0                       9.0   \n",
       "3                   34.0                       1.0   \n",
       "4                   34.0                       1.0   \n",
       "\n",
       "   Current Supervisor Districts  Analysis Neighborhoods  \n",
       "0                           6.0                    31.0  \n",
       "1                          10.0                     4.0  \n",
       "2                           9.0                    19.0  \n",
       "3                          10.0                     4.0  \n",
       "4                          10.0                     4.0  "
      ]
     },
     "execution_count": 13,
     "metadata": {},
     "output_type": "execute_result"
    }
   ],
   "source": [
    "df.head()"
   ]
  },
  {
   "cell_type": "code",
   "execution_count": 15,
   "metadata": {},
   "outputs": [
    {
     "data": {
      "text/plain": [
       "Violation    Violation Description\n",
       "TRC7.2.22    STR CLEAN                159434\n",
       "TRC7.2.23B   MTR OUT DT                35678\n",
       "TRC7.2.20    RES/OT                    16447\n",
       "TRC7.2.23A   METER DTN                 12417\n",
       "V22500H      DBL PARK                   9605\n",
       "TRC7.2.26    YEL ZONE                   8476\n",
       "V22500E      DRIVEWAY                   8037\n",
       "V5204A       REG TABS                   7967\n",
       "TRC7.2.40    PRK PROHIB                 7290\n",
       "TRC7.2.41    PK PHB OTD                 6633\n",
       "TRC7.2.101A  FAIL DISPL                 6565\n",
       "TRC7.2.35    PRK GRADE                  6123\n",
       "V5200        NO PLATES                  5335\n",
       "V22500F      ON SIDEWLK                 5307\n",
       "TRC7.2.83    TRK ZONE                   4981\n",
       "TRC7.2.38    PK STANDS                  4434\n",
       "TRC7.2.25    RED ZONE                   4282\n",
       "V21211       BLK BIKE L                 2890\n",
       "TRC7.2.27    WHITE ZONE                 2091\n",
       "TRC7.2.70    OBSTRCT TF                 1755\n",
       "V22500I      BUS ZONE                   1739\n",
       "V22502A      OVR 18 \" C                 1607\n",
       "TRC7.2.46    CNSTR TEMP                 1430\n",
       "V22500B      PK/CROSS                   1386\n",
       "V22514       FIRE HYD                   1283\n",
       "TRC7.2.43    PUB PROP                   1280\n",
       "TRC7.2.30B   OT OUT DT                  1249\n",
       "TRC7.2.45    TMP PK RES                  843\n",
       "TRC7.2.42    RESTRICTED                  819\n",
       "V22500L      WHLCHR ACC                  736\n",
       "TRC7.2.32    ANGLE PARK                  666\n",
       "V22526A      BLK/INTER                   605\n",
       "TRC7.2.34    MED DIVIDE                  597\n",
       "V22507.8A    B ZN NO DP                  536\n",
       "TRC7.2.29    PK OVR 72H                  459\n",
       "TRC7.2.51    N/ W/I SPC                  447\n",
       "TRC7.2.30D   OT MTR PK                   381\n",
       "TRC7.2.60    FACIL CRG                   359\n",
       "TRC7.2.30A   OT PK DT                    355\n",
       "V5202        NOPL/PRDSP                  340\n",
       "PK6.01G      NOPRK 10P6                  318\n",
       "NO VIOL      NO VIOL                     275\n",
       "V5201        PLT LEF/AT                  250\n",
       "V22500A      PK INTER                    204\n",
       "TRC7.2.28    GREEN ZONE                  160\n",
       "TRC7.2.44A   ON ST LST                   141\n",
       "TRC7.2.37    MC PRKING                   140\n",
       "PK6.01H      MAR GRN PK                  136\n",
       "V5201A       PLT LEF/AT                  128\n",
       "V5201B       PLATECOVER                  125\n",
       "dtype: int64"
      ]
     },
     "execution_count": 15,
     "metadata": {},
     "output_type": "execute_result"
    }
   ],
   "source": [
    "# top 50 most common violations in SF\n",
    "\n",
    "violation_gb = df.groupby([\"Violation\", \"Violation Description\"]).size().sort_values(ascending=False)\n",
    "violation_gb.head(50)"
   ]
  },
  {
   "cell_type": "code",
   "execution_count": 16,
   "metadata": {},
   "outputs": [],
   "source": [
    "# get geometry\n",
    "\n",
    "df.loc[:, 'geom'] = df.geom.apply(wkt.loads)"
   ]
  },
  {
   "cell_type": "code",
   "execution_count": 18,
   "metadata": {},
   "outputs": [],
   "source": [
    "# get latitude and longitude information from points\n",
    "\n",
    "df.loc[:, 'long'] = df.geom.apply(lambda point: point.x)\n",
    "df.loc[:, 'lat'] = df.geom.apply(lambda point: point.y)"
   ]
  },
  {
   "cell_type": "code",
   "execution_count": null,
   "metadata": {},
   "outputs": [],
   "source": [
    "# plot heatmap of parking incidents\n",
    "\n",
    "# fig = px.density_mapbox(df_sample[~df['SF Find Neighborhoods'].isnull()], lat='long', lon='lat', z='count', \n",
    "#                         mapbox_style=\"stamen-terrain\")\n",
    " \n",
    "# fig"
   ]
  }
 ],
 "metadata": {
  "kernelspec": {
   "display_name": "Python 3.8.13 ('ds')",
   "language": "python",
   "name": "python3"
  },
  "language_info": {
   "codemirror_mode": {
    "name": "ipython",
    "version": 3
   },
   "file_extension": ".py",
   "mimetype": "text/x-python",
   "name": "python",
   "nbconvert_exporter": "python",
   "pygments_lexer": "ipython3",
   "version": "3.8.13"
  },
  "orig_nbformat": 4,
  "vscode": {
   "interpreter": {
    "hash": "ebf4d58f2b06e9f21676e768ca6276364ab43d26f7d392ff17c91d23028c0e8b"
   }
  }
 },
 "nbformat": 4,
 "nbformat_minor": 2
}
