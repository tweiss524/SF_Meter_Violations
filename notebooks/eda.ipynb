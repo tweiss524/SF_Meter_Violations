{
 "cells": [
  {
   "cell_type": "markdown",
   "metadata": {},
   "source": [
    "## Imports"
   ]
  },
  {
   "cell_type": "code",
   "execution_count": 53,
   "metadata": {},
   "outputs": [],
   "source": [
    "import numpy as np\n",
    "import pandas as pd\n",
    "import plotly.express as px\n",
    "from shapely import wkt\n",
    "import geopandas as gpd"
   ]
  },
  {
   "cell_type": "markdown",
   "metadata": {},
   "source": [
    "## Ingest Data"
   ]
  },
  {
   "cell_type": "code",
   "execution_count": 9,
   "metadata": {},
   "outputs": [
    {
     "name": "stderr",
     "output_type": "stream",
     "text": [
      "/var/folders/lr/597pxhmx2z78r4vysc_dvsth0000gn/T/ipykernel_34096/3730071359.py:1: DtypeWarning: Columns (0) have mixed types. Specify dtype option on import or set low_memory=False.\n",
      "  df = pd.read_csv(\"../data/parking_data_2020.csv\", parse_dates=True)\n"
     ]
    }
   ],
   "source": [
    "df = pd.read_csv(\"../data/parking_data_2020.csv\")"
   ]
  },
  {
   "cell_type": "code",
   "execution_count": 19,
   "metadata": {},
   "outputs": [],
   "source": [
    "df['Citation Issued DateTime'] = pd.to_datetime(df['Citation Issued DateTime'])"
   ]
  },
  {
   "cell_type": "code",
   "execution_count": 13,
   "metadata": {},
   "outputs": [
    {
     "data": {
      "text/html": [
       "<div>\n",
       "<style scoped>\n",
       "    .dataframe tbody tr th:only-of-type {\n",
       "        vertical-align: middle;\n",
       "    }\n",
       "\n",
       "    .dataframe tbody tr th {\n",
       "        vertical-align: top;\n",
       "    }\n",
       "\n",
       "    .dataframe thead th {\n",
       "        text-align: right;\n",
       "    }\n",
       "</style>\n",
       "<table border=\"1\" class=\"dataframe\">\n",
       "  <thead>\n",
       "    <tr style=\"text-align: right;\">\n",
       "      <th></th>\n",
       "      <th>Citation Number</th>\n",
       "      <th>Citation Issued DateTime</th>\n",
       "      <th>Violation</th>\n",
       "      <th>Violation Description</th>\n",
       "      <th>Citation Location</th>\n",
       "      <th>Vehicle Plate State</th>\n",
       "      <th>Vehicle Plate</th>\n",
       "      <th>Fine Amount</th>\n",
       "      <th>Date Added</th>\n",
       "      <th>geom</th>\n",
       "      <th>Neighborhoods</th>\n",
       "      <th>SF Find Neighborhoods</th>\n",
       "      <th>Current Police Districts</th>\n",
       "      <th>Current Supervisor Districts</th>\n",
       "      <th>Analysis Neighborhoods</th>\n",
       "    </tr>\n",
       "  </thead>\n",
       "  <tbody>\n",
       "    <tr>\n",
       "      <th>0</th>\n",
       "      <td>PD34805304</td>\n",
       "      <td>2020-01-01 00:03:00</td>\n",
       "      <td>V22500H</td>\n",
       "      <td>DBL PARK</td>\n",
       "      <td>PALM AVE</td>\n",
       "      <td>CA</td>\n",
       "      <td>8KD4235</td>\n",
       "      <td>110.0</td>\n",
       "      <td>05/11/2021 12:00:00 AM</td>\n",
       "      <td>POINT (-122.45789733699996 37.783540370000026)</td>\n",
       "      <td>11.0</td>\n",
       "      <td>11.0</td>\n",
       "      <td>8.0</td>\n",
       "      <td>6.0</td>\n",
       "      <td>31.0</td>\n",
       "    </tr>\n",
       "    <tr>\n",
       "      <th>1</th>\n",
       "      <td>926909395</td>\n",
       "      <td>2020-01-01 00:15:00</td>\n",
       "      <td>TRC7.2.41</td>\n",
       "      <td>PK PHB OTD</td>\n",
       "      <td>735 TERRY A FRANCOIS BOULEVARD</td>\n",
       "      <td>CA</td>\n",
       "      <td>8LCZ875</td>\n",
       "      <td>106.0</td>\n",
       "      <td>03/14/2021 12:00:00 AM</td>\n",
       "      <td>POINT (-122.38609376 37.767347795000035)</td>\n",
       "      <td>34.0</td>\n",
       "      <td>34.0</td>\n",
       "      <td>1.0</td>\n",
       "      <td>10.0</td>\n",
       "      <td>4.0</td>\n",
       "    </tr>\n",
       "    <tr>\n",
       "      <th>2</th>\n",
       "      <td>PD34751430</td>\n",
       "      <td>2020-01-01 00:15:00</td>\n",
       "      <td>PK6.01G</td>\n",
       "      <td>NOPRK 10P6</td>\n",
       "      <td>2100 SUNNYDALE AVE</td>\n",
       "      <td>CA</td>\n",
       "      <td>5GXH820</td>\n",
       "      <td>23.0</td>\n",
       "      <td>04/30/2020 12:00:00 AM</td>\n",
       "      <td>POINT (-122.41881402299998 37.71817499200006)</td>\n",
       "      <td>73.0</td>\n",
       "      <td>73.0</td>\n",
       "      <td>9.0</td>\n",
       "      <td>9.0</td>\n",
       "      <td>19.0</td>\n",
       "    </tr>\n",
       "    <tr>\n",
       "      <th>3</th>\n",
       "      <td>926604011</td>\n",
       "      <td>2020-01-01 00:15:00</td>\n",
       "      <td>TRC7.2.41</td>\n",
       "      <td>PK PHB OTD</td>\n",
       "      <td>621 TERRY A FRANCOIS BLVD</td>\n",
       "      <td>CA</td>\n",
       "      <td>8CKN522</td>\n",
       "      <td>106.0</td>\n",
       "      <td>07/27/2020 12:00:00 AM</td>\n",
       "      <td>POINT (-122.38627475799996 37.769162866000045)</td>\n",
       "      <td>34.0</td>\n",
       "      <td>34.0</td>\n",
       "      <td>1.0</td>\n",
       "      <td>10.0</td>\n",
       "      <td>4.0</td>\n",
       "    </tr>\n",
       "    <tr>\n",
       "      <th>4</th>\n",
       "      <td>926909406</td>\n",
       "      <td>2020-01-01 00:20:00</td>\n",
       "      <td>TRC7.2.41</td>\n",
       "      <td>PK PHB OTD</td>\n",
       "      <td>730 TERRY A FRANCOIS BOULEVARD</td>\n",
       "      <td>CA</td>\n",
       "      <td>7NWC642</td>\n",
       "      <td>106.0</td>\n",
       "      <td>07/27/2020 12:00:00 AM</td>\n",
       "      <td>POINT (-122.38621425199995 37.76739727200004)</td>\n",
       "      <td>34.0</td>\n",
       "      <td>34.0</td>\n",
       "      <td>1.0</td>\n",
       "      <td>10.0</td>\n",
       "      <td>4.0</td>\n",
       "    </tr>\n",
       "  </tbody>\n",
       "</table>\n",
       "</div>"
      ],
      "text/plain": [
       "  Citation Number Citation Issued DateTime  Violation Violation Description  \\\n",
       "0      PD34805304      2020-01-01 00:03:00    V22500H              DBL PARK   \n",
       "1       926909395      2020-01-01 00:15:00  TRC7.2.41            PK PHB OTD   \n",
       "2      PD34751430      2020-01-01 00:15:00    PK6.01G            NOPRK 10P6   \n",
       "3       926604011      2020-01-01 00:15:00  TRC7.2.41            PK PHB OTD   \n",
       "4       926909406      2020-01-01 00:20:00  TRC7.2.41            PK PHB OTD   \n",
       "\n",
       "                Citation Location Vehicle Plate State Vehicle Plate  \\\n",
       "0                        PALM AVE                  CA       8KD4235   \n",
       "1  735 TERRY A FRANCOIS BOULEVARD                  CA       8LCZ875   \n",
       "2              2100 SUNNYDALE AVE                  CA       5GXH820   \n",
       "3       621 TERRY A FRANCOIS BLVD                  CA       8CKN522   \n",
       "4  730 TERRY A FRANCOIS BOULEVARD                  CA       7NWC642   \n",
       "\n",
       "   Fine Amount              Date Added  \\\n",
       "0        110.0  05/11/2021 12:00:00 AM   \n",
       "1        106.0  03/14/2021 12:00:00 AM   \n",
       "2         23.0  04/30/2020 12:00:00 AM   \n",
       "3        106.0  07/27/2020 12:00:00 AM   \n",
       "4        106.0  07/27/2020 12:00:00 AM   \n",
       "\n",
       "                                             geom  Neighborhoods  \\\n",
       "0  POINT (-122.45789733699996 37.783540370000026)           11.0   \n",
       "1        POINT (-122.38609376 37.767347795000035)           34.0   \n",
       "2   POINT (-122.41881402299998 37.71817499200006)           73.0   \n",
       "3  POINT (-122.38627475799996 37.769162866000045)           34.0   \n",
       "4   POINT (-122.38621425199995 37.76739727200004)           34.0   \n",
       "\n",
       "   SF Find Neighborhoods  Current Police Districts  \\\n",
       "0                   11.0                       8.0   \n",
       "1                   34.0                       1.0   \n",
       "2                   73.0                       9.0   \n",
       "3                   34.0                       1.0   \n",
       "4                   34.0                       1.0   \n",
       "\n",
       "   Current Supervisor Districts  Analysis Neighborhoods  \n",
       "0                           6.0                    31.0  \n",
       "1                          10.0                     4.0  \n",
       "2                           9.0                    19.0  \n",
       "3                          10.0                     4.0  \n",
       "4                          10.0                     4.0  "
      ]
     },
     "execution_count": 13,
     "metadata": {},
     "output_type": "execute_result"
    }
   ],
   "source": [
    "df.head()"
   ]
  },
  {
   "cell_type": "code",
   "execution_count": 15,
   "metadata": {},
   "outputs": [
    {
     "data": {
      "text/plain": [
       "Violation    Violation Description\n",
       "TRC7.2.22    STR CLEAN                159434\n",
       "TRC7.2.23B   MTR OUT DT                35678\n",
       "TRC7.2.20    RES/OT                    16447\n",
       "TRC7.2.23A   METER DTN                 12417\n",
       "V22500H      DBL PARK                   9605\n",
       "TRC7.2.26    YEL ZONE                   8476\n",
       "V22500E      DRIVEWAY                   8037\n",
       "V5204A       REG TABS                   7967\n",
       "TRC7.2.40    PRK PROHIB                 7290\n",
       "TRC7.2.41    PK PHB OTD                 6633\n",
       "TRC7.2.101A  FAIL DISPL                 6565\n",
       "TRC7.2.35    PRK GRADE                  6123\n",
       "V5200        NO PLATES                  5335\n",
       "V22500F      ON SIDEWLK                 5307\n",
       "TRC7.2.83    TRK ZONE                   4981\n",
       "TRC7.2.38    PK STANDS                  4434\n",
       "TRC7.2.25    RED ZONE                   4282\n",
       "V21211       BLK BIKE L                 2890\n",
       "TRC7.2.27    WHITE ZONE                 2091\n",
       "TRC7.2.70    OBSTRCT TF                 1755\n",
       "V22500I      BUS ZONE                   1739\n",
       "V22502A      OVR 18 \" C                 1607\n",
       "TRC7.2.46    CNSTR TEMP                 1430\n",
       "V22500B      PK/CROSS                   1386\n",
       "V22514       FIRE HYD                   1283\n",
       "TRC7.2.43    PUB PROP                   1280\n",
       "TRC7.2.30B   OT OUT DT                  1249\n",
       "TRC7.2.45    TMP PK RES                  843\n",
       "TRC7.2.42    RESTRICTED                  819\n",
       "V22500L      WHLCHR ACC                  736\n",
       "TRC7.2.32    ANGLE PARK                  666\n",
       "V22526A      BLK/INTER                   605\n",
       "TRC7.2.34    MED DIVIDE                  597\n",
       "V22507.8A    B ZN NO DP                  536\n",
       "TRC7.2.29    PK OVR 72H                  459\n",
       "TRC7.2.51    N/ W/I SPC                  447\n",
       "TRC7.2.30D   OT MTR PK                   381\n",
       "TRC7.2.60    FACIL CRG                   359\n",
       "TRC7.2.30A   OT PK DT                    355\n",
       "V5202        NOPL/PRDSP                  340\n",
       "PK6.01G      NOPRK 10P6                  318\n",
       "NO VIOL      NO VIOL                     275\n",
       "V5201        PLT LEF/AT                  250\n",
       "V22500A      PK INTER                    204\n",
       "TRC7.2.28    GREEN ZONE                  160\n",
       "TRC7.2.44A   ON ST LST                   141\n",
       "TRC7.2.37    MC PRKING                   140\n",
       "PK6.01H      MAR GRN PK                  136\n",
       "V5201A       PLT LEF/AT                  128\n",
       "V5201B       PLATECOVER                  125\n",
       "dtype: int64"
      ]
     },
     "execution_count": 15,
     "metadata": {},
     "output_type": "execute_result"
    }
   ],
   "source": [
    "# top 50 most common violations in SF\n",
    "\n",
    "violation_gb = df.groupby([\"Violation\", \"Violation Description\"]).size().sort_values(ascending=False)\n",
    "violation_gb.head(50)"
   ]
  },
  {
   "cell_type": "code",
   "execution_count": 16,
   "metadata": {},
   "outputs": [],
   "source": [
    "# get geometry\n",
    "\n",
    "df.loc[:, 'geom'] = df.geom.apply(wkt.loads)"
   ]
  },
  {
   "cell_type": "code",
   "execution_count": 18,
   "metadata": {},
   "outputs": [],
   "source": [
    "# get latitude and longitude information from points\n",
    "\n",
    "df.loc[:, 'long'] = df.geom.apply(lambda point: point.x)\n",
    "df.loc[:, 'lat'] = df.geom.apply(lambda point: point.y)"
   ]
  },
  {
   "cell_type": "code",
   "execution_count": null,
   "metadata": {},
   "outputs": [],
   "source": [
    "# plot heatmap of parking incidents\n",
    "\n",
    "# fig = px.density_mapbox(df_sample[~df['SF Find Neighborhoods'].isnull()], lat='long', lon='lat', z='count', \n",
    "#                         mapbox_style=\"stamen-terrain\")\n",
    " \n",
    "# fig"
   ]
  },
  {
   "cell_type": "code",
   "execution_count": 27,
   "metadata": {},
   "outputs": [
    {
     "data": {
      "text/plain": [
       "<AxesSubplot:>"
      ]
     },
     "execution_count": 27,
     "metadata": {},
     "output_type": "execute_result"
    },
    {
     "data": {
      "image/png": "[encoded data removed]",
      "text/plain": [
       "<Figure size 432x288 with 1 Axes>"
      ]
     },
     "metadata": {
      "needs_background": "light"
     },
     "output_type": "display_data"
    }
   ],
   "source": [
    "# distribution of tickets by hour\n",
    "\n",
    "df['Citation Issued DateTime'].dt.hour.hist(bins=range(23))"
   ]
  },
  {
   "cell_type": "code",
   "execution_count": 29,
   "metadata": {},
   "outputs": [
    {
     "data": {
      "text/plain": [
       "<AxesSubplot:>"
      ]
     },
     "execution_count": 29,
     "metadata": {},
     "output_type": "execute_result"
    },
    {
     "data": {
      "image/png": "[encoded data removed]",
      "text/plain": [
       "<Figure size 432x288 with 1 Axes>"
      ]
     },
     "metadata": {
      "needs_background": "light"
     },
     "output_type": "display_data"
    }
   ],
   "source": [
    "# distribution of street cleaning violations by hour. \n",
    "\n",
    "df[df['Violation Description'] == 'STR CLEAN']['Citation Issued DateTime'].dt.hour.hist(bins=range(23))"
   ]
  },
  {
   "cell_type": "code",
   "execution_count": 36,
   "metadata": {},
   "outputs": [
    {
     "data": {
      "text/plain": [
       "MISSION ST                             9427\n",
       "CALIFORNIA ST                          3335\n",
       "POST ST                                3314\n",
       "SUTTER ST                              3112\n",
       "EMBARCADERO NORTH                      3102\n",
       "                                       ... \n",
       "MIDCREST WAY                              1\n",
       "AHERN AND 6TH STREET                      1\n",
       "SOLA AVENUE                               1\n",
       "20TH AT FOLSOM                            1\n",
       "PHELPS ST & WILLIAMS AVE EGBERT AVE       1\n",
       "Name: street, Length: 6153, dtype: int64"
      ]
     },
     "execution_count": 36,
     "metadata": {},
     "output_type": "execute_result"
    }
   ],
   "source": [
    "# filter out low number of citations that don't have street, process, then group by street\n",
    "\n",
    "def clean_address(string):\n",
    "    address_words = string.split(' ')\n",
    "    if address_words[0].isnumeric():\n",
    "        return ' '.join(address_words[1:])\n",
    "    return string\n",
    "\n",
    "df = df[~df['Citation Location'].isnull()]\n",
    "\n",
    "df['street'] = df['Citation Location'].apply(clean_address)\n",
    "df['street'].value_counts()"
   ]
  },
  {
   "cell_type": "code",
   "execution_count": 38,
   "metadata": {},
   "outputs": [
    {
     "data": {
      "text/plain": [
       "STR CLEAN     2919\n",
       "MTR OUT DT    1554\n",
       "PRK PROHIB    1155\n",
       "METER DTN      766\n",
       "DBL PARK       732\n",
       "YEL ZONE       679\n",
       "BUS ZONE       245\n",
       "NO PLATES      184\n",
       "TRK ZONE       183\n",
       "REG TABS       164\n",
       "PK PHB OTD     158\n",
       "PK STANDS      128\n",
       "RED ZONE        76\n",
       "TRNST ONLY      70\n",
       "OBSTRCT TF      67\n",
       "WHITE ZONE      49\n",
       "OVR 18 \" C      40\n",
       "BLK/INTER       32\n",
       "TMP PK RES      31\n",
       "FIRE HYD        23\n",
       "B ZN NO DP      18\n",
       "ON SIDEWLK      17\n",
       "DRIVEWAY        17\n",
       "PRK GRADE       16\n",
       "PK/CROSS        12\n",
       "N/ W/I SPC      12\n",
       "CNSTR TEMP      12\n",
       "OT MTR PK        9\n",
       "MC PRKING        8\n",
       "PLT LEF/AT       8\n",
       "ON ST LST        8\n",
       "BLK BIKE L       5\n",
       "NO VIOL          5\n",
       "ON STREET        4\n",
       "MED DIVIDE       3\n",
       "PK INTER         3\n",
       "PLATECOVER       3\n",
       "WHLCHR ACC       3\n",
       "PK OVR 72H       2\n",
       "NOPL/PRDSP       1\n",
       "OFF ST LST       1\n",
       "FAILRPLPLA       1\n",
       "ENG IDLING       1\n",
       "OT OUT DT        1\n",
       "ILL PKG          1\n",
       "OFF STREET       1\n",
       "Name: Violation Description, dtype: int64"
      ]
     },
     "execution_count": 38,
     "metadata": {},
     "output_type": "execute_result"
    }
   ],
   "source": [
    "df[df[df['Violation Description'] == 'STR CLEAN']]"
   ]
  },
  {
   "cell_type": "code",
   "execution_count": 54,
   "metadata": {},
   "outputs": [],
   "source": [
    "df = gpd.GeoDataFrame(df, geometry='geom')"
   ]
  },
  {
   "cell_type": "markdown",
   "metadata": {},
   "source": [
    "## Street Cleaning"
   ]
  },
  {
   "cell_type": "code",
   "execution_count": 39,
   "metadata": {},
   "outputs": [],
   "source": [
    "street_df = pd.read_csv('../data/street_sweeping.csv')"
   ]
  },
  {
   "cell_type": "code",
   "execution_count": 40,
   "metadata": {},
   "outputs": [
    {
     "data": {
      "text/html": [
       "<div>\n",
       "<style scoped>\n",
       "    .dataframe tbody tr th:only-of-type {\n",
       "        vertical-align: middle;\n",
       "    }\n",
       "\n",
       "    .dataframe tbody tr th {\n",
       "        vertical-align: top;\n",
       "    }\n",
       "\n",
       "    .dataframe thead th {\n",
       "        text-align: right;\n",
       "    }\n",
       "</style>\n",
       "<table border=\"1\" class=\"dataframe\">\n",
       "  <thead>\n",
       "    <tr style=\"text-align: right;\">\n",
       "      <th></th>\n",
       "      <th>CNN</th>\n",
       "      <th>Corridor</th>\n",
       "      <th>Limits</th>\n",
       "      <th>CNNRightLeft</th>\n",
       "      <th>BlockSide</th>\n",
       "      <th>FullName</th>\n",
       "      <th>WeekDay</th>\n",
       "      <th>FromHour</th>\n",
       "      <th>ToHour</th>\n",
       "      <th>Week1</th>\n",
       "      <th>Week2</th>\n",
       "      <th>Week3</th>\n",
       "      <th>Week4</th>\n",
       "      <th>Week5</th>\n",
       "      <th>Holidays</th>\n",
       "      <th>BlockSweepID</th>\n",
       "      <th>Line</th>\n",
       "    </tr>\n",
       "  </thead>\n",
       "  <tbody>\n",
       "    <tr>\n",
       "      <th>0</th>\n",
       "      <td>9102000</td>\n",
       "      <td>Mission St</td>\n",
       "      <td>Julia St  -  08th St</td>\n",
       "      <td>L</td>\n",
       "      <td>SouthEast</td>\n",
       "      <td>Thursday</td>\n",
       "      <td>Thu</td>\n",
       "      <td>2</td>\n",
       "      <td>6</td>\n",
       "      <td>1</td>\n",
       "      <td>1</td>\n",
       "      <td>1</td>\n",
       "      <td>1</td>\n",
       "      <td>1</td>\n",
       "      <td>1</td>\n",
       "      <td>1618894</td>\n",
       "      <td>LINESTRING (-122.412413343787 37.778045328617,...</td>\n",
       "    </tr>\n",
       "    <tr>\n",
       "      <th>1</th>\n",
       "      <td>1191000</td>\n",
       "      <td>22nd St</td>\n",
       "      <td>Mission St  -  Bartlett St</td>\n",
       "      <td>L</td>\n",
       "      <td>South</td>\n",
       "      <td>Friday</td>\n",
       "      <td>Fri</td>\n",
       "      <td>6</td>\n",
       "      <td>8</td>\n",
       "      <td>1</td>\n",
       "      <td>1</td>\n",
       "      <td>1</td>\n",
       "      <td>1</td>\n",
       "      <td>1</td>\n",
       "      <td>0</td>\n",
       "      <td>1627862</td>\n",
       "      <td>LINESTRING (-122.418747573844 37.75543693624, ...</td>\n",
       "    </tr>\n",
       "    <tr>\n",
       "      <th>2</th>\n",
       "      <td>4331000</td>\n",
       "      <td>Congdon St</td>\n",
       "      <td>Maynard St  -  Silver Ave</td>\n",
       "      <td>L</td>\n",
       "      <td>East</td>\n",
       "      <td>Wednesday</td>\n",
       "      <td>Wed</td>\n",
       "      <td>11</td>\n",
       "      <td>13</td>\n",
       "      <td>1</td>\n",
       "      <td>1</td>\n",
       "      <td>1</td>\n",
       "      <td>1</td>\n",
       "      <td>1</td>\n",
       "      <td>0</td>\n",
       "      <td>1637394</td>\n",
       "      <td>LINESTRING (-122.42602470434 37.72939698234, -...</td>\n",
       "    </tr>\n",
       "    <tr>\n",
       "      <th>3</th>\n",
       "      <td>12043000</td>\n",
       "      <td>Sparta St</td>\n",
       "      <td>Ankeny St  -  Harkness Ave</td>\n",
       "      <td>R</td>\n",
       "      <td>West</td>\n",
       "      <td>Friday</td>\n",
       "      <td>Fri</td>\n",
       "      <td>12</td>\n",
       "      <td>15</td>\n",
       "      <td>1</td>\n",
       "      <td>1</td>\n",
       "      <td>1</td>\n",
       "      <td>1</td>\n",
       "      <td>1</td>\n",
       "      <td>0</td>\n",
       "      <td>1611118</td>\n",
       "      <td>LINESTRING (-122.403554923986 37.718336652479,...</td>\n",
       "    </tr>\n",
       "    <tr>\n",
       "      <th>4</th>\n",
       "      <td>13148101</td>\n",
       "      <td>Van Ness Ave</td>\n",
       "      <td>Golden Gate Ave  -  Turk St</td>\n",
       "      <td>L</td>\n",
       "      <td>West</td>\n",
       "      <td>Tuesday</td>\n",
       "      <td>Tues</td>\n",
       "      <td>2</td>\n",
       "      <td>6</td>\n",
       "      <td>1</td>\n",
       "      <td>1</td>\n",
       "      <td>1</td>\n",
       "      <td>1</td>\n",
       "      <td>1</td>\n",
       "      <td>0</td>\n",
       "      <td>1598891</td>\n",
       "      <td>LINESTRING (-122.420439517797 37.781030842108,...</td>\n",
       "    </tr>\n",
       "  </tbody>\n",
       "</table>\n",
       "</div>"
      ],
      "text/plain": [
       "        CNN      Corridor                       Limits CNNRightLeft  \\\n",
       "0   9102000    Mission St         Julia St  -  08th St            L   \n",
       "1   1191000       22nd St   Mission St  -  Bartlett St            L   \n",
       "2   4331000    Congdon St    Maynard St  -  Silver Ave            L   \n",
       "3  12043000     Sparta St   Ankeny St  -  Harkness Ave            R   \n",
       "4  13148101  Van Ness Ave  Golden Gate Ave  -  Turk St            L   \n",
       "\n",
       "   BlockSide   FullName WeekDay  FromHour  ToHour  Week1  Week2  Week3  Week4  \\\n",
       "0  SouthEast   Thursday     Thu         2       6      1      1      1      1   \n",
       "1      South     Friday     Fri         6       8      1      1      1      1   \n",
       "2       East  Wednesday     Wed        11      13      1      1      1      1   \n",
       "3       West     Friday     Fri        12      15      1      1      1      1   \n",
       "4       West    Tuesday    Tues         2       6      1      1      1      1   \n",
       "\n",
       "   Week5  Holidays  BlockSweepID  \\\n",
       "0      1         1       1618894   \n",
       "1      1         0       1627862   \n",
       "2      1         0       1637394   \n",
       "3      1         0       1611118   \n",
       "4      1         0       1598891   \n",
       "\n",
       "                                                Line  \n",
       "0  LINESTRING (-122.412413343787 37.778045328617,...  \n",
       "1  LINESTRING (-122.418747573844 37.75543693624, ...  \n",
       "2  LINESTRING (-122.42602470434 37.72939698234, -...  \n",
       "3  LINESTRING (-122.403554923986 37.718336652479,...  \n",
       "4  LINESTRING (-122.420439517797 37.781030842108,...  "
      ]
     },
     "execution_count": 40,
     "metadata": {},
     "output_type": "execute_result"
    }
   ],
   "source": [
    "street_df.head()"
   ]
  },
  {
   "cell_type": "code",
   "execution_count": 45,
   "metadata": {},
   "outputs": [
    {
     "name": "stderr",
     "output_type": "stream",
     "text": [
      "/var/folders/lr/597pxhmx2z78r4vysc_dvsth0000gn/T/ipykernel_34096/171651485.py:4: SettingWithCopyWarning: \n",
      "A value is trying to be set on a copy of a slice from a DataFrame.\n",
      "Try using .loc[row_indexer,col_indexer] = value instead\n",
      "\n",
      "See the caveats in the documentation: https://pandas.pydata.org/pandas-docs/stable/user_guide/indexing.html#returning-a-view-versus-a-copy\n",
      "  street_df.loc[:, 'Line'] = street_df.Line.apply(wkt.loads)\n"
     ]
    }
   ],
   "source": [
    "# about 20 streets with no geom information\n",
    "\n",
    "street_df = street_df[~street_df.Line.isnull()]\n",
    "street_df.loc[:, 'Line'] = street_df.Line.apply(wkt.loads)"
   ]
  },
  {
   "cell_type": "code",
   "execution_count": 55,
   "metadata": {},
   "outputs": [],
   "source": [
    "street_df = gpd.GeoDataFrame(street_df, geometry='Line')"
   ]
  },
  {
   "cell_type": "code",
   "execution_count": 77,
   "metadata": {},
   "outputs": [],
   "source": [
    "df_joined = gpd.sjoin_nearest(df[df['Violation Description'] == 'STR CLEAN'], street_df, distance_col='dist')"
   ]
  },
  {
   "cell_type": "code",
   "execution_count": 78,
   "metadata": {},
   "outputs": [
    {
     "data": {
      "text/plain": [
       "(550619, 36)"
      ]
     },
     "execution_count": 78,
     "metadata": {},
     "output_type": "execute_result"
    }
   ],
   "source": [
    "df_joined.shape"
   ]
  },
  {
   "cell_type": "code",
   "execution_count": 79,
   "metadata": {},
   "outputs": [],
   "source": [
    "df_joined['citation_day'] = df_joined['Citation Issued DateTime'].dt.day"
   ]
  },
  {
   "cell_type": "code",
   "execution_count": 80,
   "metadata": {},
   "outputs": [
    {
     "data": {
      "text/html": [
       "<div>\n",
       "<style scoped>\n",
       "    .dataframe tbody tr th:only-of-type {\n",
       "        vertical-align: middle;\n",
       "    }\n",
       "\n",
       "    .dataframe tbody tr th {\n",
       "        vertical-align: top;\n",
       "    }\n",
       "\n",
       "    .dataframe thead th {\n",
       "        text-align: right;\n",
       "    }\n",
       "</style>\n",
       "<table border=\"1\" class=\"dataframe\">\n",
       "  <thead>\n",
       "    <tr style=\"text-align: right;\">\n",
       "      <th></th>\n",
       "      <th>street</th>\n",
       "      <th>Corridor</th>\n",
       "      <th>Limits</th>\n",
       "      <th>dist</th>\n",
       "    </tr>\n",
       "  </thead>\n",
       "  <tbody>\n",
       "    <tr>\n",
       "      <th>285</th>\n",
       "      <td>07TH ST</td>\n",
       "      <td>Van Ness Ave</td>\n",
       "      <td>Fell St  -  Hayes St</td>\n",
       "      <td>0.000059</td>\n",
       "    </tr>\n",
       "    <tr>\n",
       "      <th>305</th>\n",
       "      <td>08TH ST</td>\n",
       "      <td>Van Ness Ave</td>\n",
       "      <td>Fell St  -  Hayes St</td>\n",
       "      <td>0.000059</td>\n",
       "    </tr>\n",
       "    <tr>\n",
       "      <th>455</th>\n",
       "      <td>06TH ST</td>\n",
       "      <td>Van Ness Ave</td>\n",
       "      <td>Fell St  -  Hayes St</td>\n",
       "      <td>0.000059</td>\n",
       "    </tr>\n",
       "    <tr>\n",
       "      <th>4038</th>\n",
       "      <td>FELL ST</td>\n",
       "      <td>Van Ness Ave</td>\n",
       "      <td>Fell St  -  Hayes St</td>\n",
       "      <td>0.000050</td>\n",
       "    </tr>\n",
       "    <tr>\n",
       "      <th>4452</th>\n",
       "      <td>08TH AVE</td>\n",
       "      <td>Van Ness Ave</td>\n",
       "      <td>Fell St  -  Hayes St</td>\n",
       "      <td>0.000059</td>\n",
       "    </tr>\n",
       "    <tr>\n",
       "      <th>...</th>\n",
       "      <td>...</td>\n",
       "      <td>...</td>\n",
       "      <td>...</td>\n",
       "      <td>...</td>\n",
       "    </tr>\n",
       "    <tr>\n",
       "      <th>336084</th>\n",
       "      <td>BUCHANAN ST</td>\n",
       "      <td>Geneva Ave</td>\n",
       "      <td>I-280 N On Ramp  -  San Jose Ave</td>\n",
       "      <td>0.000033</td>\n",
       "    </tr>\n",
       "    <tr>\n",
       "      <th>336084</th>\n",
       "      <td>BUCHANAN ST</td>\n",
       "      <td>Geneva Ave</td>\n",
       "      <td>I-280 N On Ramp  -  San Jose Ave</td>\n",
       "      <td>0.000033</td>\n",
       "    </tr>\n",
       "    <tr>\n",
       "      <th>336084</th>\n",
       "      <td>BUCHANAN ST</td>\n",
       "      <td>Geneva Ave</td>\n",
       "      <td>I-280 N On Ramp  -  San Jose Ave</td>\n",
       "      <td>0.000033</td>\n",
       "    </tr>\n",
       "    <tr>\n",
       "      <th>336094</th>\n",
       "      <td>GEARY BLVD</td>\n",
       "      <td>Van Ness Ave</td>\n",
       "      <td>North Point St  -  End:  Block</td>\n",
       "      <td>0.000255</td>\n",
       "    </tr>\n",
       "    <tr>\n",
       "      <th>336094</th>\n",
       "      <td>GEARY BLVD</td>\n",
       "      <td>Van Ness Ave</td>\n",
       "      <td>North Point St  -  End:  Block</td>\n",
       "      <td>0.000255</td>\n",
       "    </tr>\n",
       "  </tbody>\n",
       "</table>\n",
       "<p>550619 rows × 4 columns</p>\n",
       "</div>"
      ],
      "text/plain": [
       "             street      Corridor                            Limits      dist\n",
       "285         07TH ST  Van Ness Ave              Fell St  -  Hayes St  0.000059\n",
       "305         08TH ST  Van Ness Ave              Fell St  -  Hayes St  0.000059\n",
       "455         06TH ST  Van Ness Ave              Fell St  -  Hayes St  0.000059\n",
       "4038        FELL ST  Van Ness Ave              Fell St  -  Hayes St  0.000050\n",
       "4452       08TH AVE  Van Ness Ave              Fell St  -  Hayes St  0.000059\n",
       "...             ...           ...                               ...       ...\n",
       "336084  BUCHANAN ST    Geneva Ave  I-280 N On Ramp  -  San Jose Ave  0.000033\n",
       "336084  BUCHANAN ST    Geneva Ave  I-280 N On Ramp  -  San Jose Ave  0.000033\n",
       "336084  BUCHANAN ST    Geneva Ave  I-280 N On Ramp  -  San Jose Ave  0.000033\n",
       "336094   GEARY BLVD  Van Ness Ave    North Point St  -  End:  Block  0.000255\n",
       "336094   GEARY BLVD  Van Ness Ave    North Point St  -  End:  Block  0.000255\n",
       "\n",
       "[550619 rows x 4 columns]"
      ]
     },
     "execution_count": 80,
     "metadata": {},
     "output_type": "execute_result"
    }
   ],
   "source": [
    "df_joined[['street', 'Corridor', 'Limits', 'dist']]"
   ]
  },
  {
   "cell_type": "code",
   "execution_count": 81,
   "metadata": {},
   "outputs": [
    {
     "data": {
      "text/plain": [
       "Citation Number                                                      926843945\n",
       "Citation Issued DateTime                                   2020-01-02 00:06:00\n",
       "Violation                                                            TRC7.2.22\n",
       "Violation Description                                                STR CLEAN\n",
       "Citation Location                                                  613 07TH ST\n",
       "Vehicle Plate State                                                         CA\n",
       "Vehicle Plate                                                          C042866\n",
       "Fine Amount                                                               79.0\n",
       "Date Added                                              04/13/2021 12:00:00 AM\n",
       "geom                            POINT (-122.41963999999996 37.777120000000025)\n",
       "Neighborhoods                                                             21.0\n",
       "SF Find Neighborhoods                                                     21.0\n",
       "Current Police Districts                                                   4.0\n",
       "Current Supervisor Districts                                              10.0\n",
       "Analysis Neighborhoods                                                    36.0\n",
       "long                                                                -122.41964\n",
       "lat                                                                   37.77712\n",
       "street                                                                 07TH ST\n",
       "index_right                                                               8441\n",
       "CNN                                                                   13144201\n",
       "Corridor                                                          Van Ness Ave\n",
       "Limits                                                    Fell St  -  Hayes St\n",
       "CNNRightLeft                                                                 R\n",
       "BlockSide                                                                 East\n",
       "FullName                                                                Monday\n",
       "WeekDay                                                                    Mon\n",
       "FromHour                                                                     2\n",
       "ToHour                                                                       6\n",
       "Week1                                                                        1\n",
       "Week2                                                                        1\n",
       "Week3                                                                        1\n",
       "Week4                                                                        1\n",
       "Week5                                                                        1\n",
       "Holidays                                                                     0\n",
       "BlockSweepID                                                           1617636\n",
       "dist                                                                  0.000059\n",
       "citation_day                                                                 2\n",
       "Name: 285, dtype: object"
      ]
     },
     "execution_count": 81,
     "metadata": {},
     "output_type": "execute_result"
    }
   ],
   "source": [
    "df_joined.iloc[0]"
   ]
  },
  {
   "cell_type": "code",
   "execution_count": null,
   "metadata": {},
   "outputs": [],
   "source": []
  }
 ],
 "metadata": {
  "kernelspec": {
   "display_name": "Python 3.8.13 ('ds')",
   "language": "python",
   "name": "python3"
  },
  "language_info": {
   "codemirror_mode": {
    "name": "ipython",
    "version": 3
   },
   "file_extension": ".py",
   "mimetype": "text/x-python",
   "name": "python",
   "nbconvert_exporter": "python",
   "pygments_lexer": "ipython3",
   "version": "3.8.13"
  },
  "orig_nbformat": 4,
  "vscode": {
   "interpreter": {
    "hash": "ebf4d58f2b06e9f21676e768ca6276364ab43d26f7d392ff17c91d23028c0e8b"
   }
  }
 },
 "nbformat": 4,
 "nbformat_minor": 2
}
