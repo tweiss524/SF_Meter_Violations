{
 "cells": [
  {
   "cell_type": "code",
   "execution_count": 11,
   "metadata": {},
   "outputs": [],
   "source": [
    "# force geopandas to use shapely instead of pygeos\n",
    "import os\n",
    "os.environ['USE_PYGEOS'] = '0'\n",
    "\n",
    "import numpy as np\n",
    "import pandas as pd\n",
    "import plotly.express as px\n",
    "from shapely import wkt\n",
    "from shapely.geometry import Point\n",
    "import geopandas as gpd\n",
    "import matplotlib.pyplot as plt\n",
    "import matplotlib.dates as mdates"
   ]
  },
  {
   "cell_type": "code",
   "execution_count": 3,
   "metadata": {},
   "outputs": [
    {
     "data": {
      "text/html": [
       "<div>\n",
       "<style scoped>\n",
       "    .dataframe tbody tr th:only-of-type {\n",
       "        vertical-align: middle;\n",
       "    }\n",
       "\n",
       "    .dataframe tbody tr th {\n",
       "        vertical-align: top;\n",
       "    }\n",
       "\n",
       "    .dataframe thead th {\n",
       "        text-align: right;\n",
       "    }\n",
       "</style>\n",
       "<table border=\"1\" class=\"dataframe\">\n",
       "  <thead>\n",
       "    <tr style=\"text-align: right;\">\n",
       "      <th></th>\n",
       "      <th>Citation Number</th>\n",
       "      <th>Citation Issued DateTime</th>\n",
       "      <th>Violation</th>\n",
       "      <th>Violation Description</th>\n",
       "      <th>Citation Location</th>\n",
       "      <th>Vehicle Plate State</th>\n",
       "      <th>Vehicle Plate</th>\n",
       "      <th>Fine Amount</th>\n",
       "      <th>Date Added</th>\n",
       "      <th>geom</th>\n",
       "    </tr>\n",
       "  </thead>\n",
       "  <tbody>\n",
       "    <tr>\n",
       "      <th>0</th>\n",
       "      <td>950226616</td>\n",
       "      <td>2022-04-20 12:10:00</td>\n",
       "      <td>TRC7.2.22</td>\n",
       "      <td>STR CLEAN</td>\n",
       "      <td>1318 FILBERT ST</td>\n",
       "      <td>CA</td>\n",
       "      <td>V507699</td>\n",
       "      <td>84.0</td>\n",
       "      <td>05/01/2022 12:00:00 AM</td>\n",
       "      <td>POINT (-122.42119800399996 37.800016984000024)</td>\n",
       "    </tr>\n",
       "    <tr>\n",
       "      <th>1</th>\n",
       "      <td>952126114</td>\n",
       "      <td>2022-06-17 16:12:00</td>\n",
       "      <td>TRC7.2.20</td>\n",
       "      <td>RES/OT</td>\n",
       "      <td>1318 FILBERT ST</td>\n",
       "      <td>CA</td>\n",
       "      <td>BV44D97</td>\n",
       "      <td>96.0</td>\n",
       "      <td>07/17/2022 12:00:00 AM</td>\n",
       "      <td>POINT (-122.42119800399996 37.800016984000024)</td>\n",
       "    </tr>\n",
       "    <tr>\n",
       "      <th>2</th>\n",
       "      <td>950441903</td>\n",
       "      <td>2022-04-23 15:13:00</td>\n",
       "      <td>V5200</td>\n",
       "      <td>NO PLATES</td>\n",
       "      <td>1318 FILBERT ST</td>\n",
       "      <td>CA</td>\n",
       "      <td>V507699</td>\n",
       "      <td>121.0</td>\n",
       "      <td>05/18/2022 12:00:00 AM</td>\n",
       "      <td>POINT (-122.42119800399996 37.800016984000024)</td>\n",
       "    </tr>\n",
       "    <tr>\n",
       "      <th>3</th>\n",
       "      <td>948460144</td>\n",
       "      <td>2022-02-22 11:54:00</td>\n",
       "      <td>TRC7.2.20</td>\n",
       "      <td>RES/OT</td>\n",
       "      <td>1318 FILBERT ST</td>\n",
       "      <td>TX</td>\n",
       "      <td>HVT6737</td>\n",
       "      <td>96.0</td>\n",
       "      <td>05/23/2022 12:00:00 AM</td>\n",
       "      <td>POINT (-122.42119800399996 37.800016984000024)</td>\n",
       "    </tr>\n",
       "    <tr>\n",
       "      <th>4</th>\n",
       "      <td>948169644</td>\n",
       "      <td>2022-02-17 13:39:00</td>\n",
       "      <td>TRC7.2.20</td>\n",
       "      <td>RES/OT</td>\n",
       "      <td>1318 FILBERT ST</td>\n",
       "      <td>OH</td>\n",
       "      <td>HQA6554</td>\n",
       "      <td>96.0</td>\n",
       "      <td>04/03/2022 12:00:00 AM</td>\n",
       "      <td>POINT (-122.42119800399996 37.800016984000024)</td>\n",
       "    </tr>\n",
       "  </tbody>\n",
       "</table>\n",
       "</div>"
      ],
      "text/plain": [
       "  Citation Number Citation Issued DateTime  Violation Violation Description  \\\n",
       "0       950226616      2022-04-20 12:10:00  TRC7.2.22             STR CLEAN   \n",
       "1       952126114      2022-06-17 16:12:00  TRC7.2.20                RES/OT   \n",
       "2       950441903      2022-04-23 15:13:00      V5200             NO PLATES   \n",
       "3       948460144      2022-02-22 11:54:00  TRC7.2.20                RES/OT   \n",
       "4       948169644      2022-02-17 13:39:00  TRC7.2.20                RES/OT   \n",
       "\n",
       "  Citation Location Vehicle Plate State Vehicle Plate  Fine Amount  \\\n",
       "0   1318 FILBERT ST                  CA       V507699         84.0   \n",
       "1   1318 FILBERT ST                  CA       BV44D97         96.0   \n",
       "2   1318 FILBERT ST                  CA       V507699        121.0   \n",
       "3   1318 FILBERT ST                  TX       HVT6737         96.0   \n",
       "4   1318 FILBERT ST                  OH       HQA6554         96.0   \n",
       "\n",
       "               Date Added                                            geom  \n",
       "0  05/01/2022 12:00:00 AM  POINT (-122.42119800399996 37.800016984000024)  \n",
       "1  07/17/2022 12:00:00 AM  POINT (-122.42119800399996 37.800016984000024)  \n",
       "2  05/18/2022 12:00:00 AM  POINT (-122.42119800399996 37.800016984000024)  \n",
       "3  05/23/2022 12:00:00 AM  POINT (-122.42119800399996 37.800016984000024)  \n",
       "4  04/03/2022 12:00:00 AM  POINT (-122.42119800399996 37.800016984000024)  "
      ]
     },
     "execution_count": 3,
     "metadata": {},
     "output_type": "execute_result"
    }
   ],
   "source": [
    "df = pd.read_csv(\"../data/data_2022_with_geom.csv\")\n",
    "df.head()"
   ]
  },
  {
   "cell_type": "code",
   "execution_count": 4,
   "metadata": {},
   "outputs": [],
   "source": [
    "# convert to geodf for spatial join\n",
    "\n",
    "df['geom'] = df.geom.apply(wkt.loads)\n",
    "df = gpd.GeoDataFrame(df, geometry='geom')\n",
    "df.crs = 'EPSG:4326'"
   ]
  },
  {
   "cell_type": "code",
   "execution_count": 5,
   "metadata": {},
   "outputs": [],
   "source": [
    "# convert date column from string to datetime.\n",
    "\n",
    "df['Citation Issued DateTime'] = pd.to_datetime(df['Citation Issued DateTime'])"
   ]
  },
  {
   "cell_type": "code",
   "execution_count": 12,
   "metadata": {},
   "outputs": [
    {
     "data": {
      "text/plain": [
       "[None, None, None, None]"
      ]
     },
     "execution_count": 12,
     "metadata": {},
     "output_type": "execute_result"
    },
    {
     "data": {
      "image/png": "[encoded data removed]",
      "text/plain": [
       "<Figure size 432x288 with 1 Axes>"
      ]
     },
     "metadata": {
      "needs_background": "light"
     },
     "output_type": "display_data"
    }
   ],
   "source": [
    "ax1 = df.groupby((df['Citation Issued DateTime'].dt.dayofweek) * 24 + (df['Citation Issued DateTime'].dt.hour)).size().plot(kind='line', \n",
    "title='Citations by Hour of Week',)\n",
    "ax1.set(xlabel='', ylabel='Number of Citations')\n",
    "ax1.xaxis.set(\n",
    "    major_locator=mdates.DayLocator(),\n",
    "    major_formatter=mdates.DateFormatter(\"\\n\\n%A\"),\n",
    "    minor_locator=mdates.HourLocator((0, 12)),\n",
    "    minor_formatter=mdates.DateFormatter(\"%H\"),\n",
    ")"
   ]
  },
  {
   "cell_type": "code",
   "execution_count": null,
   "metadata": {},
   "outputs": [],
   "source": []
  }
 ],
 "metadata": {
  "kernelspec": {
   "display_name": "Python 3.9.12 ('base')",
   "language": "python",
   "name": "python3"
  },
  "language_info": {
   "codemirror_mode": {
    "name": "ipython",
    "version": 3
   },
   "file_extension": ".py",
   "mimetype": "text/x-python",
   "name": "python",
   "nbconvert_exporter": "python",
   "pygments_lexer": "ipython3",
   "version": "3.9.12"
  },
  "orig_nbformat": 4,
  "vscode": {
   "interpreter": {
    "hash": "06e3845b2644c95d11360a0040010fecb4e88a26ee98ac60f68cb6cb17551501"
   }
  }
 },
 "nbformat": 4,
 "nbformat_minor": 2
}
