{
 "cells": [
  {
   "cell_type": "code",
   "execution_count": 3,
   "metadata": {},
   "outputs": [],
   "source": [
    "# force geopandas to use shapely instead of pygeos\n",
    "import os\n",
    "os.environ['USE_PYGEOS'] = '0'\n",
    "\n",
    "import numpy as np\n",
    "import pandas as pd\n",
    "import plotly.express as px\n",
    "from shapely import wkt\n",
    "from shapely.geometry import Point\n",
    "import geopandas as gpd\n",
    "import matplotlib.pyplot as plt\n",
    "import matplotlib.dates as mdates"
   ]
  },
  {
   "cell_type": "code",
   "execution_count": 4,
   "metadata": {},
   "outputs": [
    {
     "data": {
      "text/html": [
       "<div>\n",
       "<style scoped>\n",
       "    .dataframe tbody tr th:only-of-type {\n",
       "        vertical-align: middle;\n",
       "    }\n",
       "\n",
       "    .dataframe tbody tr th {\n",
       "        vertical-align: top;\n",
       "    }\n",
       "\n",
       "    .dataframe thead th {\n",
       "        text-align: right;\n",
       "    }\n",
       "</style>\n",
       "<table border=\"1\" class=\"dataframe\">\n",
       "  <thead>\n",
       "    <tr style=\"text-align: right;\">\n",
       "      <th></th>\n",
       "      <th>Citation Number</th>\n",
       "      <th>Citation Issued DateTime</th>\n",
       "      <th>Violation</th>\n",
       "      <th>Violation Description</th>\n",
       "      <th>Citation Location</th>\n",
       "      <th>Vehicle Plate State</th>\n",
       "      <th>Vehicle Plate</th>\n",
       "      <th>Fine Amount</th>\n",
       "      <th>Date Added</th>\n",
       "      <th>geom</th>\n",
       "    </tr>\n",
       "  </thead>\n",
       "  <tbody>\n",
       "    <tr>\n",
       "      <th>0</th>\n",
       "      <td>950226616</td>\n",
       "      <td>2022-04-20 12:10:00</td>\n",
       "      <td>TRC7.2.22</td>\n",
       "      <td>STR CLEAN</td>\n",
       "      <td>1318 FILBERT ST</td>\n",
       "      <td>CA</td>\n",
       "      <td>V507699</td>\n",
       "      <td>84.0</td>\n",
       "      <td>05/01/2022 12:00:00 AM</td>\n",
       "      <td>POINT (-122.42119800399996 37.800016984000024)</td>\n",
       "    </tr>\n",
       "    <tr>\n",
       "      <th>1</th>\n",
       "      <td>952126114</td>\n",
       "      <td>2022-06-17 16:12:00</td>\n",
       "      <td>TRC7.2.20</td>\n",
       "      <td>RES/OT</td>\n",
       "      <td>1318 FILBERT ST</td>\n",
       "      <td>CA</td>\n",
       "      <td>BV44D97</td>\n",
       "      <td>96.0</td>\n",
       "      <td>07/17/2022 12:00:00 AM</td>\n",
       "      <td>POINT (-122.42119800399996 37.800016984000024)</td>\n",
       "    </tr>\n",
       "    <tr>\n",
       "      <th>2</th>\n",
       "      <td>950441903</td>\n",
       "      <td>2022-04-23 15:13:00</td>\n",
       "      <td>V5200</td>\n",
       "      <td>NO PLATES</td>\n",
       "      <td>1318 FILBERT ST</td>\n",
       "      <td>CA</td>\n",
       "      <td>V507699</td>\n",
       "      <td>121.0</td>\n",
       "      <td>05/18/2022 12:00:00 AM</td>\n",
       "      <td>POINT (-122.42119800399996 37.800016984000024)</td>\n",
       "    </tr>\n",
       "    <tr>\n",
       "      <th>3</th>\n",
       "      <td>948460144</td>\n",
       "      <td>2022-02-22 11:54:00</td>\n",
       "      <td>TRC7.2.20</td>\n",
       "      <td>RES/OT</td>\n",
       "      <td>1318 FILBERT ST</td>\n",
       "      <td>TX</td>\n",
       "      <td>HVT6737</td>\n",
       "      <td>96.0</td>\n",
       "      <td>05/23/2022 12:00:00 AM</td>\n",
       "      <td>POINT (-122.42119800399996 37.800016984000024)</td>\n",
       "    </tr>\n",
       "    <tr>\n",
       "      <th>4</th>\n",
       "      <td>948169644</td>\n",
       "      <td>2022-02-17 13:39:00</td>\n",
       "      <td>TRC7.2.20</td>\n",
       "      <td>RES/OT</td>\n",
       "      <td>1318 FILBERT ST</td>\n",
       "      <td>OH</td>\n",
       "      <td>HQA6554</td>\n",
       "      <td>96.0</td>\n",
       "      <td>04/03/2022 12:00:00 AM</td>\n",
       "      <td>POINT (-122.42119800399996 37.800016984000024)</td>\n",
       "    </tr>\n",
       "  </tbody>\n",
       "</table>\n",
       "</div>"
      ],
      "text/plain": [
       "  Citation Number Citation Issued DateTime  Violation Violation Description  \\\n",
       "0       950226616      2022-04-20 12:10:00  TRC7.2.22             STR CLEAN   \n",
       "1       952126114      2022-06-17 16:12:00  TRC7.2.20                RES/OT   \n",
       "2       950441903      2022-04-23 15:13:00      V5200             NO PLATES   \n",
       "3       948460144      2022-02-22 11:54:00  TRC7.2.20                RES/OT   \n",
       "4       948169644      2022-02-17 13:39:00  TRC7.2.20                RES/OT   \n",
       "\n",
       "  Citation Location Vehicle Plate State Vehicle Plate  Fine Amount  \\\n",
       "0   1318 FILBERT ST                  CA       V507699         84.0   \n",
       "1   1318 FILBERT ST                  CA       BV44D97         96.0   \n",
       "2   1318 FILBERT ST                  CA       V507699        121.0   \n",
       "3   1318 FILBERT ST                  TX       HVT6737         96.0   \n",
       "4   1318 FILBERT ST                  OH       HQA6554         96.0   \n",
       "\n",
       "               Date Added                                            geom  \n",
       "0  05/01/2022 12:00:00 AM  POINT (-122.42119800399996 37.800016984000024)  \n",
       "1  07/17/2022 12:00:00 AM  POINT (-122.42119800399996 37.800016984000024)  \n",
       "2  05/18/2022 12:00:00 AM  POINT (-122.42119800399996 37.800016984000024)  \n",
       "3  05/23/2022 12:00:00 AM  POINT (-122.42119800399996 37.800016984000024)  \n",
       "4  04/03/2022 12:00:00 AM  POINT (-122.42119800399996 37.800016984000024)  "
      ]
     },
     "execution_count": 4,
     "metadata": {},
     "output_type": "execute_result"
    }
   ],
   "source": [
    "df = pd.read_csv(\"../data/data_2022_with_geom.csv\")\n",
    "df.head()"
   ]
  },
  {
   "cell_type": "code",
   "execution_count": 5,
   "metadata": {},
   "outputs": [],
   "source": [
    "# convert to geodf for spatial join\n",
    "\n",
    "df['geom'] = df.geom.apply(wkt.loads)\n",
    "df = gpd.GeoDataFrame(df, geometry='geom')\n",
    "df.crs = 'EPSG:4326'"
   ]
  },
  {
   "cell_type": "code",
   "execution_count": 6,
   "metadata": {},
   "outputs": [],
   "source": [
    "# convert date column from string to datetime.\n",
    "\n",
    "df['Citation Issued DateTime'] = pd.to_datetime(df['Citation Issued DateTime'])"
   ]
  },
  {
   "cell_type": "code",
   "execution_count": 16,
   "metadata": {},
   "outputs": [],
   "source": [
    "def clean_address(string):\n",
    "    address_words = string.split(' ')\n",
    "    if address_words[0].isnumeric():\n",
    "        return ' '.join(address_words[1:])\n",
    "    return string\n",
    "\n",
    "df = df[~df['Citation Location'].isnull()]\n",
    "df['street'] = df['Citation Location'].apply(clean_address)"
   ]
  },
  {
   "cell_type": "code",
   "execution_count": 33,
   "metadata": {},
   "outputs": [
    {
     "data": {
      "text/plain": [
       "3360"
      ]
     },
     "execution_count": 33,
     "metadata": {},
     "output_type": "execute_result"
    }
   ],
   "source": [
    "uniqueaddresses = df['Citation Location'].apply(clean_address).unique().tolist()\n",
    "len(uniqueaddresses)"
   ]
  },
  {
   "cell_type": "code",
   "execution_count": 41,
   "metadata": {},
   "outputs": [
    {
     "name": "stdout",
     "output_type": "stream",
     "text": [
      "Yes\n"
     ]
    }
   ],
   "source": [
    "if 'TERRY A FRANCOIS BOULEVARD' in uniqueaddresses:\n",
    "    print(\"Yes\")\n",
    "else:\n",
    "    print(\"No\")"
   ]
  },
  {
   "cell_type": "code",
   "execution_count": 8,
   "metadata": {},
   "outputs": [],
   "source": [
    "def JaccardDist(str1, str2):\n",
    "    str1 = set(str1.split())\n",
    "    str2 = set(str2.split())\n",
    "    return float(len(str1 & str2)) / len(str1 | str2)"
   ]
  },
  {
   "cell_type": "code",
   "execution_count": 31,
   "metadata": {},
   "outputs": [
    {
     "data": {
      "text/plain": [
       "0.3333333333333333"
      ]
     },
     "execution_count": 31,
     "metadata": {},
     "output_type": "execute_result"
    }
   ],
   "source": [
    "JaccardDist(uniqueaddresses[0],uniqueaddresses[1])\n"
   ]
  },
  {
   "cell_type": "code",
   "execution_count": 42,
   "metadata": {},
   "outputs": [
    {
     "data": {
      "text/plain": [
       "0.6"
      ]
     },
     "execution_count": 42,
     "metadata": {},
     "output_type": "execute_result"
    }
   ],
   "source": [
    "JaccardDist('TERRY A FRANCOIS BOULEVARD', 'TERRY A FRANCOIS BLVD')"
   ]
  },
  {
   "cell_type": "code",
   "execution_count": 47,
   "metadata": {},
   "outputs": [],
   "source": [
    "JaccardDist(uniqueaddresses[0],uniqueaddresses[1])\n",
    "jaccard_list = []\n",
    "i_index = []\n",
    "j_index = []\n",
    "for i in range(0,len(uniqueaddresses) - 1):\n",
    "    for j in range(i+1,len(uniqueaddresses)):\n",
    "        jaccard_list.append(JaccardDist(uniqueaddresses[i],uniqueaddresses[j]))\n",
    "        i_index.append(i)\n",
    "        j_index.append(j)\n",
    "\n"
   ]
  },
  {
   "cell_type": "code",
   "execution_count": 48,
   "metadata": {},
   "outputs": [],
   "source": [
    "dfjaccard = pd.DataFrame(list(zip(i_index, j_index, jaccard_list)),\n",
    "                         columns =['i', 'j', 'jaccard'])\n"
   ]
  },
  {
   "cell_type": "code",
   "execution_count": 49,
   "metadata": {},
   "outputs": [
    {
     "data": {
      "text/plain": [
       "5643120"
      ]
     },
     "execution_count": 49,
     "metadata": {},
     "output_type": "execute_result"
    }
   ],
   "source": [
    "len(dfjaccard)"
   ]
  },
  {
   "cell_type": "code",
   "execution_count": 50,
   "metadata": {},
   "outputs": [
    {
     "data": {
      "text/html": [
       "<div>\n",
       "<style scoped>\n",
       "    .dataframe tbody tr th:only-of-type {\n",
       "        vertical-align: middle;\n",
       "    }\n",
       "\n",
       "    .dataframe tbody tr th {\n",
       "        vertical-align: top;\n",
       "    }\n",
       "\n",
       "    .dataframe thead th {\n",
       "        text-align: right;\n",
       "    }\n",
       "</style>\n",
       "<table border=\"1\" class=\"dataframe\">\n",
       "  <thead>\n",
       "    <tr style=\"text-align: right;\">\n",
       "      <th></th>\n",
       "      <th>i</th>\n",
       "      <th>j</th>\n",
       "      <th>jaccard</th>\n",
       "    </tr>\n",
       "  </thead>\n",
       "  <tbody>\n",
       "    <tr>\n",
       "      <th>0</th>\n",
       "      <td>0</td>\n",
       "      <td>1</td>\n",
       "      <td>0.333333</td>\n",
       "    </tr>\n",
       "    <tr>\n",
       "      <th>1</th>\n",
       "      <td>0</td>\n",
       "      <td>2</td>\n",
       "      <td>0.000000</td>\n",
       "    </tr>\n",
       "    <tr>\n",
       "      <th>2</th>\n",
       "      <td>0</td>\n",
       "      <td>3</td>\n",
       "      <td>0.333333</td>\n",
       "    </tr>\n",
       "    <tr>\n",
       "      <th>3</th>\n",
       "      <td>0</td>\n",
       "      <td>4</td>\n",
       "      <td>0.333333</td>\n",
       "    </tr>\n",
       "    <tr>\n",
       "      <th>4</th>\n",
       "      <td>0</td>\n",
       "      <td>5</td>\n",
       "      <td>0.000000</td>\n",
       "    </tr>\n",
       "    <tr>\n",
       "      <th>...</th>\n",
       "      <td>...</td>\n",
       "      <td>...</td>\n",
       "      <td>...</td>\n",
       "    </tr>\n",
       "    <tr>\n",
       "      <th>5643105</th>\n",
       "      <td>3354</td>\n",
       "      <td>3355</td>\n",
       "      <td>0.333333</td>\n",
       "    </tr>\n",
       "    <tr>\n",
       "      <th>5643106</th>\n",
       "      <td>3354</td>\n",
       "      <td>3356</td>\n",
       "      <td>0.250000</td>\n",
       "    </tr>\n",
       "    <tr>\n",
       "      <th>5643107</th>\n",
       "      <td>3354</td>\n",
       "      <td>3357</td>\n",
       "      <td>0.333333</td>\n",
       "    </tr>\n",
       "    <tr>\n",
       "      <th>5643108</th>\n",
       "      <td>3354</td>\n",
       "      <td>3358</td>\n",
       "      <td>0.000000</td>\n",
       "    </tr>\n",
       "    <tr>\n",
       "      <th>5643109</th>\n",
       "      <td>3354</td>\n",
       "      <td>3359</td>\n",
       "      <td>0.000000</td>\n",
       "    </tr>\n",
       "  </tbody>\n",
       "</table>\n",
       "<p>5643110 rows × 3 columns</p>\n",
       "</div>"
      ],
      "text/plain": [
       "            i     j   jaccard\n",
       "0           0     1  0.333333\n",
       "1           0     2  0.000000\n",
       "2           0     3  0.333333\n",
       "3           0     4  0.333333\n",
       "4           0     5  0.000000\n",
       "...       ...   ...       ...\n",
       "5643105  3354  3355  0.333333\n",
       "5643106  3354  3356  0.250000\n",
       "5643107  3354  3357  0.333333\n",
       "5643108  3354  3358  0.000000\n",
       "5643109  3354  3359  0.000000\n",
       "\n",
       "[5643110 rows x 3 columns]"
      ]
     },
     "execution_count": 50,
     "metadata": {},
     "output_type": "execute_result"
    }
   ],
   "source": [
    "dfjaccard.head(-10)"
   ]
  },
  {
   "cell_type": "code",
   "execution_count": 52,
   "metadata": {},
   "outputs": [
    {
     "data": {
      "text/html": [
       "<div>\n",
       "<style scoped>\n",
       "    .dataframe tbody tr th:only-of-type {\n",
       "        vertical-align: middle;\n",
       "    }\n",
       "\n",
       "    .dataframe tbody tr th {\n",
       "        vertical-align: top;\n",
       "    }\n",
       "\n",
       "    .dataframe thead th {\n",
       "        text-align: right;\n",
       "    }\n",
       "</style>\n",
       "<table border=\"1\" class=\"dataframe\">\n",
       "  <thead>\n",
       "    <tr style=\"text-align: right;\">\n",
       "      <th></th>\n",
       "      <th>i</th>\n",
       "      <th>j</th>\n",
       "      <th>jaccard</th>\n",
       "    </tr>\n",
       "  </thead>\n",
       "  <tbody>\n",
       "    <tr>\n",
       "      <th>11137</th>\n",
       "      <td>3</td>\n",
       "      <td>1067</td>\n",
       "      <td>0.666667</td>\n",
       "    </tr>\n",
       "    <tr>\n",
       "      <th>41535</th>\n",
       "      <td>12</td>\n",
       "      <td>1306</td>\n",
       "      <td>0.666667</td>\n",
       "    </tr>\n",
       "    <tr>\n",
       "      <th>50652</th>\n",
       "      <td>15</td>\n",
       "      <td>388</td>\n",
       "      <td>0.666667</td>\n",
       "    </tr>\n",
       "    <tr>\n",
       "      <th>130615</th>\n",
       "      <td>39</td>\n",
       "      <td>395</td>\n",
       "      <td>0.666667</td>\n",
       "    </tr>\n",
       "    <tr>\n",
       "      <th>134089</th>\n",
       "      <td>40</td>\n",
       "      <td>550</td>\n",
       "      <td>0.600000</td>\n",
       "    </tr>\n",
       "  </tbody>\n",
       "</table>\n",
       "</div>"
      ],
      "text/plain": [
       "         i     j   jaccard\n",
       "11137    3  1067  0.666667\n",
       "41535   12  1306  0.666667\n",
       "50652   15   388  0.666667\n",
       "130615  39   395  0.666667\n",
       "134089  40   550  0.600000"
      ]
     },
     "execution_count": 52,
     "metadata": {},
     "output_type": "execute_result"
    }
   ],
   "source": [
    "similar_addresses_df = dfjaccard[dfjaccard['jaccard'] > 0.5]\n",
    "similar_addresses_df.head()\n"
   ]
  },
  {
   "cell_type": "code",
   "execution_count": 67,
   "metadata": {},
   "outputs": [
    {
     "name": "stderr",
     "output_type": "stream",
     "text": [
      "C:\\Users\\SKPC\\AppData\\Local\\Temp\\ipykernel_10644\\1105567953.py:1: SettingWithCopyWarning: \n",
      "A value is trying to be set on a copy of a slice from a DataFrame.\n",
      "Try using .loc[row_indexer,col_indexer] = value instead\n",
      "\n",
      "See the caveats in the documentation: https://pandas.pydata.org/pandas-docs/stable/user_guide/indexing.html#returning-a-view-versus-a-copy\n",
      "  similar_addresses_df['i_name'] = similar_addresses_df.i.map(pd.Series(uniqueaddresses))\n",
      "C:\\Users\\SKPC\\AppData\\Local\\Temp\\ipykernel_10644\\1105567953.py:2: SettingWithCopyWarning: \n",
      "A value is trying to be set on a copy of a slice from a DataFrame.\n",
      "Try using .loc[row_indexer,col_indexer] = value instead\n",
      "\n",
      "See the caveats in the documentation: https://pandas.pydata.org/pandas-docs/stable/user_guide/indexing.html#returning-a-view-versus-a-copy\n",
      "  similar_addresses_df['j_name'] = similar_addresses_df.j.map(pd.Series(uniqueaddresses))\n"
     ]
    },
    {
     "data": {
      "text/html": [
       "<div>\n",
       "<style scoped>\n",
       "    .dataframe tbody tr th:only-of-type {\n",
       "        vertical-align: middle;\n",
       "    }\n",
       "\n",
       "    .dataframe tbody tr th {\n",
       "        vertical-align: top;\n",
       "    }\n",
       "\n",
       "    .dataframe thead th {\n",
       "        text-align: right;\n",
       "    }\n",
       "</style>\n",
       "<table border=\"1\" class=\"dataframe\">\n",
       "  <thead>\n",
       "    <tr style=\"text-align: right;\">\n",
       "      <th></th>\n",
       "      <th>i</th>\n",
       "      <th>j</th>\n",
       "      <th>jaccard</th>\n",
       "      <th>i_name</th>\n",
       "      <th>j_name</th>\n",
       "    </tr>\n",
       "  </thead>\n",
       "  <tbody>\n",
       "    <tr>\n",
       "      <th>11137</th>\n",
       "      <td>3</td>\n",
       "      <td>1067</td>\n",
       "      <td>0.666667</td>\n",
       "      <td>CLAY ST</td>\n",
       "      <td>WEST CLAY ST</td>\n",
       "    </tr>\n",
       "    <tr>\n",
       "      <th>41535</th>\n",
       "      <td>12</td>\n",
       "      <td>1306</td>\n",
       "      <td>0.666667</td>\n",
       "      <td>WEST PORTAL STATION</td>\n",
       "      <td>WEST PORTAL</td>\n",
       "    </tr>\n",
       "    <tr>\n",
       "      <th>50652</th>\n",
       "      <td>15</td>\n",
       "      <td>388</td>\n",
       "      <td>0.666667</td>\n",
       "      <td>MISSION ST</td>\n",
       "      <td>MISSION ROCK ST</td>\n",
       "    </tr>\n",
       "    <tr>\n",
       "      <th>130615</th>\n",
       "      <td>39</td>\n",
       "      <td>395</td>\n",
       "      <td>0.666667</td>\n",
       "      <td>MONTGOMERY ST</td>\n",
       "      <td>NEW MONTGOMERY ST</td>\n",
       "    </tr>\n",
       "    <tr>\n",
       "      <th>134089</th>\n",
       "      <td>40</td>\n",
       "      <td>550</td>\n",
       "      <td>0.600000</td>\n",
       "      <td>TERRY A FRANCOIS BLVD</td>\n",
       "      <td>TERRY A FRANCOIS BOULEVARD</td>\n",
       "    </tr>\n",
       "  </tbody>\n",
       "</table>\n",
       "</div>"
      ],
      "text/plain": [
       "         i     j   jaccard                 i_name                      j_name\n",
       "11137    3  1067  0.666667                CLAY ST                WEST CLAY ST\n",
       "41535   12  1306  0.666667    WEST PORTAL STATION                 WEST PORTAL\n",
       "50652   15   388  0.666667             MISSION ST             MISSION ROCK ST\n",
       "130615  39   395  0.666667          MONTGOMERY ST           NEW MONTGOMERY ST\n",
       "134089  40   550  0.600000  TERRY A FRANCOIS BLVD  TERRY A FRANCOIS BOULEVARD"
      ]
     },
     "execution_count": 67,
     "metadata": {},
     "output_type": "execute_result"
    }
   ],
   "source": [
    "similar_addresses_df['i_name'] = similar_addresses_df.i.map(pd.Series(uniqueaddresses))\n",
    "similar_addresses_df['j_name'] = similar_addresses_df.j.map(pd.Series(uniqueaddresses))\n",
    "similar_addresses_df.head()"
   ]
  },
  {
   "cell_type": "code",
   "execution_count": 69,
   "metadata": {},
   "outputs": [
    {
     "name": "stdout",
     "output_type": "stream",
     "text": [
      "|         |    i |    j |   jaccard | i_name                         | j_name                             |\n",
      "|--------:|-----:|-----:|----------:|:-------------------------------|:-----------------------------------|\n",
      "|   11137 |    3 | 1067 |  0.666667 | CLAY ST                        | WEST CLAY ST                       |\n",
      "|   41535 |   12 | 1306 |  0.666667 | WEST PORTAL STATION            | WEST PORTAL                        |\n",
      "|   50652 |   15 |  388 |  0.666667 | MISSION ST                     | MISSION ROCK ST                    |\n",
      "|  130615 |   39 |  395 |  0.666667 | MONTGOMERY ST                  | NEW MONTGOMERY ST                  |\n",
      "|  134089 |   40 |  550 |  0.6      | TERRY A FRANCOIS BLVD          | TERRY A FRANCOIS BOULEVARD         |\n",
      "|  136422 |   40 | 2883 |  0.75     | TERRY A FRANCOIS BLVD          | TERRY A FRANCOIS                   |\n",
      "|  136866 |   40 | 3327 |  0.75     | TERRY A FRANCOIS BLVD          | TERRY FRANCOIS BLVD                |\n",
      "|  156138 |   46 | 2706 |  0.666667 | BAY ST                         | BAY VIEW ST                        |\n",
      "|  161427 |   48 | 1372 |  0.666667 | GROVE ST                       | OAK GROVE ST                       |\n",
      "|  227659 |   68 | 1594 |  0.8      | MARTIN LUTHER KING JR DR       | MARTIN LUTHER KING JR              |\n",
      "|  227679 |   68 | 1614 |  0.6      | MARTIN LUTHER KING JR DR       | MARTIN LUTHER KING                 |\n",
      "|  227696 |   68 | 1631 |  0.8      | MARTIN LUTHER KING JR DR       | MARTIN LUTHER KING DR              |\n",
      "|  238005 |   71 | 2073 |  0.666667 | SAN JOSE AVE                   | SAN JOSE                           |\n",
      "|  248803 |   74 | 3013 |  0.666667 | 20TH AVENUE                    | 795A 20TH AVENUE                   |\n",
      "|  250544 |   75 | 1470 |  0.666667 | CLAY STREET                    | WEST CLAY STREET                   |\n",
      "|  395614 |  119 | 3034 |  0.666667 | TURK STREET                    | BLOCK TURK STREET                  |\n",
      "|  395893 |  119 | 3313 |  0.666667 | TURK STREET                    | 201A TURK STREET                   |\n",
      "|  432688 |  131 | 1306 |  0.666667 | WEST PORTAL AVE                | WEST PORTAL                        |\n",
      "|  446683 |  135 | 2399 |  0.666667 | LA SALLE AVE                   | LA SALLE                           |\n",
      "|  483049 |  147 |  155 |  0.6      | MISSION BAY BLVD SOUTH         | MISSION BAY BLVD NORTH             |\n",
      "|  484716 |  147 | 1822 |  0.75     | MISSION BAY BLVD SOUTH         | MISSION BAY BLVD                   |\n",
      "|  484984 |  147 | 2090 |  0.6      | MISSION BAY BLVD SOUTH         | MISSION BAY BOULEVARD SOUTH        |\n",
      "|  510114 |  155 | 1560 |  0.6      | MISSION BAY BLVD NORTH         | MISSION BAY BOULEVARD NORTH        |\n",
      "|  510376 |  155 | 1822 |  0.75     | MISSION BAY BLVD NORTH         | MISSION BAY BLVD                   |\n",
      "|  517816 |  157 | 2857 |  0.666667 | MISSION STREET                 | 2702A MISSION STREET               |\n",
      "|  518201 |  157 | 3242 |  0.666667 | MISSION STREET                 | 5524A MISSION STREET               |\n",
      "|  518291 |  157 | 3332 |  0.666667 | MISSION STREET                 | MISSION ROCK STREET                |\n",
      "|  538655 |  164 | 1310 |  0.666667 | MONTGOMERY STREET              | NEW MONTGOMERY STREET              |\n",
      "|  569288 |  173 | 3233 |  0.666667 | EMBARCADERO NORTH              | THE EMBARCADERO NORTH              |\n",
      "|  571326 |  174 | 2086 |  0.666667 | UNION STREET                   | 743A UNION STREET                  |\n",
      "|  572157 |  174 | 2917 |  0.666667 | UNION STREET                   | 948A UNION STREET                  |\n",
      "|  689298 |  211 | 2916 |  0.666667 | FOLSOM STREET                  | 530-534 FOLSOM STREET              |\n",
      "|  730623 |  225 |  274 |  0.6      | SOUTH VAN NESS AVE             | SOUTH VAN NESS AVENUE              |\n",
      "|  730635 |  225 |  286 |  0.75     | SOUTH VAN NESS AVE             | VAN NESS AVE                       |\n",
      "|  732377 |  225 | 2028 |  0.75     | SOUTH VAN NESS AVE             | SOUTH VAN NESS                     |\n",
      "|  758436 |  233 | 3051 |  0.666667 | POST STREET                    | 1160B POST STREET                  |\n",
      "|  764456 |  235 | 2822 |  0.666667 | CHINA BASIN ST                 | CHINA BASIN                        |\n",
      "|  768441 |  237 |  562 |  0.6      | BUENA VISTA AVE WEST           | BUENA VISTA AVE  EAST              |\n",
      "|  768723 |  237 |  844 |  0.6      | BUENA VISTA AVE WEST           | BUENA VISTA AVENUE WEST            |\n",
      "|  770747 |  237 | 2868 |  0.75     | BUENA VISTA AVE WEST           | BUENA VISTA WEST                   |\n",
      "|  804193 |  248 | 2038 |  0.75     | NORTH POINT STREET             | 1079-1099 NORTH POINT STREET       |\n",
      "|  804305 |  248 | 2150 |  0.666667 | NORTH POINT STREET             | NORTH POINT                        |\n",
      "|  805208 |  248 | 3053 |  0.75     | NORTH POINT STREET             | 842A NORTH POINT STREET            |\n",
      "|  853945 |  264 | 2150 |  0.666667 | NORTH POINT ST                 | NORTH POINT                        |\n",
      "|  882990 |  274 |  300 |  0.75     | SOUTH VAN NESS AVENUE          | VAN NESS AVENUE                    |\n",
      "|  884718 |  274 | 2028 |  0.75     | SOUTH VAN NESS AVENUE          | SOUTH VAN NESS                     |\n",
      "|  885405 |  274 | 2715 |  0.8      | SOUTH VAN NESS AVENUE          | 170A SOUTH VAN NESS AVENUE         |\n",
      "|  885642 |  274 | 2952 |  0.8      | SOUTH VAN NESS AVENUE          | 1426A SOUTH VAN NESS AVENUE        |\n",
      "|  899955 |  279 | 1855 |  0.666667 | SAN BRUNO AVE                  | SAN BRUNO                          |\n",
      "|  921347 |  286 | 1715 |  0.666667 | VAN NESS AVE                   | VAN NESS                           |\n",
      "|  943430 |  293 | 2315 |  0.666667 | 6TH STREET                     | 117A 6TH STREET                    |\n",
      "|  964264 |  300 | 1715 |  0.666667 | VAN NESS AVENUE                | VAN NESS                           |\n",
      "|  965264 |  300 | 2715 |  0.6      | VAN NESS AVENUE                | 170A SOUTH VAN NESS AVENUE         |\n",
      "|  965501 |  300 | 2952 |  0.6      | VAN NESS AVENUE                | 1426A SOUTH VAN NESS AVENUE        |\n",
      "|  988842 |  308 | 1857 |  0.666667 | EAST LOT                       | EAST PARKING LOT                   |\n",
      "|  988845 |  308 | 1860 |  0.666667 | EAST LOT                       | EAST LOT BUS                       |\n",
      "|  990678 |  309 |  643 |  0.666667 | SOUTH PARK                     | SOUTH PARK STREET                  |\n",
      "| 1010607 |  315 | 2293 |  0.666667 | GOLDEN GATE AVE                | GOLDEN GATE                        |\n",
      "| 1018812 |  318 | 1372 |  0.666667 | OAK ST                         | OAK GROVE ST                       |\n",
      "| 1024610 |  320 | 1091 |  0.666667 | 25TH AVE                       | 25TH NORTH AVE                     |\n",
      "| 1035686 |  323 | 3056 |  0.666667 | VALENCIA STREET                | 455A VALENCIA STREET               |\n",
      "| 1050088 |  328 | 2293 |  0.666667 | GOLDEN GATE AVENUE             | GOLDEN GATE                        |\n",
      "| 1137922 |  357 | 2663 |  0.6      | CYRIL MAGNIN ST                | CYRIL MAGNIN ST & MARKET ST MARKET |\n",
      "| 1138431 |  357 | 3172 |  0.666667 | CYRIL MAGNIN ST                | CYRIL MAGNIN                       |\n",
      "| 1165152 |  366 | 2920 |  0.666667 | 1ST STREET                     | 62F 1ST STREET                     |\n",
      "| 1277975 |  404 | 2750 |  1        | FLORIDA ST                     | FLORIDA ST                         |\n",
      "| 1345773 |  427 | 2859 |  0.666667 | GOUGH STREET                   | 2735A GOUGH STREET                 |\n",
      "| 1398880 |  446 |  448 |  0.666667 | HENRY ADAMS ST                 | HENRY ST                           |\n",
      "| 1421803 |  453 | 3008 |  0.666667 | DE LONG ST                     | DE LONG                            |\n",
      "| 1476577 |  472 | 2758 |  0.666667 | RHODE ISLAND ST                | RHODE ISLAND                       |\n",
      "| 1625323 |  524 | 2758 |  0.666667 | RHODE ISLAND STREET            | RHODE ISLAND                       |\n",
      "| 1628064 |  525 | 2665 |  0.666667 | CONNECTICUT STREET             | 216A CONNECTICUT STREET            |\n",
      "| 1635787 |  528 | 1892 |  0.666667 | LA PLAYA ST                    | LA PLAYA                           |\n",
      "| 1696235 |  549 | 3120 |  0.666667 | TOWNSEND STREET                | 35O TOWNSEND STREET                |\n",
      "| 1698807 |  550 | 2883 |  0.75     | TERRY A FRANCOIS BOULEVARD     | TERRY A FRANCOIS                   |\n",
      "| 1730659 |  562 | 1105 |  0.6      | BUENA VISTA AVE  EAST          | BUENA VISTA AVENUE EAST            |\n",
      "| 1732359 |  562 | 2805 |  0.75     | BUENA VISTA AVE  EAST          | BUENA VISTA EAST                   |\n",
      "| 1743829 |  566 | 3097 |  0.666667 | OCTAVIA STREET                 | 600A OCTAVIA STREET                |\n",
      "| 1806325 |  589 | 1630 |  0.666667 | TWIN PEAKS BLVD                | TWIN PEAKS                         |\n",
      "| 1816315 |  592 | 3316 |  0.666667 | NOE STREET                     | 132A NOE STREET                    |\n",
      "| 1936470 |  636 | 2713 |  0.666667 | ST CHARLES AVE                 | CHARLES ST                         |\n",
      "| 1955045 |  643 | 2255 |  0.666667 | SOUTH PARK STREET              | PARK STREET                        |\n",
      "| 1976343 |  651 | 1861 |  0.666667 | HOWARD STREET                  | 1560B HOWARD STREET                |\n",
      "| 1999943 |  660 | 1134 |  0.666667 | GROVE STREET                   | OAK GROVE STREET                   |\n",
      "| 2055471 |  680 | 2892 |  0.666667 | BEALE STREET                   | 1A BEALE STREET                    |\n",
      "| 2136207 |  711 | 1075 |  0.666667 | WILLARD NORTH ST               | WILLARD ST                         |\n",
      "| 2136660 |  711 | 1528 |  0.666667 | WILLARD NORTH ST               | WILLARD NORTH                      |\n",
      "| 2177714 |  726 | 2982 |  0.666667 | ANZA STREET                    | 1957A ANZA STREET                  |\n",
      "| 2255112 |  756 | 1855 |  0.666667 | SAN BRUNO AVENUE               | SAN BRUNO                          |\n",
      "| 2264986 |  760 | 1327 |  0.666667 | MIGUEL ST                      | SAN MIGUEL ST                      |\n",
      "| 2314156 |  779 | 1306 |  0.666667 | WEST PORTAL AVENUE             | WEST PORTAL                        |\n",
      "| 2322052 |  782 | 1468 |  0.666667 | CESAR CHAVEZ ST                | CESAR CHAVEZ                       |\n",
      "| 2336744 |  787 | 3290 |  0.666667 | 20TH STREET                    | 1345A 20TH STREET                  |\n",
      "| 2337316 |  788 | 1291 |  0.8      | DR CARLTON B GOODLETT PL       | DR CARLTON B GOODLETT              |\n",
      "| 2339083 |  788 | 3058 |  0.6      | DR CARLTON B GOODLETT PL       | DR B GOODLETT                      |\n",
      "| 2423262 |  821 | 2955 |  0.666667 | BUSH STREET                    | 2339A BUSH STREET                  |\n",
      "| 2442891 |  829 | 2316 |  0.666667 | COLUMBIA SQUARE ST             | COLUMBIA SQUARE                    |\n",
      "| 2465669 |  838 | 2369 |  0.666667 | LAKE MERCED BLVD               | LAKE MERCED                        |\n",
      "| 2479510 |  844 | 1105 |  0.6      | BUENA VISTA AVENUE WEST        | BUENA VISTA AVENUE EAST            |\n",
      "| 2481273 |  844 | 2868 |  0.75     | BUENA VISTA AVENUE WEST        | BUENA VISTA WEST                   |\n",
      "| 2494344 |  850 |  870 |  0.666667 | SAN CARLOS                     | SAN CARLOS ST                      |\n",
      "| 2495227 |  850 | 1753 |  0.666667 | SAN CARLOS                     | SAN CARLOS STREET                  |\n",
      "| 2536534 |  866 | 3052 |  0.666667 | LE CONTE AVE                   | LE CONTE                           |\n",
      "| 2659486 |  916 | 2629 |  0.666667 | CHURCH STREET                  | 294B CHURCH STREET                 |\n",
      "| 2680609 |  925 | 1810 |  0.666667 | MINNA STREET                   | 519A MINNA STREET                  |\n",
      "| 2712650 |  938 | 2300 |  0.666667 | BUENA VISTA TER                | BUENA VISTA                        |\n",
      "| 2732915 |  946 | 3233 |  0.666667 | THE EMBARCADERO                | THE EMBARCADERO NORTH              |\n",
      "| 2789367 |  970 | 2073 |  0.666667 | SAN JOSE AVENUE                | SAN JOSE                           |\n",
      "| 2813207 |  980 | 2078 |  0.666667 | TELEGRAPH HILL BLVD            | TELEGRAPH HILL                     |\n",
      "| 2813926 |  980 | 2797 |  0.6      | TELEGRAPH HILL BLVD            | COIT TOWER TELEGRAPH HILL BLVD     |\n",
      "| 2922998 | 1027 | 1184 |  0.666667 | ST FRANCIS BLVD                | FRANCIS ST                         |\n",
      "| 2923876 | 1027 | 2062 |  0.666667 | ST FRANCIS BLVD                | ST FRANCIS                         |\n",
      "| 2947901 | 1037 | 2822 |  0.666667 | CHINA BASIN STREET             | CHINA BASIN                        |\n",
      "| 2959534 | 1042 | 2860 |  0.666667 | FRANKLIN STREET                | 1000-1012 FRANKLIN STREET          |\n",
      "| 3009172 | 1064 | 1777 |  0.666667 | HOLLY PARK CIR                 | HOLLY PARK                         |\n",
      "| 3019989 | 1069 | 1134 |  0.666667 | OAK STREET                     | OAK GROVE STREET                   |\n",
      "| 3103434 | 1105 | 2805 |  0.75     | BUENA VISTA AVENUE EAST        | BUENA VISTA EAST                   |\n",
      "| 3108122 | 1107 | 2988 |  0.666667 | CAPP STREET                    | 386A CAPP STREET                   |\n",
      "| 3108123 | 1107 | 2989 |  0.666667 | CAPP STREET                    | 604A CAPP STREET                   |\n",
      "| 3114637 | 1110 | 2753 |  0.666667 | RUSS STREET                    | 148A RUSS STREET                   |\n",
      "| 3140686 | 1122 | 1892 |  0.666667 | LA PLAYA STREET                | LA PLAYA                           |\n",
      "| 3159329 | 1130 | 2675 |  0.666667 | 17TH STREET                    | 3141B 17TH STREET                  |\n",
      "| 3159689 | 1130 | 3035 |  0.666667 | 17TH STREET                    | 3557A 17TH STREET                  |\n",
      "| 3255214 | 1174 | 1474 |  0.666667 | GREAT HIGHWAY                  | GREAT HIGHWAY BLVD                 |\n",
      "| 3255476 | 1174 | 1736 |  0.666667 | GREAT HIGHWAY                  | 2801-2879 GREAT HIGHWAY            |\n",
      "| 3256563 | 1174 | 2823 |  1        | GREAT HIGHWAY                  | GREAT HIGHWAY GREAT HIGHWAY        |\n",
      "| 3277597 | 1184 | 2062 |  1        | FRANCIS ST                     | ST FRANCIS                         |\n",
      "| 3278653 | 1184 | 3118 |  0.666667 | FRANCIS ST                     | ST FRANCIS CIRCLE                  |\n",
      "| 3309290 | 1199 | 1250 |  0.75     | OCEAN BEACH PARKING            | OCEAN BEACH PARKING LOT            |\n",
      "| 3310066 | 1199 | 2026 |  0.666667 | OCEAN BEACH PARKING            | OCEAN BEACH                        |\n",
      "| 3341379 | 1213 | 3204 |  0.666667 | ARELIOUS WALKER DR             | ARELIOUS WALKER                    |\n",
      "| 3445311 | 1262 | 3207 |  0.666667 | PRESIDIO BLVD                  | PARK PRESIDIO BLVD                 |\n",
      "| 3470885 | 1275 | 1611 |  0.666667 | MARINA GREEN DR                | MARINA GREEN                       |\n",
      "| 3475465 | 1277 | 2026 |  0.666667 | OCEAN BEACH SW15               | OCEAN BEACH                        |\n",
      "| 3477138 | 1278 | 1618 |  0.666667 | BOWLING GREEN DR               | BOWLING GREEN                      |\n",
      "| 3505540 | 1291 | 3058 |  0.75     | DR CARLTON B GOODLETT          | DR B GOODLETT                      |\n",
      "| 3505800 | 1291 | 3318 |  0.6      | DR CARLTON B GOODLETT          | DR CARTON B GOODLETT               |\n",
      "| 3507301 | 1292 | 2752 |  0.666667 | CASTRO STREET                  | 496A CASTRO STREET                 |\n",
      "| 3515864 | 1296 | 3057 |  0.666667 | FOREST HILL                    | FOREST HILL STATION                |\n",
      "| 3570179 | 1323 | 2049 |  0.666667 | LAGUNA HONDA BLVD              | LAGUNA HONDA                       |\n",
      "| 3571386 | 1323 | 3256 |  0.666667 | LAGUNA HONDA BLVD              | LAGUNA BLVD                        |\n",
      "| 3598740 | 1337 | 2211 |  0.666667 | POINT LOBOS AVE                | POINT LOBOS                        |\n",
      "| 3619224 | 1347 | 2530 |  0.666667 | DUBOCE AVENUE                  | 173A DUBOCE AVENUE                 |\n",
      "| 3866913 | 1474 | 2823 |  0.666667 | GREAT HIGHWAY BLVD             | GREAT HIGHWAY GREAT HIGHWAY        |\n",
      "| 3930211 | 1508 | 2626 |  0.666667 | PRECITA AVENUE                 | 519A PRECITA AVENUE                |\n",
      "| 3946192 | 1517 | 1993 |  0.8      | SGT JOHN V YOUNG LN            | SGT JOHN V YOUNG                   |\n",
      "| 3946833 | 1517 | 2634 |  0.8      | SGT JOHN V YOUNG LN            | SGT V YOUNG LN                     |\n",
      "| 4024549 | 1560 | 2090 |  0.6      | MISSION BAY BOULEVARD NORTH    | MISSION BAY BOULEVARD SOUTH        |\n",
      "| 4028265 | 1562 | 2211 |  0.666667 | POINT LOBOS AVENUE             | POINT LOBOS                        |\n",
      "| 4050806 | 1574 | 3266 |  0.75     | JOHN MUIR DRIVE                | 615D JOHN MUIR DRIVE               |\n",
      "| 4084644 | 1594 | 1614 |  0.75     | MARTIN LUTHER KING JR          | MARTIN LUTHER KING                 |\n",
      "| 4084661 | 1594 | 1631 |  0.6      | MARTIN LUTHER KING JR          | MARTIN LUTHER KING DR              |\n",
      "| 4116929 | 1612 | 2300 |  0.666667 | BUENA VISTA E                  | BUENA VISTA                        |\n",
      "| 4119751 | 1614 | 1631 |  0.75     | MARTIN LUTHER KING             | MARTIN LUTHER KING DR              |\n",
      "| 4121285 | 1614 | 3165 |  0.6      | MARTIN LUTHER KING             | MARTIN LUTHER KING JUNIOR DRIVE    |\n",
      "| 4148338 | 1630 | 2434 |  0.666667 | TWIN PEAKS                     | TWIN PEAKS VIEWPOINT               |\n",
      "| 4148732 | 1630 | 2828 |  0.666667 | TWIN PEAKS                     | TWIN PEAKS BOULEVARD               |\n",
      "| 4199704 | 1660 | 2395 |  0.75     | ARELIOUS WALKER DRIVE          | 29-53 ARELIOUS WALKER DRIVE        |\n",
      "| 4200513 | 1660 | 3204 |  0.666667 | ARELIOUS WALKER DRIVE          | ARELIOUS WALKER                    |\n",
      "| 4279985 | 1708 | 2300 |  0.666667 | BUENA VISTA TERRACE            | BUENA VISTA                        |\n",
      "| 4291197 | 1715 | 1983 |  0.666667 | VAN NESS                       | VAN NESS STATION                   |\n",
      "| 4291242 | 1715 | 2028 |  0.666667 | VAN NESS                       | SOUTH VAN NESS                     |\n",
      "| 4292511 | 1715 | 3297 |  0.666667 | VAN NESS                       | S VAN NESS                         |\n",
      "| 4326330 | 1736 | 2823 |  0.666667 | 2801-2879 GREAT HIGHWAY        | GREAT HIGHWAY GREAT HIGHWAY        |\n",
      "| 4391083 | 1777 | 1894 |  0.666667 | HOLLY PARK                     | HOLLY PARK CIRCLE                  |\n",
      "| 4431049 | 1802 | 2635 |  0.666667 | LANGTON STREET                 | 108A LANGTON STREET                |\n",
      "| 4442293 | 1809 | 3008 |  0.666667 | DE LONG STREET                 | DE LONG                            |\n",
      "| 4515309 | 1857 | 2800 |  0.75     | EAST PARKING LOT               | EAST LOT NO PARKING                |\n",
      "| 4557331 | 1885 | 3172 |  0.666667 | CYRIL MAGNIN STREET            | CYRIL MAGNIN                       |\n",
      "| 4615411 | 1925 | 3112 |  0.666667 | PARK BLVD                      | EXECUTIVE PARK BLVD                |\n",
      "| 4615506 | 1925 | 3207 |  0.666667 | PARK BLVD                      | PARK PRESIDIO BLVD                 |\n",
      "| 4634317 | 1939 | 2047 |  0.75     | HAGIWARA TEA GARDEN DR         | HAGIWARA TEA GARDEN                |\n",
      "| 4634326 | 1939 | 2056 |  0.75     | HAGIWARA TEA GARDEN DR         | TEA GARDEN DR                      |\n",
      "| 4641177 | 1943 | 3237 |  0.666667 | SANTA RITA AVE                 | SANTA RITA                         |\n",
      "| 4669457 | 1964 | 2012 |  0.666667 | HENRY ADAMS STREET             | HENRY STREET                       |\n",
      "| 4697121 | 1984 | 1986 |  0.666667 | ADMIN LOT                      | ADMIN PARKING LOT                  |\n",
      "| 4697861 | 1984 | 2726 |  0.666667 | ADMIN LOT                      | ADMIN EMPLOYEE LOT                 |\n",
      "| 4710099 | 1993 | 2634 |  0.6      | SGT JOHN V YOUNG               | SGT V YOUNG LN                     |\n",
      "| 4710330 | 1993 | 2865 |  0.6      | SGT JOHN V YOUNG               | SGT V YOUNG LANE                   |\n",
      "| 4752694 | 2025 | 2045 |  0.75     | JOHN F KENNEDY DR              | JOHN F KENNEDY                     |\n",
      "| 4753066 | 2025 | 2417 |  0.6      | JOHN F KENNEDY DR              | JOHN F SHELLEY DR                  |\n",
      "| 4753816 | 2025 | 3167 |  0.6      | JOHN F KENNEDY DR              | JOHN F KENNEDY DRIVE               |\n",
      "| 4754946 | 2026 | 2964 |  0.666667 | OCEAN BEACH                    | OCEAN BEACH SW18                   |\n",
      "| 4757360 | 2028 | 2715 |  0.6      | SOUTH VAN NESS                 | 170A SOUTH VAN NESS AVENUE         |\n",
      "| 4757597 | 2028 | 2952 |  0.6      | SOUTH VAN NESS                 | 1426A SOUTH VAN NESS AVENUE        |\n",
      "| 4759205 | 2029 | 3230 |  0.666667 | MIDDLE POINT RD                | MIDDLE POINT                       |\n",
      "| 4770953 | 2038 | 3053 |  0.6      | 1079-1099 NORTH POINT STREET   | 842A NORTH POINT STREET            |\n",
      "| 4780286 | 2045 | 3167 |  0.75     | JOHN F KENNEDY                 | JOHN F KENNEDY DRIVE               |\n",
      "| 4785172 | 2049 | 2807 |  0.666667 | LAGUNA HONDA                   | LAGUNA HONDA BOULEVARD             |\n",
      "| 4785622 | 2049 | 3257 |  0.666667 | LAGUNA HONDA                   | LAGUNA HONDA 5TH                   |\n",
      "| 4785708 | 2049 | 3343 |  0.666667 | LAGUNA HONDA                   | LAGUNA HONDA BLVD.                 |\n",
      "| 4802422 | 2062 | 3118 |  0.666667 | ST FRANCIS                     | ST FRANCIS CIRCLE                  |\n",
      "| 4874938 | 2119 | 3358 |  0.666667 | CLEARY COURT                   | 66-23 CLEARY COURT                 |\n",
      "| 4900690 | 2140 | 3301 |  0.666667 | BERNAL HEIGHTS BLVD            | BERNAL HEIGHTS                     |\n",
      "| 4912470 | 2150 | 2946 |  0.666667 | NORTH POINT                    | NORTH POINT DR                     |\n",
      "| 4916749 | 2154 | 2399 |  0.666667 | LA SALLE AVENUE                | LA SALLE                           |\n",
      "| 4918662 | 2155 | 3108 |  0.6      | WALTER U LUM PL                | WALTER U LUM PLACE                 |\n",
      "| 4960271 | 2190 | 3207 |  0.666667 | PARK PRESIDIO                  | PARK PRESIDIO BLVD                 |\n",
      "| 4990478 | 2217 | 2229 |  0.6      | OCEAN BEACH SW 5               | OCEAN BEACH SW 3                   |\n",
      "| 4990481 | 2217 | 2232 |  0.6      | OCEAN BEACH SW 5               | OCEAN BEACH SW 16                  |\n",
      "| 4990484 | 2217 | 2235 |  0.6      | OCEAN BEACH SW 5               | OCEAN BEACH SW 20                  |\n",
      "| 4990509 | 2217 | 2260 |  0.6      | OCEAN BEACH SW 5               | OCEAN BEACH SW 15                  |\n",
      "| 4990515 | 2217 | 2266 |  0.6      | OCEAN BEACH SW 5               | OCEAN BEACH SW 18                  |\n",
      "| 4990572 | 2217 | 2323 |  0.6      | OCEAN BEACH SW 5               | OCEAN BEACH SW 25                  |\n",
      "| 4991045 | 2217 | 2796 |  0.6      | OCEAN BEACH SW 5               | OCEAN BEACH SW 1                   |\n",
      "| 5004107 | 2229 | 2232 |  0.6      | OCEAN BEACH SW 3               | OCEAN BEACH SW 16                  |\n",
      "| 5004110 | 2229 | 2235 |  0.6      | OCEAN BEACH SW 3               | OCEAN BEACH SW 20                  |\n",
      "| 5004135 | 2229 | 2260 |  0.6      | OCEAN BEACH SW 3               | OCEAN BEACH SW 15                  |\n",
      "| 5004141 | 2229 | 2266 |  0.6      | OCEAN BEACH SW 3               | OCEAN BEACH SW 18                  |\n",
      "| 5004198 | 2229 | 2323 |  0.6      | OCEAN BEACH SW 3               | OCEAN BEACH SW 25                  |\n",
      "| 5004671 | 2229 | 2796 |  0.6      | OCEAN BEACH SW 3               | OCEAN BEACH SW 1                   |\n",
      "| 5007494 | 2232 | 2235 |  0.6      | OCEAN BEACH SW 16              | OCEAN BEACH SW 20                  |\n",
      "| 5007519 | 2232 | 2260 |  0.6      | OCEAN BEACH SW 16              | OCEAN BEACH SW 15                  |\n",
      "| 5007525 | 2232 | 2266 |  0.6      | OCEAN BEACH SW 16              | OCEAN BEACH SW 18                  |\n",
      "| 5007582 | 2232 | 2323 |  0.6      | OCEAN BEACH SW 16              | OCEAN BEACH SW 25                  |\n",
      "| 5008055 | 2232 | 2796 |  0.6      | OCEAN BEACH SW 16              | OCEAN BEACH SW 1                   |\n",
      "| 5010894 | 2235 | 2260 |  0.6      | OCEAN BEACH SW 20              | OCEAN BEACH SW 15                  |\n",
      "| 5010900 | 2235 | 2266 |  0.6      | OCEAN BEACH SW 20              | OCEAN BEACH SW 18                  |\n",
      "| 5010957 | 2235 | 2323 |  0.6      | OCEAN BEACH SW 20              | OCEAN BEACH SW 25                  |\n",
      "| 5011430 | 2235 | 2796 |  0.6      | OCEAN BEACH SW 20              | OCEAN BEACH SW 1                   |\n",
      "| 5038675 | 2260 | 2266 |  0.6      | OCEAN BEACH SW 15              | OCEAN BEACH SW 18                  |\n",
      "| 5038732 | 2260 | 2323 |  0.6      | OCEAN BEACH SW 15              | OCEAN BEACH SW 25                  |\n",
      "| 5039205 | 2260 | 2796 |  0.6      | OCEAN BEACH SW 15              | OCEAN BEACH SW 1                   |\n",
      "| 5045305 | 2266 | 2323 |  0.6      | OCEAN BEACH SW 18              | OCEAN BEACH SW 25                  |\n",
      "| 5045778 | 2266 | 2796 |  0.6      | OCEAN BEACH SW 18              | OCEAN BEACH SW 1                   |\n",
      "| 5075221 | 2293 | 3106 |  0.666667 | GOLDEN GATE                    | BLOCK GOLDEN GATE                  |\n",
      "| 5082354 | 2300 | 2805 |  0.666667 | BUENA VISTA                    | BUENA VISTA EAST                   |\n",
      "| 5082417 | 2300 | 2868 |  0.666667 | BUENA VISTA                    | BUENA VISTA WEST                   |\n",
      "| 5090564 | 2308 | 2579 |  0.666667 | STOW LAKE EAST                 | STOW LAKE                          |\n",
      "| 5106426 | 2323 | 2796 |  0.6      | OCEAN BEACH SW 25              | OCEAN BEACH SW 1                   |\n",
      "| 5109311 | 2326 | 2579 |  0.666667 | STOW LAKE DR                   | STOW LAKE                          |\n",
      "| 5172847 | 2389 | 3052 |  0.666667 | LE CONTE AVENUE                | LE CONTE                           |\n",
      "| 5224149 | 2444 | 2544 |  0.6      | DR TOM WADELL PL               | DR TOM WADDELL PL                  |\n",
      "| 5237470 | 2458 | 3160 |  0.666667 | LAGUNA HOND                    | LAGUNA HOND BLVD                   |\n",
      "| 5237773 | 2459 | 2563 |  0.666667 | NAPOLEON STREET                | 290E NAPOLEON STREET               |\n",
      "| 5257932 | 2481 | 3175 |  0.666667 | CIVIC CENTER                   | CIVIC CENTER STATION               |\n",
      "| 5264169 | 2488 | 3294 |  0.666667 | CONSERVATORY DR WEST           | CONSERVATORY DR                    |\n",
      "| 5350993 | 2595 | 2699 |  0.666667 | 1A BONITA STREET               | BONITA STREET                      |\n",
      "| 5356619 | 2602 | 3005 |  0.666667 | MUSIC CONCOURSE DR             | MUSIC CONCOURSE                    |\n",
      "| 5380175 | 2634 | 2865 |  0.6      | SGT V YOUNG LN                 | SGT V YOUNG LANE                   |\n",
      "| 5392093 | 2650 | 3319 |  0.666667 | BUS STOP                       | NB BUS STOP                        |\n",
      "| 5425948 | 2700 | 2999 |  0.666667 | STOWLAKE DR                    | STOWLAKE DR E                      |\n",
      "| 5435666 | 2715 | 2952 |  0.666667 | 170A SOUTH VAN NESS AVENUE     | 1426A SOUTH VAN NESS AVENUE        |\n",
      "| 5442953 | 2726 | 3221 |  0.666667 | ADMIN EMPLOYEE LOT             | EMPLOYEE LOT                       |\n",
      "| 5503169 | 2830 | 3065 |  0.666667 | ORD STREET                     | 99A ORD STREET                     |\n",
      "| 5508050 | 2839 | 3230 |  0.666667 | MIDDLE POINT ROAD              | MIDDLE POINT                       |\n",
      "| 5541060 | 2907 | 3226 |  0.666667 | MISSION ST & 6TH ST 6TH STREET | MISSION ST & 8TH ST MISSION STREET |\n",
      "| 5597928 | 3058 | 3318 |  0.75     | DR B GOODLETT                  | DR CARTON B GOODLETT               |\n",
      "| 5616051 | 3126 | 3319 |  0.666667 | NB BUS                         | NB BUS STOP                        |\n",
      "| 5623315 | 3160 | 3256 |  0.666667 | LAGUNA HOND BLVD               | LAGUNA BLVD                        |\n",
      "| 5637698 | 3255 | 3294 |  0.666667 | CONSERVATORY DR EAST           | CONSERVATORY DR                    |\n"
     ]
    }
   ],
   "source": [
    "print(similar_addresses_df.to_markdown())"
   ]
  },
  {
   "cell_type": "code",
   "execution_count": 75,
   "metadata": {},
   "outputs": [
    {
     "data": {
      "text/plain": [
       "Citation Location\n",
       "501 TERRY A FRANCOIS BLVD    1830\n",
       "993 POTRERO AVE               589\n",
       "200 CHANNEL ST                575\n",
       "492 CASTRO ST                 519\n",
       "100 SPEAR ST                  444\n",
       "300 FREMONT ST                420\n",
       "3252 PIERCE ST                380\n",
       "EMBARCADERO STATION           343\n",
       "500 HOWARD ST                 331\n",
       "POWELL STATION                329\n",
       "1001 POTRERO AVE              309\n",
       "1325 08TH AVE                 300\n",
       "500 BRANNAN ST                299\n",
       "500 20TH ST                   279\n",
       "600 HARRISON ST               278\n",
       "0 01ST ST                     276\n",
       "200 SPEAR ST                  273\n",
       "299 FREMONT ST                270\n",
       "300 BRANNAN ST                264\n",
       "11 SPEAR ST                   257\n",
       "400 BRANNAN ST                255\n",
       "680 MISSION ST                254\n",
       "100 YACHT ROAD                251\n",
       "203 FOLSOM ST                 247\n",
       "2395 LOMBARD ST               239\n",
       "2450 CALIFORNIA ST            233\n",
       "1550 MISSION ST               227\n",
       "545 FOLSOM ST                 224\n",
       "300 HOWARD ST                 222\n",
       "1190 MISSION ST               222\n",
       "Name: citation_count, dtype: int64"
      ]
     },
     "execution_count": 75,
     "metadata": {},
     "output_type": "execute_result"
    }
   ],
   "source": [
    "df['Citation Location'] = df['Citation Location'].str.replace('BOULEVARD', 'BLVD')\n",
    "num_citations_by_location = df['Citation Location'].value_counts()\n",
    "gb_first = df.groupby('Citation Location').nth(0)\n",
    "\n",
    "citation_df = gpd.GeoDataFrame(pd.merge(num_citations_by_location, gb_first, left_index=True, right_on='Citation Location'), geometry='geom')\n",
    "citation_df.rename({'Citation Location': 'citation_count'}, axis=1, inplace=True)\n",
    "citation_df.head(n=30)['citation_count']"
   ]
  },
  {
   "cell_type": "code",
   "execution_count": 76,
   "metadata": {},
   "outputs": [
    {
     "data": {
      "image/png": "[encoded data removed]",
      "text/plain": [
       "<Figure size 432x288 with 1 Axes>"
      ]
     },
     "metadata": {
      "needs_background": "light"
     },
     "output_type": "display_data"
    }
   ],
   "source": [
    "citation_df.head(n=10).iloc[::-1]['citation_count'].plot(kind='barh')\n",
    "plt.ylabel(\"Address\")\n",
    "plt.xlabel(\"Number of Citations\")\n",
    "plt.title(\"Top 10 Addresses with the Highest Number of Citations\");"
   ]
  },
  {
   "cell_type": "code",
   "execution_count": 51,
   "metadata": {},
   "outputs": [
    {
     "data": {
      "text/plain": [
       "1.0"
      ]
     },
     "execution_count": 51,
     "metadata": {},
     "output_type": "execute_result"
    }
   ],
   "source": [
    "dfjaccard['jaccard'].max()"
   ]
  },
  {
   "cell_type": "code",
   "execution_count": 27,
   "metadata": {},
   "outputs": [
    {
     "data": {
      "text/plain": [
       "[Text(0.5, 0, 'Hours'), Text(0, 0.5, 'Number of Citations'), (0.0, 168.0)]"
      ]
     },
     "execution_count": 27,
     "metadata": {},
     "output_type": "execute_result"
    },
    {
     "data": {
      "image/png": "[encoded data removed]",
      "text/plain": [
       "<Figure size 720x360 with 1 Axes>"
      ]
     },
     "metadata": {
      "needs_background": "light"
     },
     "output_type": "display_data"
    }
   ],
   "source": [
    "ax1 = df.groupby((df['Citation Issued DateTime'].dt.dayofweek) * 24 + (df['Citation Issued DateTime'].dt.hour)).size().plot(kind='line', \n",
    "title='Citations by Hour of Week', figsize=(10,5))\n",
    "ax1.set(xlabel='Hours', ylabel='Number of Citations',xlim=(0,168))\n",
    "#ax1.xaxis.set(\n",
    "    #major_locator=mdates.DayLocator(),\n",
    "    #major_formatter=mdates.DateFormatter(\"\\n\\n%A\"),\n",
    "    #minor_locator=mdates.HourLocator((0, 12)),\n",
    "    #minor_formatter=mdates.DateFormatter(\"%H\"),\n",
    "#)"
   ]
  },
  {
   "cell_type": "code",
   "execution_count": null,
   "metadata": {},
   "outputs": [],
   "source": [
    "fig, ax2 = plt.subplots(figsize=(10,5))\n",
    "ax2.set(xlabel='', ylabel='Total Number of Citations')\n",
    "ax2.plot(df['Citation Issued DateTime'], df)\n"
   ]
  }
 ],
 "metadata": {
  "kernelspec": {
   "display_name": "Python 3.9.12 ('base')",
   "language": "python",
   "name": "python3"
  },
  "language_info": {
   "codemirror_mode": {
    "name": "ipython",
    "version": 3
   },
   "file_extension": ".py",
   "mimetype": "text/x-python",
   "name": "python",
   "nbconvert_exporter": "python",
   "pygments_lexer": "ipython3",
   "version": "3.9.12"
  },
  "orig_nbformat": 4,
  "vscode": {
   "interpreter": {
    "hash": "06e3845b2644c95d11360a0040010fecb4e88a26ee98ac60f68cb6cb17551501"
   }
  }
 },
 "nbformat": 4,
 "nbformat_minor": 2
}
