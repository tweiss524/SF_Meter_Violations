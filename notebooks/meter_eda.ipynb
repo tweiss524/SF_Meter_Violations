{
 "cells": [
  {
   "attachments": {},
   "cell_type": "markdown",
   "metadata": {},
   "source": [
    "## Meter"
   ]
  },
  {
   "cell_type": "code",
   "execution_count": 50,
   "metadata": {},
   "outputs": [],
   "source": [
    "# force geopandas to use shapely instead of pygeos\n",
    "import os\n",
    "os.environ['USE_PYGEOS'] = '0'\n",
    "\n",
    "import numpy as np\n",
    "import pandas as pd\n",
    "from shapely import wkt\n",
    "import geopandas as gpd\n",
    "from shapely.geometry import Point\n",
    "import plotly.express as px"
   ]
  },
  {
   "cell_type": "code",
   "execution_count": 4,
   "metadata": {},
   "outputs": [
    {
     "data": {
      "text/html": [
       "<div>\n",
       "<style scoped>\n",
       "    .dataframe tbody tr th:only-of-type {\n",
       "        vertical-align: middle;\n",
       "    }\n",
       "\n",
       "    .dataframe tbody tr th {\n",
       "        vertical-align: top;\n",
       "    }\n",
       "\n",
       "    .dataframe thead th {\n",
       "        text-align: right;\n",
       "    }\n",
       "</style>\n",
       "<table border=\"1\" class=\"dataframe\">\n",
       "  <thead>\n",
       "    <tr style=\"text-align: right;\">\n",
       "      <th></th>\n",
       "      <th>OBJECTID</th>\n",
       "      <th>PARKING_SPACE_ID</th>\n",
       "      <th>POST_ID</th>\n",
       "      <th>MS_PAY_STATION_ID</th>\n",
       "      <th>MS_SPACE_NUM</th>\n",
       "      <th>SENSOR_FLAG</th>\n",
       "      <th>ON_OFFSTREET_TYPE</th>\n",
       "      <th>OSP_ID</th>\n",
       "      <th>JURISDICTION</th>\n",
       "      <th>PM_DISTRICT_ID</th>\n",
       "      <th>...</th>\n",
       "      <th>NFC_KEY</th>\n",
       "      <th>SPT_CODE</th>\n",
       "      <th>COLLECTION_ROUTE_DESC</th>\n",
       "      <th>COLLECTION_SUBROUTE_DESC</th>\n",
       "      <th>shape</th>\n",
       "      <th>Neighborhoods</th>\n",
       "      <th>SF Find Neighborhoods</th>\n",
       "      <th>Current Police Districts</th>\n",
       "      <th>Current Supervisor Districts</th>\n",
       "      <th>Analysis Neighborhoods</th>\n",
       "    </tr>\n",
       "  </thead>\n",
       "  <tbody>\n",
       "    <tr>\n",
       "      <th>0</th>\n",
       "      <td>5262398</td>\n",
       "      <td>0</td>\n",
       "      <td>363-04151</td>\n",
       "      <td>-</td>\n",
       "      <td>0</td>\n",
       "      <td>N</td>\n",
       "      <td>ON</td>\n",
       "      <td>0.0</td>\n",
       "      <td>SFMTA</td>\n",
       "      <td>12.0</td>\n",
       "      <td>...</td>\n",
       "      <td>NaN</td>\n",
       "      <td>NaN</td>\n",
       "      <td>NaN</td>\n",
       "      <td>NaN</td>\n",
       "      <td>POINT (-122.408394 37.79895)</td>\n",
       "      <td>106</td>\n",
       "      <td>106</td>\n",
       "      <td>6</td>\n",
       "      <td>3</td>\n",
       "      <td>6</td>\n",
       "    </tr>\n",
       "    <tr>\n",
       "      <th>1</th>\n",
       "      <td>5262423</td>\n",
       "      <td>0</td>\n",
       "      <td>916-00500</td>\n",
       "      <td>916-00002</td>\n",
       "      <td>50</td>\n",
       "      <td>N</td>\n",
       "      <td>OFF</td>\n",
       "      <td>916.0</td>\n",
       "      <td>SFMTA</td>\n",
       "      <td>7.0</td>\n",
       "      <td>...</td>\n",
       "      <td>5L4X</td>\n",
       "      <td>NaN</td>\n",
       "      <td>NaN</td>\n",
       "      <td>NaN</td>\n",
       "      <td>POINT (-122.43913 37.800167)</td>\n",
       "      <td>17</td>\n",
       "      <td>17</td>\n",
       "      <td>4</td>\n",
       "      <td>6</td>\n",
       "      <td>13</td>\n",
       "    </tr>\n",
       "    <tr>\n",
       "      <th>2</th>\n",
       "      <td>5263054</td>\n",
       "      <td>0</td>\n",
       "      <td>700-03540</td>\n",
       "      <td>-</td>\n",
       "      <td>0</td>\n",
       "      <td>N</td>\n",
       "      <td>ON</td>\n",
       "      <td>0.0</td>\n",
       "      <td>SFMTA</td>\n",
       "      <td>16.0</td>\n",
       "      <td>...</td>\n",
       "      <td>2XKW</td>\n",
       "      <td>NaN</td>\n",
       "      <td>NaN</td>\n",
       "      <td>NaN</td>\n",
       "      <td>POINT (-122.422165 37.76667)</td>\n",
       "      <td>37</td>\n",
       "      <td>37</td>\n",
       "      <td>3</td>\n",
       "      <td>5</td>\n",
       "      <td>20</td>\n",
       "    </tr>\n",
       "    <tr>\n",
       "      <th>3</th>\n",
       "      <td>5289824</td>\n",
       "      <td>0</td>\n",
       "      <td>563-01014</td>\n",
       "      <td>-</td>\n",
       "      <td>0</td>\n",
       "      <td>N</td>\n",
       "      <td>ON</td>\n",
       "      <td>0.0</td>\n",
       "      <td>SFMTA</td>\n",
       "      <td>13.0</td>\n",
       "      <td>...</td>\n",
       "      <td>NaN</td>\n",
       "      <td>NaN</td>\n",
       "      <td>NaN</td>\n",
       "      <td>NaN</td>\n",
       "      <td>POINT (-122.41383 37.780846)</td>\n",
       "      <td>21</td>\n",
       "      <td>21</td>\n",
       "      <td>5</td>\n",
       "      <td>10</td>\n",
       "      <td>36</td>\n",
       "    </tr>\n",
       "    <tr>\n",
       "      <th>4</th>\n",
       "      <td>5263507</td>\n",
       "      <td>0</td>\n",
       "      <td>614-07280</td>\n",
       "      <td>-</td>\n",
       "      <td>0</td>\n",
       "      <td>N</td>\n",
       "      <td>ON</td>\n",
       "      <td>0.0</td>\n",
       "      <td>SFMTA</td>\n",
       "      <td>13.0</td>\n",
       "      <td>...</td>\n",
       "      <td>GK56</td>\n",
       "      <td>NaN</td>\n",
       "      <td>NaN</td>\n",
       "      <td>NaN</td>\n",
       "      <td>POINT (-122.41428 37.787613)</td>\n",
       "      <td>50</td>\n",
       "      <td>50</td>\n",
       "      <td>6</td>\n",
       "      <td>3</td>\n",
       "      <td>21</td>\n",
       "    </tr>\n",
       "  </tbody>\n",
       "</table>\n",
       "<p>5 rows × 45 columns</p>\n",
       "</div>"
      ],
      "text/plain": [
       "   OBJECTID  PARKING_SPACE_ID    POST_ID MS_PAY_STATION_ID  MS_SPACE_NUM  \\\n",
       "0   5262398                 0  363-04151                 -             0   \n",
       "1   5262423                 0  916-00500         916-00002            50   \n",
       "2   5263054                 0  700-03540                 -             0   \n",
       "3   5289824                 0  563-01014                 -             0   \n",
       "4   5263507                 0  614-07280                 -             0   \n",
       "\n",
       "  SENSOR_FLAG ON_OFFSTREET_TYPE  OSP_ID JURISDICTION  PM_DISTRICT_ID  ...  \\\n",
       "0           N                ON     0.0        SFMTA            12.0  ...   \n",
       "1           N               OFF   916.0        SFMTA             7.0  ...   \n",
       "2           N                ON     0.0        SFMTA            16.0  ...   \n",
       "3           N                ON     0.0        SFMTA            13.0  ...   \n",
       "4           N                ON     0.0        SFMTA            13.0  ...   \n",
       "\n",
       "   NFC_KEY SPT_CODE COLLECTION_ROUTE_DESC COLLECTION_SUBROUTE_DESC  \\\n",
       "0      NaN      NaN                   NaN                      NaN   \n",
       "1     5L4X      NaN                   NaN                      NaN   \n",
       "2     2XKW      NaN                   NaN                      NaN   \n",
       "3      NaN      NaN                   NaN                      NaN   \n",
       "4     GK56      NaN                   NaN                      NaN   \n",
       "\n",
       "                          shape Neighborhoods SF Find Neighborhoods  \\\n",
       "0  POINT (-122.408394 37.79895)           106                   106   \n",
       "1  POINT (-122.43913 37.800167)            17                    17   \n",
       "2  POINT (-122.422165 37.76667)            37                    37   \n",
       "3  POINT (-122.41383 37.780846)            21                    21   \n",
       "4  POINT (-122.41428 37.787613)            50                    50   \n",
       "\n",
       "  Current Police Districts Current Supervisor Districts Analysis Neighborhoods  \n",
       "0                        6                            3                      6  \n",
       "1                        4                            6                     13  \n",
       "2                        3                            5                     20  \n",
       "3                        5                           10                     36  \n",
       "4                        6                            3                     21  \n",
       "\n",
       "[5 rows x 45 columns]"
      ]
     },
     "execution_count": 4,
     "metadata": {},
     "output_type": "execute_result"
    }
   ],
   "source": [
    "meter_df = pd.read_csv('../data/Parking_Meters.csv')\n",
    "meter_df.head()"
   ]
  },
  {
   "cell_type": "code",
   "execution_count": 11,
   "metadata": {},
   "outputs": [
    {
     "data": {
      "text/plain": [
       "M    25670\n",
       "U     5182\n",
       "T     3643\n",
       "P     1109\n",
       "L       11\n",
       "Name: ACTIVE_METER_FLAG, dtype: int64"
      ]
     },
     "execution_count": 11,
     "metadata": {},
     "output_type": "execute_result"
    }
   ],
   "source": [
    "meter_df['ACTIVE_METER_FLAG'].value_counts()"
   ]
  },
  {
   "cell_type": "code",
   "execution_count": 8,
   "metadata": {},
   "outputs": [],
   "source": [
    "meter_df['shape'] = meter_df['shape'].apply(wkt.loads)\n",
    "meter_df = gpd.GeoDataFrame(meter_df, geometry='shape')\n",
    "meter_df.crs = 'EPSG:4326'"
   ]
  },
  {
   "cell_type": "code",
   "execution_count": 14,
   "metadata": {},
   "outputs": [
    {
     "data": {
      "text/plain": [
       "(29313, 45)"
      ]
     },
     "execution_count": 14,
     "metadata": {},
     "output_type": "execute_result"
    }
   ],
   "source": [
    "active_meter_df = meter_df[(meter_df.ACTIVE_METER_FLAG == 'M') | (meter_df.ACTIVE_METER_FLAG == 'T')]\n",
    "active_meter_df.shape"
   ]
  },
  {
   "cell_type": "code",
   "execution_count": 15,
   "metadata": {},
   "outputs": [],
   "source": [
    "df = pd.read_parquet(\"../data/meter_data_2022.parquet\")"
   ]
  },
  {
   "cell_type": "code",
   "execution_count": 20,
   "metadata": {},
   "outputs": [],
   "source": [
    "df = pd.merge(df, active_meter_df, on='POST_ID')"
   ]
  },
  {
   "cell_type": "code",
   "execution_count": 21,
   "metadata": {},
   "outputs": [
    {
     "data": {
      "text/html": [
       "<div>\n",
       "<style scoped>\n",
       "    .dataframe tbody tr th:only-of-type {\n",
       "        vertical-align: middle;\n",
       "    }\n",
       "\n",
       "    .dataframe tbody tr th {\n",
       "        vertical-align: top;\n",
       "    }\n",
       "\n",
       "    .dataframe thead th {\n",
       "        text-align: right;\n",
       "    }\n",
       "</style>\n",
       "<table border=\"1\" class=\"dataframe\">\n",
       "  <thead>\n",
       "    <tr style=\"text-align: right;\">\n",
       "      <th></th>\n",
       "      <th>TRANSMISSION_DATETIME</th>\n",
       "      <th>POST_ID</th>\n",
       "      <th>STREET_BLOCK</th>\n",
       "      <th>PAYMENT_TYPE</th>\n",
       "      <th>SESSION_START_DT</th>\n",
       "      <th>SESSION_END_DT</th>\n",
       "      <th>METER_EVENT_TYPE</th>\n",
       "      <th>GROSS_PAID_AMT</th>\n",
       "      <th>OBJECTID</th>\n",
       "      <th>PARKING_SPACE_ID</th>\n",
       "      <th>...</th>\n",
       "      <th>NFC_KEY</th>\n",
       "      <th>SPT_CODE</th>\n",
       "      <th>COLLECTION_ROUTE_DESC</th>\n",
       "      <th>COLLECTION_SUBROUTE_DESC</th>\n",
       "      <th>shape</th>\n",
       "      <th>Neighborhoods</th>\n",
       "      <th>SF Find Neighborhoods</th>\n",
       "      <th>Current Police Districts</th>\n",
       "      <th>Current Supervisor Districts</th>\n",
       "      <th>Analysis Neighborhoods</th>\n",
       "    </tr>\n",
       "  </thead>\n",
       "  <tbody>\n",
       "    <tr>\n",
       "      <th>0</th>\n",
       "      <td>222408714_4_01012022002410</td>\n",
       "      <td>831-02200</td>\n",
       "      <td>EMBARCADERO SOUTH 200</td>\n",
       "      <td>CASH</td>\n",
       "      <td>2022/01/01 12:24:10 AM</td>\n",
       "      <td>2022/01/01 12:24:10 AM</td>\n",
       "      <td>NS</td>\n",
       "      <td>1.50</td>\n",
       "      <td>5272708</td>\n",
       "      <td>0</td>\n",
       "      <td>...</td>\n",
       "      <td>71ME</td>\n",
       "      <td>NaN</td>\n",
       "      <td>South Embarcadero</td>\n",
       "      <td>Embarcadero South/Howard/Steuart | Unit-300/Un...</td>\n",
       "      <td>POINT (-122.39102 37.79161)</td>\n",
       "      <td>108</td>\n",
       "      <td>108</td>\n",
       "      <td>1</td>\n",
       "      <td>10</td>\n",
       "      <td>8</td>\n",
       "    </tr>\n",
       "    <tr>\n",
       "      <th>1</th>\n",
       "      <td>222412313_4_01022022121822</td>\n",
       "      <td>831-02200</td>\n",
       "      <td>EMBARCADERO SOUTH 200</td>\n",
       "      <td>CREDIT CARD</td>\n",
       "      <td>2022/01/02 12:18:22 PM</td>\n",
       "      <td>2022/01/02 01:18:22 PM</td>\n",
       "      <td>NS</td>\n",
       "      <td>8.00</td>\n",
       "      <td>5272708</td>\n",
       "      <td>0</td>\n",
       "      <td>...</td>\n",
       "      <td>71ME</td>\n",
       "      <td>NaN</td>\n",
       "      <td>South Embarcadero</td>\n",
       "      <td>Embarcadero South/Howard/Steuart | Unit-300/Un...</td>\n",
       "      <td>POINT (-122.39102 37.79161)</td>\n",
       "      <td>108</td>\n",
       "      <td>108</td>\n",
       "      <td>1</td>\n",
       "      <td>10</td>\n",
       "      <td>8</td>\n",
       "    </tr>\n",
       "    <tr>\n",
       "      <th>2</th>\n",
       "      <td>222412993_4_01022022135210</td>\n",
       "      <td>831-02200</td>\n",
       "      <td>EMBARCADERO SOUTH 200</td>\n",
       "      <td>CREDIT CARD</td>\n",
       "      <td>2022/01/02 01:52:10 PM</td>\n",
       "      <td>2022/01/02 03:52:17 PM</td>\n",
       "      <td>NS</td>\n",
       "      <td>14.49</td>\n",
       "      <td>5272708</td>\n",
       "      <td>0</td>\n",
       "      <td>...</td>\n",
       "      <td>71ME</td>\n",
       "      <td>NaN</td>\n",
       "      <td>South Embarcadero</td>\n",
       "      <td>Embarcadero South/Howard/Steuart | Unit-300/Un...</td>\n",
       "      <td>POINT (-122.39102 37.79161)</td>\n",
       "      <td>108</td>\n",
       "      <td>108</td>\n",
       "      <td>1</td>\n",
       "      <td>10</td>\n",
       "      <td>8</td>\n",
       "    </tr>\n",
       "    <tr>\n",
       "      <th>3</th>\n",
       "      <td>222448944_4_01032022140304</td>\n",
       "      <td>831-02200</td>\n",
       "      <td>EMBARCADERO SOUTH 200</td>\n",
       "      <td>CREDIT CARD</td>\n",
       "      <td>2022/01/03 02:03:04 PM</td>\n",
       "      <td>2022/01/03 04:23:28 PM</td>\n",
       "      <td>NS</td>\n",
       "      <td>9.06</td>\n",
       "      <td>5272708</td>\n",
       "      <td>0</td>\n",
       "      <td>...</td>\n",
       "      <td>71ME</td>\n",
       "      <td>NaN</td>\n",
       "      <td>South Embarcadero</td>\n",
       "      <td>Embarcadero South/Howard/Steuart | Unit-300/Un...</td>\n",
       "      <td>POINT (-122.39102 37.79161)</td>\n",
       "      <td>108</td>\n",
       "      <td>108</td>\n",
       "      <td>1</td>\n",
       "      <td>10</td>\n",
       "      <td>8</td>\n",
       "    </tr>\n",
       "    <tr>\n",
       "      <th>4</th>\n",
       "      <td>832929888_9_01032022180700</td>\n",
       "      <td>831-02200</td>\n",
       "      <td>EMBARCADERO SOUTH 200</td>\n",
       "      <td>PAY BY CELL</td>\n",
       "      <td>2022/01/03 06:07:00 PM</td>\n",
       "      <td>2022/01/03 08:07:00 PM</td>\n",
       "      <td>NS</td>\n",
       "      <td>4.00</td>\n",
       "      <td>5272708</td>\n",
       "      <td>0</td>\n",
       "      <td>...</td>\n",
       "      <td>71ME</td>\n",
       "      <td>NaN</td>\n",
       "      <td>South Embarcadero</td>\n",
       "      <td>Embarcadero South/Howard/Steuart | Unit-300/Un...</td>\n",
       "      <td>POINT (-122.39102 37.79161)</td>\n",
       "      <td>108</td>\n",
       "      <td>108</td>\n",
       "      <td>1</td>\n",
       "      <td>10</td>\n",
       "      <td>8</td>\n",
       "    </tr>\n",
       "  </tbody>\n",
       "</table>\n",
       "<p>5 rows × 52 columns</p>\n",
       "</div>"
      ],
      "text/plain": [
       "        TRANSMISSION_DATETIME    POST_ID           STREET_BLOCK PAYMENT_TYPE  \\\n",
       "0  222408714_4_01012022002410  831-02200  EMBARCADERO SOUTH 200         CASH   \n",
       "1  222412313_4_01022022121822  831-02200  EMBARCADERO SOUTH 200  CREDIT CARD   \n",
       "2  222412993_4_01022022135210  831-02200  EMBARCADERO SOUTH 200  CREDIT CARD   \n",
       "3  222448944_4_01032022140304  831-02200  EMBARCADERO SOUTH 200  CREDIT CARD   \n",
       "4  832929888_9_01032022180700  831-02200  EMBARCADERO SOUTH 200  PAY BY CELL   \n",
       "\n",
       "         SESSION_START_DT          SESSION_END_DT METER_EVENT_TYPE  \\\n",
       "0  2022/01/01 12:24:10 AM  2022/01/01 12:24:10 AM               NS   \n",
       "1  2022/01/02 12:18:22 PM  2022/01/02 01:18:22 PM               NS   \n",
       "2  2022/01/02 01:52:10 PM  2022/01/02 03:52:17 PM               NS   \n",
       "3  2022/01/03 02:03:04 PM  2022/01/03 04:23:28 PM               NS   \n",
       "4  2022/01/03 06:07:00 PM  2022/01/03 08:07:00 PM               NS   \n",
       "\n",
       "   GROSS_PAID_AMT  OBJECTID  PARKING_SPACE_ID  ... NFC_KEY  SPT_CODE  \\\n",
       "0            1.50   5272708                 0  ...    71ME       NaN   \n",
       "1            8.00   5272708                 0  ...    71ME       NaN   \n",
       "2           14.49   5272708                 0  ...    71ME       NaN   \n",
       "3            9.06   5272708                 0  ...    71ME       NaN   \n",
       "4            4.00   5272708                 0  ...    71ME       NaN   \n",
       "\n",
       "  COLLECTION_ROUTE_DESC                           COLLECTION_SUBROUTE_DESC  \\\n",
       "0     South Embarcadero  Embarcadero South/Howard/Steuart | Unit-300/Un...   \n",
       "1     South Embarcadero  Embarcadero South/Howard/Steuart | Unit-300/Un...   \n",
       "2     South Embarcadero  Embarcadero South/Howard/Steuart | Unit-300/Un...   \n",
       "3     South Embarcadero  Embarcadero South/Howard/Steuart | Unit-300/Un...   \n",
       "4     South Embarcadero  Embarcadero South/Howard/Steuart | Unit-300/Un...   \n",
       "\n",
       "                         shape Neighborhoods  SF Find Neighborhoods  \\\n",
       "0  POINT (-122.39102 37.79161)           108                    108   \n",
       "1  POINT (-122.39102 37.79161)           108                    108   \n",
       "2  POINT (-122.39102 37.79161)           108                    108   \n",
       "3  POINT (-122.39102 37.79161)           108                    108   \n",
       "4  POINT (-122.39102 37.79161)           108                    108   \n",
       "\n",
       "   Current Police Districts Current Supervisor Districts  \\\n",
       "0                         1                           10   \n",
       "1                         1                           10   \n",
       "2                         1                           10   \n",
       "3                         1                           10   \n",
       "4                         1                           10   \n",
       "\n",
       "  Analysis Neighborhoods  \n",
       "0                      8  \n",
       "1                      8  \n",
       "2                      8  \n",
       "3                      8  \n",
       "4                      8  \n",
       "\n",
       "[5 rows x 52 columns]"
      ]
     },
     "execution_count": 21,
     "metadata": {},
     "output_type": "execute_result"
    }
   ],
   "source": [
    "df.head()"
   ]
  },
  {
   "cell_type": "code",
   "execution_count": 45,
   "metadata": {},
   "outputs": [],
   "source": [
    "# use only a very limited number of columns for now\n",
    "\n",
    "df = df[['POST_ID', 'TRANSMISSION_DATETIME', 'STREET_BLOCK', 'PAYMENT_TYPE',\n",
    "    'SESSION_START_DT', 'SESSION_END_DT', 'METER_EVENT_TYPE',\n",
    "    'GROSS_PAID_AMT', 'shape']]"
   ]
  },
  {
   "cell_type": "code",
   "execution_count": 46,
   "metadata": {},
   "outputs": [],
   "source": [
    "one_post = df[df.POST_ID == '360-05250']"
   ]
  },
  {
   "cell_type": "code",
   "execution_count": 47,
   "metadata": {},
   "outputs": [
    {
     "name": "stderr",
     "output_type": "stream",
     "text": [
      "/var/folders/lr/597pxhmx2z78r4vysc_dvsth0000gn/T/ipykernel_41258/1276305083.py:1: SettingWithCopyWarning: \n",
      "A value is trying to be set on a copy of a slice from a DataFrame.\n",
      "Try using .loc[row_indexer,col_indexer] = value instead\n",
      "\n",
      "See the caveats in the documentation: https://pandas.pydata.org/pandas-docs/stable/user_guide/indexing.html#returning-a-view-versus-a-copy\n",
      "  one_post.loc[:, 'SESSION_START_DT'] = pd.to_datetime(one_post['SESSION_START_DT'])\n",
      "/var/folders/lr/597pxhmx2z78r4vysc_dvsth0000gn/T/ipykernel_41258/1276305083.py:1: FutureWarning: In a future version, `df.iloc[:, i] = newvals` will attempt to set the values inplace instead of always setting a new array. To retain the old behavior, use either `df[df.columns[i]] = newvals` or, if columns are non-unique, `df.isetitem(i, newvals)`\n",
      "  one_post.loc[:, 'SESSION_START_DT'] = pd.to_datetime(one_post['SESSION_START_DT'])\n",
      "/var/folders/lr/597pxhmx2z78r4vysc_dvsth0000gn/T/ipykernel_41258/1276305083.py:2: SettingWithCopyWarning: \n",
      "A value is trying to be set on a copy of a slice from a DataFrame.\n",
      "Try using .loc[row_indexer,col_indexer] = value instead\n",
      "\n",
      "See the caveats in the documentation: https://pandas.pydata.org/pandas-docs/stable/user_guide/indexing.html#returning-a-view-versus-a-copy\n",
      "  one_post.loc[:, 'SESSION_END_DT'] = pd.to_datetime(one_post['SESSION_END_DT'])\n",
      "/var/folders/lr/597pxhmx2z78r4vysc_dvsth0000gn/T/ipykernel_41258/1276305083.py:2: FutureWarning: In a future version, `df.iloc[:, i] = newvals` will attempt to set the values inplace instead of always setting a new array. To retain the old behavior, use either `df[df.columns[i]] = newvals` or, if columns are non-unique, `df.isetitem(i, newvals)`\n",
      "  one_post.loc[:, 'SESSION_END_DT'] = pd.to_datetime(one_post['SESSION_END_DT'])\n"
     ]
    }
   ],
   "source": [
    "one_post.loc[:, 'SESSION_START_DT'] = pd.to_datetime(one_post['SESSION_START_DT'])\n",
    "one_post.loc[:, 'SESSION_END_DT'] = pd.to_datetime(one_post['SESSION_END_DT'])"
   ]
  },
  {
   "cell_type": "code",
   "execution_count": 49,
   "metadata": {},
   "outputs": [
    {
     "name": "stderr",
     "output_type": "stream",
     "text": [
      "/var/folders/lr/597pxhmx2z78r4vysc_dvsth0000gn/T/ipykernel_41258/2037813124.py:1: SettingWithCopyWarning: \n",
      "A value is trying to be set on a copy of a slice from a DataFrame.\n",
      "Try using .loc[row_indexer,col_indexer] = value instead\n",
      "\n",
      "See the caveats in the documentation: https://pandas.pydata.org/pandas-docs/stable/user_guide/indexing.html#returning-a-view-versus-a-copy\n",
      "  one_post['date'] = one_post['SESSION_START_DT'].dt.date\n",
      "/var/folders/lr/597pxhmx2z78r4vysc_dvsth0000gn/T/ipykernel_41258/2037813124.py:2: FutureWarning: Comparison of Timestamp with datetime.date is deprecated in order to match the standard library behavior. In a future version these will be considered non-comparable. Use 'ts == pd.Timestamp(date)' or 'ts.date() == date' instead.\n",
      "  one_date = one_post[one_post.date == pd.to_datetime('2022-01-28')]\n"
     ]
    }
   ],
   "source": [
    "one_post['date'] = one_post['SESSION_START_DT'].dt.date\n",
    "one_date = one_post[one_post.date == pd.to_datetime('2022-01-28')]"
   ]
  },
  {
   "cell_type": "code",
   "execution_count": 36,
   "metadata": {},
   "outputs": [
    {
     "data": {
      "text/plain": [
       "2022-01-28    32\n",
       "2022-07-07    30\n",
       "2022-12-02    30\n",
       "2022-08-25    29\n",
       "2022-09-03    29\n",
       "              ..\n",
       "2022-07-10     1\n",
       "2022-05-15     1\n",
       "2022-03-20     1\n",
       "2022-12-29     1\n",
       "2022-02-20     1\n",
       "Name: date, Length: 317, dtype: int64"
      ]
     },
     "execution_count": 36,
     "metadata": {},
     "output_type": "execute_result"
    }
   ],
   "source": [
    "one_post.date.value_counts()"
   ]
  },
  {
   "cell_type": "code",
   "execution_count": 53,
   "metadata": {},
   "outputs": [
    {
     "data": {
      "text/html": [
       "<div>\n",
       "<style scoped>\n",
       "    .dataframe tbody tr th:only-of-type {\n",
       "        vertical-align: middle;\n",
       "    }\n",
       "\n",
       "    .dataframe tbody tr th {\n",
       "        vertical-align: top;\n",
       "    }\n",
       "\n",
       "    .dataframe thead th {\n",
       "        text-align: right;\n",
       "    }\n",
       "</style>\n",
       "<table border=\"1\" class=\"dataframe\">\n",
       "  <thead>\n",
       "    <tr style=\"text-align: right;\">\n",
       "      <th></th>\n",
       "      <th>POST_ID</th>\n",
       "      <th>TRANSMISSION_DATETIME</th>\n",
       "      <th>STREET_BLOCK</th>\n",
       "      <th>PAYMENT_TYPE</th>\n",
       "      <th>SESSION_START_DT</th>\n",
       "      <th>SESSION_END_DT</th>\n",
       "      <th>METER_EVENT_TYPE</th>\n",
       "      <th>GROSS_PAID_AMT</th>\n",
       "      <th>shape</th>\n",
       "      <th>date</th>\n",
       "    </tr>\n",
       "  </thead>\n",
       "  <tbody>\n",
       "    <tr>\n",
       "      <th>467325</th>\n",
       "      <td>360-05250</td>\n",
       "      <td>222409320_4_01012022113609</td>\n",
       "      <td>CLEMENT ST 500</td>\n",
       "      <td>CASH</td>\n",
       "      <td>2022-01-01 11:36:09</td>\n",
       "      <td>2022-01-01 11:36:09</td>\n",
       "      <td>NS</td>\n",
       "      <td>0.15</td>\n",
       "      <td>POINT (-122.46503 37.78285)</td>\n",
       "      <td>2022-01-01</td>\n",
       "    </tr>\n",
       "    <tr>\n",
       "      <th>467326</th>\n",
       "      <td>360-05250</td>\n",
       "      <td>222409409_4_01012022115811</td>\n",
       "      <td>CLEMENT ST 500</td>\n",
       "      <td>CASH</td>\n",
       "      <td>2022-01-01 11:58:11</td>\n",
       "      <td>2022-01-01 11:58:11</td>\n",
       "      <td>NS</td>\n",
       "      <td>0.25</td>\n",
       "      <td>POINT (-122.46503 37.78285)</td>\n",
       "      <td>2022-01-01</td>\n",
       "    </tr>\n",
       "    <tr>\n",
       "      <th>467327</th>\n",
       "      <td>360-05250</td>\n",
       "      <td>222421195_4_01032022094613</td>\n",
       "      <td>CLEMENT ST 500</td>\n",
       "      <td>CASH</td>\n",
       "      <td>2022-01-03 09:46:13</td>\n",
       "      <td>2022-01-03 10:01:13</td>\n",
       "      <td>NS</td>\n",
       "      <td>0.50</td>\n",
       "      <td>POINT (-122.46503 37.78285)</td>\n",
       "      <td>2022-01-03</td>\n",
       "    </tr>\n",
       "    <tr>\n",
       "      <th>467328</th>\n",
       "      <td>360-05250</td>\n",
       "      <td>222422538_4_01032022100307</td>\n",
       "      <td>CLEMENT ST 500</td>\n",
       "      <td>CREDIT CARD</td>\n",
       "      <td>2022-01-03 10:03:07</td>\n",
       "      <td>2022-01-03 10:18:07</td>\n",
       "      <td>NS</td>\n",
       "      <td>0.50</td>\n",
       "      <td>POINT (-122.46503 37.78285)</td>\n",
       "      <td>2022-01-03</td>\n",
       "    </tr>\n",
       "    <tr>\n",
       "      <th>467329</th>\n",
       "      <td>360-05250</td>\n",
       "      <td>222424052_4_01032022101945</td>\n",
       "      <td>CLEMENT ST 500</td>\n",
       "      <td>CASH</td>\n",
       "      <td>2022-01-03 10:19:45</td>\n",
       "      <td>2022-01-03 10:34:45</td>\n",
       "      <td>NS</td>\n",
       "      <td>0.85</td>\n",
       "      <td>POINT (-122.46503 37.78285)</td>\n",
       "      <td>2022-01-03</td>\n",
       "    </tr>\n",
       "    <tr>\n",
       "      <th>...</th>\n",
       "      <td>...</td>\n",
       "      <td>...</td>\n",
       "      <td>...</td>\n",
       "      <td>...</td>\n",
       "      <td>...</td>\n",
       "      <td>...</td>\n",
       "      <td>...</td>\n",
       "      <td>...</td>\n",
       "      <td>...</td>\n",
       "      <td>...</td>\n",
       "    </tr>\n",
       "    <tr>\n",
       "      <th>472193</th>\n",
       "      <td>360-05250</td>\n",
       "      <td>1041785889_9_12312022095234</td>\n",
       "      <td>CLEMENT ST 500</td>\n",
       "      <td>PAY BY CELL</td>\n",
       "      <td>2022-12-31 09:52:34</td>\n",
       "      <td>2022-12-31 10:07:34</td>\n",
       "      <td>NS</td>\n",
       "      <td>0.44</td>\n",
       "      <td>POINT (-122.46503 37.78285)</td>\n",
       "      <td>2022-12-31</td>\n",
       "    </tr>\n",
       "    <tr>\n",
       "      <th>472194</th>\n",
       "      <td>360-05250</td>\n",
       "      <td>238182919_4_12312022140853</td>\n",
       "      <td>CLEMENT ST 500</td>\n",
       "      <td>CASH</td>\n",
       "      <td>2022-12-31 14:08:53</td>\n",
       "      <td>2022-12-31 14:23:53</td>\n",
       "      <td>NS</td>\n",
       "      <td>1.05</td>\n",
       "      <td>POINT (-122.46503 37.78285)</td>\n",
       "      <td>2022-12-31</td>\n",
       "    </tr>\n",
       "    <tr>\n",
       "      <th>472195</th>\n",
       "      <td>360-05250</td>\n",
       "      <td>238184022_4_12312022143454</td>\n",
       "      <td>CLEMENT ST 500</td>\n",
       "      <td>CASH</td>\n",
       "      <td>2022-12-31 14:34:54</td>\n",
       "      <td>2022-12-31 14:45:49</td>\n",
       "      <td>NS</td>\n",
       "      <td>0.50</td>\n",
       "      <td>POINT (-122.46503 37.78285)</td>\n",
       "      <td>2022-12-31</td>\n",
       "    </tr>\n",
       "    <tr>\n",
       "      <th>472196</th>\n",
       "      <td>360-05250</td>\n",
       "      <td>238184029_4_12312022143508</td>\n",
       "      <td>CLEMENT ST 500</td>\n",
       "      <td>CASH</td>\n",
       "      <td>2022-12-31 14:35:08</td>\n",
       "      <td>2022-12-31 14:50:08</td>\n",
       "      <td>NS</td>\n",
       "      <td>0.25</td>\n",
       "      <td>POINT (-122.46503 37.78285)</td>\n",
       "      <td>2022-12-31</td>\n",
       "    </tr>\n",
       "    <tr>\n",
       "      <th>472197</th>\n",
       "      <td>360-05250</td>\n",
       "      <td>238188849_4_12312022162608</td>\n",
       "      <td>CLEMENT ST 500</td>\n",
       "      <td>CASH</td>\n",
       "      <td>2022-12-31 16:26:08</td>\n",
       "      <td>2022-12-31 16:33:38</td>\n",
       "      <td>NS</td>\n",
       "      <td>0.25</td>\n",
       "      <td>POINT (-122.46503 37.78285)</td>\n",
       "      <td>2022-12-31</td>\n",
       "    </tr>\n",
       "  </tbody>\n",
       "</table>\n",
       "<p>4873 rows × 10 columns</p>\n",
       "</div>"
      ],
      "text/plain": [
       "          POST_ID        TRANSMISSION_DATETIME    STREET_BLOCK PAYMENT_TYPE  \\\n",
       "467325  360-05250   222409320_4_01012022113609  CLEMENT ST 500         CASH   \n",
       "467326  360-05250   222409409_4_01012022115811  CLEMENT ST 500         CASH   \n",
       "467327  360-05250   222421195_4_01032022094613  CLEMENT ST 500         CASH   \n",
       "467328  360-05250   222422538_4_01032022100307  CLEMENT ST 500  CREDIT CARD   \n",
       "467329  360-05250   222424052_4_01032022101945  CLEMENT ST 500         CASH   \n",
       "...           ...                          ...             ...          ...   \n",
       "472193  360-05250  1041785889_9_12312022095234  CLEMENT ST 500  PAY BY CELL   \n",
       "472194  360-05250   238182919_4_12312022140853  CLEMENT ST 500         CASH   \n",
       "472195  360-05250   238184022_4_12312022143454  CLEMENT ST 500         CASH   \n",
       "472196  360-05250   238184029_4_12312022143508  CLEMENT ST 500         CASH   \n",
       "472197  360-05250   238188849_4_12312022162608  CLEMENT ST 500         CASH   \n",
       "\n",
       "          SESSION_START_DT      SESSION_END_DT METER_EVENT_TYPE  \\\n",
       "467325 2022-01-01 11:36:09 2022-01-01 11:36:09               NS   \n",
       "467326 2022-01-01 11:58:11 2022-01-01 11:58:11               NS   \n",
       "467327 2022-01-03 09:46:13 2022-01-03 10:01:13               NS   \n",
       "467328 2022-01-03 10:03:07 2022-01-03 10:18:07               NS   \n",
       "467329 2022-01-03 10:19:45 2022-01-03 10:34:45               NS   \n",
       "...                    ...                 ...              ...   \n",
       "472193 2022-12-31 09:52:34 2022-12-31 10:07:34               NS   \n",
       "472194 2022-12-31 14:08:53 2022-12-31 14:23:53               NS   \n",
       "472195 2022-12-31 14:34:54 2022-12-31 14:45:49               NS   \n",
       "472196 2022-12-31 14:35:08 2022-12-31 14:50:08               NS   \n",
       "472197 2022-12-31 16:26:08 2022-12-31 16:33:38               NS   \n",
       "\n",
       "        GROSS_PAID_AMT                        shape        date  \n",
       "467325            0.15  POINT (-122.46503 37.78285)  2022-01-01  \n",
       "467326            0.25  POINT (-122.46503 37.78285)  2022-01-01  \n",
       "467327            0.50  POINT (-122.46503 37.78285)  2022-01-03  \n",
       "467328            0.50  POINT (-122.46503 37.78285)  2022-01-03  \n",
       "467329            0.85  POINT (-122.46503 37.78285)  2022-01-03  \n",
       "...                ...                          ...         ...  \n",
       "472193            0.44  POINT (-122.46503 37.78285)  2022-12-31  \n",
       "472194            1.05  POINT (-122.46503 37.78285)  2022-12-31  \n",
       "472195            0.50  POINT (-122.46503 37.78285)  2022-12-31  \n",
       "472196            0.25  POINT (-122.46503 37.78285)  2022-12-31  \n",
       "472197            0.25  POINT (-122.46503 37.78285)  2022-12-31  \n",
       "\n",
       "[4873 rows x 10 columns]"
      ]
     },
     "execution_count": 53,
     "metadata": {},
     "output_type": "execute_result"
    }
   ],
   "source": [
    "one_post"
   ]
  },
  {
   "cell_type": "code",
   "execution_count": 55,
   "metadata": {},
   "outputs": [
    {
     "data": {
      "application/vnd.plotly.v1+json": {
       "config": {
        "plotlyServerURL": "https://plot.ly"
       },
       "data": [
        {
         "alignmentgroup": "True",
         "base": [
          "2022-01-28T09:19:33",
          "2022-01-28T09:50:38",
          "2022-01-28T10:36:05",
          "2022-01-28T10:35:45",
          "2022-01-28T10:46:42",
          "2022-01-28T10:46:58",
          "2022-01-28T11:09:28",
          "2022-01-28T11:19:10",
          "2022-01-28T11:48:07",
          "2022-01-28T11:48:28",
          "2022-01-28T11:53:19",
          "2022-01-28T12:28:28",
          "2022-01-28T12:34:04",
          "2022-01-28T13:16:10",
          "2022-01-28T13:16:32",
          "2022-01-28T13:39:20",
          "2022-01-28T13:57:48",
          "2022-01-28T14:12:51",
          "2022-01-28T14:30:45",
          "2022-01-28T14:58:57",
          "2022-01-28T14:59:08",
          "2022-01-28T15:30:45",
          "2022-01-28T15:37:07",
          "2022-01-28T16:02:13",
          "2022-01-28T16:28:53",
          "2022-01-28T16:34:57",
          "2022-01-28T16:35:26",
          "2022-01-28T17:01:41",
          "2022-01-28T17:23:01",
          "2022-01-28T17:23:23",
          "2022-01-28T11:41:00",
          "2022-01-28T13:07:00"
         ],
         "hovertemplate": "SESSION_START_DT=%{base}<br>SESSION_END_DT=%{x}<br>METER_EVENT_TYPE=%{y}<extra></extra>",
         "legendgroup": "",
         "marker": {
          "color": "#636efa",
          "pattern": {
           "shape": ""
          }
         },
         "name": "",
         "offsetgroup": "",
         "orientation": "h",
         "showlegend": false,
         "textposition": "auto",
         "type": "bar",
         "x": [
          900000,
          450000,
          900000,
          900000,
          803000,
          900000,
          900000,
          900000,
          900000,
          900000,
          900000,
          360000,
          744000,
          900000,
          900000,
          900000,
          900000,
          900000,
          900000,
          900000,
          900000,
          360000,
          900000,
          900000,
          900000,
          680000,
          900000,
          900000,
          720000,
          900000,
          900000,
          900000
         ],
         "xaxis": "x",
         "y": [
          "NS",
          "NS",
          "NS",
          "NS",
          "AT",
          "AT",
          "NS",
          "AT",
          "NS",
          "NS",
          "NS",
          "NS",
          "AT",
          "NS",
          "NS",
          "NS",
          "NS",
          "NS",
          "NS",
          "NS",
          "AT",
          "NS",
          "NS",
          "NS",
          "NS",
          "AT",
          "AT",
          "NS",
          "NS",
          "NS",
          "NS",
          "NS"
         ],
         "yaxis": "y"
        }
       ],
       "layout": {
        "barmode": "overlay",
        "legend": {
         "tracegroupgap": 0
        },
        "margin": {
         "t": 60
        },
        "template": {
         "data": {
          "bar": [
           {
            "error_x": {
             "color": "#2a3f5f"
            },
            "error_y": {
             "color": "#2a3f5f"
            },
            "marker": {
             "line": {
              "color": "#E5ECF6",
              "width": 0.5
             },
             "pattern": {
              "fillmode": "overlay",
              "size": 10,
              "solidity": 0.2
             }
            },
            "type": "bar"
           }
          ],
          "barpolar": [
           {
            "marker": {
             "line": {
              "color": "#E5ECF6",
              "width": 0.5
             },
             "pattern": {
              "fillmode": "overlay",
              "size": 10,
              "solidity": 0.2
             }
            },
            "type": "barpolar"
           }
          ],
          "carpet": [
           {
            "aaxis": {
             "endlinecolor": "#2a3f5f",
             "gridcolor": "white",
             "linecolor": "white",
             "minorgridcolor": "white",
             "startlinecolor": "#2a3f5f"
            },
            "baxis": {
             "endlinecolor": "#2a3f5f",
             "gridcolor": "white",
             "linecolor": "white",
             "minorgridcolor": "white",
             "startlinecolor": "#2a3f5f"
            },
            "type": "carpet"
           }
          ],
          "choropleth": [
           {
            "colorbar": {
             "outlinewidth": 0,
             "ticks": ""
            },
            "type": "choropleth"
           }
          ],
          "contour": [
           {
            "colorbar": {
             "outlinewidth": 0,
             "ticks": ""
            },
            "colorscale": [
             [
              0,
              "#0d0887"
             ],
             [
              0.1111111111111111,
              "#46039f"
             ],
             [
              0.2222222222222222,
              "#7201a8"
             ],
             [
              0.3333333333333333,
              "#9c179e"
             ],
             [
              0.4444444444444444,
              "#bd3786"
             ],
             [
              0.5555555555555556,
              "#d8576b"
             ],
             [
              0.6666666666666666,
              "#ed7953"
             ],
             [
              0.7777777777777778,
              "#fb9f3a"
             ],
             [
              0.8888888888888888,
              "#fdca26"
             ],
             [
              1,
              "#f0f921"
             ]
            ],
            "type": "contour"
           }
          ],
          "contourcarpet": [
           {
            "colorbar": {
             "outlinewidth": 0,
             "ticks": ""
            },
            "type": "contourcarpet"
           }
          ],
          "heatmap": [
           {
            "colorbar": {
             "outlinewidth": 0,
             "ticks": ""
            },
            "colorscale": [
             [
              0,
              "#0d0887"
             ],
             [
              0.1111111111111111,
              "#46039f"
             ],
             [
              0.2222222222222222,
              "#7201a8"
             ],
             [
              0.3333333333333333,
              "#9c179e"
             ],
             [
              0.4444444444444444,
              "#bd3786"
             ],
             [
              0.5555555555555556,
              "#d8576b"
             ],
             [
              0.6666666666666666,
              "#ed7953"
             ],
             [
              0.7777777777777778,
              "#fb9f3a"
             ],
             [
              0.8888888888888888,
              "#fdca26"
             ],
             [
              1,
              "#f0f921"
             ]
            ],
            "type": "heatmap"
           }
          ],
          "heatmapgl": [
           {
            "colorbar": {
             "outlinewidth": 0,
             "ticks": ""
            },
            "colorscale": [
             [
              0,
              "#0d0887"
             ],
             [
              0.1111111111111111,
              "#46039f"
             ],
             [
              0.2222222222222222,
              "#7201a8"
             ],
             [
              0.3333333333333333,
              "#9c179e"
             ],
             [
              0.4444444444444444,
              "#bd3786"
             ],
             [
              0.5555555555555556,
              "#d8576b"
             ],
             [
              0.6666666666666666,
              "#ed7953"
             ],
             [
              0.7777777777777778,
              "#fb9f3a"
             ],
             [
              0.8888888888888888,
              "#fdca26"
             ],
             [
              1,
              "#f0f921"
             ]
            ],
            "type": "heatmapgl"
           }
          ],
          "histogram": [
           {
            "marker": {
             "pattern": {
              "fillmode": "overlay",
              "size": 10,
              "solidity": 0.2
             }
            },
            "type": "histogram"
           }
          ],
          "histogram2d": [
           {
            "colorbar": {
             "outlinewidth": 0,
             "ticks": ""
            },
            "colorscale": [
             [
              0,
              "#0d0887"
             ],
             [
              0.1111111111111111,
              "#46039f"
             ],
             [
              0.2222222222222222,
              "#7201a8"
             ],
             [
              0.3333333333333333,
              "#9c179e"
             ],
             [
              0.4444444444444444,
              "#bd3786"
             ],
             [
              0.5555555555555556,
              "#d8576b"
             ],
             [
              0.6666666666666666,
              "#ed7953"
             ],
             [
              0.7777777777777778,
              "#fb9f3a"
             ],
             [
              0.8888888888888888,
              "#fdca26"
             ],
             [
              1,
              "#f0f921"
             ]
            ],
            "type": "histogram2d"
           }
          ],
          "histogram2dcontour": [
           {
            "colorbar": {
             "outlinewidth": 0,
             "ticks": ""
            },
            "colorscale": [
             [
              0,
              "#0d0887"
             ],
             [
              0.1111111111111111,
              "#46039f"
             ],
             [
              0.2222222222222222,
              "#7201a8"
             ],
             [
              0.3333333333333333,
              "#9c179e"
             ],
             [
              0.4444444444444444,
              "#bd3786"
             ],
             [
              0.5555555555555556,
              "#d8576b"
             ],
             [
              0.6666666666666666,
              "#ed7953"
             ],
             [
              0.7777777777777778,
              "#fb9f3a"
             ],
             [
              0.8888888888888888,
              "#fdca26"
             ],
             [
              1,
              "#f0f921"
             ]
            ],
            "type": "histogram2dcontour"
           }
          ],
          "mesh3d": [
           {
            "colorbar": {
             "outlinewidth": 0,
             "ticks": ""
            },
            "type": "mesh3d"
           }
          ],
          "parcoords": [
           {
            "line": {
             "colorbar": {
              "outlinewidth": 0,
              "ticks": ""
             }
            },
            "type": "parcoords"
           }
          ],
          "pie": [
           {
            "automargin": true,
            "type": "pie"
           }
          ],
          "scatter": [
           {
            "fillpattern": {
             "fillmode": "overlay",
             "size": 10,
             "solidity": 0.2
            },
            "type": "scatter"
           }
          ],
          "scatter3d": [
           {
            "line": {
             "colorbar": {
              "outlinewidth": 0,
              "ticks": ""
             }
            },
            "marker": {
             "colorbar": {
              "outlinewidth": 0,
              "ticks": ""
             }
            },
            "type": "scatter3d"
           }
          ],
          "scattercarpet": [
           {
            "marker": {
             "colorbar": {
              "outlinewidth": 0,
              "ticks": ""
             }
            },
            "type": "scattercarpet"
           }
          ],
          "scattergeo": [
           {
            "marker": {
             "colorbar": {
              "outlinewidth": 0,
              "ticks": ""
             }
            },
            "type": "scattergeo"
           }
          ],
          "scattergl": [
           {
            "marker": {
             "colorbar": {
              "outlinewidth": 0,
              "ticks": ""
             }
            },
            "type": "scattergl"
           }
          ],
          "scattermapbox": [
           {
            "marker": {
             "colorbar": {
              "outlinewidth": 0,
              "ticks": ""
             }
            },
            "type": "scattermapbox"
           }
          ],
          "scatterpolar": [
           {
            "marker": {
             "colorbar": {
              "outlinewidth": 0,
              "ticks": ""
             }
            },
            "type": "scatterpolar"
           }
          ],
          "scatterpolargl": [
           {
            "marker": {
             "colorbar": {
              "outlinewidth": 0,
              "ticks": ""
             }
            },
            "type": "scatterpolargl"
           }
          ],
          "scatterternary": [
           {
            "marker": {
             "colorbar": {
              "outlinewidth": 0,
              "ticks": ""
             }
            },
            "type": "scatterternary"
           }
          ],
          "surface": [
           {
            "colorbar": {
             "outlinewidth": 0,
             "ticks": ""
            },
            "colorscale": [
             [
              0,
              "#0d0887"
             ],
             [
              0.1111111111111111,
              "#46039f"
             ],
             [
              0.2222222222222222,
              "#7201a8"
             ],
             [
              0.3333333333333333,
              "#9c179e"
             ],
             [
              0.4444444444444444,
              "#bd3786"
             ],
             [
              0.5555555555555556,
              "#d8576b"
             ],
             [
              0.6666666666666666,
              "#ed7953"
             ],
             [
              0.7777777777777778,
              "#fb9f3a"
             ],
             [
              0.8888888888888888,
              "#fdca26"
             ],
             [
              1,
              "#f0f921"
             ]
            ],
            "type": "surface"
           }
          ],
          "table": [
           {
            "cells": {
             "fill": {
              "color": "#EBF0F8"
             },
             "line": {
              "color": "white"
             }
            },
            "header": {
             "fill": {
              "color": "#C8D4E3"
             },
             "line": {
              "color": "white"
             }
            },
            "type": "table"
           }
          ]
         },
         "layout": {
          "annotationdefaults": {
           "arrowcolor": "#2a3f5f",
           "arrowhead": 0,
           "arrowwidth": 1
          },
          "autotypenumbers": "strict",
          "coloraxis": {
           "colorbar": {
            "outlinewidth": 0,
            "ticks": ""
           }
          },
          "colorscale": {
           "diverging": [
            [
             0,
             "#8e0152"
            ],
            [
             0.1,
             "#c51b7d"
            ],
            [
             0.2,
             "#de77ae"
            ],
            [
             0.3,
             "#f1b6da"
            ],
            [
             0.4,
             "#fde0ef"
            ],
            [
             0.5,
             "#f7f7f7"
            ],
            [
             0.6,
             "#e6f5d0"
            ],
            [
             0.7,
             "#b8e186"
            ],
            [
             0.8,
             "#7fbc41"
            ],
            [
             0.9,
             "#4d9221"
            ],
            [
             1,
             "#276419"
            ]
           ],
           "sequential": [
            [
             0,
             "#0d0887"
            ],
            [
             0.1111111111111111,
             "#46039f"
            ],
            [
             0.2222222222222222,
             "#7201a8"
            ],
            [
             0.3333333333333333,
             "#9c179e"
            ],
            [
             0.4444444444444444,
             "#bd3786"
            ],
            [
             0.5555555555555556,
             "#d8576b"
            ],
            [
             0.6666666666666666,
             "#ed7953"
            ],
            [
             0.7777777777777778,
             "#fb9f3a"
            ],
            [
             0.8888888888888888,
             "#fdca26"
            ],
            [
             1,
             "#f0f921"
            ]
           ],
           "sequentialminus": [
            [
             0,
             "#0d0887"
            ],
            [
             0.1111111111111111,
             "#46039f"
            ],
            [
             0.2222222222222222,
             "#7201a8"
            ],
            [
             0.3333333333333333,
             "#9c179e"
            ],
            [
             0.4444444444444444,
             "#bd3786"
            ],
            [
             0.5555555555555556,
             "#d8576b"
            ],
            [
             0.6666666666666666,
             "#ed7953"
            ],
            [
             0.7777777777777778,
             "#fb9f3a"
            ],
            [
             0.8888888888888888,
             "#fdca26"
            ],
            [
             1,
             "#f0f921"
            ]
           ]
          },
          "colorway": [
           "#636efa",
           "#EF553B",
           "#00cc96",
           "#ab63fa",
           "#FFA15A",
           "#19d3f3",
           "#FF6692",
           "#B6E880",
           "#FF97FF",
           "#FECB52"
          ],
          "font": {
           "color": "#2a3f5f"
          },
          "geo": {
           "bgcolor": "white",
           "lakecolor": "white",
           "landcolor": "#E5ECF6",
           "showlakes": true,
           "showland": true,
           "subunitcolor": "white"
          },
          "hoverlabel": {
           "align": "left"
          },
          "hovermode": "closest",
          "mapbox": {
           "style": "light"
          },
          "paper_bgcolor": "white",
          "plot_bgcolor": "#E5ECF6",
          "polar": {
           "angularaxis": {
            "gridcolor": "white",
            "linecolor": "white",
            "ticks": ""
           },
           "bgcolor": "#E5ECF6",
           "radialaxis": {
            "gridcolor": "white",
            "linecolor": "white",
            "ticks": ""
           }
          },
          "scene": {
           "xaxis": {
            "backgroundcolor": "#E5ECF6",
            "gridcolor": "white",
            "gridwidth": 2,
            "linecolor": "white",
            "showbackground": true,
            "ticks": "",
            "zerolinecolor": "white"
           },
           "yaxis": {
            "backgroundcolor": "#E5ECF6",
            "gridcolor": "white",
            "gridwidth": 2,
            "linecolor": "white",
            "showbackground": true,
            "ticks": "",
            "zerolinecolor": "white"
           },
           "zaxis": {
            "backgroundcolor": "#E5ECF6",
            "gridcolor": "white",
            "gridwidth": 2,
            "linecolor": "white",
            "showbackground": true,
            "ticks": "",
            "zerolinecolor": "white"
           }
          },
          "shapedefaults": {
           "line": {
            "color": "#2a3f5f"
           }
          },
          "ternary": {
           "aaxis": {
            "gridcolor": "white",
            "linecolor": "white",
            "ticks": ""
           },
           "baxis": {
            "gridcolor": "white",
            "linecolor": "white",
            "ticks": ""
           },
           "bgcolor": "#E5ECF6",
           "caxis": {
            "gridcolor": "white",
            "linecolor": "white",
            "ticks": ""
           }
          },
          "title": {
           "x": 0.05
          },
          "xaxis": {
           "automargin": true,
           "gridcolor": "white",
           "linecolor": "white",
           "ticks": "",
           "title": {
            "standoff": 15
           },
           "zerolinecolor": "white",
           "zerolinewidth": 2
          },
          "yaxis": {
           "automargin": true,
           "gridcolor": "white",
           "linecolor": "white",
           "ticks": "",
           "title": {
            "standoff": 15
           },
           "zerolinecolor": "white",
           "zerolinewidth": 2
          }
         }
        },
        "xaxis": {
         "anchor": "y",
         "domain": [
          0,
          1
         ],
         "type": "date"
        },
        "yaxis": {
         "anchor": "x",
         "autorange": "reversed",
         "domain": [
          0,
          1
         ],
         "title": {
          "text": "METER_EVENT_TYPE"
         }
        }
       }
      }
     },
     "metadata": {},
     "output_type": "display_data"
    }
   ],
   "source": [
    "fig = px.timeline(one_date, x_start=\"SESSION_START_DT\", x_end=\"SESSION_END_DT\", y=\"METER_EVENT_TYPE\")\n",
    "fig.update_yaxes(autorange=\"reversed\") # otherwise tasks are listed from the bottom up\n",
    "fig.show()"
   ]
  },
  {
   "attachments": {},
   "cell_type": "markdown",
   "metadata": {},
   "source": [
    "## Load Citation Data"
   ]
  },
  {
   "cell_type": "code",
   "execution_count": 56,
   "metadata": {},
   "outputs": [
    {
     "data": {
      "text/html": [
       "<div>\n",
       "<style scoped>\n",
       "    .dataframe tbody tr th:only-of-type {\n",
       "        vertical-align: middle;\n",
       "    }\n",
       "\n",
       "    .dataframe tbody tr th {\n",
       "        vertical-align: top;\n",
       "    }\n",
       "\n",
       "    .dataframe thead th {\n",
       "        text-align: right;\n",
       "    }\n",
       "</style>\n",
       "<table border=\"1\" class=\"dataframe\">\n",
       "  <thead>\n",
       "    <tr style=\"text-align: right;\">\n",
       "      <th></th>\n",
       "      <th>Citation Number</th>\n",
       "      <th>Citation Issued DateTime</th>\n",
       "      <th>Violation</th>\n",
       "      <th>Violation Description</th>\n",
       "      <th>Citation Location</th>\n",
       "      <th>Vehicle Plate State</th>\n",
       "      <th>Vehicle Plate</th>\n",
       "      <th>Fine Amount</th>\n",
       "      <th>Date Added</th>\n",
       "      <th>geom</th>\n",
       "    </tr>\n",
       "  </thead>\n",
       "  <tbody>\n",
       "    <tr>\n",
       "      <th>0</th>\n",
       "      <td>950226616</td>\n",
       "      <td>04/20/2022 12:10:00 PM</td>\n",
       "      <td>TRC7.2.22</td>\n",
       "      <td>STR CLEAN</td>\n",
       "      <td>1318 FILBERT ST</td>\n",
       "      <td>CA</td>\n",
       "      <td>V507699</td>\n",
       "      <td>84.0</td>\n",
       "      <td>05/01/2022 12:00:00 AM</td>\n",
       "      <td>POINT (-122.42119800399996 37.800016984000024)</td>\n",
       "    </tr>\n",
       "    <tr>\n",
       "      <th>1</th>\n",
       "      <td>952126114</td>\n",
       "      <td>06/17/2022 04:12:00 PM</td>\n",
       "      <td>TRC7.2.20</td>\n",
       "      <td>RES/OT</td>\n",
       "      <td>1318 FILBERT ST</td>\n",
       "      <td>CA</td>\n",
       "      <td>BV44D97</td>\n",
       "      <td>96.0</td>\n",
       "      <td>07/17/2022 12:00:00 AM</td>\n",
       "      <td>POINT (-122.42119800399996 37.800016984000024)</td>\n",
       "    </tr>\n",
       "    <tr>\n",
       "      <th>2</th>\n",
       "      <td>950441903</td>\n",
       "      <td>04/23/2022 03:13:00 PM</td>\n",
       "      <td>V5200</td>\n",
       "      <td>NO PLATES</td>\n",
       "      <td>1318 FILBERT ST</td>\n",
       "      <td>CA</td>\n",
       "      <td>V507699</td>\n",
       "      <td>121.0</td>\n",
       "      <td>05/18/2022 12:00:00 AM</td>\n",
       "      <td>POINT (-122.42119800399996 37.800016984000024)</td>\n",
       "    </tr>\n",
       "    <tr>\n",
       "      <th>3</th>\n",
       "      <td>948460144</td>\n",
       "      <td>02/22/2022 11:54:00 AM</td>\n",
       "      <td>TRC7.2.20</td>\n",
       "      <td>RES/OT</td>\n",
       "      <td>1318 FILBERT ST</td>\n",
       "      <td>TX</td>\n",
       "      <td>HVT6737</td>\n",
       "      <td>96.0</td>\n",
       "      <td>05/23/2022 12:00:00 AM</td>\n",
       "      <td>POINT (-122.42119800399996 37.800016984000024)</td>\n",
       "    </tr>\n",
       "    <tr>\n",
       "      <th>4</th>\n",
       "      <td>948169644</td>\n",
       "      <td>02/17/2022 01:39:00 PM</td>\n",
       "      <td>TRC7.2.20</td>\n",
       "      <td>RES/OT</td>\n",
       "      <td>1318 FILBERT ST</td>\n",
       "      <td>OH</td>\n",
       "      <td>HQA6554</td>\n",
       "      <td>96.0</td>\n",
       "      <td>04/03/2022 12:00:00 AM</td>\n",
       "      <td>POINT (-122.42119800399996 37.800016984000024)</td>\n",
       "    </tr>\n",
       "  </tbody>\n",
       "</table>\n",
       "</div>"
      ],
      "text/plain": [
       "  Citation Number Citation Issued DateTime  Violation Violation Description  \\\n",
       "0       950226616   04/20/2022 12:10:00 PM  TRC7.2.22             STR CLEAN   \n",
       "1       952126114   06/17/2022 04:12:00 PM  TRC7.2.20                RES/OT   \n",
       "2       950441903   04/23/2022 03:13:00 PM      V5200             NO PLATES   \n",
       "3       948460144   02/22/2022 11:54:00 AM  TRC7.2.20                RES/OT   \n",
       "4       948169644   02/17/2022 01:39:00 PM  TRC7.2.20                RES/OT   \n",
       "\n",
       "  Citation Location Vehicle Plate State Vehicle Plate  Fine Amount  \\\n",
       "0   1318 FILBERT ST                  CA       V507699         84.0   \n",
       "1   1318 FILBERT ST                  CA       BV44D97         96.0   \n",
       "2   1318 FILBERT ST                  CA       V507699        121.0   \n",
       "3   1318 FILBERT ST                  TX       HVT6737         96.0   \n",
       "4   1318 FILBERT ST                  OH       HQA6554         96.0   \n",
       "\n",
       "               Date Added                                            geom  \n",
       "0  05/01/2022 12:00:00 AM  POINT (-122.42119800399996 37.800016984000024)  \n",
       "1  07/17/2022 12:00:00 AM  POINT (-122.42119800399996 37.800016984000024)  \n",
       "2  05/18/2022 12:00:00 AM  POINT (-122.42119800399996 37.800016984000024)  \n",
       "3  05/23/2022 12:00:00 AM  POINT (-122.42119800399996 37.800016984000024)  \n",
       "4  04/03/2022 12:00:00 AM  POINT (-122.42119800399996 37.800016984000024)  "
      ]
     },
     "execution_count": 56,
     "metadata": {},
     "output_type": "execute_result"
    }
   ],
   "source": [
    "citation_df = pd.read_csv(\"../data/data_2022_with_geom.csv\")\n",
    "citation_df.head()"
   ]
  },
  {
   "cell_type": "code",
   "execution_count": 57,
   "metadata": {},
   "outputs": [],
   "source": [
    "citation_df['geom'] = citation_df.geom.apply(wkt.loads)\n",
    "citation_df = gpd.GeoDataFrame(citation_df, geometry='geom')\n",
    "citation_df.crs = 'EPSG:4326'"
   ]
  },
  {
   "cell_type": "code",
   "execution_count": 62,
   "metadata": {},
   "outputs": [],
   "source": [
    "# temporary filter\n",
    "\n",
    "citation_df = citation_df[~citation_df['Citation Location'].isnull()]"
   ]
  },
  {
   "cell_type": "code",
   "execution_count": 58,
   "metadata": {},
   "outputs": [],
   "source": [
    "citation_df['Citation Issued DateTime'] = pd.to_datetime(citation_df['Citation Issued DateTime'])"
   ]
  },
  {
   "cell_type": "code",
   "execution_count": 64,
   "metadata": {},
   "outputs": [
    {
     "data": {
      "text/html": [
       "<div>\n",
       "<style scoped>\n",
       "    .dataframe tbody tr th:only-of-type {\n",
       "        vertical-align: middle;\n",
       "    }\n",
       "\n",
       "    .dataframe tbody tr th {\n",
       "        vertical-align: top;\n",
       "    }\n",
       "\n",
       "    .dataframe thead th {\n",
       "        text-align: right;\n",
       "    }\n",
       "</style>\n",
       "<table border=\"1\" class=\"dataframe\">\n",
       "  <thead>\n",
       "    <tr style=\"text-align: right;\">\n",
       "      <th></th>\n",
       "      <th>Citation Number</th>\n",
       "      <th>Citation Issued DateTime</th>\n",
       "      <th>Violation</th>\n",
       "      <th>Violation Description</th>\n",
       "      <th>Citation Location</th>\n",
       "      <th>Vehicle Plate State</th>\n",
       "      <th>Vehicle Plate</th>\n",
       "      <th>Fine Amount</th>\n",
       "      <th>Date Added</th>\n",
       "      <th>geom</th>\n",
       "    </tr>\n",
       "  </thead>\n",
       "  <tbody>\n",
       "    <tr>\n",
       "      <th>73897</th>\n",
       "      <td>950433035</td>\n",
       "      <td>2022-04-25 12:25:00</td>\n",
       "      <td>TRC7.2.22</td>\n",
       "      <td>STR CLEAN</td>\n",
       "      <td>1500 CLEMENT ST</td>\n",
       "      <td>OR</td>\n",
       "      <td>917GMD</td>\n",
       "      <td>84.0</td>\n",
       "      <td>05/15/2022 12:00:00 AM</td>\n",
       "      <td>POINT (-122.47558 37.78263)</td>\n",
       "    </tr>\n",
       "    <tr>\n",
       "      <th>73898</th>\n",
       "      <td>948417245</td>\n",
       "      <td>2022-02-28 12:28:00</td>\n",
       "      <td>TRC7.2.22</td>\n",
       "      <td>STR CLEAN</td>\n",
       "      <td>1500 CLEMENT ST</td>\n",
       "      <td>CA</td>\n",
       "      <td>8XZA904</td>\n",
       "      <td>84.0</td>\n",
       "      <td>03/21/2022 12:00:00 AM</td>\n",
       "      <td>POINT (-122.47558 37.78263)</td>\n",
       "    </tr>\n",
       "    <tr>\n",
       "      <th>73899</th>\n",
       "      <td>951063654</td>\n",
       "      <td>2022-05-09 12:35:00</td>\n",
       "      <td>TRC7.2.22</td>\n",
       "      <td>STR CLEAN</td>\n",
       "      <td>1500 CLEMENT ST</td>\n",
       "      <td>CA</td>\n",
       "      <td>6YHL038</td>\n",
       "      <td>84.0</td>\n",
       "      <td>05/16/2022 12:00:00 AM</td>\n",
       "      <td>POINT (-122.47558 37.78263)</td>\n",
       "    </tr>\n",
       "    <tr>\n",
       "      <th>73900</th>\n",
       "      <td>951069383</td>\n",
       "      <td>2022-05-09 12:36:00</td>\n",
       "      <td>TRC7.2.22</td>\n",
       "      <td>STR CLEAN</td>\n",
       "      <td>1500 CLEMENT ST</td>\n",
       "      <td>CA</td>\n",
       "      <td>5HZE558</td>\n",
       "      <td>84.0</td>\n",
       "      <td>07/20/2022 12:00:00 AM</td>\n",
       "      <td>POINT (-122.47558 37.78263)</td>\n",
       "    </tr>\n",
       "    <tr>\n",
       "      <th>73901</th>\n",
       "      <td>951069372</td>\n",
       "      <td>2022-05-09 12:34:00</td>\n",
       "      <td>TRC7.2.22</td>\n",
       "      <td>STR CLEAN</td>\n",
       "      <td>1500 CLEMENT ST</td>\n",
       "      <td>CA</td>\n",
       "      <td>8PTC818</td>\n",
       "      <td>84.0</td>\n",
       "      <td>05/23/2022 12:00:00 AM</td>\n",
       "      <td>POINT (-122.47558 37.78263)</td>\n",
       "    </tr>\n",
       "    <tr>\n",
       "      <th>73902</th>\n",
       "      <td>953417776</td>\n",
       "      <td>2022-07-25 12:30:00</td>\n",
       "      <td>TRC7.2.22</td>\n",
       "      <td>STR CLEAN</td>\n",
       "      <td>1500 CLEMENT ST</td>\n",
       "      <td>CA</td>\n",
       "      <td>6WZG298</td>\n",
       "      <td>87.0</td>\n",
       "      <td>08/15/2022 12:00:00 AM</td>\n",
       "      <td>POINT (-122.47558 37.78263)</td>\n",
       "    </tr>\n",
       "    <tr>\n",
       "      <th>73903</th>\n",
       "      <td>953306830</td>\n",
       "      <td>2022-07-25 12:30:00</td>\n",
       "      <td>TRC7.2.22</td>\n",
       "      <td>STR CLEAN</td>\n",
       "      <td>1500 CLEMENT ST</td>\n",
       "      <td>CA</td>\n",
       "      <td>9BPK390</td>\n",
       "      <td>87.0</td>\n",
       "      <td>08/25/2022 12:00:00 AM</td>\n",
       "      <td>POINT (-122.47558 37.78263)</td>\n",
       "    </tr>\n",
       "    <tr>\n",
       "      <th>73904</th>\n",
       "      <td>948369026</td>\n",
       "      <td>2022-02-28 12:28:00</td>\n",
       "      <td>TRC7.2.22</td>\n",
       "      <td>STR CLEAN</td>\n",
       "      <td>1500 CLEMENT ST</td>\n",
       "      <td>CA</td>\n",
       "      <td>8YCZ953</td>\n",
       "      <td>84.0</td>\n",
       "      <td>10/24/2022 12:00:00 AM</td>\n",
       "      <td>POINT (-122.47558 37.78263)</td>\n",
       "    </tr>\n",
       "    <tr>\n",
       "      <th>73905</th>\n",
       "      <td>947139804</td>\n",
       "      <td>2022-01-10 12:27:00</td>\n",
       "      <td>TRC7.2.22</td>\n",
       "      <td>STR CLEAN</td>\n",
       "      <td>1500 CLEMENT ST</td>\n",
       "      <td>CA</td>\n",
       "      <td>5WRX038</td>\n",
       "      <td>84.0</td>\n",
       "      <td>01/30/2022 12:00:00 AM</td>\n",
       "      <td>POINT (-122.47558 37.78263)</td>\n",
       "    </tr>\n",
       "    <tr>\n",
       "      <th>73906</th>\n",
       "      <td>953306826</td>\n",
       "      <td>2022-07-25 12:30:00</td>\n",
       "      <td>TRC7.2.22</td>\n",
       "      <td>STR CLEAN</td>\n",
       "      <td>1500 CLEMENT ST</td>\n",
       "      <td>CA</td>\n",
       "      <td>45425R1</td>\n",
       "      <td>87.0</td>\n",
       "      <td>08/09/2022 12:00:00 AM</td>\n",
       "      <td>POINT (-122.47558 37.78263)</td>\n",
       "    </tr>\n",
       "    <tr>\n",
       "      <th>73907</th>\n",
       "      <td>953417780</td>\n",
       "      <td>2022-07-25 12:31:00</td>\n",
       "      <td>TRC7.2.22</td>\n",
       "      <td>STR CLEAN</td>\n",
       "      <td>1500 CLEMENT ST</td>\n",
       "      <td>CA</td>\n",
       "      <td>8AYY483</td>\n",
       "      <td>87.0</td>\n",
       "      <td>08/11/2022 12:00:00 AM</td>\n",
       "      <td>POINT (-122.47558 37.78263)</td>\n",
       "    </tr>\n",
       "    <tr>\n",
       "      <th>73908</th>\n",
       "      <td>948953154</td>\n",
       "      <td>2022-03-14 12:28:00</td>\n",
       "      <td>TRC7.2.22</td>\n",
       "      <td>STR CLEAN</td>\n",
       "      <td>1500 CLEMENT ST</td>\n",
       "      <td>CA</td>\n",
       "      <td>8LJU481</td>\n",
       "      <td>84.0</td>\n",
       "      <td>08/07/2022 12:00:00 AM</td>\n",
       "      <td>POINT (-122.47558 37.78263)</td>\n",
       "    </tr>\n",
       "    <tr>\n",
       "      <th>73909</th>\n",
       "      <td>953914695</td>\n",
       "      <td>2022-08-08 12:45:00</td>\n",
       "      <td>TRC7.2.22</td>\n",
       "      <td>STR CLEAN</td>\n",
       "      <td>1500 CLEMENT ST</td>\n",
       "      <td>CA</td>\n",
       "      <td>8E95495</td>\n",
       "      <td>87.0</td>\n",
       "      <td>08/21/2022 12:00:00 AM</td>\n",
       "      <td>POINT (-122.47558 37.78263)</td>\n",
       "    </tr>\n",
       "    <tr>\n",
       "      <th>73910</th>\n",
       "      <td>951724701</td>\n",
       "      <td>2022-06-13 12:27:00</td>\n",
       "      <td>TRC7.2.22</td>\n",
       "      <td>STR CLEAN</td>\n",
       "      <td>1500 CLEMENT ST</td>\n",
       "      <td>CA</td>\n",
       "      <td>9AJK070</td>\n",
       "      <td>84.0</td>\n",
       "      <td>06/20/2022 12:00:00 AM</td>\n",
       "      <td>POINT (-122.47558 37.78263)</td>\n",
       "    </tr>\n",
       "    <tr>\n",
       "      <th>73911</th>\n",
       "      <td>957348265</td>\n",
       "      <td>2022-11-28 12:29:00</td>\n",
       "      <td>TRC7.2.22</td>\n",
       "      <td>STR CLEAN</td>\n",
       "      <td>1500 CLEMENT ST</td>\n",
       "      <td>CA</td>\n",
       "      <td>9ALD045</td>\n",
       "      <td>87.0</td>\n",
       "      <td>01/30/2023 12:00:00 AM</td>\n",
       "      <td>POINT (-122.47558 37.78263)</td>\n",
       "    </tr>\n",
       "    <tr>\n",
       "      <th>73912</th>\n",
       "      <td>957479331</td>\n",
       "      <td>2022-11-28 12:30:00</td>\n",
       "      <td>TRC7.2.22</td>\n",
       "      <td>STR CLEAN</td>\n",
       "      <td>1500 CLEMENT ST</td>\n",
       "      <td>CA</td>\n",
       "      <td>8RQM947</td>\n",
       "      <td>87.0</td>\n",
       "      <td>12/06/2022 12:00:00 AM</td>\n",
       "      <td>POINT (-122.47558 37.78263)</td>\n",
       "    </tr>\n",
       "    <tr>\n",
       "      <th>73913</th>\n",
       "      <td>955074256</td>\n",
       "      <td>2022-09-12 12:37:00</td>\n",
       "      <td>TRC7.2.22</td>\n",
       "      <td>STR CLEAN</td>\n",
       "      <td>1500 CLEMENT ST</td>\n",
       "      <td>CA</td>\n",
       "      <td>9BPK390</td>\n",
       "      <td>87.0</td>\n",
       "      <td>09/21/2022 12:00:00 AM</td>\n",
       "      <td>POINT (-122.47558 37.78263)</td>\n",
       "    </tr>\n",
       "    <tr>\n",
       "      <th>73914</th>\n",
       "      <td>952483766</td>\n",
       "      <td>2022-06-27 12:39:00</td>\n",
       "      <td>TRC7.2.22</td>\n",
       "      <td>STR CLEAN</td>\n",
       "      <td>1500 CLEMENT ST</td>\n",
       "      <td>CA</td>\n",
       "      <td>9BLZ382</td>\n",
       "      <td>84.0</td>\n",
       "      <td>10/08/2022 12:00:00 AM</td>\n",
       "      <td>POINT (-122.47558 37.78263)</td>\n",
       "    </tr>\n",
       "    <tr>\n",
       "      <th>73915</th>\n",
       "      <td>955074245</td>\n",
       "      <td>2022-09-12 12:36:00</td>\n",
       "      <td>TRC7.2.22</td>\n",
       "      <td>STR CLEAN</td>\n",
       "      <td>1500 CLEMENT ST</td>\n",
       "      <td>IL</td>\n",
       "      <td>CN95530</td>\n",
       "      <td>87.0</td>\n",
       "      <td>11/10/2022 12:00:00 AM</td>\n",
       "      <td>POINT (-122.47558 37.78263)</td>\n",
       "    </tr>\n",
       "    <tr>\n",
       "      <th>73916</th>\n",
       "      <td>952580716</td>\n",
       "      <td>2022-07-11 12:32:00</td>\n",
       "      <td>TRC7.2.22</td>\n",
       "      <td>STR CLEAN</td>\n",
       "      <td>1500 CLEMENT ST</td>\n",
       "      <td>CA</td>\n",
       "      <td>8BTC079</td>\n",
       "      <td>87.0</td>\n",
       "      <td>01/31/2023 12:00:00 AM</td>\n",
       "      <td>POINT (-122.47558 37.78263)</td>\n",
       "    </tr>\n",
       "    <tr>\n",
       "      <th>73917</th>\n",
       "      <td>956855745</td>\n",
       "      <td>2022-11-07 06:49:00</td>\n",
       "      <td>TRC7.2.25</td>\n",
       "      <td>RED ZONE</td>\n",
       "      <td>1500 CLEMENT ST</td>\n",
       "      <td>CA</td>\n",
       "      <td>9AHF407</td>\n",
       "      <td>108.0</td>\n",
       "      <td>11/15/2022 12:00:00 AM</td>\n",
       "      <td>POINT (-122.47558 37.78263)</td>\n",
       "    </tr>\n",
       "    <tr>\n",
       "      <th>129551</th>\n",
       "      <td>950482481</td>\n",
       "      <td>2022-04-25 12:24:00</td>\n",
       "      <td>TRC7.2.22</td>\n",
       "      <td>STR CLEAN</td>\n",
       "      <td>1500 CLEMENT STREET</td>\n",
       "      <td>CA</td>\n",
       "      <td>6WCE662</td>\n",
       "      <td>84.0</td>\n",
       "      <td>05/02/2022 12:00:00 AM</td>\n",
       "      <td>POINT (-122.47558 37.78263)</td>\n",
       "    </tr>\n",
       "    <tr>\n",
       "      <th>129552</th>\n",
       "      <td>950482470</td>\n",
       "      <td>2022-04-25 12:23:00</td>\n",
       "      <td>TRC7.2.22</td>\n",
       "      <td>STR CLEAN</td>\n",
       "      <td>1500 CLEMENT STREET</td>\n",
       "      <td>CA</td>\n",
       "      <td>HYPHY3</td>\n",
       "      <td>84.0</td>\n",
       "      <td>06/21/2022 12:00:00 AM</td>\n",
       "      <td>POINT (-122.47558 37.78263)</td>\n",
       "    </tr>\n",
       "    <tr>\n",
       "      <th>129553</th>\n",
       "      <td>957521040</td>\n",
       "      <td>2022-11-28 12:27:00</td>\n",
       "      <td>TRC7.2.22</td>\n",
       "      <td>STR CLEAN</td>\n",
       "      <td>1500 CLEMENT STREET</td>\n",
       "      <td>CA</td>\n",
       "      <td>8YZW977</td>\n",
       "      <td>87.0</td>\n",
       "      <td>01/15/2023 12:00:00 AM</td>\n",
       "      <td>POINT (-122.47558 37.78263)</td>\n",
       "    </tr>\n",
       "    <tr>\n",
       "      <th>352326</th>\n",
       "      <td>950023826</td>\n",
       "      <td>2022-04-11 07:29:00</td>\n",
       "      <td>TRC7.2.22</td>\n",
       "      <td>STR CLEAN</td>\n",
       "      <td>2500 CLEMENT ST</td>\n",
       "      <td>CA</td>\n",
       "      <td>3DEF532</td>\n",
       "      <td>84.0</td>\n",
       "      <td>07/03/2022 12:00:00 AM</td>\n",
       "      <td>POINT (-122.48615 37.78215)</td>\n",
       "    </tr>\n",
       "    <tr>\n",
       "      <th>352327</th>\n",
       "      <td>952706090</td>\n",
       "      <td>2022-07-06 07:37:00</td>\n",
       "      <td>TRC7.2.22</td>\n",
       "      <td>STR CLEAN</td>\n",
       "      <td>2500 CLEMENT ST</td>\n",
       "      <td>CA</td>\n",
       "      <td>8YHR544</td>\n",
       "      <td>87.0</td>\n",
       "      <td>07/23/2022 12:00:00 AM</td>\n",
       "      <td>POINT (-122.48615 37.78215)</td>\n",
       "    </tr>\n",
       "    <tr>\n",
       "      <th>352328</th>\n",
       "      <td>950936976</td>\n",
       "      <td>2022-05-09 07:39:00</td>\n",
       "      <td>TRC7.2.22</td>\n",
       "      <td>STR CLEAN</td>\n",
       "      <td>2500 CLEMENT ST</td>\n",
       "      <td>CA</td>\n",
       "      <td>ESSLAR</td>\n",
       "      <td>84.0</td>\n",
       "      <td>08/28/2022 12:00:00 AM</td>\n",
       "      <td>POINT (-122.48615 37.78215)</td>\n",
       "    </tr>\n",
       "    <tr>\n",
       "      <th>352329</th>\n",
       "      <td>953824992</td>\n",
       "      <td>2022-08-15 07:32:00</td>\n",
       "      <td>TRC7.2.22</td>\n",
       "      <td>STR CLEAN</td>\n",
       "      <td>2500 CLEMENT ST</td>\n",
       "      <td>CA</td>\n",
       "      <td>8GRM758</td>\n",
       "      <td>87.0</td>\n",
       "      <td>08/25/2022 12:00:00 AM</td>\n",
       "      <td>POINT (-122.48615 37.78215)</td>\n",
       "    </tr>\n",
       "    <tr>\n",
       "      <th>352330</th>\n",
       "      <td>953915653</td>\n",
       "      <td>2022-08-10 07:36:00</td>\n",
       "      <td>TRC7.2.22</td>\n",
       "      <td>STR CLEAN</td>\n",
       "      <td>2500 CLEMENT ST</td>\n",
       "      <td>CA</td>\n",
       "      <td>7AKF182</td>\n",
       "      <td>87.0</td>\n",
       "      <td>10/25/2022 12:00:00 AM</td>\n",
       "      <td>POINT (-122.48615 37.78215)</td>\n",
       "    </tr>\n",
       "    <tr>\n",
       "      <th>352331</th>\n",
       "      <td>952170251</td>\n",
       "      <td>2022-07-01 13:27:00</td>\n",
       "      <td>V22500L</td>\n",
       "      <td>WHLCHR ACC</td>\n",
       "      <td>2500 CLEMENT ST</td>\n",
       "      <td>CA</td>\n",
       "      <td>8TMF795</td>\n",
       "      <td>416.0</td>\n",
       "      <td>01/22/2023 12:00:00 AM</td>\n",
       "      <td>POINT (-122.48615 37.78215)</td>\n",
       "    </tr>\n",
       "    <tr>\n",
       "      <th>352332</th>\n",
       "      <td>957378015</td>\n",
       "      <td>2022-11-21 07:32:00</td>\n",
       "      <td>TRC7.2.22</td>\n",
       "      <td>STR CLEAN</td>\n",
       "      <td>2500 CLEMENT ST</td>\n",
       "      <td>CA</td>\n",
       "      <td>8XMK927</td>\n",
       "      <td>87.0</td>\n",
       "      <td>01/17/2023 12:00:00 AM</td>\n",
       "      <td>POINT (-122.48615 37.78215)</td>\n",
       "    </tr>\n",
       "    <tr>\n",
       "      <th>352333</th>\n",
       "      <td>958816246</td>\n",
       "      <td>2023-01-18 07:28:00</td>\n",
       "      <td>TRC7.2.22</td>\n",
       "      <td>STR CLEAN</td>\n",
       "      <td>2500 CLEMENT ST</td>\n",
       "      <td>TX</td>\n",
       "      <td>PLR2732</td>\n",
       "      <td>87.0</td>\n",
       "      <td>01/24/2023 12:00:00 AM</td>\n",
       "      <td>POINT (-122.48615 37.78215)</td>\n",
       "    </tr>\n",
       "    <tr>\n",
       "      <th>352334</th>\n",
       "      <td>948339560</td>\n",
       "      <td>2022-02-18 09:38:00</td>\n",
       "      <td>V5204A</td>\n",
       "      <td>REG TABS</td>\n",
       "      <td>2500 CLEMENT ST</td>\n",
       "      <td>CA</td>\n",
       "      <td>8TMF795</td>\n",
       "      <td>121.0</td>\n",
       "      <td>01/22/2023 12:00:00 AM</td>\n",
       "      <td>POINT (-122.48615 37.78215)</td>\n",
       "    </tr>\n",
       "    <tr>\n",
       "      <th>352335</th>\n",
       "      <td>956351480</td>\n",
       "      <td>2022-10-19 07:30:00</td>\n",
       "      <td>TRC7.2.22</td>\n",
       "      <td>STR CLEAN</td>\n",
       "      <td>2500 CLEMENT ST</td>\n",
       "      <td>CA</td>\n",
       "      <td>6PVA360</td>\n",
       "      <td>87.0</td>\n",
       "      <td>11/29/2022 12:00:00 AM</td>\n",
       "      <td>POINT (-122.48615 37.78215)</td>\n",
       "    </tr>\n",
       "    <tr>\n",
       "      <th>591639</th>\n",
       "      <td>952590170</td>\n",
       "      <td>2022-06-29 07:34:00</td>\n",
       "      <td>TRC7.2.22</td>\n",
       "      <td>STR CLEAN</td>\n",
       "      <td>2500 CLEMENT STREET</td>\n",
       "      <td>CA</td>\n",
       "      <td>7WCT462</td>\n",
       "      <td>84.0</td>\n",
       "      <td>07/29/2022 12:00:00 AM</td>\n",
       "      <td>POINT (-122.48615 37.78215)</td>\n",
       "    </tr>\n",
       "    <tr>\n",
       "      <th>591640</th>\n",
       "      <td>958032585</td>\n",
       "      <td>2022-12-12 07:33:00</td>\n",
       "      <td>TRC7.2.22</td>\n",
       "      <td>STR CLEAN</td>\n",
       "      <td>2500 CLEMENT STREET</td>\n",
       "      <td>CA</td>\n",
       "      <td>89975F2</td>\n",
       "      <td>87.0</td>\n",
       "      <td>01/31/2023 12:00:00 AM</td>\n",
       "      <td>POINT (-122.48615 37.78215)</td>\n",
       "    </tr>\n",
       "    <tr>\n",
       "      <th>677129</th>\n",
       "      <td>948880914</td>\n",
       "      <td>2022-03-08 10:05:00</td>\n",
       "      <td>TRC7.2.22</td>\n",
       "      <td>STR CLEAN</td>\n",
       "      <td>3500 CLEMENT ST</td>\n",
       "      <td>CA</td>\n",
       "      <td>8PZX207</td>\n",
       "      <td>84.0</td>\n",
       "      <td>03/17/2022 12:00:00 AM</td>\n",
       "      <td>POINT (-122.49672 37.78154)</td>\n",
       "    </tr>\n",
       "    <tr>\n",
       "      <th>677130</th>\n",
       "      <td>949303121</td>\n",
       "      <td>2022-03-22 10:08:00</td>\n",
       "      <td>TRC7.2.22</td>\n",
       "      <td>STR CLEAN</td>\n",
       "      <td>3500 CLEMENT ST</td>\n",
       "      <td>CA</td>\n",
       "      <td>8JYM768</td>\n",
       "      <td>84.0</td>\n",
       "      <td>04/02/2022 12:00:00 AM</td>\n",
       "      <td>POINT (-122.49672 37.78154)</td>\n",
       "    </tr>\n",
       "    <tr>\n",
       "      <th>677131</th>\n",
       "      <td>948880903</td>\n",
       "      <td>2022-03-08 10:05:00</td>\n",
       "      <td>TRC7.2.22</td>\n",
       "      <td>STR CLEAN</td>\n",
       "      <td>3500 CLEMENT ST</td>\n",
       "      <td>CA</td>\n",
       "      <td>71408W1</td>\n",
       "      <td>84.0</td>\n",
       "      <td>06/25/2022 12:00:00 AM</td>\n",
       "      <td>POINT (-122.49672 37.78154)</td>\n",
       "    </tr>\n",
       "    <tr>\n",
       "      <th>677132</th>\n",
       "      <td>949970302</td>\n",
       "      <td>2022-04-12 10:10:00</td>\n",
       "      <td>TRC7.2.22</td>\n",
       "      <td>STR CLEAN</td>\n",
       "      <td>3500 CLEMENT ST</td>\n",
       "      <td>CA</td>\n",
       "      <td>7CBT855</td>\n",
       "      <td>84.0</td>\n",
       "      <td>04/19/2022 12:00:00 AM</td>\n",
       "      <td>POINT (-122.49672 37.78154)</td>\n",
       "    </tr>\n",
       "    <tr>\n",
       "      <th>677133</th>\n",
       "      <td>949970313</td>\n",
       "      <td>2022-04-12 10:11:00</td>\n",
       "      <td>TRC7.2.22</td>\n",
       "      <td>STR CLEAN</td>\n",
       "      <td>3500 CLEMENT ST</td>\n",
       "      <td>CA</td>\n",
       "      <td>8VAA002</td>\n",
       "      <td>84.0</td>\n",
       "      <td>05/23/2022 12:00:00 AM</td>\n",
       "      <td>POINT (-122.49672 37.78154)</td>\n",
       "    </tr>\n",
       "    <tr>\n",
       "      <th>677134</th>\n",
       "      <td>951311642</td>\n",
       "      <td>2022-05-22 13:36:00</td>\n",
       "      <td>V22500L</td>\n",
       "      <td>WHLCHR ACC</td>\n",
       "      <td>3500 CLEMENT ST</td>\n",
       "      <td>CA</td>\n",
       "      <td>8SKT841</td>\n",
       "      <td>416.0</td>\n",
       "      <td>02/01/2023 12:00:00 AM</td>\n",
       "      <td>POINT (-122.49672 37.78154)</td>\n",
       "    </tr>\n",
       "    <tr>\n",
       "      <th>677135</th>\n",
       "      <td>955738976</td>\n",
       "      <td>2022-10-05 16:59:00</td>\n",
       "      <td>V5204A</td>\n",
       "      <td>REG TABS</td>\n",
       "      <td>3500 CLEMENT ST</td>\n",
       "      <td>CA</td>\n",
       "      <td>5DVS025</td>\n",
       "      <td>121.0</td>\n",
       "      <td>01/02/2023 12:00:00 AM</td>\n",
       "      <td>POINT (-122.49672 37.78154)</td>\n",
       "    </tr>\n",
       "    <tr>\n",
       "      <th>677136</th>\n",
       "      <td>954309333</td>\n",
       "      <td>2022-08-23 10:09:00</td>\n",
       "      <td>TRC7.2.22</td>\n",
       "      <td>STR CLEAN</td>\n",
       "      <td>3500 CLEMENT ST</td>\n",
       "      <td>CA</td>\n",
       "      <td>8WQB652</td>\n",
       "      <td>87.0</td>\n",
       "      <td>10/08/2022 12:00:00 AM</td>\n",
       "      <td>POINT (-122.49672 37.78154)</td>\n",
       "    </tr>\n",
       "    <tr>\n",
       "      <th>677137</th>\n",
       "      <td>950594820</td>\n",
       "      <td>2022-04-26 10:11:00</td>\n",
       "      <td>TRC7.2.22</td>\n",
       "      <td>STR CLEAN</td>\n",
       "      <td>3500 CLEMENT ST</td>\n",
       "      <td>CA</td>\n",
       "      <td>7MFL422</td>\n",
       "      <td>84.0</td>\n",
       "      <td>01/28/2023 12:00:00 AM</td>\n",
       "      <td>POINT (-122.49672 37.78154)</td>\n",
       "    </tr>\n",
       "    <tr>\n",
       "      <th>677138</th>\n",
       "      <td>958065135</td>\n",
       "      <td>2022-12-13 10:11:00</td>\n",
       "      <td>TRC7.2.22</td>\n",
       "      <td>STR CLEAN</td>\n",
       "      <td>3500 CLEMENT ST</td>\n",
       "      <td>CA</td>\n",
       "      <td>8WXF431</td>\n",
       "      <td>87.0</td>\n",
       "      <td>01/31/2023 12:00:00 AM</td>\n",
       "      <td>POINT (-122.49672 37.78154)</td>\n",
       "    </tr>\n",
       "    <tr>\n",
       "      <th>677139</th>\n",
       "      <td>958065124</td>\n",
       "      <td>2022-12-13 10:10:00</td>\n",
       "      <td>TRC7.2.22</td>\n",
       "      <td>STR CLEAN</td>\n",
       "      <td>3500 CLEMENT ST</td>\n",
       "      <td>CA</td>\n",
       "      <td>9ATA413</td>\n",
       "      <td>87.0</td>\n",
       "      <td>01/01/2023 12:00:00 AM</td>\n",
       "      <td>POINT (-122.49672 37.78154)</td>\n",
       "    </tr>\n",
       "    <tr>\n",
       "      <th>677140</th>\n",
       "      <td>947957441</td>\n",
       "      <td>2022-02-17 11:42:00</td>\n",
       "      <td>V22500L</td>\n",
       "      <td>WHLCHR ACC</td>\n",
       "      <td>3500 CLEMENT ST</td>\n",
       "      <td>CA</td>\n",
       "      <td>7MGC969</td>\n",
       "      <td>416.0</td>\n",
       "      <td>01/02/2023 12:00:00 AM</td>\n",
       "      <td>POINT (-122.49672 37.78154)</td>\n",
       "    </tr>\n",
       "    <tr>\n",
       "      <th>677141</th>\n",
       "      <td>955738980</td>\n",
       "      <td>2022-10-05 17:00:00</td>\n",
       "      <td>V5204A</td>\n",
       "      <td>REG TABS</td>\n",
       "      <td>3500 CLEMENT ST</td>\n",
       "      <td>CA</td>\n",
       "      <td>7MFL422</td>\n",
       "      <td>121.0</td>\n",
       "      <td>10/13/2022 12:00:00 AM</td>\n",
       "      <td>POINT (-122.49672 37.78154)</td>\n",
       "    </tr>\n",
       "    <tr>\n",
       "      <th>677142</th>\n",
       "      <td>958304966</td>\n",
       "      <td>2022-12-27 10:08:00</td>\n",
       "      <td>TRC7.2.22</td>\n",
       "      <td>STR CLEAN</td>\n",
       "      <td>3500 CLEMENT ST</td>\n",
       "      <td>CA</td>\n",
       "      <td>5VKE684</td>\n",
       "      <td>87.0</td>\n",
       "      <td>01/31/2023 12:00:00 AM</td>\n",
       "      <td>POINT (-122.49672 37.78154)</td>\n",
       "    </tr>\n",
       "    <tr>\n",
       "      <th>677143</th>\n",
       "      <td>956987076</td>\n",
       "      <td>2022-11-08 10:05:00</td>\n",
       "      <td>TRC7.2.22</td>\n",
       "      <td>STR CLEAN</td>\n",
       "      <td>3500 CLEMENT ST</td>\n",
       "      <td>CA</td>\n",
       "      <td>8TZZ056</td>\n",
       "      <td>87.0</td>\n",
       "      <td>11/27/2022 12:00:00 AM</td>\n",
       "      <td>POINT (-122.49672 37.78154)</td>\n",
       "    </tr>\n",
       "    <tr>\n",
       "      <th>677144</th>\n",
       "      <td>957009804</td>\n",
       "      <td>2022-11-08 10:08:00</td>\n",
       "      <td>TRC7.2.22</td>\n",
       "      <td>STR CLEAN</td>\n",
       "      <td>3500 CLEMENT ST</td>\n",
       "      <td>CA</td>\n",
       "      <td>4MVP052</td>\n",
       "      <td>87.0</td>\n",
       "      <td>11/15/2022 12:00:00 AM</td>\n",
       "      <td>POINT (-122.49672 37.78154)</td>\n",
       "    </tr>\n",
       "    <tr>\n",
       "      <th>1016846</th>\n",
       "      <td>955644211</td>\n",
       "      <td>2022-09-30 07:32:00</td>\n",
       "      <td>TRC7.2.22</td>\n",
       "      <td>STR CLEAN</td>\n",
       "      <td>500 CLEMENT ST</td>\n",
       "      <td>CA</td>\n",
       "      <td>7ARF754</td>\n",
       "      <td>87.0</td>\n",
       "      <td>10/24/2022 12:00:00 AM</td>\n",
       "      <td>POINT (-122.46461 37.78320)</td>\n",
       "    </tr>\n",
       "  </tbody>\n",
       "</table>\n",
       "</div>"
      ],
      "text/plain": [
       "        Citation Number Citation Issued DateTime  Violation  \\\n",
       "73897         950433035      2022-04-25 12:25:00  TRC7.2.22   \n",
       "73898         948417245      2022-02-28 12:28:00  TRC7.2.22   \n",
       "73899         951063654      2022-05-09 12:35:00  TRC7.2.22   \n",
       "73900         951069383      2022-05-09 12:36:00  TRC7.2.22   \n",
       "73901         951069372      2022-05-09 12:34:00  TRC7.2.22   \n",
       "73902         953417776      2022-07-25 12:30:00  TRC7.2.22   \n",
       "73903         953306830      2022-07-25 12:30:00  TRC7.2.22   \n",
       "73904         948369026      2022-02-28 12:28:00  TRC7.2.22   \n",
       "73905         947139804      2022-01-10 12:27:00  TRC7.2.22   \n",
       "73906         953306826      2022-07-25 12:30:00  TRC7.2.22   \n",
       "73907         953417780      2022-07-25 12:31:00  TRC7.2.22   \n",
       "73908         948953154      2022-03-14 12:28:00  TRC7.2.22   \n",
       "73909         953914695      2022-08-08 12:45:00  TRC7.2.22   \n",
       "73910         951724701      2022-06-13 12:27:00  TRC7.2.22   \n",
       "73911         957348265      2022-11-28 12:29:00  TRC7.2.22   \n",
       "73912         957479331      2022-11-28 12:30:00  TRC7.2.22   \n",
       "73913         955074256      2022-09-12 12:37:00  TRC7.2.22   \n",
       "73914         952483766      2022-06-27 12:39:00  TRC7.2.22   \n",
       "73915         955074245      2022-09-12 12:36:00  TRC7.2.22   \n",
       "73916         952580716      2022-07-11 12:32:00  TRC7.2.22   \n",
       "73917         956855745      2022-11-07 06:49:00  TRC7.2.25   \n",
       "129551        950482481      2022-04-25 12:24:00  TRC7.2.22   \n",
       "129552        950482470      2022-04-25 12:23:00  TRC7.2.22   \n",
       "129553        957521040      2022-11-28 12:27:00  TRC7.2.22   \n",
       "352326        950023826      2022-04-11 07:29:00  TRC7.2.22   \n",
       "352327        952706090      2022-07-06 07:37:00  TRC7.2.22   \n",
       "352328        950936976      2022-05-09 07:39:00  TRC7.2.22   \n",
       "352329        953824992      2022-08-15 07:32:00  TRC7.2.22   \n",
       "352330        953915653      2022-08-10 07:36:00  TRC7.2.22   \n",
       "352331        952170251      2022-07-01 13:27:00    V22500L   \n",
       "352332        957378015      2022-11-21 07:32:00  TRC7.2.22   \n",
       "352333        958816246      2023-01-18 07:28:00  TRC7.2.22   \n",
       "352334        948339560      2022-02-18 09:38:00     V5204A   \n",
       "352335        956351480      2022-10-19 07:30:00  TRC7.2.22   \n",
       "591639        952590170      2022-06-29 07:34:00  TRC7.2.22   \n",
       "591640        958032585      2022-12-12 07:33:00  TRC7.2.22   \n",
       "677129        948880914      2022-03-08 10:05:00  TRC7.2.22   \n",
       "677130        949303121      2022-03-22 10:08:00  TRC7.2.22   \n",
       "677131        948880903      2022-03-08 10:05:00  TRC7.2.22   \n",
       "677132        949970302      2022-04-12 10:10:00  TRC7.2.22   \n",
       "677133        949970313      2022-04-12 10:11:00  TRC7.2.22   \n",
       "677134        951311642      2022-05-22 13:36:00    V22500L   \n",
       "677135        955738976      2022-10-05 16:59:00     V5204A   \n",
       "677136        954309333      2022-08-23 10:09:00  TRC7.2.22   \n",
       "677137        950594820      2022-04-26 10:11:00  TRC7.2.22   \n",
       "677138        958065135      2022-12-13 10:11:00  TRC7.2.22   \n",
       "677139        958065124      2022-12-13 10:10:00  TRC7.2.22   \n",
       "677140        947957441      2022-02-17 11:42:00    V22500L   \n",
       "677141        955738980      2022-10-05 17:00:00     V5204A   \n",
       "677142        958304966      2022-12-27 10:08:00  TRC7.2.22   \n",
       "677143        956987076      2022-11-08 10:05:00  TRC7.2.22   \n",
       "677144        957009804      2022-11-08 10:08:00  TRC7.2.22   \n",
       "1016846       955644211      2022-09-30 07:32:00  TRC7.2.22   \n",
       "\n",
       "        Violation Description    Citation Location Vehicle Plate State  \\\n",
       "73897               STR CLEAN      1500 CLEMENT ST                  OR   \n",
       "73898               STR CLEAN      1500 CLEMENT ST                  CA   \n",
       "73899               STR CLEAN      1500 CLEMENT ST                  CA   \n",
       "73900               STR CLEAN      1500 CLEMENT ST                  CA   \n",
       "73901               STR CLEAN      1500 CLEMENT ST                  CA   \n",
       "73902               STR CLEAN      1500 CLEMENT ST                  CA   \n",
       "73903               STR CLEAN      1500 CLEMENT ST                  CA   \n",
       "73904               STR CLEAN      1500 CLEMENT ST                  CA   \n",
       "73905               STR CLEAN      1500 CLEMENT ST                  CA   \n",
       "73906               STR CLEAN      1500 CLEMENT ST                  CA   \n",
       "73907               STR CLEAN      1500 CLEMENT ST                  CA   \n",
       "73908               STR CLEAN      1500 CLEMENT ST                  CA   \n",
       "73909               STR CLEAN      1500 CLEMENT ST                  CA   \n",
       "73910               STR CLEAN      1500 CLEMENT ST                  CA   \n",
       "73911               STR CLEAN      1500 CLEMENT ST                  CA   \n",
       "73912               STR CLEAN      1500 CLEMENT ST                  CA   \n",
       "73913               STR CLEAN      1500 CLEMENT ST                  CA   \n",
       "73914               STR CLEAN      1500 CLEMENT ST                  CA   \n",
       "73915               STR CLEAN      1500 CLEMENT ST                  IL   \n",
       "73916               STR CLEAN      1500 CLEMENT ST                  CA   \n",
       "73917                RED ZONE      1500 CLEMENT ST                  CA   \n",
       "129551              STR CLEAN  1500 CLEMENT STREET                  CA   \n",
       "129552              STR CLEAN  1500 CLEMENT STREET                  CA   \n",
       "129553              STR CLEAN  1500 CLEMENT STREET                  CA   \n",
       "352326              STR CLEAN      2500 CLEMENT ST                  CA   \n",
       "352327              STR CLEAN      2500 CLEMENT ST                  CA   \n",
       "352328              STR CLEAN      2500 CLEMENT ST                  CA   \n",
       "352329              STR CLEAN      2500 CLEMENT ST                  CA   \n",
       "352330              STR CLEAN      2500 CLEMENT ST                  CA   \n",
       "352331             WHLCHR ACC      2500 CLEMENT ST                  CA   \n",
       "352332              STR CLEAN      2500 CLEMENT ST                  CA   \n",
       "352333              STR CLEAN      2500 CLEMENT ST                  TX   \n",
       "352334               REG TABS      2500 CLEMENT ST                  CA   \n",
       "352335              STR CLEAN      2500 CLEMENT ST                  CA   \n",
       "591639              STR CLEAN  2500 CLEMENT STREET                  CA   \n",
       "591640              STR CLEAN  2500 CLEMENT STREET                  CA   \n",
       "677129              STR CLEAN      3500 CLEMENT ST                  CA   \n",
       "677130              STR CLEAN      3500 CLEMENT ST                  CA   \n",
       "677131              STR CLEAN      3500 CLEMENT ST                  CA   \n",
       "677132              STR CLEAN      3500 CLEMENT ST                  CA   \n",
       "677133              STR CLEAN      3500 CLEMENT ST                  CA   \n",
       "677134             WHLCHR ACC      3500 CLEMENT ST                  CA   \n",
       "677135               REG TABS      3500 CLEMENT ST                  CA   \n",
       "677136              STR CLEAN      3500 CLEMENT ST                  CA   \n",
       "677137              STR CLEAN      3500 CLEMENT ST                  CA   \n",
       "677138              STR CLEAN      3500 CLEMENT ST                  CA   \n",
       "677139              STR CLEAN      3500 CLEMENT ST                  CA   \n",
       "677140             WHLCHR ACC      3500 CLEMENT ST                  CA   \n",
       "677141               REG TABS      3500 CLEMENT ST                  CA   \n",
       "677142              STR CLEAN      3500 CLEMENT ST                  CA   \n",
       "677143              STR CLEAN      3500 CLEMENT ST                  CA   \n",
       "677144              STR CLEAN      3500 CLEMENT ST                  CA   \n",
       "1016846             STR CLEAN       500 CLEMENT ST                  CA   \n",
       "\n",
       "        Vehicle Plate  Fine Amount              Date Added  \\\n",
       "73897          917GMD         84.0  05/15/2022 12:00:00 AM   \n",
       "73898         8XZA904         84.0  03/21/2022 12:00:00 AM   \n",
       "73899         6YHL038         84.0  05/16/2022 12:00:00 AM   \n",
       "73900         5HZE558         84.0  07/20/2022 12:00:00 AM   \n",
       "73901         8PTC818         84.0  05/23/2022 12:00:00 AM   \n",
       "73902         6WZG298         87.0  08/15/2022 12:00:00 AM   \n",
       "73903         9BPK390         87.0  08/25/2022 12:00:00 AM   \n",
       "73904         8YCZ953         84.0  10/24/2022 12:00:00 AM   \n",
       "73905         5WRX038         84.0  01/30/2022 12:00:00 AM   \n",
       "73906         45425R1         87.0  08/09/2022 12:00:00 AM   \n",
       "73907         8AYY483         87.0  08/11/2022 12:00:00 AM   \n",
       "73908         8LJU481         84.0  08/07/2022 12:00:00 AM   \n",
       "73909         8E95495         87.0  08/21/2022 12:00:00 AM   \n",
       "73910         9AJK070         84.0  06/20/2022 12:00:00 AM   \n",
       "73911         9ALD045         87.0  01/30/2023 12:00:00 AM   \n",
       "73912         8RQM947         87.0  12/06/2022 12:00:00 AM   \n",
       "73913         9BPK390         87.0  09/21/2022 12:00:00 AM   \n",
       "73914         9BLZ382         84.0  10/08/2022 12:00:00 AM   \n",
       "73915         CN95530         87.0  11/10/2022 12:00:00 AM   \n",
       "73916         8BTC079         87.0  01/31/2023 12:00:00 AM   \n",
       "73917         9AHF407        108.0  11/15/2022 12:00:00 AM   \n",
       "129551        6WCE662         84.0  05/02/2022 12:00:00 AM   \n",
       "129552         HYPHY3         84.0  06/21/2022 12:00:00 AM   \n",
       "129553        8YZW977         87.0  01/15/2023 12:00:00 AM   \n",
       "352326        3DEF532         84.0  07/03/2022 12:00:00 AM   \n",
       "352327        8YHR544         87.0  07/23/2022 12:00:00 AM   \n",
       "352328         ESSLAR         84.0  08/28/2022 12:00:00 AM   \n",
       "352329        8GRM758         87.0  08/25/2022 12:00:00 AM   \n",
       "352330        7AKF182         87.0  10/25/2022 12:00:00 AM   \n",
       "352331        8TMF795        416.0  01/22/2023 12:00:00 AM   \n",
       "352332        8XMK927         87.0  01/17/2023 12:00:00 AM   \n",
       "352333        PLR2732         87.0  01/24/2023 12:00:00 AM   \n",
       "352334        8TMF795        121.0  01/22/2023 12:00:00 AM   \n",
       "352335        6PVA360         87.0  11/29/2022 12:00:00 AM   \n",
       "591639        7WCT462         84.0  07/29/2022 12:00:00 AM   \n",
       "591640        89975F2         87.0  01/31/2023 12:00:00 AM   \n",
       "677129        8PZX207         84.0  03/17/2022 12:00:00 AM   \n",
       "677130        8JYM768         84.0  04/02/2022 12:00:00 AM   \n",
       "677131        71408W1         84.0  06/25/2022 12:00:00 AM   \n",
       "677132        7CBT855         84.0  04/19/2022 12:00:00 AM   \n",
       "677133        8VAA002         84.0  05/23/2022 12:00:00 AM   \n",
       "677134        8SKT841        416.0  02/01/2023 12:00:00 AM   \n",
       "677135        5DVS025        121.0  01/02/2023 12:00:00 AM   \n",
       "677136        8WQB652         87.0  10/08/2022 12:00:00 AM   \n",
       "677137        7MFL422         84.0  01/28/2023 12:00:00 AM   \n",
       "677138        8WXF431         87.0  01/31/2023 12:00:00 AM   \n",
       "677139        9ATA413         87.0  01/01/2023 12:00:00 AM   \n",
       "677140        7MGC969        416.0  01/02/2023 12:00:00 AM   \n",
       "677141        7MFL422        121.0  10/13/2022 12:00:00 AM   \n",
       "677142        5VKE684         87.0  01/31/2023 12:00:00 AM   \n",
       "677143        8TZZ056         87.0  11/27/2022 12:00:00 AM   \n",
       "677144        4MVP052         87.0  11/15/2022 12:00:00 AM   \n",
       "1016846       7ARF754         87.0  10/24/2022 12:00:00 AM   \n",
       "\n",
       "                                geom  \n",
       "73897    POINT (-122.47558 37.78263)  \n",
       "73898    POINT (-122.47558 37.78263)  \n",
       "73899    POINT (-122.47558 37.78263)  \n",
       "73900    POINT (-122.47558 37.78263)  \n",
       "73901    POINT (-122.47558 37.78263)  \n",
       "73902    POINT (-122.47558 37.78263)  \n",
       "73903    POINT (-122.47558 37.78263)  \n",
       "73904    POINT (-122.47558 37.78263)  \n",
       "73905    POINT (-122.47558 37.78263)  \n",
       "73906    POINT (-122.47558 37.78263)  \n",
       "73907    POINT (-122.47558 37.78263)  \n",
       "73908    POINT (-122.47558 37.78263)  \n",
       "73909    POINT (-122.47558 37.78263)  \n",
       "73910    POINT (-122.47558 37.78263)  \n",
       "73911    POINT (-122.47558 37.78263)  \n",
       "73912    POINT (-122.47558 37.78263)  \n",
       "73913    POINT (-122.47558 37.78263)  \n",
       "73914    POINT (-122.47558 37.78263)  \n",
       "73915    POINT (-122.47558 37.78263)  \n",
       "73916    POINT (-122.47558 37.78263)  \n",
       "73917    POINT (-122.47558 37.78263)  \n",
       "129551   POINT (-122.47558 37.78263)  \n",
       "129552   POINT (-122.47558 37.78263)  \n",
       "129553   POINT (-122.47558 37.78263)  \n",
       "352326   POINT (-122.48615 37.78215)  \n",
       "352327   POINT (-122.48615 37.78215)  \n",
       "352328   POINT (-122.48615 37.78215)  \n",
       "352329   POINT (-122.48615 37.78215)  \n",
       "352330   POINT (-122.48615 37.78215)  \n",
       "352331   POINT (-122.48615 37.78215)  \n",
       "352332   POINT (-122.48615 37.78215)  \n",
       "352333   POINT (-122.48615 37.78215)  \n",
       "352334   POINT (-122.48615 37.78215)  \n",
       "352335   POINT (-122.48615 37.78215)  \n",
       "591639   POINT (-122.48615 37.78215)  \n",
       "591640   POINT (-122.48615 37.78215)  \n",
       "677129   POINT (-122.49672 37.78154)  \n",
       "677130   POINT (-122.49672 37.78154)  \n",
       "677131   POINT (-122.49672 37.78154)  \n",
       "677132   POINT (-122.49672 37.78154)  \n",
       "677133   POINT (-122.49672 37.78154)  \n",
       "677134   POINT (-122.49672 37.78154)  \n",
       "677135   POINT (-122.49672 37.78154)  \n",
       "677136   POINT (-122.49672 37.78154)  \n",
       "677137   POINT (-122.49672 37.78154)  \n",
       "677138   POINT (-122.49672 37.78154)  \n",
       "677139   POINT (-122.49672 37.78154)  \n",
       "677140   POINT (-122.49672 37.78154)  \n",
       "677141   POINT (-122.49672 37.78154)  \n",
       "677142   POINT (-122.49672 37.78154)  \n",
       "677143   POINT (-122.49672 37.78154)  \n",
       "677144   POINT (-122.49672 37.78154)  \n",
       "1016846  POINT (-122.46461 37.78320)  "
      ]
     },
     "execution_count": 64,
     "metadata": {},
     "output_type": "execute_result"
    }
   ],
   "source": [
    "citation_df[citation_df['Citation Location'].str.contains('500 CLEMENT ST')]"
   ]
  },
  {
   "cell_type": "code",
   "execution_count": null,
   "metadata": {},
   "outputs": [],
   "source": []
  }
 ],
 "metadata": {
  "kernelspec": {
   "display_name": "Python 3.9.16 ('stat-222')",
   "language": "python",
   "name": "python3"
  },
  "language_info": {
   "codemirror_mode": {
    "name": "ipython",
    "version": 3
   },
   "file_extension": ".py",
   "mimetype": "text/x-python",
   "name": "python",
   "nbconvert_exporter": "python",
   "pygments_lexer": "ipython3",
   "version": "3.9.16"
  },
  "orig_nbformat": 4,
  "vscode": {
   "interpreter": {
    "hash": "7e341ab7778497f9d9ee1e825e0472870fe97556fd25583590c5303e68cf6db9"
   }
  }
 },
 "nbformat": 4,
 "nbformat_minor": 2
}
