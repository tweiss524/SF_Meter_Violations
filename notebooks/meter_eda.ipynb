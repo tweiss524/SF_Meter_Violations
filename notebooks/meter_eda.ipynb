{
 "cells": [
  {
   "attachments": {},
   "cell_type": "markdown",
   "metadata": {},
   "source": [
    "## Meter"
   ]
  },
  {
   "cell_type": "code",
   "execution_count": 50,
   "metadata": {},
   "outputs": [],
   "source": [
    "# force geopandas to use shapely instead of pygeos\n",
    "import os\n",
    "os.environ['USE_PYGEOS'] = '0'\n",
    "\n",
    "import numpy as np\n",
    "import pandas as pd\n",
    "from shapely import wkt\n",
    "import geopandas as gpd\n",
    "from shapely.geometry import Point\n",
    "import plotly.express as px"
   ]
  },
  {
   "cell_type": "code",
   "execution_count": 4,
   "metadata": {},
   "outputs": [
    {
     "data": {
      "text/html": [
       "<div>\n",
       "<style scoped>\n",
       "    .dataframe tbody tr th:only-of-type {\n",
       "        vertical-align: middle;\n",
       "    }\n",
       "\n",
       "    .dataframe tbody tr th {\n",
       "        vertical-align: top;\n",
       "    }\n",
       "\n",
       "    .dataframe thead th {\n",
       "        text-align: right;\n",
       "    }\n",
       "</style>\n",
       "<table border=\"1\" class=\"dataframe\">\n",
       "  <thead>\n",
       "    <tr style=\"text-align: right;\">\n",
       "      <th></th>\n",
       "      <th>OBJECTID</th>\n",
       "      <th>PARKING_SPACE_ID</th>\n",
       "      <th>POST_ID</th>\n",
       "      <th>MS_PAY_STATION_ID</th>\n",
       "      <th>MS_SPACE_NUM</th>\n",
       "      <th>SENSOR_FLAG</th>\n",
       "      <th>ON_OFFSTREET_TYPE</th>\n",
       "      <th>OSP_ID</th>\n",
       "      <th>JURISDICTION</th>\n",
       "      <th>PM_DISTRICT_ID</th>\n",
       "      <th>...</th>\n",
       "      <th>NFC_KEY</th>\n",
       "      <th>SPT_CODE</th>\n",
       "      <th>COLLECTION_ROUTE_DESC</th>\n",
       "      <th>COLLECTION_SUBROUTE_DESC</th>\n",
       "      <th>shape</th>\n",
       "      <th>Neighborhoods</th>\n",
       "      <th>SF Find Neighborhoods</th>\n",
       "      <th>Current Police Districts</th>\n",
       "      <th>Current Supervisor Districts</th>\n",
       "      <th>Analysis Neighborhoods</th>\n",
       "    </tr>\n",
       "  </thead>\n",
       "  <tbody>\n",
       "    <tr>\n",
       "      <th>0</th>\n",
       "      <td>5262398</td>\n",
       "      <td>0</td>\n",
       "      <td>363-04151</td>\n",
       "      <td>-</td>\n",
       "      <td>0</td>\n",
       "      <td>N</td>\n",
       "      <td>ON</td>\n",
       "      <td>0.0</td>\n",
       "      <td>SFMTA</td>\n",
       "      <td>12.0</td>\n",
       "      <td>...</td>\n",
       "      <td>NaN</td>\n",
       "      <td>NaN</td>\n",
       "      <td>NaN</td>\n",
       "      <td>NaN</td>\n",
       "      <td>POINT (-122.408394 37.79895)</td>\n",
       "      <td>106</td>\n",
       "      <td>106</td>\n",
       "      <td>6</td>\n",
       "      <td>3</td>\n",
       "      <td>6</td>\n",
       "    </tr>\n",
       "    <tr>\n",
       "      <th>1</th>\n",
       "      <td>5262423</td>\n",
       "      <td>0</td>\n",
       "      <td>916-00500</td>\n",
       "      <td>916-00002</td>\n",
       "      <td>50</td>\n",
       "      <td>N</td>\n",
       "      <td>OFF</td>\n",
       "      <td>916.0</td>\n",
       "      <td>SFMTA</td>\n",
       "      <td>7.0</td>\n",
       "      <td>...</td>\n",
       "      <td>5L4X</td>\n",
       "      <td>NaN</td>\n",
       "      <td>NaN</td>\n",
       "      <td>NaN</td>\n",
       "      <td>POINT (-122.43913 37.800167)</td>\n",
       "      <td>17</td>\n",
       "      <td>17</td>\n",
       "      <td>4</td>\n",
       "      <td>6</td>\n",
       "      <td>13</td>\n",
       "    </tr>\n",
       "    <tr>\n",
       "      <th>2</th>\n",
       "      <td>5263054</td>\n",
       "      <td>0</td>\n",
       "      <td>700-03540</td>\n",
       "      <td>-</td>\n",
       "      <td>0</td>\n",
       "      <td>N</td>\n",
       "      <td>ON</td>\n",
       "      <td>0.0</td>\n",
       "      <td>SFMTA</td>\n",
       "      <td>16.0</td>\n",
       "      <td>...</td>\n",
       "      <td>2XKW</td>\n",
       "      <td>NaN</td>\n",
       "      <td>NaN</td>\n",
       "      <td>NaN</td>\n",
       "      <td>POINT (-122.422165 37.76667)</td>\n",
       "      <td>37</td>\n",
       "      <td>37</td>\n",
       "      <td>3</td>\n",
       "      <td>5</td>\n",
       "      <td>20</td>\n",
       "    </tr>\n",
       "    <tr>\n",
       "      <th>3</th>\n",
       "      <td>5289824</td>\n",
       "      <td>0</td>\n",
       "      <td>563-01014</td>\n",
       "      <td>-</td>\n",
       "      <td>0</td>\n",
       "      <td>N</td>\n",
       "      <td>ON</td>\n",
       "      <td>0.0</td>\n",
       "      <td>SFMTA</td>\n",
       "      <td>13.0</td>\n",
       "      <td>...</td>\n",
       "      <td>NaN</td>\n",
       "      <td>NaN</td>\n",
       "      <td>NaN</td>\n",
       "      <td>NaN</td>\n",
       "      <td>POINT (-122.41383 37.780846)</td>\n",
       "      <td>21</td>\n",
       "      <td>21</td>\n",
       "      <td>5</td>\n",
       "      <td>10</td>\n",
       "      <td>36</td>\n",
       "    </tr>\n",
       "    <tr>\n",
       "      <th>4</th>\n",
       "      <td>5263507</td>\n",
       "      <td>0</td>\n",
       "      <td>614-07280</td>\n",
       "      <td>-</td>\n",
       "      <td>0</td>\n",
       "      <td>N</td>\n",
       "      <td>ON</td>\n",
       "      <td>0.0</td>\n",
       "      <td>SFMTA</td>\n",
       "      <td>13.0</td>\n",
       "      <td>...</td>\n",
       "      <td>GK56</td>\n",
       "      <td>NaN</td>\n",
       "      <td>NaN</td>\n",
       "      <td>NaN</td>\n",
       "      <td>POINT (-122.41428 37.787613)</td>\n",
       "      <td>50</td>\n",
       "      <td>50</td>\n",
       "      <td>6</td>\n",
       "      <td>3</td>\n",
       "      <td>21</td>\n",
       "    </tr>\n",
       "  </tbody>\n",
       "</table>\n",
       "<p>5 rows × 45 columns</p>\n",
       "</div>"
      ],
      "text/plain": [
       "   OBJECTID  PARKING_SPACE_ID    POST_ID MS_PAY_STATION_ID  MS_SPACE_NUM  \\\n",
       "0   5262398                 0  363-04151                 -             0   \n",
       "1   5262423                 0  916-00500         916-00002            50   \n",
       "2   5263054                 0  700-03540                 -             0   \n",
       "3   5289824                 0  563-01014                 -             0   \n",
       "4   5263507                 0  614-07280                 -             0   \n",
       "\n",
       "  SENSOR_FLAG ON_OFFSTREET_TYPE  OSP_ID JURISDICTION  PM_DISTRICT_ID  ...  \\\n",
       "0           N                ON     0.0        SFMTA            12.0  ...   \n",
       "1           N               OFF   916.0        SFMTA             7.0  ...   \n",
       "2           N                ON     0.0        SFMTA            16.0  ...   \n",
       "3           N                ON     0.0        SFMTA            13.0  ...   \n",
       "4           N                ON     0.0        SFMTA            13.0  ...   \n",
       "\n",
       "   NFC_KEY SPT_CODE COLLECTION_ROUTE_DESC COLLECTION_SUBROUTE_DESC  \\\n",
       "0      NaN      NaN                   NaN                      NaN   \n",
       "1     5L4X      NaN                   NaN                      NaN   \n",
       "2     2XKW      NaN                   NaN                      NaN   \n",
       "3      NaN      NaN                   NaN                      NaN   \n",
       "4     GK56      NaN                   NaN                      NaN   \n",
       "\n",
       "                          shape Neighborhoods SF Find Neighborhoods  \\\n",
       "0  POINT (-122.408394 37.79895)           106                   106   \n",
       "1  POINT (-122.43913 37.800167)            17                    17   \n",
       "2  POINT (-122.422165 37.76667)            37                    37   \n",
       "3  POINT (-122.41383 37.780846)            21                    21   \n",
       "4  POINT (-122.41428 37.787613)            50                    50   \n",
       "\n",
       "  Current Police Districts Current Supervisor Districts Analysis Neighborhoods  \n",
       "0                        6                            3                      6  \n",
       "1                        4                            6                     13  \n",
       "2                        3                            5                     20  \n",
       "3                        5                           10                     36  \n",
       "4                        6                            3                     21  \n",
       "\n",
       "[5 rows x 45 columns]"
      ]
     },
     "execution_count": 4,
     "metadata": {},
     "output_type": "execute_result"
    }
   ],
   "source": [
    "meter_df = pd.read_csv('../data/Parking_Meters.csv')\n",
    "meter_df.head()"
   ]
  },
  {
   "cell_type": "code",
   "execution_count": 11,
   "metadata": {},
   "outputs": [
    {
     "data": {
      "text/plain": [
       "M    25670\n",
       "U     5182\n",
       "T     3643\n",
       "P     1109\n",
       "L       11\n",
       "Name: ACTIVE_METER_FLAG, dtype: int64"
      ]
     },
     "execution_count": 11,
     "metadata": {},
     "output_type": "execute_result"
    }
   ],
   "source": [
    "meter_df['ACTIVE_METER_FLAG'].value_counts()"
   ]
  },
  {
   "cell_type": "code",
   "execution_count": 8,
   "metadata": {},
   "outputs": [],
   "source": [
    "meter_df['shape'] = meter_df['shape'].apply(wkt.loads)\n",
    "meter_df = gpd.GeoDataFrame(meter_df, geometry='shape')\n",
    "meter_df.crs = 'EPSG:4326'"
   ]
  },
  {
   "cell_type": "code",
   "execution_count": 14,
   "metadata": {},
   "outputs": [
    {
     "data": {
      "text/plain": [
       "(29313, 45)"
      ]
     },
     "execution_count": 14,
     "metadata": {},
     "output_type": "execute_result"
    }
   ],
   "source": [
    "active_meter_df = meter_df[(meter_df.ACTIVE_METER_FLAG == 'M') | (meter_df.ACTIVE_METER_FLAG == 'T')]\n",
    "active_meter_df.shape"
   ]
  },
  {
   "cell_type": "code",
   "execution_count": 15,
   "metadata": {},
   "outputs": [],
   "source": [
    "df = pd.read_parquet(\"../data/meter_data_2022.parquet\")"
   ]
  },
  {
   "cell_type": "code",
   "execution_count": 20,
   "metadata": {},
   "outputs": [],
   "source": [
    "df = pd.merge(df, active_meter_df, on='POST_ID')"
   ]
  },
  {
   "cell_type": "code",
   "execution_count": 21,
   "metadata": {},
   "outputs": [
    {
     "data": {
      "text/html": [
       "<div>\n",
       "<style scoped>\n",
       "    .dataframe tbody tr th:only-of-type {\n",
       "        vertical-align: middle;\n",
       "    }\n",
       "\n",
       "    .dataframe tbody tr th {\n",
       "        vertical-align: top;\n",
       "    }\n",
       "\n",
       "    .dataframe thead th {\n",
       "        text-align: right;\n",
       "    }\n",
       "</style>\n",
       "<table border=\"1\" class=\"dataframe\">\n",
       "  <thead>\n",
       "    <tr style=\"text-align: right;\">\n",
       "      <th></th>\n",
       "      <th>TRANSMISSION_DATETIME</th>\n",
       "      <th>POST_ID</th>\n",
       "      <th>STREET_BLOCK</th>\n",
       "      <th>PAYMENT_TYPE</th>\n",
       "      <th>SESSION_START_DT</th>\n",
       "      <th>SESSION_END_DT</th>\n",
       "      <th>METER_EVENT_TYPE</th>\n",
       "      <th>GROSS_PAID_AMT</th>\n",
       "      <th>OBJECTID</th>\n",
       "      <th>PARKING_SPACE_ID</th>\n",
       "      <th>...</th>\n",
       "      <th>NFC_KEY</th>\n",
       "      <th>SPT_CODE</th>\n",
       "      <th>COLLECTION_ROUTE_DESC</th>\n",
       "      <th>COLLECTION_SUBROUTE_DESC</th>\n",
       "      <th>shape</th>\n",
       "      <th>Neighborhoods</th>\n",
       "      <th>SF Find Neighborhoods</th>\n",
       "      <th>Current Police Districts</th>\n",
       "      <th>Current Supervisor Districts</th>\n",
       "      <th>Analysis Neighborhoods</th>\n",
       "    </tr>\n",
       "  </thead>\n",
       "  <tbody>\n",
       "    <tr>\n",
       "      <th>0</th>\n",
       "      <td>222408714_4_01012022002410</td>\n",
       "      <td>831-02200</td>\n",
       "      <td>EMBARCADERO SOUTH 200</td>\n",
       "      <td>CASH</td>\n",
       "      <td>2022/01/01 12:24:10 AM</td>\n",
       "      <td>2022/01/01 12:24:10 AM</td>\n",
       "      <td>NS</td>\n",
       "      <td>1.50</td>\n",
       "      <td>5272708</td>\n",
       "      <td>0</td>\n",
       "      <td>...</td>\n",
       "      <td>71ME</td>\n",
       "      <td>NaN</td>\n",
       "      <td>South Embarcadero</td>\n",
       "      <td>Embarcadero South/Howard/Steuart | Unit-300/Un...</td>\n",
       "      <td>POINT (-122.39102 37.79161)</td>\n",
       "      <td>108</td>\n",
       "      <td>108</td>\n",
       "      <td>1</td>\n",
       "      <td>10</td>\n",
       "      <td>8</td>\n",
       "    </tr>\n",
       "    <tr>\n",
       "      <th>1</th>\n",
       "      <td>222412313_4_01022022121822</td>\n",
       "      <td>831-02200</td>\n",
       "      <td>EMBARCADERO SOUTH 200</td>\n",
       "      <td>CREDIT CARD</td>\n",
       "      <td>2022/01/02 12:18:22 PM</td>\n",
       "      <td>2022/01/02 01:18:22 PM</td>\n",
       "      <td>NS</td>\n",
       "      <td>8.00</td>\n",
       "      <td>5272708</td>\n",
       "      <td>0</td>\n",
       "      <td>...</td>\n",
       "      <td>71ME</td>\n",
       "      <td>NaN</td>\n",
       "      <td>South Embarcadero</td>\n",
       "      <td>Embarcadero South/Howard/Steuart | Unit-300/Un...</td>\n",
       "      <td>POINT (-122.39102 37.79161)</td>\n",
       "      <td>108</td>\n",
       "      <td>108</td>\n",
       "      <td>1</td>\n",
       "      <td>10</td>\n",
       "      <td>8</td>\n",
       "    </tr>\n",
       "    <tr>\n",
       "      <th>2</th>\n",
       "      <td>222412993_4_01022022135210</td>\n",
       "      <td>831-02200</td>\n",
       "      <td>EMBARCADERO SOUTH 200</td>\n",
       "      <td>CREDIT CARD</td>\n",
       "      <td>2022/01/02 01:52:10 PM</td>\n",
       "      <td>2022/01/02 03:52:17 PM</td>\n",
       "      <td>NS</td>\n",
       "      <td>14.49</td>\n",
       "      <td>5272708</td>\n",
       "      <td>0</td>\n",
       "      <td>...</td>\n",
       "      <td>71ME</td>\n",
       "      <td>NaN</td>\n",
       "      <td>South Embarcadero</td>\n",
       "      <td>Embarcadero South/Howard/Steuart | Unit-300/Un...</td>\n",
       "      <td>POINT (-122.39102 37.79161)</td>\n",
       "      <td>108</td>\n",
       "      <td>108</td>\n",
       "      <td>1</td>\n",
       "      <td>10</td>\n",
       "      <td>8</td>\n",
       "    </tr>\n",
       "    <tr>\n",
       "      <th>3</th>\n",
       "      <td>222448944_4_01032022140304</td>\n",
       "      <td>831-02200</td>\n",
       "      <td>EMBARCADERO SOUTH 200</td>\n",
       "      <td>CREDIT CARD</td>\n",
       "      <td>2022/01/03 02:03:04 PM</td>\n",
       "      <td>2022/01/03 04:23:28 PM</td>\n",
       "      <td>NS</td>\n",
       "      <td>9.06</td>\n",
       "      <td>5272708</td>\n",
       "      <td>0</td>\n",
       "      <td>...</td>\n",
       "      <td>71ME</td>\n",
       "      <td>NaN</td>\n",
       "      <td>South Embarcadero</td>\n",
       "      <td>Embarcadero South/Howard/Steuart | Unit-300/Un...</td>\n",
       "      <td>POINT (-122.39102 37.79161)</td>\n",
       "      <td>108</td>\n",
       "      <td>108</td>\n",
       "      <td>1</td>\n",
       "      <td>10</td>\n",
       "      <td>8</td>\n",
       "    </tr>\n",
       "    <tr>\n",
       "      <th>4</th>\n",
       "      <td>832929888_9_01032022180700</td>\n",
       "      <td>831-02200</td>\n",
       "      <td>EMBARCADERO SOUTH 200</td>\n",
       "      <td>PAY BY CELL</td>\n",
       "      <td>2022/01/03 06:07:00 PM</td>\n",
       "      <td>2022/01/03 08:07:00 PM</td>\n",
       "      <td>NS</td>\n",
       "      <td>4.00</td>\n",
       "      <td>5272708</td>\n",
       "      <td>0</td>\n",
       "      <td>...</td>\n",
       "      <td>71ME</td>\n",
       "      <td>NaN</td>\n",
       "      <td>South Embarcadero</td>\n",
       "      <td>Embarcadero South/Howard/Steuart | Unit-300/Un...</td>\n",
       "      <td>POINT (-122.39102 37.79161)</td>\n",
       "      <td>108</td>\n",
       "      <td>108</td>\n",
       "      <td>1</td>\n",
       "      <td>10</td>\n",
       "      <td>8</td>\n",
       "    </tr>\n",
       "  </tbody>\n",
       "</table>\n",
       "<p>5 rows × 52 columns</p>\n",
       "</div>"
      ],
      "text/plain": [
       "        TRANSMISSION_DATETIME    POST_ID           STREET_BLOCK PAYMENT_TYPE  \\\n",
       "0  222408714_4_01012022002410  831-02200  EMBARCADERO SOUTH 200         CASH   \n",
       "1  222412313_4_01022022121822  831-02200  EMBARCADERO SOUTH 200  CREDIT CARD   \n",
       "2  222412993_4_01022022135210  831-02200  EMBARCADERO SOUTH 200  CREDIT CARD   \n",
       "3  222448944_4_01032022140304  831-02200  EMBARCADERO SOUTH 200  CREDIT CARD   \n",
       "4  832929888_9_01032022180700  831-02200  EMBARCADERO SOUTH 200  PAY BY CELL   \n",
       "\n",
       "         SESSION_START_DT          SESSION_END_DT METER_EVENT_TYPE  \\\n",
       "0  2022/01/01 12:24:10 AM  2022/01/01 12:24:10 AM               NS   \n",
       "1  2022/01/02 12:18:22 PM  2022/01/02 01:18:22 PM               NS   \n",
       "2  2022/01/02 01:52:10 PM  2022/01/02 03:52:17 PM               NS   \n",
       "3  2022/01/03 02:03:04 PM  2022/01/03 04:23:28 PM               NS   \n",
       "4  2022/01/03 06:07:00 PM  2022/01/03 08:07:00 PM               NS   \n",
       "\n",
       "   GROSS_PAID_AMT  OBJECTID  PARKING_SPACE_ID  ... NFC_KEY  SPT_CODE  \\\n",
       "0            1.50   5272708                 0  ...    71ME       NaN   \n",
       "1            8.00   5272708                 0  ...    71ME       NaN   \n",
       "2           14.49   5272708                 0  ...    71ME       NaN   \n",
       "3            9.06   5272708                 0  ...    71ME       NaN   \n",
       "4            4.00   5272708                 0  ...    71ME       NaN   \n",
       "\n",
       "  COLLECTION_ROUTE_DESC                           COLLECTION_SUBROUTE_DESC  \\\n",
       "0     South Embarcadero  Embarcadero South/Howard/Steuart | Unit-300/Un...   \n",
       "1     South Embarcadero  Embarcadero South/Howard/Steuart | Unit-300/Un...   \n",
       "2     South Embarcadero  Embarcadero South/Howard/Steuart | Unit-300/Un...   \n",
       "3     South Embarcadero  Embarcadero South/Howard/Steuart | Unit-300/Un...   \n",
       "4     South Embarcadero  Embarcadero South/Howard/Steuart | Unit-300/Un...   \n",
       "\n",
       "                         shape Neighborhoods  SF Find Neighborhoods  \\\n",
       "0  POINT (-122.39102 37.79161)           108                    108   \n",
       "1  POINT (-122.39102 37.79161)           108                    108   \n",
       "2  POINT (-122.39102 37.79161)           108                    108   \n",
       "3  POINT (-122.39102 37.79161)           108                    108   \n",
       "4  POINT (-122.39102 37.79161)           108                    108   \n",
       "\n",
       "   Current Police Districts Current Supervisor Districts  \\\n",
       "0                         1                           10   \n",
       "1                         1                           10   \n",
       "2                         1                           10   \n",
       "3                         1                           10   \n",
       "4                         1                           10   \n",
       "\n",
       "  Analysis Neighborhoods  \n",
       "0                      8  \n",
       "1                      8  \n",
       "2                      8  \n",
       "3                      8  \n",
       "4                      8  \n",
       "\n",
       "[5 rows x 52 columns]"
      ]
     },
     "execution_count": 21,
     "metadata": {},
     "output_type": "execute_result"
    }
   ],
   "source": [
    "df.head()"
   ]
  },
  {
   "cell_type": "code",
   "execution_count": 45,
   "metadata": {},
   "outputs": [],
   "source": [
    "# use only a very limited number of columns for now\n",
    "\n",
    "df = df[['POST_ID', 'TRANSMISSION_DATETIME', 'STREET_BLOCK', 'PAYMENT_TYPE',\n",
    "    'SESSION_START_DT', 'SESSION_END_DT', 'METER_EVENT_TYPE',\n",
    "    'GROSS_PAID_AMT', 'shape']]"
   ]
  },
  {
   "cell_type": "code",
   "execution_count": 46,
   "metadata": {},
   "outputs": [],
   "source": [
    "one_post = df[df.POST_ID == '360-05250']"
   ]
  },
  {
   "cell_type": "code",
   "execution_count": 47,
   "metadata": {},
   "outputs": [
    {
     "name": "stderr",
     "output_type": "stream",
     "text": [
      "/var/folders/lr/597pxhmx2z78r4vysc_dvsth0000gn/T/ipykernel_41258/1276305083.py:1: SettingWithCopyWarning: \n",
      "A value is trying to be set on a copy of a slice from a DataFrame.\n",
      "Try using .loc[row_indexer,col_indexer] = value instead\n",
      "\n",
      "See the caveats in the documentation: https://pandas.pydata.org/pandas-docs/stable/user_guide/indexing.html#returning-a-view-versus-a-copy\n",
      "  one_post.loc[:, 'SESSION_START_DT'] = pd.to_datetime(one_post['SESSION_START_DT'])\n",
      "/var/folders/lr/597pxhmx2z78r4vysc_dvsth0000gn/T/ipykernel_41258/1276305083.py:1: FutureWarning: In a future version, `df.iloc[:, i] = newvals` will attempt to set the values inplace instead of always setting a new array. To retain the old behavior, use either `df[df.columns[i]] = newvals` or, if columns are non-unique, `df.isetitem(i, newvals)`\n",
      "  one_post.loc[:, 'SESSION_START_DT'] = pd.to_datetime(one_post['SESSION_START_DT'])\n",
      "/var/folders/lr/597pxhmx2z78r4vysc_dvsth0000gn/T/ipykernel_41258/1276305083.py:2: SettingWithCopyWarning: \n",
      "A value is trying to be set on a copy of a slice from a DataFrame.\n",
      "Try using .loc[row_indexer,col_indexer] = value instead\n",
      "\n",
      "See the caveats in the documentation: https://pandas.pydata.org/pandas-docs/stable/user_guide/indexing.html#returning-a-view-versus-a-copy\n",
      "  one_post.loc[:, 'SESSION_END_DT'] = pd.to_datetime(one_post['SESSION_END_DT'])\n",
      "/var/folders/lr/597pxhmx2z78r4vysc_dvsth0000gn/T/ipykernel_41258/1276305083.py:2: FutureWarning: In a future version, `df.iloc[:, i] = newvals` will attempt to set the values inplace instead of always setting a new array. To retain the old behavior, use either `df[df.columns[i]] = newvals` or, if columns are non-unique, `df.isetitem(i, newvals)`\n",
      "  one_post.loc[:, 'SESSION_END_DT'] = pd.to_datetime(one_post['SESSION_END_DT'])\n"
     ]
    }
   ],
   "source": [
    "one_post.loc[:, 'SESSION_START_DT'] = pd.to_datetime(one_post['SESSION_START_DT'])\n",
    "one_post.loc[:, 'SESSION_END_DT'] = pd.to_datetime(one_post['SESSION_END_DT'])"
   ]
  },
  {
   "cell_type": "code",
   "execution_count": 49,
   "metadata": {},
   "outputs": [
    {
     "name": "stderr",
     "output_type": "stream",
     "text": [
      "/var/folders/lr/597pxhmx2z78r4vysc_dvsth0000gn/T/ipykernel_41258/2037813124.py:1: SettingWithCopyWarning: \n",
      "A value is trying to be set on a copy of a slice from a DataFrame.\n",
      "Try using .loc[row_indexer,col_indexer] = value instead\n",
      "\n",
      "See the caveats in the documentation: https://pandas.pydata.org/pandas-docs/stable/user_guide/indexing.html#returning-a-view-versus-a-copy\n",
      "  one_post['date'] = one_post['SESSION_START_DT'].dt.date\n",
      "/var/folders/lr/597pxhmx2z78r4vysc_dvsth0000gn/T/ipykernel_41258/2037813124.py:2: FutureWarning: Comparison of Timestamp with datetime.date is deprecated in order to match the standard library behavior. In a future version these will be considered non-comparable. Use 'ts == pd.Timestamp(date)' or 'ts.date() == date' instead.\n",
      "  one_date = one_post[one_post.date == pd.to_datetime('2022-01-28')]\n"
     ]
    }
   ],
   "source": [
    "one_post['date'] = one_post['SESSION_START_DT'].dt.date\n",
    "one_date = one_post[one_post.date == pd.to_datetime('2022-01-28')]"
   ]
  },
  {
   "cell_type": "code",
   "execution_count": 36,
   "metadata": {},
   "outputs": [
    {
     "data": {
      "text/plain": [
       "2022-01-28    32\n",
       "2022-07-07    30\n",
       "2022-12-02    30\n",
       "2022-08-25    29\n",
       "2022-09-03    29\n",
       "              ..\n",
       "2022-07-10     1\n",
       "2022-05-15     1\n",
       "2022-03-20     1\n",
       "2022-12-29     1\n",
       "2022-02-20     1\n",
       "Name: date, Length: 317, dtype: int64"
      ]
     },
     "execution_count": 36,
     "metadata": {},
     "output_type": "execute_result"
    }
   ],
   "source": [
    "one_post.date.value_counts()"
   ]
  },
  {
   "cell_type": "code",
   "execution_count": 53,
   "metadata": {},
   "outputs": [
    {
     "data": {
      "text/html": [
       "<div>\n",
       "<style scoped>\n",
       "    .dataframe tbody tr th:only-of-type {\n",
       "        vertical-align: middle;\n",
       "    }\n",
       "\n",
       "    .dataframe tbody tr th {\n",
       "        vertical-align: top;\n",
       "    }\n",
       "\n",
       "    .dataframe thead th {\n",
       "        text-align: right;\n",
       "    }\n",
       "</style>\n",
       "<table border=\"1\" class=\"dataframe\">\n",
       "  <thead>\n",
       "    <tr style=\"text-align: right;\">\n",
       "      <th></th>\n",
       "      <th>POST_ID</th>\n",
       "      <th>TRANSMISSION_DATETIME</th>\n",
       "      <th>STREET_BLOCK</th>\n",
       "      <th>PAYMENT_TYPE</th>\n",
       "      <th>SESSION_START_DT</th>\n",
       "      <th>SESSION_END_DT</th>\n",
       "      <th>METER_EVENT_TYPE</th>\n",
       "      <th>GROSS_PAID_AMT</th>\n",
       "      <th>shape</th>\n",
       "      <th>date</th>\n",
       "    </tr>\n",
       "  </thead>\n",
       "  <tbody>\n",
       "    <tr>\n",
       "      <th>467325</th>\n",
       "      <td>360-05250</td>\n",
       "      <td>222409320_4_01012022113609</td>\n",
       "      <td>CLEMENT ST 500</td>\n",
       "      <td>CASH</td>\n",
       "      <td>2022-01-01 11:36:09</td>\n",
       "      <td>2022-01-01 11:36:09</td>\n",
       "      <td>NS</td>\n",
       "      <td>0.15</td>\n",
       "      <td>POINT (-122.46503 37.78285)</td>\n",
       "      <td>2022-01-01</td>\n",
       "    </tr>\n",
       "    <tr>\n",
       "      <th>467326</th>\n",
       "      <td>360-05250</td>\n",
       "      <td>222409409_4_01012022115811</td>\n",
       "      <td>CLEMENT ST 500</td>\n",
       "      <td>CASH</td>\n",
       "      <td>2022-01-01 11:58:11</td>\n",
       "      <td>2022-01-01 11:58:11</td>\n",
       "      <td>NS</td>\n",
       "      <td>0.25</td>\n",
       "      <td>POINT (-122.46503 37.78285)</td>\n",
       "      <td>2022-01-01</td>\n",
       "    </tr>\n",
       "    <tr>\n",
       "      <th>467327</th>\n",
       "      <td>360-05250</td>\n",
       "      <td>222421195_4_01032022094613</td>\n",
       "      <td>CLEMENT ST 500</td>\n",
       "      <td>CASH</td>\n",
       "      <td>2022-01-03 09:46:13</td>\n",
       "      <td>2022-01-03 10:01:13</td>\n",
       "      <td>NS</td>\n",
       "      <td>0.50</td>\n",
       "      <td>POINT (-122.46503 37.78285)</td>\n",
       "      <td>2022-01-03</td>\n",
       "    </tr>\n",
       "    <tr>\n",
       "      <th>467328</th>\n",
       "      <td>360-05250</td>\n",
       "      <td>222422538_4_01032022100307</td>\n",
       "      <td>CLEMENT ST 500</td>\n",
       "      <td>CREDIT CARD</td>\n",
       "      <td>2022-01-03 10:03:07</td>\n",
       "      <td>2022-01-03 10:18:07</td>\n",
       "      <td>NS</td>\n",
       "      <td>0.50</td>\n",
       "      <td>POINT (-122.46503 37.78285)</td>\n",
       "      <td>2022-01-03</td>\n",
       "    </tr>\n",
       "    <tr>\n",
       "      <th>467329</th>\n",
       "      <td>360-05250</td>\n",
       "      <td>222424052_4_01032022101945</td>\n",
       "      <td>CLEMENT ST 500</td>\n",
       "      <td>CASH</td>\n",
       "      <td>2022-01-03 10:19:45</td>\n",
       "      <td>2022-01-03 10:34:45</td>\n",
       "      <td>NS</td>\n",
       "      <td>0.85</td>\n",
       "      <td>POINT (-122.46503 37.78285)</td>\n",
       "      <td>2022-01-03</td>\n",
       "    </tr>\n",
       "    <tr>\n",
       "      <th>...</th>\n",
       "      <td>...</td>\n",
       "      <td>...</td>\n",
       "      <td>...</td>\n",
       "      <td>...</td>\n",
       "      <td>...</td>\n",
       "      <td>...</td>\n",
       "      <td>...</td>\n",
       "      <td>...</td>\n",
       "      <td>...</td>\n",
       "      <td>...</td>\n",
       "    </tr>\n",
       "    <tr>\n",
       "      <th>472193</th>\n",
       "      <td>360-05250</td>\n",
       "      <td>1041785889_9_12312022095234</td>\n",
       "      <td>CLEMENT ST 500</td>\n",
       "      <td>PAY BY CELL</td>\n",
       "      <td>2022-12-31 09:52:34</td>\n",
       "      <td>2022-12-31 10:07:34</td>\n",
       "      <td>NS</td>\n",
       "      <td>0.44</td>\n",
       "      <td>POINT (-122.46503 37.78285)</td>\n",
       "      <td>2022-12-31</td>\n",
       "    </tr>\n",
       "    <tr>\n",
       "      <th>472194</th>\n",
       "      <td>360-05250</td>\n",
       "      <td>238182919_4_12312022140853</td>\n",
       "      <td>CLEMENT ST 500</td>\n",
       "      <td>CASH</td>\n",
       "      <td>2022-12-31 14:08:53</td>\n",
       "      <td>2022-12-31 14:23:53</td>\n",
       "      <td>NS</td>\n",
       "      <td>1.05</td>\n",
       "      <td>POINT (-122.46503 37.78285)</td>\n",
       "      <td>2022-12-31</td>\n",
       "    </tr>\n",
       "    <tr>\n",
       "      <th>472195</th>\n",
       "      <td>360-05250</td>\n",
       "      <td>238184022_4_12312022143454</td>\n",
       "      <td>CLEMENT ST 500</td>\n",
       "      <td>CASH</td>\n",
       "      <td>2022-12-31 14:34:54</td>\n",
       "      <td>2022-12-31 14:45:49</td>\n",
       "      <td>NS</td>\n",
       "      <td>0.50</td>\n",
       "      <td>POINT (-122.46503 37.78285)</td>\n",
       "      <td>2022-12-31</td>\n",
       "    </tr>\n",
       "    <tr>\n",
       "      <th>472196</th>\n",
       "      <td>360-05250</td>\n",
       "      <td>238184029_4_12312022143508</td>\n",
       "      <td>CLEMENT ST 500</td>\n",
       "      <td>CASH</td>\n",
       "      <td>2022-12-31 14:35:08</td>\n",
       "      <td>2022-12-31 14:50:08</td>\n",
       "      <td>NS</td>\n",
       "      <td>0.25</td>\n",
       "      <td>POINT (-122.46503 37.78285)</td>\n",
       "      <td>2022-12-31</td>\n",
       "    </tr>\n",
       "    <tr>\n",
       "      <th>472197</th>\n",
       "      <td>360-05250</td>\n",
       "      <td>238188849_4_12312022162608</td>\n",
       "      <td>CLEMENT ST 500</td>\n",
       "      <td>CASH</td>\n",
       "      <td>2022-12-31 16:26:08</td>\n",
       "      <td>2022-12-31 16:33:38</td>\n",
       "      <td>NS</td>\n",
       "      <td>0.25</td>\n",
       "      <td>POINT (-122.46503 37.78285)</td>\n",
       "      <td>2022-12-31</td>\n",
       "    </tr>\n",
       "  </tbody>\n",
       "</table>\n",
       "<p>4873 rows × 10 columns</p>\n",
       "</div>"
      ],
      "text/plain": [
       "          POST_ID        TRANSMISSION_DATETIME    STREET_BLOCK PAYMENT_TYPE  \\\n",
       "467325  360-05250   222409320_4_01012022113609  CLEMENT ST 500         CASH   \n",
       "467326  360-05250   222409409_4_01012022115811  CLEMENT ST 500         CASH   \n",
       "467327  360-05250   222421195_4_01032022094613  CLEMENT ST 500         CASH   \n",
       "467328  360-05250   222422538_4_01032022100307  CLEMENT ST 500  CREDIT CARD   \n",
       "467329  360-05250   222424052_4_01032022101945  CLEMENT ST 500         CASH   \n",
       "...           ...                          ...             ...          ...   \n",
       "472193  360-05250  1041785889_9_12312022095234  CLEMENT ST 500  PAY BY CELL   \n",
       "472194  360-05250   238182919_4_12312022140853  CLEMENT ST 500         CASH   \n",
       "472195  360-05250   238184022_4_12312022143454  CLEMENT ST 500         CASH   \n",
       "472196  360-05250   238184029_4_12312022143508  CLEMENT ST 500         CASH   \n",
       "472197  360-05250   238188849_4_12312022162608  CLEMENT ST 500         CASH   \n",
       "\n",
       "          SESSION_START_DT      SESSION_END_DT METER_EVENT_TYPE  \\\n",
       "467325 2022-01-01 11:36:09 2022-01-01 11:36:09               NS   \n",
       "467326 2022-01-01 11:58:11 2022-01-01 11:58:11               NS   \n",
       "467327 2022-01-03 09:46:13 2022-01-03 10:01:13               NS   \n",
       "467328 2022-01-03 10:03:07 2022-01-03 10:18:07               NS   \n",
       "467329 2022-01-03 10:19:45 2022-01-03 10:34:45               NS   \n",
       "...                    ...                 ...              ...   \n",
       "472193 2022-12-31 09:52:34 2022-12-31 10:07:34               NS   \n",
       "472194 2022-12-31 14:08:53 2022-12-31 14:23:53               NS   \n",
       "472195 2022-12-31 14:34:54 2022-12-31 14:45:49               NS   \n",
       "472196 2022-12-31 14:35:08 2022-12-31 14:50:08               NS   \n",
       "472197 2022-12-31 16:26:08 2022-12-31 16:33:38               NS   \n",
       "\n",
       "        GROSS_PAID_AMT                        shape        date  \n",
       "467325            0.15  POINT (-122.46503 37.78285)  2022-01-01  \n",
       "467326            0.25  POINT (-122.46503 37.78285)  2022-01-01  \n",
       "467327            0.50  POINT (-122.46503 37.78285)  2022-01-03  \n",
       "467328            0.50  POINT (-122.46503 37.78285)  2022-01-03  \n",
       "467329            0.85  POINT (-122.46503 37.78285)  2022-01-03  \n",
       "...                ...                          ...         ...  \n",
       "472193            0.44  POINT (-122.46503 37.78285)  2022-12-31  \n",
       "472194            1.05  POINT (-122.46503 37.78285)  2022-12-31  \n",
       "472195            0.50  POINT (-122.46503 37.78285)  2022-12-31  \n",
       "472196            0.25  POINT (-122.46503 37.78285)  2022-12-31  \n",
       "472197            0.25  POINT (-122.46503 37.78285)  2022-12-31  \n",
       "\n",
       "[4873 rows x 10 columns]"
      ]
     },
     "execution_count": 53,
     "metadata": {},
     "output_type": "execute_result"
    }
   ],
   "source": [
    "one_post"
   ]
  },
  {
   "cell_type": "code",
   "execution_count": 55,
   "metadata": {},
   "outputs": [
    {
     "data": {
      "application/vnd.plotly.v1+json": {
       "config": {
        "plotlyServerURL": "https://plot.ly"
       },
       "data": [
        {
         "alignmentgroup": "True",
         "base": [
          "2022-01-28T09:19:33",
          "2022-01-28T09:50:38",
          "2022-01-28T10:36:05",
          "2022-01-28T10:35:45",
          "2022-01-28T10:46:42",
          "2022-01-28T10:46:58",
          "2022-01-28T11:09:28",
          "2022-01-28T11:19:10",
          "2022-01-28T11:48:07",
          "2022-01-28T11:48:28",
          "2022-01-28T11:53:19",
          "2022-01-28T12:28:28",
          "2022-01-28T12:34:04",
          "2022-01-28T13:16:10",
          "2022-01-28T13:16:32",
          "2022-01-28T13:39:20",
          "2022-01-28T13:57:48",
          "2022-01-28T14:12:51",
          "2022-01-28T14:30:45",
          "2022-01-28T14:58:57",
          "2022-01-28T14:59:08",
          "2022-01-28T15:30:45",
          "2022-01-28T15:37:07",
          "2022-01-28T16:02:13",
          "2022-01-28T16:28:53",
          "2022-01-28T16:34:57",
          "2022-01-28T16:35:26",
          "2022-01-28T17:01:41",
          "2022-01-28T17:23:01",
          "2022-01-28T17:23:23",
          "2022-01-28T11:41:00",
          "2022-01-28T13:07:00"
         ],
         "hovertemplate": "SESSION_START_DT=%{base}<br>SESSION_END_DT=%{x}<br>METER_EVENT_TYPE=%{y}<extra></extra>",
         "legendgroup": "",
         "marker": {
          "color": "#636efa",
          "pattern": {
           "shape": ""
          }
         },
         "name": "",
         "offsetgroup": "",
         "orientation": "h",
         "showlegend": false,
         "textposition": "auto",
         "type": "bar",
         "x": [
          900000,
          450000,
          900000,
          900000,
          803000,
          900000,
          900000,
          900000,
          900000,
          900000,
          900000,
          360000,
          744000,
          900000,
          900000,
          900000,
          900000,
          900000,
          900000,
          900000,
          900000,
          360000,
          900000,
          900000,
          900000,
          680000,
          900000,
          900000,
          720000,
          900000,
          900000,
          900000
         ],
         "xaxis": "x",
         "y": [
          "NS",
          "NS",
          "NS",
          "NS",
          "AT",
          "AT",
          "NS",
          "AT",
          "NS",
          "NS",
          "NS",
          "NS",
          "AT",
          "NS",
          "NS",
          "NS",
          "NS",
          "NS",
          "NS",
          "NS",
          "AT",
          "NS",
          "NS",
          "NS",
          "NS",
          "AT",
          "AT",
          "NS",
          "NS",
          "NS",
          "NS",
          "NS"
         ],
         "yaxis": "y"
        }
       ],
       "layout": {
        "barmode": "overlay",
        "legend": {
         "tracegroupgap": 0
        },
        "margin": {
         "t": 60
        },
        "template": {
         "data": {
          "bar": [
           {
            "error_x": {
             "color": "#2a3f5f"
            },
            "error_y": {
             "color": "#2a3f5f"
            },
            "marker": {
             "line": {
              "color": "#E5ECF6",
              "width": 0.5
             },
             "pattern": {
              "fillmode": "overlay",
              "size": 10,
              "solidity": 0.2
             }
            },
            "type": "bar"
           }
          ],
          "barpolar": [
           {
            "marker": {
             "line": {
              "color": "#E5ECF6",
              "width": 0.5
             },
             "pattern": {
              "fillmode": "overlay",
              "size": 10,
              "solidity": 0.2
             }
            },
            "type": "barpolar"
           }
          ],
          "carpet": [
           {
            "aaxis": {
             "endlinecolor": "#2a3f5f",
             "gridcolor": "white",
             "linecolor": "white",
             "minorgridcolor": "white",
             "startlinecolor": "#2a3f5f"
            },
            "baxis": {
             "endlinecolor": "#2a3f5f",
             "gridcolor": "white",
             "linecolor": "white",
             "minorgridcolor": "white",
             "startlinecolor": "#2a3f5f"
            },
            "type": "carpet"
           }
          ],
          "choropleth": [
           {
            "colorbar": {
             "outlinewidth": 0,
             "ticks": ""
            },
            "type": "choropleth"
           }
          ],
          "contour": [
           {
            "colorbar": {
             "outlinewidth": 0,
             "ticks": ""
            },
            "colorscale": [
             [
              0,
              "#0d0887"
             ],
             [
              0.1111111111111111,
              "#46039f"
             ],
             [
              0.2222222222222222,
              "#7201a8"
             ],
             [
              0.3333333333333333,
              "#9c179e"
             ],
             [
              0.4444444444444444,
              "#bd3786"
             ],
             [
              0.5555555555555556,
              "#d8576b"
             ],
             [
              0.6666666666666666,
              "#ed7953"
             ],
             [
              0.7777777777777778,
              "#fb9f3a"
             ],
             [
              0.8888888888888888,
              "#fdca26"
             ],
             [
              1,
              "#f0f921"
             ]
            ],
            "type": "contour"
           }
          ],
          "contourcarpet": [
           {
            "colorbar": {
             "outlinewidth": 0,
             "ticks": ""
            },
            "type": "contourcarpet"
           }
          ],
          "heatmap": [
           {
            "colorbar": {
             "outlinewidth": 0,
             "ticks": ""
            },
            "colorscale": [
             [
              0,
              "#0d0887"
             ],
             [
              0.1111111111111111,
              "#46039f"
             ],
             [
              0.2222222222222222,
              "#7201a8"
             ],
             [
              0.3333333333333333,
              "#9c179e"
             ],
             [
              0.4444444444444444,
              "#bd3786"
             ],
             [
              0.5555555555555556,
              "#d8576b"
             ],
             [
              0.6666666666666666,
              "#ed7953"
             ],
             [
              0.7777777777777778,
              "#fb9f3a"
             ],
             [
              0.8888888888888888,
              "#fdca26"
             ],
             [
              1,
              "#f0f921"
             ]
            ],
            "type": "heatmap"
           }
          ],
          "heatmapgl": [
           {
            "colorbar": {
             "outlinewidth": 0,
             "ticks": ""
            },
            "colorscale": [
             [
              0,
              "#0d0887"
             ],
             [
              0.1111111111111111,
              "#46039f"
             ],
             [
              0.2222222222222222,
              "#7201a8"
             ],
             [
              0.3333333333333333,
              "#9c179e"
             ],
             [
              0.4444444444444444,
              "#bd3786"
             ],
             [
              0.5555555555555556,
              "#d8576b"
             ],
             [
              0.6666666666666666,
              "#ed7953"
             ],
             [
              0.7777777777777778,
              "#fb9f3a"
             ],
             [
              0.8888888888888888,
              "#fdca26"
             ],
             [
              1,
              "#f0f921"
             ]
            ],
            "type": "heatmapgl"
           }
          ],
          "histogram": [
           {
            "marker": {
             "pattern": {
              "fillmode": "overlay",
              "size": 10,
              "solidity": 0.2
             }
            },
            "type": "histogram"
           }
          ],
          "histogram2d": [
           {
            "colorbar": {
             "outlinewidth": 0,
             "ticks": ""
            },
            "colorscale": [
             [
              0,
              "#0d0887"
             ],
             [
              0.1111111111111111,
              "#46039f"
             ],
             [
              0.2222222222222222,
              "#7201a8"
             ],
             [
              0.3333333333333333,
              "#9c179e"
             ],
             [
              0.4444444444444444,
              "#bd3786"
             ],
             [
              0.5555555555555556,
              "#d8576b"
             ],
             [
              0.6666666666666666,
              "#ed7953"
             ],
             [
              0.7777777777777778,
              "#fb9f3a"
             ],
             [
              0.8888888888888888,
              "#fdca26"
             ],
             [
              1,
              "#f0f921"
             ]
            ],
            "type": "histogram2d"
           }
          ],
          "histogram2dcontour": [
           {
            "colorbar": {
             "outlinewidth": 0,
             "ticks": ""
            },
            "colorscale": [
             [
              0,
              "#0d0887"
             ],
             [
              0.1111111111111111,
              "#46039f"
             ],
             [
              0.2222222222222222,
              "#7201a8"
             ],
             [
              0.3333333333333333,
              "#9c179e"
             ],
             [
              0.4444444444444444,
              "#bd3786"
             ],
             [
              0.5555555555555556,
              "#d8576b"
             ],
             [
              0.6666666666666666,
              "#ed7953"
             ],
             [
              0.7777777777777778,
              "#fb9f3a"
             ],
             [
              0.8888888888888888,
              "#fdca26"
             ],
             [
              1,
              "#f0f921"
             ]
            ],
            "type": "histogram2dcontour"
           }
          ],
          "mesh3d": [
           {
            "colorbar": {
             "outlinewidth": 0,
             "ticks": ""
            },
            "type": "mesh3d"
           }
          ],
          "parcoords": [
           {
            "line": {
             "colorbar": {
              "outlinewidth": 0,
              "ticks": ""
             }
            },
            "type": "parcoords"
           }
          ],
          "pie": [
           {
            "automargin": true,
            "type": "pie"
           }
          ],
          "scatter": [
           {
            "fillpattern": {
             "fillmode": "overlay",
             "size": 10,
             "solidity": 0.2
            },
            "type": "scatter"
           }
          ],
          "scatter3d": [
           {
            "line": {
             "colorbar": {
              "outlinewidth": 0,
              "ticks": ""
             }
            },
            "marker": {
             "colorbar": {
              "outlinewidth": 0,
              "ticks": ""
             }
            },
            "type": "scatter3d"
           }
          ],
          "scattercarpet": [
           {
            "marker": {
             "colorbar": {
              "outlinewidth": 0,
              "ticks": ""
             }
            },
            "type": "scattercarpet"
           }
          ],
          "scattergeo": [
           {
            "marker": {
             "colorbar": {
              "outlinewidth": 0,
              "ticks": ""
             }
            },
            "type": "scattergeo"
           }
          ],
          "scattergl": [
           {
            "marker": {
             "colorbar": {
              "outlinewidth": 0,
              "ticks": ""
             }
            },
            "type": "scattergl"
           }
          ],
          "scattermapbox": [
           {
            "marker": {
             "colorbar": {
              "outlinewidth": 0,
              "ticks": ""
             }
            },
            "type": "scattermapbox"
           }
          ],
          "scatterpolar": [
           {
            "marker": {
             "colorbar": {
              "outlinewidth": 0,
              "ticks": ""
             }
            },
            "type": "scatterpolar"
           }
          ],
          "scatterpolargl": [
           {
            "marker": {
             "colorbar": {
              "outlinewidth": 0,
              "ticks": ""
             }
            },
            "type": "scatterpolargl"
           }
          ],
          "scatterternary": [
           {
            "marker": {
             "colorbar": {
              "outlinewidth": 0,
              "ticks": ""
             }
            },
            "type": "scatterternary"
           }
          ],
          "surface": [
           {
            "colorbar": {
             "outlinewidth": 0,
             "ticks": ""
            },
            "colorscale": [
             [
              0,
              "#0d0887"
             ],
             [
              0.1111111111111111,
              "#46039f"
             ],
             [
              0.2222222222222222,
              "#7201a8"
             ],
             [
              0.3333333333333333,
              "#9c179e"
             ],
             [
              0.4444444444444444,
              "#bd3786"
             ],
             [
              0.5555555555555556,
              "#d8576b"
             ],
             [
              0.6666666666666666,
              "#ed7953"
             ],
             [
              0.7777777777777778,
              "#fb9f3a"
             ],
             [
              0.8888888888888888,
              "#fdca26"
             ],
             [
              1,
              "#f0f921"
             ]
            ],
            "type": "surface"
           }
          ],
          "table": [
           {
            "cells": {
             "fill": {
              "color": "#EBF0F8"
             },
             "line": {
              "color": "white"
             }
            },
            "header": {
             "fill": {
              "color": "#C8D4E3"
             },
             "line": {
              "color": "white"
             }
            },
            "type": "table"
           }
          ]
         },
         "layout": {
          "annotationdefaults": {
           "arrowcolor": "#2a3f5f",
           "arrowhead": 0,
           "arrowwidth": 1
          },
          "autotypenumbers": "strict",
          "coloraxis": {
           "colorbar": {
            "outlinewidth": 0,
            "ticks": ""
           }
          },
          "colorscale": {
           "diverging": [
            [
             0,
             "#8e0152"
            ],
            [
             0.1,
             "#c51b7d"
            ],
            [
             0.2,
             "#de77ae"
            ],
            [
             0.3,
             "#f1b6da"
            ],
            [
             0.4,
             "#fde0ef"
            ],
            [
             0.5,
             "#f7f7f7"
            ],
            [
             0.6,
             "#e6f5d0"
            ],
            [
             0.7,
             "#b8e186"
            ],
            [
             0.8,
             "#7fbc41"
            ],
            [
             0.9,
             "#4d9221"
            ],
            [
             1,
             "#276419"
            ]
           ],
           "sequential": [
            [
             0,
             "#0d0887"
            ],
            [
             0.1111111111111111,
             "#46039f"
            ],
            [
             0.2222222222222222,
             "#7201a8"
            ],
            [
             0.3333333333333333,
             "#9c179e"
            ],
            [
             0.4444444444444444,
             "#bd3786"
            ],
            [
             0.5555555555555556,
             "#d8576b"
            ],
            [
             0.6666666666666666,
             "#ed7953"
            ],
            [
             0.7777777777777778,
             "#fb9f3a"
            ],
            [
             0.8888888888888888,
             "#fdca26"
            ],
            [
             1,
             "#f0f921"
            ]
           ],
           "sequentialminus": [
            [
             0,
             "#0d0887"
            ],
            [
             0.1111111111111111,
             "#46039f"
            ],
            [
             0.2222222222222222,
             "#7201a8"
            ],
            [
             0.3333333333333333,
             "#9c179e"
            ],
            [
             0.4444444444444444,
             "#bd3786"
            ],
            [
             0.5555555555555556,
             "#d8576b"
            ],
            [
             0.6666666666666666,
             "#ed7953"
            ],
            [
             0.7777777777777778,
             "#fb9f3a"
            ],
            [
             0.8888888888888888,
             "#fdca26"
            ],
            [
             1,
             "#f0f921"
            ]
           ]
          },
          "colorway": [
           "#636efa",
           "#EF553B",
           "#00cc96",
           "#ab63fa",
           "#FFA15A",
           "#19d3f3",
           "#FF6692",
           "#B6E880",
           "#FF97FF",
           "#FECB52"
          ],
          "font": {
           "color": "#2a3f5f"
          },
          "geo": {
           "bgcolor": "white",
           "lakecolor": "white",
           "landcolor": "#E5ECF6",
           "showlakes": true,
           "showland": true,
           "subunitcolor": "white"
          },
          "hoverlabel": {
           "align": "left"
          },
          "hovermode": "closest",
          "mapbox": {
           "style": "light"
          },
          "paper_bgcolor": "white",
          "plot_bgcolor": "#E5ECF6",
          "polar": {
           "angularaxis": {
            "gridcolor": "white",
            "linecolor": "white",
            "ticks": ""
           },
           "bgcolor": "#E5ECF6",
           "radialaxis": {
            "gridcolor": "white",
            "linecolor": "white",
            "ticks": ""
           }
          },
          "scene": {
           "xaxis": {
            "backgroundcolor": "#E5ECF6",
            "gridcolor": "white",
            "gridwidth": 2,
            "linecolor": "white",
            "showbackground": true,
            "ticks": "",
            "zerolinecolor": "white"
           },
           "yaxis": {
            "backgroundcolor": "#E5ECF6",
            "gridcolor": "white",
            "gridwidth": 2,
            "linecolor": "white",
            "showbackground": true,
            "ticks": "",
            "zerolinecolor": "white"
           },
           "zaxis": {
            "backgroundcolor": "#E5ECF6",
            "gridcolor": "white",
            "gridwidth": 2,
            "linecolor": "white",
            "showbackground": true,
            "ticks": "",
            "zerolinecolor": "white"
           }
          },
          "shapedefaults": {
           "line": {
            "color": "#2a3f5f"
           }
          },
          "ternary": {
           "aaxis": {
            "gridcolor": "white",
            "linecolor": "white",
            "ticks": ""
           },
           "baxis": {
            "gridcolor": "white",
            "linecolor": "white",
            "ticks": ""
           },
           "bgcolor": "#E5ECF6",
           "caxis": {
            "gridcolor": "white",
            "linecolor": "white",
            "ticks": ""
           }
          },
          "title": {
           "x": 0.05
          },
          "xaxis": {
           "automargin": true,
           "gridcolor": "white",
           "linecolor": "white",
           "ticks": "",
           "title": {
            "standoff": 15
           },
           "zerolinecolor": "white",
           "zerolinewidth": 2
          },
          "yaxis": {
           "automargin": true,
           "gridcolor": "white",
           "linecolor": "white",
           "ticks": "",
           "title": {
            "standoff": 15
           },
           "zerolinecolor": "white",
           "zerolinewidth": 2
          }
         }
        },
        "xaxis": {
         "anchor": "y",
         "domain": [
          0,
          1
         ],
         "type": "date"
        },
        "yaxis": {
         "anchor": "x",
         "autorange": "reversed",
         "domain": [
          0,
          1
         ],
         "title": {
          "text": "METER_EVENT_TYPE"
         }
        }
       }
      }
     },
     "metadata": {},
     "output_type": "display_data"
    }
   ],
   "source": [
    "fig = px.timeline(one_date, x_start=\"SESSION_START_DT\", x_end=\"SESSION_END_DT\", y=\"METER_EVENT_TYPE\")\n",
    "fig.update_yaxes(autorange=\"reversed\") # otherwise tasks are listed from the bottom up\n",
    "fig.show()"
   ]
  },
  {
   "cell_type": "code",
   "execution_count": null,
   "metadata": {},
   "outputs": [],
   "source": []
  }
 ],
 "metadata": {
  "kernelspec": {
   "display_name": "Python 3.9.16 ('stat-222')",
   "language": "python",
   "name": "python3"
  },
  "language_info": {
   "codemirror_mode": {
    "name": "ipython",
    "version": 3
   },
   "file_extension": ".py",
   "mimetype": "text/x-python",
   "name": "python",
   "nbconvert_exporter": "python",
   "pygments_lexer": "ipython3",
   "version": "3.9.16"
  },
  "orig_nbformat": 4,
  "vscode": {
   "interpreter": {
    "hash": "7e341ab7778497f9d9ee1e825e0472870fe97556fd25583590c5303e68cf6db9"
   }
  }
 },
 "nbformat": 4,
 "nbformat_minor": 2
}
